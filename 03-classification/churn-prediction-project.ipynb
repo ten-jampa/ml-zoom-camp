{
 "cells": [
  {
   "cell_type": "markdown",
   "id": "a6d35d07",
   "metadata": {},
   "source": [
    "# Module 3: Classification (Churn Prediction)\n",
    "\n",
    "## Section 1: Understanding the problem:\n",
    "\n",
    "Churn is the identifier for whether a customer for company 1 has switched to a competitor company 2"
   ]
  },
  {
   "cell_type": "code",
   "execution_count": 2,
   "id": "99cd77d2",
   "metadata": {},
   "outputs": [],
   "source": [
    "# imports\n",
    "\n",
    "import numpy as np\n",
    "import pandas as pd\n",
    "import matplotlib.pyplot as plt\n",
    "import seaborn as sns\n",
    "%matplotlib inline"
   ]
  },
  {
   "cell_type": "code",
   "execution_count": 3,
   "id": "1b679834",
   "metadata": {},
   "outputs": [
    {
     "name": "stdout",
     "output_type": "stream",
     "text": [
      "--2025-05-21 16:31:47--  https://raw.githubusercontent.com/alexeygrigorev/mlbookcamp-code/master/chapter-03-churn-prediction/WA_Fn-UseC_-Telco-Customer-Churn.csv\n",
      "Resolving raw.githubusercontent.com (raw.githubusercontent.com)... 185.199.109.133, 185.199.110.133, 185.199.108.133, ...\n",
      "Connecting to raw.githubusercontent.com (raw.githubusercontent.com)|185.199.109.133|:443... connected.\n",
      "HTTP request sent, awaiting response... 200 OK\n",
      "Length: 977501 (955K) [text/plain]\n",
      "Saving to: ‘WA_Fn-UseC_-Telco-Customer-Churn.csv’\n",
      "\n",
      "WA_Fn-UseC_-Telco-C 100%[===================>] 954.59K  --.-KB/s    in 0.009s  \n",
      "\n",
      "2025-05-21 16:31:47 (106 MB/s) - ‘WA_Fn-UseC_-Telco-Customer-Churn.csv’ saved [977501/977501]\n",
      "\n"
     ]
    }
   ],
   "source": [
    "!wget https://raw.githubusercontent.com/alexeygrigorev/mlbookcamp-code/master/chapter-03-churn-prediction/WA_Fn-UseC_-Telco-Customer-Churn.csv\n"
   ]
  },
  {
   "cell_type": "code",
   "execution_count": 4,
   "id": "9334f9d8",
   "metadata": {},
   "outputs": [
    {
     "data": {
      "application/vnd.microsoft.datawrangler.viewer.v0+json": {
       "columns": [
        {
         "name": "index",
         "rawType": "int64",
         "type": "integer"
        },
        {
         "name": "customerID",
         "rawType": "object",
         "type": "string"
        },
        {
         "name": "gender",
         "rawType": "object",
         "type": "string"
        },
        {
         "name": "SeniorCitizen",
         "rawType": "int64",
         "type": "integer"
        },
        {
         "name": "Partner",
         "rawType": "object",
         "type": "string"
        },
        {
         "name": "Dependents",
         "rawType": "object",
         "type": "string"
        },
        {
         "name": "tenure",
         "rawType": "int64",
         "type": "integer"
        },
        {
         "name": "PhoneService",
         "rawType": "object",
         "type": "string"
        },
        {
         "name": "MultipleLines",
         "rawType": "object",
         "type": "string"
        },
        {
         "name": "InternetService",
         "rawType": "object",
         "type": "string"
        },
        {
         "name": "OnlineSecurity",
         "rawType": "object",
         "type": "string"
        },
        {
         "name": "OnlineBackup",
         "rawType": "object",
         "type": "string"
        },
        {
         "name": "DeviceProtection",
         "rawType": "object",
         "type": "string"
        },
        {
         "name": "TechSupport",
         "rawType": "object",
         "type": "string"
        },
        {
         "name": "StreamingTV",
         "rawType": "object",
         "type": "string"
        },
        {
         "name": "StreamingMovies",
         "rawType": "object",
         "type": "string"
        },
        {
         "name": "Contract",
         "rawType": "object",
         "type": "string"
        },
        {
         "name": "PaperlessBilling",
         "rawType": "object",
         "type": "string"
        },
        {
         "name": "PaymentMethod",
         "rawType": "object",
         "type": "string"
        },
        {
         "name": "MonthlyCharges",
         "rawType": "float64",
         "type": "float"
        },
        {
         "name": "TotalCharges",
         "rawType": "object",
         "type": "string"
        },
        {
         "name": "Churn",
         "rawType": "object",
         "type": "string"
        }
       ],
       "ref": "401c7d65-4b8c-46e2-b9d3-b4c8c5b52340",
       "rows": [
        [
         "0",
         "7590-VHVEG",
         "Female",
         "0",
         "Yes",
         "No",
         "1",
         "No",
         "No phone service",
         "DSL",
         "No",
         "Yes",
         "No",
         "No",
         "No",
         "No",
         "Month-to-month",
         "Yes",
         "Electronic check",
         "29.85",
         "29.85",
         "No"
        ],
        [
         "1",
         "5575-GNVDE",
         "Male",
         "0",
         "No",
         "No",
         "34",
         "Yes",
         "No",
         "DSL",
         "Yes",
         "No",
         "Yes",
         "No",
         "No",
         "No",
         "One year",
         "No",
         "Mailed check",
         "56.95",
         "1889.5",
         "No"
        ],
        [
         "2",
         "3668-QPYBK",
         "Male",
         "0",
         "No",
         "No",
         "2",
         "Yes",
         "No",
         "DSL",
         "Yes",
         "Yes",
         "No",
         "No",
         "No",
         "No",
         "Month-to-month",
         "Yes",
         "Mailed check",
         "53.85",
         "108.15",
         "Yes"
        ],
        [
         "3",
         "7795-CFOCW",
         "Male",
         "0",
         "No",
         "No",
         "45",
         "No",
         "No phone service",
         "DSL",
         "Yes",
         "No",
         "Yes",
         "Yes",
         "No",
         "No",
         "One year",
         "No",
         "Bank transfer (automatic)",
         "42.3",
         "1840.75",
         "No"
        ],
        [
         "4",
         "9237-HQITU",
         "Female",
         "0",
         "No",
         "No",
         "2",
         "Yes",
         "No",
         "Fiber optic",
         "No",
         "No",
         "No",
         "No",
         "No",
         "No",
         "Month-to-month",
         "Yes",
         "Electronic check",
         "70.7",
         "151.65",
         "Yes"
        ]
       ],
       "shape": {
        "columns": 21,
        "rows": 5
       }
      },
      "text/html": [
       "<div>\n",
       "<style scoped>\n",
       "    .dataframe tbody tr th:only-of-type {\n",
       "        vertical-align: middle;\n",
       "    }\n",
       "\n",
       "    .dataframe tbody tr th {\n",
       "        vertical-align: top;\n",
       "    }\n",
       "\n",
       "    .dataframe thead th {\n",
       "        text-align: right;\n",
       "    }\n",
       "</style>\n",
       "<table border=\"1\" class=\"dataframe\">\n",
       "  <thead>\n",
       "    <tr style=\"text-align: right;\">\n",
       "      <th></th>\n",
       "      <th>customerID</th>\n",
       "      <th>gender</th>\n",
       "      <th>SeniorCitizen</th>\n",
       "      <th>Partner</th>\n",
       "      <th>Dependents</th>\n",
       "      <th>tenure</th>\n",
       "      <th>PhoneService</th>\n",
       "      <th>MultipleLines</th>\n",
       "      <th>InternetService</th>\n",
       "      <th>OnlineSecurity</th>\n",
       "      <th>...</th>\n",
       "      <th>DeviceProtection</th>\n",
       "      <th>TechSupport</th>\n",
       "      <th>StreamingTV</th>\n",
       "      <th>StreamingMovies</th>\n",
       "      <th>Contract</th>\n",
       "      <th>PaperlessBilling</th>\n",
       "      <th>PaymentMethod</th>\n",
       "      <th>MonthlyCharges</th>\n",
       "      <th>TotalCharges</th>\n",
       "      <th>Churn</th>\n",
       "    </tr>\n",
       "  </thead>\n",
       "  <tbody>\n",
       "    <tr>\n",
       "      <th>0</th>\n",
       "      <td>7590-VHVEG</td>\n",
       "      <td>Female</td>\n",
       "      <td>0</td>\n",
       "      <td>Yes</td>\n",
       "      <td>No</td>\n",
       "      <td>1</td>\n",
       "      <td>No</td>\n",
       "      <td>No phone service</td>\n",
       "      <td>DSL</td>\n",
       "      <td>No</td>\n",
       "      <td>...</td>\n",
       "      <td>No</td>\n",
       "      <td>No</td>\n",
       "      <td>No</td>\n",
       "      <td>No</td>\n",
       "      <td>Month-to-month</td>\n",
       "      <td>Yes</td>\n",
       "      <td>Electronic check</td>\n",
       "      <td>29.85</td>\n",
       "      <td>29.85</td>\n",
       "      <td>No</td>\n",
       "    </tr>\n",
       "    <tr>\n",
       "      <th>1</th>\n",
       "      <td>5575-GNVDE</td>\n",
       "      <td>Male</td>\n",
       "      <td>0</td>\n",
       "      <td>No</td>\n",
       "      <td>No</td>\n",
       "      <td>34</td>\n",
       "      <td>Yes</td>\n",
       "      <td>No</td>\n",
       "      <td>DSL</td>\n",
       "      <td>Yes</td>\n",
       "      <td>...</td>\n",
       "      <td>Yes</td>\n",
       "      <td>No</td>\n",
       "      <td>No</td>\n",
       "      <td>No</td>\n",
       "      <td>One year</td>\n",
       "      <td>No</td>\n",
       "      <td>Mailed check</td>\n",
       "      <td>56.95</td>\n",
       "      <td>1889.5</td>\n",
       "      <td>No</td>\n",
       "    </tr>\n",
       "    <tr>\n",
       "      <th>2</th>\n",
       "      <td>3668-QPYBK</td>\n",
       "      <td>Male</td>\n",
       "      <td>0</td>\n",
       "      <td>No</td>\n",
       "      <td>No</td>\n",
       "      <td>2</td>\n",
       "      <td>Yes</td>\n",
       "      <td>No</td>\n",
       "      <td>DSL</td>\n",
       "      <td>Yes</td>\n",
       "      <td>...</td>\n",
       "      <td>No</td>\n",
       "      <td>No</td>\n",
       "      <td>No</td>\n",
       "      <td>No</td>\n",
       "      <td>Month-to-month</td>\n",
       "      <td>Yes</td>\n",
       "      <td>Mailed check</td>\n",
       "      <td>53.85</td>\n",
       "      <td>108.15</td>\n",
       "      <td>Yes</td>\n",
       "    </tr>\n",
       "    <tr>\n",
       "      <th>3</th>\n",
       "      <td>7795-CFOCW</td>\n",
       "      <td>Male</td>\n",
       "      <td>0</td>\n",
       "      <td>No</td>\n",
       "      <td>No</td>\n",
       "      <td>45</td>\n",
       "      <td>No</td>\n",
       "      <td>No phone service</td>\n",
       "      <td>DSL</td>\n",
       "      <td>Yes</td>\n",
       "      <td>...</td>\n",
       "      <td>Yes</td>\n",
       "      <td>Yes</td>\n",
       "      <td>No</td>\n",
       "      <td>No</td>\n",
       "      <td>One year</td>\n",
       "      <td>No</td>\n",
       "      <td>Bank transfer (automatic)</td>\n",
       "      <td>42.30</td>\n",
       "      <td>1840.75</td>\n",
       "      <td>No</td>\n",
       "    </tr>\n",
       "    <tr>\n",
       "      <th>4</th>\n",
       "      <td>9237-HQITU</td>\n",
       "      <td>Female</td>\n",
       "      <td>0</td>\n",
       "      <td>No</td>\n",
       "      <td>No</td>\n",
       "      <td>2</td>\n",
       "      <td>Yes</td>\n",
       "      <td>No</td>\n",
       "      <td>Fiber optic</td>\n",
       "      <td>No</td>\n",
       "      <td>...</td>\n",
       "      <td>No</td>\n",
       "      <td>No</td>\n",
       "      <td>No</td>\n",
       "      <td>No</td>\n",
       "      <td>Month-to-month</td>\n",
       "      <td>Yes</td>\n",
       "      <td>Electronic check</td>\n",
       "      <td>70.70</td>\n",
       "      <td>151.65</td>\n",
       "      <td>Yes</td>\n",
       "    </tr>\n",
       "  </tbody>\n",
       "</table>\n",
       "<p>5 rows × 21 columns</p>\n",
       "</div>"
      ],
      "text/plain": [
       "   customerID  gender  SeniorCitizen Partner Dependents  tenure PhoneService  \\\n",
       "0  7590-VHVEG  Female              0     Yes         No       1           No   \n",
       "1  5575-GNVDE    Male              0      No         No      34          Yes   \n",
       "2  3668-QPYBK    Male              0      No         No       2          Yes   \n",
       "3  7795-CFOCW    Male              0      No         No      45           No   \n",
       "4  9237-HQITU  Female              0      No         No       2          Yes   \n",
       "\n",
       "      MultipleLines InternetService OnlineSecurity  ... DeviceProtection  \\\n",
       "0  No phone service             DSL             No  ...               No   \n",
       "1                No             DSL            Yes  ...              Yes   \n",
       "2                No             DSL            Yes  ...               No   \n",
       "3  No phone service             DSL            Yes  ...              Yes   \n",
       "4                No     Fiber optic             No  ...               No   \n",
       "\n",
       "  TechSupport StreamingTV StreamingMovies        Contract PaperlessBilling  \\\n",
       "0          No          No              No  Month-to-month              Yes   \n",
       "1          No          No              No        One year               No   \n",
       "2          No          No              No  Month-to-month              Yes   \n",
       "3         Yes          No              No        One year               No   \n",
       "4          No          No              No  Month-to-month              Yes   \n",
       "\n",
       "               PaymentMethod MonthlyCharges  TotalCharges Churn  \n",
       "0           Electronic check          29.85         29.85    No  \n",
       "1               Mailed check          56.95        1889.5    No  \n",
       "2               Mailed check          53.85        108.15   Yes  \n",
       "3  Bank transfer (automatic)          42.30       1840.75    No  \n",
       "4           Electronic check          70.70        151.65   Yes  \n",
       "\n",
       "[5 rows x 21 columns]"
      ]
     },
     "execution_count": 4,
     "metadata": {},
     "output_type": "execute_result"
    }
   ],
   "source": [
    "df = pd.read_csv('telcom_data.csv')\n",
    "df.head()"
   ]
  },
  {
   "cell_type": "markdown",
   "id": "61178625",
   "metadata": {},
   "source": [
    "## Section 2: Data Preparation"
   ]
  },
  {
   "cell_type": "code",
   "execution_count": 5,
   "id": "05db101b",
   "metadata": {},
   "outputs": [
    {
     "data": {
      "text/plain": [
       "Index(['customerID', 'gender', 'SeniorCitizen', 'Partner', 'Dependents',\n",
       "       'tenure', 'PhoneService', 'MultipleLines', 'InternetService',\n",
       "       'OnlineSecurity', 'OnlineBackup', 'DeviceProtection', 'TechSupport',\n",
       "       'StreamingTV', 'StreamingMovies', 'Contract', 'PaperlessBilling',\n",
       "       'PaymentMethod', 'MonthlyCharges', 'TotalCharges', 'Churn'],\n",
       "      dtype='object')"
      ]
     },
     "execution_count": 5,
     "metadata": {},
     "output_type": "execute_result"
    }
   ],
   "source": [
    "\n",
    "df.columns"
   ]
  },
  {
   "cell_type": "code",
   "execution_count": 6,
   "id": "274c8e89",
   "metadata": {},
   "outputs": [
    {
     "data": {
      "application/vnd.microsoft.datawrangler.viewer.v0+json": {
       "columns": [
        {
         "name": "index",
         "rawType": "object",
         "type": "string"
        },
        {
         "name": "0",
         "rawType": "object",
         "type": "unknown"
        },
        {
         "name": "1",
         "rawType": "object",
         "type": "unknown"
        },
        {
         "name": "2",
         "rawType": "object",
         "type": "unknown"
        },
        {
         "name": "3",
         "rawType": "object",
         "type": "unknown"
        },
        {
         "name": "4",
         "rawType": "object",
         "type": "unknown"
        },
        {
         "name": "5",
         "rawType": "object",
         "type": "unknown"
        },
        {
         "name": "6",
         "rawType": "object",
         "type": "unknown"
        },
        {
         "name": "7",
         "rawType": "object",
         "type": "unknown"
        }
       ],
       "ref": "1a7e3080-1c27-4016-b53e-3d15a0bc674f",
       "rows": [
        [
         "customerID",
         "7590-VHVEG",
         "5575-GNVDE",
         "3668-QPYBK",
         "7795-CFOCW",
         "9237-HQITU",
         "9305-CDSKC",
         "1452-KIOVK",
         "6713-OKOMC"
        ],
        [
         "gender",
         "Female",
         "Male",
         "Male",
         "Male",
         "Female",
         "Female",
         "Male",
         "Female"
        ],
        [
         "SeniorCitizen",
         "0",
         "0",
         "0",
         "0",
         "0",
         "0",
         "0",
         "0"
        ],
        [
         "Partner",
         "Yes",
         "No",
         "No",
         "No",
         "No",
         "No",
         "No",
         "No"
        ],
        [
         "Dependents",
         "No",
         "No",
         "No",
         "No",
         "No",
         "No",
         "Yes",
         "No"
        ],
        [
         "tenure",
         "1",
         "34",
         "2",
         "45",
         "2",
         "8",
         "22",
         "10"
        ],
        [
         "PhoneService",
         "No",
         "Yes",
         "Yes",
         "No",
         "Yes",
         "Yes",
         "Yes",
         "No"
        ],
        [
         "MultipleLines",
         "No phone service",
         "No",
         "No",
         "No phone service",
         "No",
         "Yes",
         "Yes",
         "No phone service"
        ],
        [
         "InternetService",
         "DSL",
         "DSL",
         "DSL",
         "DSL",
         "Fiber optic",
         "Fiber optic",
         "Fiber optic",
         "DSL"
        ],
        [
         "OnlineSecurity",
         "No",
         "Yes",
         "Yes",
         "Yes",
         "No",
         "No",
         "No",
         "Yes"
        ],
        [
         "OnlineBackup",
         "Yes",
         "No",
         "Yes",
         "No",
         "No",
         "No",
         "Yes",
         "No"
        ],
        [
         "DeviceProtection",
         "No",
         "Yes",
         "No",
         "Yes",
         "No",
         "Yes",
         "No",
         "No"
        ],
        [
         "TechSupport",
         "No",
         "No",
         "No",
         "Yes",
         "No",
         "No",
         "No",
         "No"
        ],
        [
         "StreamingTV",
         "No",
         "No",
         "No",
         "No",
         "No",
         "Yes",
         "Yes",
         "No"
        ],
        [
         "StreamingMovies",
         "No",
         "No",
         "No",
         "No",
         "No",
         "Yes",
         "No",
         "No"
        ],
        [
         "Contract",
         "Month-to-month",
         "One year",
         "Month-to-month",
         "One year",
         "Month-to-month",
         "Month-to-month",
         "Month-to-month",
         "Month-to-month"
        ],
        [
         "PaperlessBilling",
         "Yes",
         "No",
         "Yes",
         "No",
         "Yes",
         "Yes",
         "Yes",
         "No"
        ],
        [
         "PaymentMethod",
         "Electronic check",
         "Mailed check",
         "Mailed check",
         "Bank transfer (automatic)",
         "Electronic check",
         "Electronic check",
         "Credit card (automatic)",
         "Mailed check"
        ],
        [
         "MonthlyCharges",
         "29.85",
         "56.95",
         "53.85",
         "42.3",
         "70.7",
         "99.65",
         "89.1",
         "29.75"
        ],
        [
         "TotalCharges",
         "29.85",
         "1889.5",
         "108.15",
         "1840.75",
         "151.65",
         "820.5",
         "1949.4",
         "301.9"
        ],
        [
         "Churn",
         "No",
         "No",
         "Yes",
         "No",
         "Yes",
         "Yes",
         "No",
         "No"
        ]
       ],
       "shape": {
        "columns": 8,
        "rows": 21
       }
      },
      "text/html": [
       "<div>\n",
       "<style scoped>\n",
       "    .dataframe tbody tr th:only-of-type {\n",
       "        vertical-align: middle;\n",
       "    }\n",
       "\n",
       "    .dataframe tbody tr th {\n",
       "        vertical-align: top;\n",
       "    }\n",
       "\n",
       "    .dataframe thead th {\n",
       "        text-align: right;\n",
       "    }\n",
       "</style>\n",
       "<table border=\"1\" class=\"dataframe\">\n",
       "  <thead>\n",
       "    <tr style=\"text-align: right;\">\n",
       "      <th></th>\n",
       "      <th>0</th>\n",
       "      <th>1</th>\n",
       "      <th>2</th>\n",
       "      <th>3</th>\n",
       "      <th>4</th>\n",
       "      <th>5</th>\n",
       "      <th>6</th>\n",
       "      <th>7</th>\n",
       "    </tr>\n",
       "  </thead>\n",
       "  <tbody>\n",
       "    <tr>\n",
       "      <th>customerID</th>\n",
       "      <td>7590-VHVEG</td>\n",
       "      <td>5575-GNVDE</td>\n",
       "      <td>3668-QPYBK</td>\n",
       "      <td>7795-CFOCW</td>\n",
       "      <td>9237-HQITU</td>\n",
       "      <td>9305-CDSKC</td>\n",
       "      <td>1452-KIOVK</td>\n",
       "      <td>6713-OKOMC</td>\n",
       "    </tr>\n",
       "    <tr>\n",
       "      <th>gender</th>\n",
       "      <td>Female</td>\n",
       "      <td>Male</td>\n",
       "      <td>Male</td>\n",
       "      <td>Male</td>\n",
       "      <td>Female</td>\n",
       "      <td>Female</td>\n",
       "      <td>Male</td>\n",
       "      <td>Female</td>\n",
       "    </tr>\n",
       "    <tr>\n",
       "      <th>SeniorCitizen</th>\n",
       "      <td>0</td>\n",
       "      <td>0</td>\n",
       "      <td>0</td>\n",
       "      <td>0</td>\n",
       "      <td>0</td>\n",
       "      <td>0</td>\n",
       "      <td>0</td>\n",
       "      <td>0</td>\n",
       "    </tr>\n",
       "    <tr>\n",
       "      <th>Partner</th>\n",
       "      <td>Yes</td>\n",
       "      <td>No</td>\n",
       "      <td>No</td>\n",
       "      <td>No</td>\n",
       "      <td>No</td>\n",
       "      <td>No</td>\n",
       "      <td>No</td>\n",
       "      <td>No</td>\n",
       "    </tr>\n",
       "    <tr>\n",
       "      <th>Dependents</th>\n",
       "      <td>No</td>\n",
       "      <td>No</td>\n",
       "      <td>No</td>\n",
       "      <td>No</td>\n",
       "      <td>No</td>\n",
       "      <td>No</td>\n",
       "      <td>Yes</td>\n",
       "      <td>No</td>\n",
       "    </tr>\n",
       "    <tr>\n",
       "      <th>tenure</th>\n",
       "      <td>1</td>\n",
       "      <td>34</td>\n",
       "      <td>2</td>\n",
       "      <td>45</td>\n",
       "      <td>2</td>\n",
       "      <td>8</td>\n",
       "      <td>22</td>\n",
       "      <td>10</td>\n",
       "    </tr>\n",
       "    <tr>\n",
       "      <th>PhoneService</th>\n",
       "      <td>No</td>\n",
       "      <td>Yes</td>\n",
       "      <td>Yes</td>\n",
       "      <td>No</td>\n",
       "      <td>Yes</td>\n",
       "      <td>Yes</td>\n",
       "      <td>Yes</td>\n",
       "      <td>No</td>\n",
       "    </tr>\n",
       "    <tr>\n",
       "      <th>MultipleLines</th>\n",
       "      <td>No phone service</td>\n",
       "      <td>No</td>\n",
       "      <td>No</td>\n",
       "      <td>No phone service</td>\n",
       "      <td>No</td>\n",
       "      <td>Yes</td>\n",
       "      <td>Yes</td>\n",
       "      <td>No phone service</td>\n",
       "    </tr>\n",
       "    <tr>\n",
       "      <th>InternetService</th>\n",
       "      <td>DSL</td>\n",
       "      <td>DSL</td>\n",
       "      <td>DSL</td>\n",
       "      <td>DSL</td>\n",
       "      <td>Fiber optic</td>\n",
       "      <td>Fiber optic</td>\n",
       "      <td>Fiber optic</td>\n",
       "      <td>DSL</td>\n",
       "    </tr>\n",
       "    <tr>\n",
       "      <th>OnlineSecurity</th>\n",
       "      <td>No</td>\n",
       "      <td>Yes</td>\n",
       "      <td>Yes</td>\n",
       "      <td>Yes</td>\n",
       "      <td>No</td>\n",
       "      <td>No</td>\n",
       "      <td>No</td>\n",
       "      <td>Yes</td>\n",
       "    </tr>\n",
       "    <tr>\n",
       "      <th>OnlineBackup</th>\n",
       "      <td>Yes</td>\n",
       "      <td>No</td>\n",
       "      <td>Yes</td>\n",
       "      <td>No</td>\n",
       "      <td>No</td>\n",
       "      <td>No</td>\n",
       "      <td>Yes</td>\n",
       "      <td>No</td>\n",
       "    </tr>\n",
       "    <tr>\n",
       "      <th>DeviceProtection</th>\n",
       "      <td>No</td>\n",
       "      <td>Yes</td>\n",
       "      <td>No</td>\n",
       "      <td>Yes</td>\n",
       "      <td>No</td>\n",
       "      <td>Yes</td>\n",
       "      <td>No</td>\n",
       "      <td>No</td>\n",
       "    </tr>\n",
       "    <tr>\n",
       "      <th>TechSupport</th>\n",
       "      <td>No</td>\n",
       "      <td>No</td>\n",
       "      <td>No</td>\n",
       "      <td>Yes</td>\n",
       "      <td>No</td>\n",
       "      <td>No</td>\n",
       "      <td>No</td>\n",
       "      <td>No</td>\n",
       "    </tr>\n",
       "    <tr>\n",
       "      <th>StreamingTV</th>\n",
       "      <td>No</td>\n",
       "      <td>No</td>\n",
       "      <td>No</td>\n",
       "      <td>No</td>\n",
       "      <td>No</td>\n",
       "      <td>Yes</td>\n",
       "      <td>Yes</td>\n",
       "      <td>No</td>\n",
       "    </tr>\n",
       "    <tr>\n",
       "      <th>StreamingMovies</th>\n",
       "      <td>No</td>\n",
       "      <td>No</td>\n",
       "      <td>No</td>\n",
       "      <td>No</td>\n",
       "      <td>No</td>\n",
       "      <td>Yes</td>\n",
       "      <td>No</td>\n",
       "      <td>No</td>\n",
       "    </tr>\n",
       "    <tr>\n",
       "      <th>Contract</th>\n",
       "      <td>Month-to-month</td>\n",
       "      <td>One year</td>\n",
       "      <td>Month-to-month</td>\n",
       "      <td>One year</td>\n",
       "      <td>Month-to-month</td>\n",
       "      <td>Month-to-month</td>\n",
       "      <td>Month-to-month</td>\n",
       "      <td>Month-to-month</td>\n",
       "    </tr>\n",
       "    <tr>\n",
       "      <th>PaperlessBilling</th>\n",
       "      <td>Yes</td>\n",
       "      <td>No</td>\n",
       "      <td>Yes</td>\n",
       "      <td>No</td>\n",
       "      <td>Yes</td>\n",
       "      <td>Yes</td>\n",
       "      <td>Yes</td>\n",
       "      <td>No</td>\n",
       "    </tr>\n",
       "    <tr>\n",
       "      <th>PaymentMethod</th>\n",
       "      <td>Electronic check</td>\n",
       "      <td>Mailed check</td>\n",
       "      <td>Mailed check</td>\n",
       "      <td>Bank transfer (automatic)</td>\n",
       "      <td>Electronic check</td>\n",
       "      <td>Electronic check</td>\n",
       "      <td>Credit card (automatic)</td>\n",
       "      <td>Mailed check</td>\n",
       "    </tr>\n",
       "    <tr>\n",
       "      <th>MonthlyCharges</th>\n",
       "      <td>29.85</td>\n",
       "      <td>56.95</td>\n",
       "      <td>53.85</td>\n",
       "      <td>42.3</td>\n",
       "      <td>70.7</td>\n",
       "      <td>99.65</td>\n",
       "      <td>89.1</td>\n",
       "      <td>29.75</td>\n",
       "    </tr>\n",
       "    <tr>\n",
       "      <th>TotalCharges</th>\n",
       "      <td>29.85</td>\n",
       "      <td>1889.5</td>\n",
       "      <td>108.15</td>\n",
       "      <td>1840.75</td>\n",
       "      <td>151.65</td>\n",
       "      <td>820.5</td>\n",
       "      <td>1949.4</td>\n",
       "      <td>301.9</td>\n",
       "    </tr>\n",
       "    <tr>\n",
       "      <th>Churn</th>\n",
       "      <td>No</td>\n",
       "      <td>No</td>\n",
       "      <td>Yes</td>\n",
       "      <td>No</td>\n",
       "      <td>Yes</td>\n",
       "      <td>Yes</td>\n",
       "      <td>No</td>\n",
       "      <td>No</td>\n",
       "    </tr>\n",
       "  </tbody>\n",
       "</table>\n",
       "</div>"
      ],
      "text/plain": [
       "                                 0             1               2  \\\n",
       "customerID              7590-VHVEG    5575-GNVDE      3668-QPYBK   \n",
       "gender                      Female          Male            Male   \n",
       "SeniorCitizen                    0             0               0   \n",
       "Partner                        Yes            No              No   \n",
       "Dependents                      No            No              No   \n",
       "tenure                           1            34               2   \n",
       "PhoneService                    No           Yes             Yes   \n",
       "MultipleLines     No phone service            No              No   \n",
       "InternetService                DSL           DSL             DSL   \n",
       "OnlineSecurity                  No           Yes             Yes   \n",
       "OnlineBackup                   Yes            No             Yes   \n",
       "DeviceProtection                No           Yes              No   \n",
       "TechSupport                     No            No              No   \n",
       "StreamingTV                     No            No              No   \n",
       "StreamingMovies                 No            No              No   \n",
       "Contract            Month-to-month      One year  Month-to-month   \n",
       "PaperlessBilling               Yes            No             Yes   \n",
       "PaymentMethod     Electronic check  Mailed check    Mailed check   \n",
       "MonthlyCharges               29.85         56.95           53.85   \n",
       "TotalCharges                 29.85        1889.5          108.15   \n",
       "Churn                           No            No             Yes   \n",
       "\n",
       "                                          3                 4  \\\n",
       "customerID                       7795-CFOCW        9237-HQITU   \n",
       "gender                                 Male            Female   \n",
       "SeniorCitizen                             0                 0   \n",
       "Partner                                  No                No   \n",
       "Dependents                               No                No   \n",
       "tenure                                   45                 2   \n",
       "PhoneService                             No               Yes   \n",
       "MultipleLines              No phone service                No   \n",
       "InternetService                         DSL       Fiber optic   \n",
       "OnlineSecurity                          Yes                No   \n",
       "OnlineBackup                             No                No   \n",
       "DeviceProtection                        Yes                No   \n",
       "TechSupport                             Yes                No   \n",
       "StreamingTV                              No                No   \n",
       "StreamingMovies                          No                No   \n",
       "Contract                           One year    Month-to-month   \n",
       "PaperlessBilling                         No               Yes   \n",
       "PaymentMethod     Bank transfer (automatic)  Electronic check   \n",
       "MonthlyCharges                         42.3              70.7   \n",
       "TotalCharges                        1840.75            151.65   \n",
       "Churn                                    No               Yes   \n",
       "\n",
       "                                 5                        6                 7  \n",
       "customerID              9305-CDSKC               1452-KIOVK        6713-OKOMC  \n",
       "gender                      Female                     Male            Female  \n",
       "SeniorCitizen                    0                        0                 0  \n",
       "Partner                         No                       No                No  \n",
       "Dependents                      No                      Yes                No  \n",
       "tenure                           8                       22                10  \n",
       "PhoneService                   Yes                      Yes                No  \n",
       "MultipleLines                  Yes                      Yes  No phone service  \n",
       "InternetService        Fiber optic              Fiber optic               DSL  \n",
       "OnlineSecurity                  No                       No               Yes  \n",
       "OnlineBackup                    No                      Yes                No  \n",
       "DeviceProtection               Yes                       No                No  \n",
       "TechSupport                     No                       No                No  \n",
       "StreamingTV                    Yes                      Yes                No  \n",
       "StreamingMovies                Yes                       No                No  \n",
       "Contract            Month-to-month           Month-to-month    Month-to-month  \n",
       "PaperlessBilling               Yes                      Yes                No  \n",
       "PaymentMethod     Electronic check  Credit card (automatic)      Mailed check  \n",
       "MonthlyCharges               99.65                     89.1             29.75  \n",
       "TotalCharges                 820.5                   1949.4             301.9  \n",
       "Churn                          Yes                       No                No  "
      ]
     },
     "execution_count": 6,
     "metadata": {},
     "output_type": "execute_result"
    }
   ],
   "source": [
    "df.head(8).T"
   ]
  },
  {
   "cell_type": "code",
   "execution_count": 7,
   "id": "5a6760e1",
   "metadata": {},
   "outputs": [
    {
     "data": {
      "application/vnd.microsoft.datawrangler.viewer.v0+json": {
       "columns": [
        {
         "name": "index",
         "rawType": "object",
         "type": "string"
        },
        {
         "name": "0",
         "rawType": "object",
         "type": "unknown"
        },
        {
         "name": "1",
         "rawType": "object",
         "type": "unknown"
        },
        {
         "name": "2",
         "rawType": "object",
         "type": "unknown"
        },
        {
         "name": "3",
         "rawType": "object",
         "type": "unknown"
        },
        {
         "name": "4",
         "rawType": "object",
         "type": "unknown"
        },
        {
         "name": "5",
         "rawType": "object",
         "type": "unknown"
        },
        {
         "name": "6",
         "rawType": "object",
         "type": "unknown"
        },
        {
         "name": "7",
         "rawType": "object",
         "type": "unknown"
        }
       ],
       "ref": "6533318e-fa80-4fc9-852a-2e23fc30eccf",
       "rows": [
        [
         "customerid",
         "7590-vhveg",
         "5575-gnvde",
         "3668-qpybk",
         "7795-cfocw",
         "9237-hqitu",
         "9305-cdskc",
         "1452-kiovk",
         "6713-okomc"
        ],
        [
         "gender",
         "female",
         "male",
         "male",
         "male",
         "female",
         "female",
         "male",
         "female"
        ],
        [
         "seniorcitizen",
         "0",
         "0",
         "0",
         "0",
         "0",
         "0",
         "0",
         "0"
        ],
        [
         "partner",
         "yes",
         "no",
         "no",
         "no",
         "no",
         "no",
         "no",
         "no"
        ],
        [
         "dependents",
         "no",
         "no",
         "no",
         "no",
         "no",
         "no",
         "yes",
         "no"
        ],
        [
         "tenure",
         "1",
         "34",
         "2",
         "45",
         "2",
         "8",
         "22",
         "10"
        ],
        [
         "phoneservice",
         "no",
         "yes",
         "yes",
         "no",
         "yes",
         "yes",
         "yes",
         "no"
        ],
        [
         "multiplelines",
         "no_phone_service",
         "no",
         "no",
         "no_phone_service",
         "no",
         "yes",
         "yes",
         "no_phone_service"
        ],
        [
         "internetservice",
         "dsl",
         "dsl",
         "dsl",
         "dsl",
         "fiber_optic",
         "fiber_optic",
         "fiber_optic",
         "dsl"
        ],
        [
         "onlinesecurity",
         "no",
         "yes",
         "yes",
         "yes",
         "no",
         "no",
         "no",
         "yes"
        ],
        [
         "onlinebackup",
         "yes",
         "no",
         "yes",
         "no",
         "no",
         "no",
         "yes",
         "no"
        ],
        [
         "deviceprotection",
         "no",
         "yes",
         "no",
         "yes",
         "no",
         "yes",
         "no",
         "no"
        ],
        [
         "techsupport",
         "no",
         "no",
         "no",
         "yes",
         "no",
         "no",
         "no",
         "no"
        ],
        [
         "streamingtv",
         "no",
         "no",
         "no",
         "no",
         "no",
         "yes",
         "yes",
         "no"
        ],
        [
         "streamingmovies",
         "no",
         "no",
         "no",
         "no",
         "no",
         "yes",
         "no",
         "no"
        ],
        [
         "contract",
         "month-to-month",
         "one_year",
         "month-to-month",
         "one_year",
         "month-to-month",
         "month-to-month",
         "month-to-month",
         "month-to-month"
        ],
        [
         "paperlessbilling",
         "yes",
         "no",
         "yes",
         "no",
         "yes",
         "yes",
         "yes",
         "no"
        ],
        [
         "paymentmethod",
         "electronic_check",
         "mailed_check",
         "mailed_check",
         "bank_transfer_(automatic)",
         "electronic_check",
         "electronic_check",
         "credit_card_(automatic)",
         "mailed_check"
        ],
        [
         "monthlycharges",
         "29.85",
         "56.95",
         "53.85",
         "42.3",
         "70.7",
         "99.65",
         "89.1",
         "29.75"
        ],
        [
         "totalcharges",
         "29.85",
         "1889.5",
         "108.15",
         "1840.75",
         "151.65",
         "820.5",
         "1949.4",
         "301.9"
        ],
        [
         "churn",
         "no",
         "no",
         "yes",
         "no",
         "yes",
         "yes",
         "no",
         "no"
        ]
       ],
       "shape": {
        "columns": 8,
        "rows": 21
       }
      },
      "text/html": [
       "<div>\n",
       "<style scoped>\n",
       "    .dataframe tbody tr th:only-of-type {\n",
       "        vertical-align: middle;\n",
       "    }\n",
       "\n",
       "    .dataframe tbody tr th {\n",
       "        vertical-align: top;\n",
       "    }\n",
       "\n",
       "    .dataframe thead th {\n",
       "        text-align: right;\n",
       "    }\n",
       "</style>\n",
       "<table border=\"1\" class=\"dataframe\">\n",
       "  <thead>\n",
       "    <tr style=\"text-align: right;\">\n",
       "      <th></th>\n",
       "      <th>0</th>\n",
       "      <th>1</th>\n",
       "      <th>2</th>\n",
       "      <th>3</th>\n",
       "      <th>4</th>\n",
       "      <th>5</th>\n",
       "      <th>6</th>\n",
       "      <th>7</th>\n",
       "    </tr>\n",
       "  </thead>\n",
       "  <tbody>\n",
       "    <tr>\n",
       "      <th>customerid</th>\n",
       "      <td>7590-vhveg</td>\n",
       "      <td>5575-gnvde</td>\n",
       "      <td>3668-qpybk</td>\n",
       "      <td>7795-cfocw</td>\n",
       "      <td>9237-hqitu</td>\n",
       "      <td>9305-cdskc</td>\n",
       "      <td>1452-kiovk</td>\n",
       "      <td>6713-okomc</td>\n",
       "    </tr>\n",
       "    <tr>\n",
       "      <th>gender</th>\n",
       "      <td>female</td>\n",
       "      <td>male</td>\n",
       "      <td>male</td>\n",
       "      <td>male</td>\n",
       "      <td>female</td>\n",
       "      <td>female</td>\n",
       "      <td>male</td>\n",
       "      <td>female</td>\n",
       "    </tr>\n",
       "    <tr>\n",
       "      <th>seniorcitizen</th>\n",
       "      <td>0</td>\n",
       "      <td>0</td>\n",
       "      <td>0</td>\n",
       "      <td>0</td>\n",
       "      <td>0</td>\n",
       "      <td>0</td>\n",
       "      <td>0</td>\n",
       "      <td>0</td>\n",
       "    </tr>\n",
       "    <tr>\n",
       "      <th>partner</th>\n",
       "      <td>yes</td>\n",
       "      <td>no</td>\n",
       "      <td>no</td>\n",
       "      <td>no</td>\n",
       "      <td>no</td>\n",
       "      <td>no</td>\n",
       "      <td>no</td>\n",
       "      <td>no</td>\n",
       "    </tr>\n",
       "    <tr>\n",
       "      <th>dependents</th>\n",
       "      <td>no</td>\n",
       "      <td>no</td>\n",
       "      <td>no</td>\n",
       "      <td>no</td>\n",
       "      <td>no</td>\n",
       "      <td>no</td>\n",
       "      <td>yes</td>\n",
       "      <td>no</td>\n",
       "    </tr>\n",
       "    <tr>\n",
       "      <th>tenure</th>\n",
       "      <td>1</td>\n",
       "      <td>34</td>\n",
       "      <td>2</td>\n",
       "      <td>45</td>\n",
       "      <td>2</td>\n",
       "      <td>8</td>\n",
       "      <td>22</td>\n",
       "      <td>10</td>\n",
       "    </tr>\n",
       "    <tr>\n",
       "      <th>phoneservice</th>\n",
       "      <td>no</td>\n",
       "      <td>yes</td>\n",
       "      <td>yes</td>\n",
       "      <td>no</td>\n",
       "      <td>yes</td>\n",
       "      <td>yes</td>\n",
       "      <td>yes</td>\n",
       "      <td>no</td>\n",
       "    </tr>\n",
       "    <tr>\n",
       "      <th>multiplelines</th>\n",
       "      <td>no_phone_service</td>\n",
       "      <td>no</td>\n",
       "      <td>no</td>\n",
       "      <td>no_phone_service</td>\n",
       "      <td>no</td>\n",
       "      <td>yes</td>\n",
       "      <td>yes</td>\n",
       "      <td>no_phone_service</td>\n",
       "    </tr>\n",
       "    <tr>\n",
       "      <th>internetservice</th>\n",
       "      <td>dsl</td>\n",
       "      <td>dsl</td>\n",
       "      <td>dsl</td>\n",
       "      <td>dsl</td>\n",
       "      <td>fiber_optic</td>\n",
       "      <td>fiber_optic</td>\n",
       "      <td>fiber_optic</td>\n",
       "      <td>dsl</td>\n",
       "    </tr>\n",
       "    <tr>\n",
       "      <th>onlinesecurity</th>\n",
       "      <td>no</td>\n",
       "      <td>yes</td>\n",
       "      <td>yes</td>\n",
       "      <td>yes</td>\n",
       "      <td>no</td>\n",
       "      <td>no</td>\n",
       "      <td>no</td>\n",
       "      <td>yes</td>\n",
       "    </tr>\n",
       "    <tr>\n",
       "      <th>onlinebackup</th>\n",
       "      <td>yes</td>\n",
       "      <td>no</td>\n",
       "      <td>yes</td>\n",
       "      <td>no</td>\n",
       "      <td>no</td>\n",
       "      <td>no</td>\n",
       "      <td>yes</td>\n",
       "      <td>no</td>\n",
       "    </tr>\n",
       "    <tr>\n",
       "      <th>deviceprotection</th>\n",
       "      <td>no</td>\n",
       "      <td>yes</td>\n",
       "      <td>no</td>\n",
       "      <td>yes</td>\n",
       "      <td>no</td>\n",
       "      <td>yes</td>\n",
       "      <td>no</td>\n",
       "      <td>no</td>\n",
       "    </tr>\n",
       "    <tr>\n",
       "      <th>techsupport</th>\n",
       "      <td>no</td>\n",
       "      <td>no</td>\n",
       "      <td>no</td>\n",
       "      <td>yes</td>\n",
       "      <td>no</td>\n",
       "      <td>no</td>\n",
       "      <td>no</td>\n",
       "      <td>no</td>\n",
       "    </tr>\n",
       "    <tr>\n",
       "      <th>streamingtv</th>\n",
       "      <td>no</td>\n",
       "      <td>no</td>\n",
       "      <td>no</td>\n",
       "      <td>no</td>\n",
       "      <td>no</td>\n",
       "      <td>yes</td>\n",
       "      <td>yes</td>\n",
       "      <td>no</td>\n",
       "    </tr>\n",
       "    <tr>\n",
       "      <th>streamingmovies</th>\n",
       "      <td>no</td>\n",
       "      <td>no</td>\n",
       "      <td>no</td>\n",
       "      <td>no</td>\n",
       "      <td>no</td>\n",
       "      <td>yes</td>\n",
       "      <td>no</td>\n",
       "      <td>no</td>\n",
       "    </tr>\n",
       "    <tr>\n",
       "      <th>contract</th>\n",
       "      <td>month-to-month</td>\n",
       "      <td>one_year</td>\n",
       "      <td>month-to-month</td>\n",
       "      <td>one_year</td>\n",
       "      <td>month-to-month</td>\n",
       "      <td>month-to-month</td>\n",
       "      <td>month-to-month</td>\n",
       "      <td>month-to-month</td>\n",
       "    </tr>\n",
       "    <tr>\n",
       "      <th>paperlessbilling</th>\n",
       "      <td>yes</td>\n",
       "      <td>no</td>\n",
       "      <td>yes</td>\n",
       "      <td>no</td>\n",
       "      <td>yes</td>\n",
       "      <td>yes</td>\n",
       "      <td>yes</td>\n",
       "      <td>no</td>\n",
       "    </tr>\n",
       "    <tr>\n",
       "      <th>paymentmethod</th>\n",
       "      <td>electronic_check</td>\n",
       "      <td>mailed_check</td>\n",
       "      <td>mailed_check</td>\n",
       "      <td>bank_transfer_(automatic)</td>\n",
       "      <td>electronic_check</td>\n",
       "      <td>electronic_check</td>\n",
       "      <td>credit_card_(automatic)</td>\n",
       "      <td>mailed_check</td>\n",
       "    </tr>\n",
       "    <tr>\n",
       "      <th>monthlycharges</th>\n",
       "      <td>29.85</td>\n",
       "      <td>56.95</td>\n",
       "      <td>53.85</td>\n",
       "      <td>42.3</td>\n",
       "      <td>70.7</td>\n",
       "      <td>99.65</td>\n",
       "      <td>89.1</td>\n",
       "      <td>29.75</td>\n",
       "    </tr>\n",
       "    <tr>\n",
       "      <th>totalcharges</th>\n",
       "      <td>29.85</td>\n",
       "      <td>1889.5</td>\n",
       "      <td>108.15</td>\n",
       "      <td>1840.75</td>\n",
       "      <td>151.65</td>\n",
       "      <td>820.5</td>\n",
       "      <td>1949.4</td>\n",
       "      <td>301.9</td>\n",
       "    </tr>\n",
       "    <tr>\n",
       "      <th>churn</th>\n",
       "      <td>no</td>\n",
       "      <td>no</td>\n",
       "      <td>yes</td>\n",
       "      <td>no</td>\n",
       "      <td>yes</td>\n",
       "      <td>yes</td>\n",
       "      <td>no</td>\n",
       "      <td>no</td>\n",
       "    </tr>\n",
       "  </tbody>\n",
       "</table>\n",
       "</div>"
      ],
      "text/plain": [
       "                                 0             1               2  \\\n",
       "customerid              7590-vhveg    5575-gnvde      3668-qpybk   \n",
       "gender                      female          male            male   \n",
       "seniorcitizen                    0             0               0   \n",
       "partner                        yes            no              no   \n",
       "dependents                      no            no              no   \n",
       "tenure                           1            34               2   \n",
       "phoneservice                    no           yes             yes   \n",
       "multiplelines     no_phone_service            no              no   \n",
       "internetservice                dsl           dsl             dsl   \n",
       "onlinesecurity                  no           yes             yes   \n",
       "onlinebackup                   yes            no             yes   \n",
       "deviceprotection                no           yes              no   \n",
       "techsupport                     no            no              no   \n",
       "streamingtv                     no            no              no   \n",
       "streamingmovies                 no            no              no   \n",
       "contract            month-to-month      one_year  month-to-month   \n",
       "paperlessbilling               yes            no             yes   \n",
       "paymentmethod     electronic_check  mailed_check    mailed_check   \n",
       "monthlycharges               29.85         56.95           53.85   \n",
       "totalcharges                 29.85        1889.5          108.15   \n",
       "churn                           no            no             yes   \n",
       "\n",
       "                                          3                 4  \\\n",
       "customerid                       7795-cfocw        9237-hqitu   \n",
       "gender                                 male            female   \n",
       "seniorcitizen                             0                 0   \n",
       "partner                                  no                no   \n",
       "dependents                               no                no   \n",
       "tenure                                   45                 2   \n",
       "phoneservice                             no               yes   \n",
       "multiplelines              no_phone_service                no   \n",
       "internetservice                         dsl       fiber_optic   \n",
       "onlinesecurity                          yes                no   \n",
       "onlinebackup                             no                no   \n",
       "deviceprotection                        yes                no   \n",
       "techsupport                             yes                no   \n",
       "streamingtv                              no                no   \n",
       "streamingmovies                          no                no   \n",
       "contract                           one_year    month-to-month   \n",
       "paperlessbilling                         no               yes   \n",
       "paymentmethod     bank_transfer_(automatic)  electronic_check   \n",
       "monthlycharges                         42.3              70.7   \n",
       "totalcharges                        1840.75            151.65   \n",
       "churn                                    no               yes   \n",
       "\n",
       "                                 5                        6                 7  \n",
       "customerid              9305-cdskc               1452-kiovk        6713-okomc  \n",
       "gender                      female                     male            female  \n",
       "seniorcitizen                    0                        0                 0  \n",
       "partner                         no                       no                no  \n",
       "dependents                      no                      yes                no  \n",
       "tenure                           8                       22                10  \n",
       "phoneservice                   yes                      yes                no  \n",
       "multiplelines                  yes                      yes  no_phone_service  \n",
       "internetservice        fiber_optic              fiber_optic               dsl  \n",
       "onlinesecurity                  no                       no               yes  \n",
       "onlinebackup                    no                      yes                no  \n",
       "deviceprotection               yes                       no                no  \n",
       "techsupport                     no                       no                no  \n",
       "streamingtv                    yes                      yes                no  \n",
       "streamingmovies                yes                       no                no  \n",
       "contract            month-to-month           month-to-month    month-to-month  \n",
       "paperlessbilling               yes                      yes                no  \n",
       "paymentmethod     electronic_check  credit_card_(automatic)      mailed_check  \n",
       "monthlycharges               99.65                     89.1             29.75  \n",
       "totalcharges                 820.5                   1949.4             301.9  \n",
       "churn                          yes                       no                no  "
      ]
     },
     "execution_count": 7,
     "metadata": {},
     "output_type": "execute_result"
    }
   ],
   "source": [
    "## Clean the data up\n",
    "df.columns = df.columns.str.lower().str.replace(' ', '_')\n",
    "\n",
    "categorical_columns = list(df.dtypes[df.dtypes == 'object'].index)\n",
    "\n",
    "for c in categorical_columns:\n",
    "    df[c] = df[c].str.lower().str.replace(' ', '_')\n",
    "\n",
    "## Let's look at the data again\n",
    "\n",
    "df.head(8).T"
   ]
  },
  {
   "cell_type": "code",
   "execution_count": 8,
   "id": "cf8465c5",
   "metadata": {},
   "outputs": [
    {
     "data": {
      "application/vnd.microsoft.datawrangler.viewer.v0+json": {
       "columns": [
        {
         "name": "index",
         "rawType": "object",
         "type": "string"
        },
        {
         "name": "0",
         "rawType": "object",
         "type": "unknown"
        }
       ],
       "ref": "59e23f09-3b7e-4298-9327-53f3015ab1fa",
       "rows": [
        [
         "customerid",
         "object"
        ],
        [
         "gender",
         "object"
        ],
        [
         "seniorcitizen",
         "int64"
        ],
        [
         "partner",
         "object"
        ],
        [
         "dependents",
         "object"
        ],
        [
         "tenure",
         "int64"
        ],
        [
         "phoneservice",
         "object"
        ],
        [
         "multiplelines",
         "object"
        ],
        [
         "internetservice",
         "object"
        ],
        [
         "onlinesecurity",
         "object"
        ],
        [
         "onlinebackup",
         "object"
        ],
        [
         "deviceprotection",
         "object"
        ],
        [
         "techsupport",
         "object"
        ],
        [
         "streamingtv",
         "object"
        ],
        [
         "streamingmovies",
         "object"
        ],
        [
         "contract",
         "object"
        ],
        [
         "paperlessbilling",
         "object"
        ],
        [
         "paymentmethod",
         "object"
        ],
        [
         "monthlycharges",
         "float64"
        ],
        [
         "totalcharges",
         "object"
        ],
        [
         "churn",
         "object"
        ]
       ],
       "shape": {
        "columns": 1,
        "rows": 21
       }
      },
      "text/plain": [
       "customerid           object\n",
       "gender               object\n",
       "seniorcitizen         int64\n",
       "partner              object\n",
       "dependents           object\n",
       "tenure                int64\n",
       "phoneservice         object\n",
       "multiplelines        object\n",
       "internetservice      object\n",
       "onlinesecurity       object\n",
       "onlinebackup         object\n",
       "deviceprotection     object\n",
       "techsupport          object\n",
       "streamingtv          object\n",
       "streamingmovies      object\n",
       "contract             object\n",
       "paperlessbilling     object\n",
       "paymentmethod        object\n",
       "monthlycharges      float64\n",
       "totalcharges         object\n",
       "churn                object\n",
       "dtype: object"
      ]
     },
     "execution_count": 8,
     "metadata": {},
     "output_type": "execute_result"
    }
   ],
   "source": [
    "df.dtypes"
   ]
  },
  {
   "cell_type": "code",
   "execution_count": 9,
   "id": "587bfd31",
   "metadata": {},
   "outputs": [
    {
     "data": {
      "application/vnd.microsoft.datawrangler.viewer.v0+json": {
       "columns": [
        {
         "name": "index",
         "rawType": "int64",
         "type": "integer"
        },
        {
         "name": "totalcharges",
         "rawType": "object",
         "type": "string"
        }
       ],
       "ref": "ff3382fc-d675-48ce-b919-b075e24b9955",
       "rows": [
        [
         "0",
         "29.85"
        ],
        [
         "1",
         "1889.5"
        ],
        [
         "2",
         "108.15"
        ],
        [
         "3",
         "1840.75"
        ],
        [
         "4",
         "151.65"
        ],
        [
         "5",
         "820.5"
        ],
        [
         "6",
         "1949.4"
        ],
        [
         "7",
         "301.9"
        ],
        [
         "8",
         "3046.05"
        ],
        [
         "9",
         "3487.95"
        ],
        [
         "10",
         "587.45"
        ],
        [
         "11",
         "326.8"
        ],
        [
         "12",
         "5681.1"
        ],
        [
         "13",
         "5036.3"
        ],
        [
         "14",
         "2686.05"
        ],
        [
         "15",
         "7895.15"
        ],
        [
         "16",
         "1022.95"
        ],
        [
         "17",
         "7382.25"
        ],
        [
         "18",
         "528.35"
        ],
        [
         "19",
         "1862.9"
        ],
        [
         "20",
         "39.65"
        ],
        [
         "21",
         "202.25"
        ],
        [
         "22",
         "20.15"
        ],
        [
         "23",
         "3505.1"
        ],
        [
         "24",
         "2970.3"
        ],
        [
         "25",
         "1530.6"
        ],
        [
         "26",
         "4749.15"
        ],
        [
         "27",
         "30.2"
        ],
        [
         "28",
         "6369.45"
        ],
        [
         "29",
         "1093.1"
        ],
        [
         "30",
         "6766.95"
        ],
        [
         "31",
         "181.65"
        ],
        [
         "32",
         "1874.45"
        ],
        [
         "33",
         "20.2"
        ],
        [
         "34",
         "45.25"
        ],
        [
         "35",
         "7251.7"
        ],
        [
         "36",
         "316.9"
        ],
        [
         "37",
         "3548.3"
        ],
        [
         "38",
         "3549.25"
        ],
        [
         "39",
         "1105.4"
        ],
        [
         "40",
         "475.7"
        ],
        [
         "41",
         "4872.35"
        ],
        [
         "42",
         "418.25"
        ],
        [
         "43",
         "4861.45"
        ],
        [
         "44",
         "981.45"
        ],
        [
         "45",
         "3906.7"
        ],
        [
         "46",
         "97"
        ],
        [
         "47",
         "144.15"
        ],
        [
         "48",
         "4217.8"
        ],
        [
         "49",
         "4254.1"
        ]
       ],
       "shape": {
        "columns": 1,
        "rows": 7043
       }
      },
      "text/plain": [
       "0         29.85\n",
       "1        1889.5\n",
       "2        108.15\n",
       "3       1840.75\n",
       "4        151.65\n",
       "         ...   \n",
       "7038     1990.5\n",
       "7039     7362.9\n",
       "7040     346.45\n",
       "7041      306.6\n",
       "7042     6844.5\n",
       "Name: totalcharges, Length: 7043, dtype: object"
      ]
     },
     "execution_count": 9,
     "metadata": {},
     "output_type": "execute_result"
    }
   ],
   "source": [
    "df.totalcharges"
   ]
  },
  {
   "cell_type": "code",
   "execution_count": 10,
   "id": "abf3034e",
   "metadata": {},
   "outputs": [],
   "source": [
    "tc = pd.to_numeric(df.totalcharges, errors = 'coerce')"
   ]
  },
  {
   "cell_type": "code",
   "execution_count": 11,
   "id": "eb6ae07c",
   "metadata": {},
   "outputs": [
    {
     "data": {
      "application/vnd.microsoft.datawrangler.viewer.v0+json": {
       "columns": [
        {
         "name": "index",
         "rawType": "int64",
         "type": "integer"
        },
        {
         "name": "totalcharges",
         "rawType": "float64",
         "type": "float"
        }
       ],
       "ref": "6cec29f1-c635-43f1-9841-92caeba21497",
       "rows": [
        [
         "0",
         "29.85"
        ],
        [
         "1",
         "1889.5"
        ],
        [
         "2",
         "108.15"
        ],
        [
         "3",
         "1840.75"
        ],
        [
         "4",
         "151.65"
        ],
        [
         "5",
         "820.5"
        ],
        [
         "6",
         "1949.4"
        ],
        [
         "7",
         "301.9"
        ],
        [
         "8",
         "3046.05"
        ],
        [
         "9",
         "3487.95"
        ],
        [
         "10",
         "587.45"
        ],
        [
         "11",
         "326.8"
        ],
        [
         "12",
         "5681.1"
        ],
        [
         "13",
         "5036.3"
        ],
        [
         "14",
         "2686.05"
        ],
        [
         "15",
         "7895.15"
        ],
        [
         "16",
         "1022.95"
        ],
        [
         "17",
         "7382.25"
        ],
        [
         "18",
         "528.35"
        ],
        [
         "19",
         "1862.9"
        ],
        [
         "20",
         "39.65"
        ],
        [
         "21",
         "202.25"
        ],
        [
         "22",
         "20.15"
        ],
        [
         "23",
         "3505.1"
        ],
        [
         "24",
         "2970.3"
        ],
        [
         "25",
         "1530.6"
        ],
        [
         "26",
         "4749.15"
        ],
        [
         "27",
         "30.2"
        ],
        [
         "28",
         "6369.45"
        ],
        [
         "29",
         "1093.1"
        ],
        [
         "30",
         "6766.95"
        ],
        [
         "31",
         "181.65"
        ],
        [
         "32",
         "1874.45"
        ],
        [
         "33",
         "20.2"
        ],
        [
         "34",
         "45.25"
        ],
        [
         "35",
         "7251.7"
        ],
        [
         "36",
         "316.9"
        ],
        [
         "37",
         "3548.3"
        ],
        [
         "38",
         "3549.25"
        ],
        [
         "39",
         "1105.4"
        ],
        [
         "40",
         "475.7"
        ],
        [
         "41",
         "4872.35"
        ],
        [
         "42",
         "418.25"
        ],
        [
         "43",
         "4861.45"
        ],
        [
         "44",
         "981.45"
        ],
        [
         "45",
         "3906.7"
        ],
        [
         "46",
         "97.0"
        ],
        [
         "47",
         "144.15"
        ],
        [
         "48",
         "4217.8"
        ],
        [
         "49",
         "4254.1"
        ]
       ],
       "shape": {
        "columns": 1,
        "rows": 7043
       }
      },
      "text/plain": [
       "0         29.85\n",
       "1       1889.50\n",
       "2        108.15\n",
       "3       1840.75\n",
       "4        151.65\n",
       "         ...   \n",
       "7038    1990.50\n",
       "7039    7362.90\n",
       "7040     346.45\n",
       "7041     306.60\n",
       "7042    6844.50\n",
       "Name: totalcharges, Length: 7043, dtype: float64"
      ]
     },
     "execution_count": 11,
     "metadata": {},
     "output_type": "execute_result"
    }
   ],
   "source": [
    "tc"
   ]
  },
  {
   "cell_type": "code",
   "execution_count": 12,
   "id": "f4bbbf78",
   "metadata": {},
   "outputs": [
    {
     "data": {
      "application/vnd.microsoft.datawrangler.viewer.v0+json": {
       "columns": [
        {
         "name": "index",
         "rawType": "int64",
         "type": "integer"
        },
        {
         "name": "customerid",
         "rawType": "object",
         "type": "string"
        },
        {
         "name": "totalcharges",
         "rawType": "object",
         "type": "string"
        }
       ],
       "ref": "0baa7ebb-68ad-4187-b545-84d4bb3a629f",
       "rows": [
        [
         "488",
         "4472-lvygi",
         "_"
        ],
        [
         "753",
         "3115-czmzd",
         "_"
        ],
        [
         "936",
         "5709-lvoeq",
         "_"
        ],
        [
         "1082",
         "4367-nuyao",
         "_"
        ],
        [
         "1340",
         "1371-dwpaz",
         "_"
        ],
        [
         "3331",
         "7644-omvmy",
         "_"
        ],
        [
         "3826",
         "3213-vvolg",
         "_"
        ],
        [
         "4380",
         "2520-sgtta",
         "_"
        ],
        [
         "5218",
         "2923-arzlg",
         "_"
        ],
        [
         "6670",
         "4075-wkniu",
         "_"
        ],
        [
         "6754",
         "2775-sefee",
         "_"
        ]
       ],
       "shape": {
        "columns": 2,
        "rows": 11
       }
      },
      "text/html": [
       "<div>\n",
       "<style scoped>\n",
       "    .dataframe tbody tr th:only-of-type {\n",
       "        vertical-align: middle;\n",
       "    }\n",
       "\n",
       "    .dataframe tbody tr th {\n",
       "        vertical-align: top;\n",
       "    }\n",
       "\n",
       "    .dataframe thead th {\n",
       "        text-align: right;\n",
       "    }\n",
       "</style>\n",
       "<table border=\"1\" class=\"dataframe\">\n",
       "  <thead>\n",
       "    <tr style=\"text-align: right;\">\n",
       "      <th></th>\n",
       "      <th>customerid</th>\n",
       "      <th>totalcharges</th>\n",
       "    </tr>\n",
       "  </thead>\n",
       "  <tbody>\n",
       "    <tr>\n",
       "      <th>488</th>\n",
       "      <td>4472-lvygi</td>\n",
       "      <td>_</td>\n",
       "    </tr>\n",
       "    <tr>\n",
       "      <th>753</th>\n",
       "      <td>3115-czmzd</td>\n",
       "      <td>_</td>\n",
       "    </tr>\n",
       "    <tr>\n",
       "      <th>936</th>\n",
       "      <td>5709-lvoeq</td>\n",
       "      <td>_</td>\n",
       "    </tr>\n",
       "    <tr>\n",
       "      <th>1082</th>\n",
       "      <td>4367-nuyao</td>\n",
       "      <td>_</td>\n",
       "    </tr>\n",
       "    <tr>\n",
       "      <th>1340</th>\n",
       "      <td>1371-dwpaz</td>\n",
       "      <td>_</td>\n",
       "    </tr>\n",
       "    <tr>\n",
       "      <th>3331</th>\n",
       "      <td>7644-omvmy</td>\n",
       "      <td>_</td>\n",
       "    </tr>\n",
       "    <tr>\n",
       "      <th>3826</th>\n",
       "      <td>3213-vvolg</td>\n",
       "      <td>_</td>\n",
       "    </tr>\n",
       "    <tr>\n",
       "      <th>4380</th>\n",
       "      <td>2520-sgtta</td>\n",
       "      <td>_</td>\n",
       "    </tr>\n",
       "    <tr>\n",
       "      <th>5218</th>\n",
       "      <td>2923-arzlg</td>\n",
       "      <td>_</td>\n",
       "    </tr>\n",
       "    <tr>\n",
       "      <th>6670</th>\n",
       "      <td>4075-wkniu</td>\n",
       "      <td>_</td>\n",
       "    </tr>\n",
       "    <tr>\n",
       "      <th>6754</th>\n",
       "      <td>2775-sefee</td>\n",
       "      <td>_</td>\n",
       "    </tr>\n",
       "  </tbody>\n",
       "</table>\n",
       "</div>"
      ],
      "text/plain": [
       "      customerid totalcharges\n",
       "488   4472-lvygi            _\n",
       "753   3115-czmzd            _\n",
       "936   5709-lvoeq            _\n",
       "1082  4367-nuyao            _\n",
       "1340  1371-dwpaz            _\n",
       "3331  7644-omvmy            _\n",
       "3826  3213-vvolg            _\n",
       "4380  2520-sgtta            _\n",
       "5218  2923-arzlg            _\n",
       "6670  4075-wkniu            _\n",
       "6754  2775-sefee            _"
      ]
     },
     "execution_count": 12,
     "metadata": {},
     "output_type": "execute_result"
    }
   ],
   "source": [
    "df[tc.isnull()][['customerid', 'totalcharges']]"
   ]
  },
  {
   "cell_type": "code",
   "execution_count": 13,
   "id": "3560c8b1",
   "metadata": {},
   "outputs": [
    {
     "name": "stderr",
     "output_type": "stream",
     "text": [
      "/tmp/ipykernel_2098/1609665531.py:1: UserWarning: Pandas doesn't allow columns to be created via a new attribute name - see https://pandas.pydata.org/pandas-docs/stable/indexing.html#attribute-access\n",
      "  df.total_charges = df.totalcharges.fillna(0)\n"
     ]
    }
   ],
   "source": [
    "df.total_charges = df.totalcharges.fillna(0)"
   ]
  },
  {
   "cell_type": "code",
   "execution_count": 14,
   "id": "25d3c5ef",
   "metadata": {},
   "outputs": [
    {
     "data": {
      "text/plain": [
       "np.int64(0)"
      ]
     },
     "execution_count": 14,
     "metadata": {},
     "output_type": "execute_result"
    }
   ],
   "source": [
    "\n",
    "df.totalcharges.isnull().sum()"
   ]
  },
  {
   "cell_type": "code",
   "execution_count": 15,
   "id": "8b0de46a",
   "metadata": {},
   "outputs": [
    {
     "data": {
      "application/vnd.microsoft.datawrangler.viewer.v0+json": {
       "columns": [
        {
         "name": "index",
         "rawType": "int64",
         "type": "integer"
        },
        {
         "name": "churn",
         "rawType": "object",
         "type": "string"
        }
       ],
       "ref": "f23f5ea6-8232-4a49-95fa-f0fda2783c8f",
       "rows": [
        [
         "0",
         "no"
        ],
        [
         "1",
         "no"
        ],
        [
         "2",
         "yes"
        ],
        [
         "3",
         "no"
        ],
        [
         "4",
         "yes"
        ]
       ],
       "shape": {
        "columns": 1,
        "rows": 5
       }
      },
      "text/plain": [
       "0     no\n",
       "1     no\n",
       "2    yes\n",
       "3     no\n",
       "4    yes\n",
       "Name: churn, dtype: object"
      ]
     },
     "execution_count": 15,
     "metadata": {},
     "output_type": "execute_result"
    }
   ],
   "source": [
    "df.churn.head()"
   ]
  },
  {
   "cell_type": "code",
   "execution_count": 16,
   "id": "cf08e51d",
   "metadata": {},
   "outputs": [
    {
     "data": {
      "application/vnd.microsoft.datawrangler.viewer.v0+json": {
       "columns": [
        {
         "name": "index",
         "rawType": "int64",
         "type": "integer"
        },
        {
         "name": "churn",
         "rawType": "int64",
         "type": "integer"
        }
       ],
       "ref": "47f4143e-b308-47cc-a969-1290b7d16659",
       "rows": [
        [
         "0",
         "0"
        ],
        [
         "1",
         "0"
        ],
        [
         "2",
         "1"
        ],
        [
         "3",
         "0"
        ],
        [
         "4",
         "1"
        ]
       ],
       "shape": {
        "columns": 1,
        "rows": 5
       }
      },
      "text/plain": [
       "0    0\n",
       "1    0\n",
       "2    1\n",
       "3    0\n",
       "4    1\n",
       "Name: churn, dtype: int64"
      ]
     },
     "execution_count": 16,
     "metadata": {},
     "output_type": "execute_result"
    }
   ],
   "source": [
    "(df.churn == 'yes').astype(int).head()"
   ]
  },
  {
   "cell_type": "code",
   "execution_count": 17,
   "id": "cb83f612",
   "metadata": {},
   "outputs": [],
   "source": [
    "df.churn = (df.churn == 'yes').astype(int)"
   ]
  },
  {
   "cell_type": "code",
   "execution_count": 18,
   "id": "68564daf",
   "metadata": {},
   "outputs": [
    {
     "data": {
      "application/vnd.microsoft.datawrangler.viewer.v0+json": {
       "columns": [
        {
         "name": "index",
         "rawType": "int64",
         "type": "integer"
        },
        {
         "name": "churn",
         "rawType": "int64",
         "type": "integer"
        }
       ],
       "ref": "b74ca16d-d4c1-4561-a5ae-99e6149738cd",
       "rows": [
        [
         "0",
         "0"
        ],
        [
         "1",
         "0"
        ],
        [
         "2",
         "1"
        ],
        [
         "3",
         "0"
        ],
        [
         "4",
         "1"
        ],
        [
         "5",
         "1"
        ],
        [
         "6",
         "0"
        ]
       ],
       "shape": {
        "columns": 1,
        "rows": 7
       }
      },
      "text/plain": [
       "0    0\n",
       "1    0\n",
       "2    1\n",
       "3    0\n",
       "4    1\n",
       "5    1\n",
       "6    0\n",
       "Name: churn, dtype: int64"
      ]
     },
     "execution_count": 18,
     "metadata": {},
     "output_type": "execute_result"
    }
   ],
   "source": [
    "df.churn.head(7)"
   ]
  },
  {
   "cell_type": "code",
   "execution_count": 19,
   "id": "3578ae9c",
   "metadata": {},
   "outputs": [
    {
     "data": {
      "text/plain": [
       "np.int64(0)"
      ]
     },
     "execution_count": 19,
     "metadata": {},
     "output_type": "execute_result"
    }
   ],
   "source": [
    "df.churn.isnull().sum()"
   ]
  },
  {
   "cell_type": "code",
   "execution_count": 20,
   "id": "46816ded",
   "metadata": {},
   "outputs": [
    {
     "data": {
      "text/plain": [
       "7043"
      ]
     },
     "execution_count": 20,
     "metadata": {},
     "output_type": "execute_result"
    }
   ],
   "source": [
    "len(df.churn)"
   ]
  },
  {
   "cell_type": "code",
   "execution_count": 21,
   "id": "9c08a2ba",
   "metadata": {},
   "outputs": [
    {
     "data": {
      "application/vnd.microsoft.datawrangler.viewer.v0+json": {
       "columns": [
        {
         "name": "index",
         "rawType": "int64",
         "type": "integer"
        },
        {
         "name": "customerid",
         "rawType": "object",
         "type": "string"
        },
        {
         "name": "gender",
         "rawType": "object",
         "type": "string"
        },
        {
         "name": "seniorcitizen",
         "rawType": "int64",
         "type": "integer"
        },
        {
         "name": "partner",
         "rawType": "object",
         "type": "string"
        },
        {
         "name": "dependents",
         "rawType": "object",
         "type": "string"
        },
        {
         "name": "tenure",
         "rawType": "int64",
         "type": "integer"
        },
        {
         "name": "phoneservice",
         "rawType": "object",
         "type": "string"
        },
        {
         "name": "multiplelines",
         "rawType": "object",
         "type": "string"
        },
        {
         "name": "internetservice",
         "rawType": "object",
         "type": "string"
        },
        {
         "name": "onlinesecurity",
         "rawType": "object",
         "type": "string"
        },
        {
         "name": "onlinebackup",
         "rawType": "object",
         "type": "string"
        },
        {
         "name": "deviceprotection",
         "rawType": "object",
         "type": "string"
        },
        {
         "name": "techsupport",
         "rawType": "object",
         "type": "string"
        },
        {
         "name": "streamingtv",
         "rawType": "object",
         "type": "string"
        },
        {
         "name": "streamingmovies",
         "rawType": "object",
         "type": "string"
        },
        {
         "name": "contract",
         "rawType": "object",
         "type": "string"
        },
        {
         "name": "paperlessbilling",
         "rawType": "object",
         "type": "string"
        },
        {
         "name": "paymentmethod",
         "rawType": "object",
         "type": "string"
        },
        {
         "name": "monthlycharges",
         "rawType": "float64",
         "type": "float"
        },
        {
         "name": "totalcharges",
         "rawType": "object",
         "type": "string"
        },
        {
         "name": "churn",
         "rawType": "int64",
         "type": "integer"
        }
       ],
       "ref": "db095069-b86c-4583-8fee-734749fb2b3e",
       "rows": [
        [
         "0",
         "7590-vhveg",
         "female",
         "0",
         "yes",
         "no",
         "1",
         "no",
         "no_phone_service",
         "dsl",
         "no",
         "yes",
         "no",
         "no",
         "no",
         "no",
         "month-to-month",
         "yes",
         "electronic_check",
         "29.85",
         "29.85",
         "0"
        ],
        [
         "1",
         "5575-gnvde",
         "male",
         "0",
         "no",
         "no",
         "34",
         "yes",
         "no",
         "dsl",
         "yes",
         "no",
         "yes",
         "no",
         "no",
         "no",
         "one_year",
         "no",
         "mailed_check",
         "56.95",
         "1889.5",
         "0"
        ],
        [
         "2",
         "3668-qpybk",
         "male",
         "0",
         "no",
         "no",
         "2",
         "yes",
         "no",
         "dsl",
         "yes",
         "yes",
         "no",
         "no",
         "no",
         "no",
         "month-to-month",
         "yes",
         "mailed_check",
         "53.85",
         "108.15",
         "1"
        ],
        [
         "3",
         "7795-cfocw",
         "male",
         "0",
         "no",
         "no",
         "45",
         "no",
         "no_phone_service",
         "dsl",
         "yes",
         "no",
         "yes",
         "yes",
         "no",
         "no",
         "one_year",
         "no",
         "bank_transfer_(automatic)",
         "42.3",
         "1840.75",
         "0"
        ],
        [
         "4",
         "9237-hqitu",
         "female",
         "0",
         "no",
         "no",
         "2",
         "yes",
         "no",
         "fiber_optic",
         "no",
         "no",
         "no",
         "no",
         "no",
         "no",
         "month-to-month",
         "yes",
         "electronic_check",
         "70.7",
         "151.65",
         "1"
        ],
        [
         "5",
         "9305-cdskc",
         "female",
         "0",
         "no",
         "no",
         "8",
         "yes",
         "yes",
         "fiber_optic",
         "no",
         "no",
         "yes",
         "no",
         "yes",
         "yes",
         "month-to-month",
         "yes",
         "electronic_check",
         "99.65",
         "820.5",
         "1"
        ],
        [
         "6",
         "1452-kiovk",
         "male",
         "0",
         "no",
         "yes",
         "22",
         "yes",
         "yes",
         "fiber_optic",
         "no",
         "yes",
         "no",
         "no",
         "yes",
         "no",
         "month-to-month",
         "yes",
         "credit_card_(automatic)",
         "89.1",
         "1949.4",
         "0"
        ],
        [
         "7",
         "6713-okomc",
         "female",
         "0",
         "no",
         "no",
         "10",
         "no",
         "no_phone_service",
         "dsl",
         "yes",
         "no",
         "no",
         "no",
         "no",
         "no",
         "month-to-month",
         "no",
         "mailed_check",
         "29.75",
         "301.9",
         "0"
        ],
        [
         "8",
         "7892-pookp",
         "female",
         "0",
         "yes",
         "no",
         "28",
         "yes",
         "yes",
         "fiber_optic",
         "no",
         "no",
         "yes",
         "yes",
         "yes",
         "yes",
         "month-to-month",
         "yes",
         "electronic_check",
         "104.8",
         "3046.05",
         "1"
        ],
        [
         "9",
         "6388-tabgu",
         "male",
         "0",
         "no",
         "yes",
         "62",
         "yes",
         "no",
         "dsl",
         "yes",
         "yes",
         "no",
         "no",
         "no",
         "no",
         "one_year",
         "no",
         "bank_transfer_(automatic)",
         "56.15",
         "3487.95",
         "0"
        ],
        [
         "10",
         "9763-grskd",
         "male",
         "0",
         "yes",
         "yes",
         "13",
         "yes",
         "no",
         "dsl",
         "yes",
         "no",
         "no",
         "no",
         "no",
         "no",
         "month-to-month",
         "yes",
         "mailed_check",
         "49.95",
         "587.45",
         "0"
        ],
        [
         "11",
         "7469-lkbci",
         "male",
         "0",
         "no",
         "no",
         "16",
         "yes",
         "no",
         "no",
         "no_internet_service",
         "no_internet_service",
         "no_internet_service",
         "no_internet_service",
         "no_internet_service",
         "no_internet_service",
         "two_year",
         "no",
         "credit_card_(automatic)",
         "18.95",
         "326.8",
         "0"
        ],
        [
         "12",
         "8091-ttvax",
         "male",
         "0",
         "yes",
         "no",
         "58",
         "yes",
         "yes",
         "fiber_optic",
         "no",
         "no",
         "yes",
         "no",
         "yes",
         "yes",
         "one_year",
         "no",
         "credit_card_(automatic)",
         "100.35",
         "5681.1",
         "0"
        ],
        [
         "13",
         "0280-xjgex",
         "male",
         "0",
         "no",
         "no",
         "49",
         "yes",
         "yes",
         "fiber_optic",
         "no",
         "yes",
         "yes",
         "no",
         "yes",
         "yes",
         "month-to-month",
         "yes",
         "bank_transfer_(automatic)",
         "103.7",
         "5036.3",
         "1"
        ],
        [
         "14",
         "5129-jlpis",
         "male",
         "0",
         "no",
         "no",
         "25",
         "yes",
         "no",
         "fiber_optic",
         "yes",
         "no",
         "yes",
         "yes",
         "yes",
         "yes",
         "month-to-month",
         "yes",
         "electronic_check",
         "105.5",
         "2686.05",
         "0"
        ],
        [
         "15",
         "3655-snqyz",
         "female",
         "0",
         "yes",
         "yes",
         "69",
         "yes",
         "yes",
         "fiber_optic",
         "yes",
         "yes",
         "yes",
         "yes",
         "yes",
         "yes",
         "two_year",
         "no",
         "credit_card_(automatic)",
         "113.25",
         "7895.15",
         "0"
        ],
        [
         "16",
         "8191-xwszg",
         "female",
         "0",
         "no",
         "no",
         "52",
         "yes",
         "no",
         "no",
         "no_internet_service",
         "no_internet_service",
         "no_internet_service",
         "no_internet_service",
         "no_internet_service",
         "no_internet_service",
         "one_year",
         "no",
         "mailed_check",
         "20.65",
         "1022.95",
         "0"
        ],
        [
         "17",
         "9959-wofkt",
         "male",
         "0",
         "no",
         "yes",
         "71",
         "yes",
         "yes",
         "fiber_optic",
         "yes",
         "no",
         "yes",
         "no",
         "yes",
         "yes",
         "two_year",
         "no",
         "bank_transfer_(automatic)",
         "106.7",
         "7382.25",
         "0"
        ],
        [
         "18",
         "4190-mfluw",
         "female",
         "0",
         "yes",
         "yes",
         "10",
         "yes",
         "no",
         "dsl",
         "no",
         "no",
         "yes",
         "yes",
         "no",
         "no",
         "month-to-month",
         "no",
         "credit_card_(automatic)",
         "55.2",
         "528.35",
         "1"
        ],
        [
         "19",
         "4183-myfrb",
         "female",
         "0",
         "no",
         "no",
         "21",
         "yes",
         "no",
         "fiber_optic",
         "no",
         "yes",
         "yes",
         "no",
         "no",
         "yes",
         "month-to-month",
         "yes",
         "electronic_check",
         "90.05",
         "1862.9",
         "0"
        ],
        [
         "20",
         "8779-qrdmv",
         "male",
         "1",
         "no",
         "no",
         "1",
         "no",
         "no_phone_service",
         "dsl",
         "no",
         "no",
         "yes",
         "no",
         "no",
         "yes",
         "month-to-month",
         "yes",
         "electronic_check",
         "39.65",
         "39.65",
         "1"
        ],
        [
         "21",
         "1680-vdcww",
         "male",
         "0",
         "yes",
         "no",
         "12",
         "yes",
         "no",
         "no",
         "no_internet_service",
         "no_internet_service",
         "no_internet_service",
         "no_internet_service",
         "no_internet_service",
         "no_internet_service",
         "one_year",
         "no",
         "bank_transfer_(automatic)",
         "19.8",
         "202.25",
         "0"
        ],
        [
         "22",
         "1066-jksgk",
         "male",
         "0",
         "no",
         "no",
         "1",
         "yes",
         "no",
         "no",
         "no_internet_service",
         "no_internet_service",
         "no_internet_service",
         "no_internet_service",
         "no_internet_service",
         "no_internet_service",
         "month-to-month",
         "no",
         "mailed_check",
         "20.15",
         "20.15",
         "1"
        ],
        [
         "23",
         "3638-weabw",
         "female",
         "0",
         "yes",
         "no",
         "58",
         "yes",
         "yes",
         "dsl",
         "no",
         "yes",
         "no",
         "yes",
         "no",
         "no",
         "two_year",
         "yes",
         "credit_card_(automatic)",
         "59.9",
         "3505.1",
         "0"
        ],
        [
         "24",
         "6322-hrpfa",
         "male",
         "0",
         "yes",
         "yes",
         "49",
         "yes",
         "no",
         "dsl",
         "yes",
         "yes",
         "no",
         "yes",
         "no",
         "no",
         "month-to-month",
         "no",
         "credit_card_(automatic)",
         "59.6",
         "2970.3",
         "0"
        ],
        [
         "25",
         "6865-jznko",
         "female",
         "0",
         "no",
         "no",
         "30",
         "yes",
         "no",
         "dsl",
         "yes",
         "yes",
         "no",
         "no",
         "no",
         "no",
         "month-to-month",
         "yes",
         "bank_transfer_(automatic)",
         "55.3",
         "1530.6",
         "0"
        ],
        [
         "26",
         "6467-chfzw",
         "male",
         "0",
         "yes",
         "yes",
         "47",
         "yes",
         "yes",
         "fiber_optic",
         "no",
         "yes",
         "no",
         "no",
         "yes",
         "yes",
         "month-to-month",
         "yes",
         "electronic_check",
         "99.35",
         "4749.15",
         "1"
        ],
        [
         "27",
         "8665-utdhz",
         "male",
         "0",
         "yes",
         "yes",
         "1",
         "no",
         "no_phone_service",
         "dsl",
         "no",
         "yes",
         "no",
         "no",
         "no",
         "no",
         "month-to-month",
         "no",
         "electronic_check",
         "30.2",
         "30.2",
         "1"
        ],
        [
         "28",
         "5248-ygijn",
         "male",
         "0",
         "yes",
         "no",
         "72",
         "yes",
         "yes",
         "dsl",
         "yes",
         "yes",
         "yes",
         "yes",
         "yes",
         "yes",
         "two_year",
         "yes",
         "credit_card_(automatic)",
         "90.25",
         "6369.45",
         "0"
        ],
        [
         "29",
         "8773-hhuoz",
         "female",
         "0",
         "no",
         "yes",
         "17",
         "yes",
         "no",
         "dsl",
         "no",
         "no",
         "no",
         "no",
         "yes",
         "yes",
         "month-to-month",
         "yes",
         "mailed_check",
         "64.7",
         "1093.1",
         "1"
        ],
        [
         "30",
         "3841-nfecx",
         "female",
         "1",
         "yes",
         "no",
         "71",
         "yes",
         "yes",
         "fiber_optic",
         "yes",
         "yes",
         "yes",
         "yes",
         "no",
         "no",
         "two_year",
         "yes",
         "credit_card_(automatic)",
         "96.35",
         "6766.95",
         "0"
        ],
        [
         "31",
         "4929-xihvw",
         "male",
         "1",
         "yes",
         "no",
         "2",
         "yes",
         "no",
         "fiber_optic",
         "no",
         "no",
         "yes",
         "no",
         "yes",
         "yes",
         "month-to-month",
         "yes",
         "credit_card_(automatic)",
         "95.5",
         "181.65",
         "0"
        ],
        [
         "32",
         "6827-ieauq",
         "female",
         "0",
         "yes",
         "yes",
         "27",
         "yes",
         "no",
         "dsl",
         "yes",
         "yes",
         "yes",
         "yes",
         "no",
         "no",
         "one_year",
         "no",
         "mailed_check",
         "66.15",
         "1874.45",
         "0"
        ],
        [
         "33",
         "7310-egvhz",
         "male",
         "0",
         "no",
         "no",
         "1",
         "yes",
         "no",
         "no",
         "no_internet_service",
         "no_internet_service",
         "no_internet_service",
         "no_internet_service",
         "no_internet_service",
         "no_internet_service",
         "month-to-month",
         "no",
         "bank_transfer_(automatic)",
         "20.2",
         "20.2",
         "0"
        ],
        [
         "34",
         "3413-bmnze",
         "male",
         "1",
         "no",
         "no",
         "1",
         "yes",
         "no",
         "dsl",
         "no",
         "no",
         "no",
         "no",
         "no",
         "no",
         "month-to-month",
         "no",
         "bank_transfer_(automatic)",
         "45.25",
         "45.25",
         "0"
        ],
        [
         "35",
         "6234-raapl",
         "female",
         "0",
         "yes",
         "yes",
         "72",
         "yes",
         "yes",
         "fiber_optic",
         "yes",
         "yes",
         "no",
         "yes",
         "yes",
         "no",
         "two_year",
         "no",
         "bank_transfer_(automatic)",
         "99.9",
         "7251.7",
         "0"
        ],
        [
         "36",
         "6047-yhpvi",
         "male",
         "0",
         "no",
         "no",
         "5",
         "yes",
         "no",
         "fiber_optic",
         "no",
         "no",
         "no",
         "no",
         "no",
         "no",
         "month-to-month",
         "yes",
         "electronic_check",
         "69.7",
         "316.9",
         "1"
        ],
        [
         "37",
         "6572-adkrs",
         "female",
         "0",
         "no",
         "no",
         "46",
         "yes",
         "no",
         "fiber_optic",
         "no",
         "no",
         "yes",
         "no",
         "no",
         "no",
         "month-to-month",
         "yes",
         "credit_card_(automatic)",
         "74.8",
         "3548.3",
         "0"
        ],
        [
         "38",
         "5380-wjkov",
         "male",
         "0",
         "no",
         "no",
         "34",
         "yes",
         "yes",
         "fiber_optic",
         "no",
         "yes",
         "yes",
         "no",
         "yes",
         "yes",
         "month-to-month",
         "yes",
         "electronic_check",
         "106.35",
         "3549.25",
         "1"
        ],
        [
         "39",
         "8168-uqwwf",
         "female",
         "0",
         "no",
         "no",
         "11",
         "yes",
         "yes",
         "fiber_optic",
         "no",
         "no",
         "yes",
         "no",
         "yes",
         "yes",
         "month-to-month",
         "yes",
         "bank_transfer_(automatic)",
         "97.85",
         "1105.4",
         "1"
        ],
        [
         "40",
         "8865-tnmnx",
         "male",
         "0",
         "yes",
         "yes",
         "10",
         "yes",
         "no",
         "dsl",
         "no",
         "yes",
         "no",
         "no",
         "no",
         "no",
         "one_year",
         "no",
         "mailed_check",
         "49.55",
         "475.7",
         "0"
        ],
        [
         "41",
         "9489-dedvp",
         "female",
         "0",
         "yes",
         "yes",
         "70",
         "yes",
         "yes",
         "dsl",
         "yes",
         "yes",
         "no",
         "no",
         "yes",
         "no",
         "two_year",
         "yes",
         "credit_card_(automatic)",
         "69.2",
         "4872.35",
         "0"
        ],
        [
         "42",
         "9867-jczsp",
         "female",
         "0",
         "yes",
         "yes",
         "17",
         "yes",
         "no",
         "no",
         "no_internet_service",
         "no_internet_service",
         "no_internet_service",
         "no_internet_service",
         "no_internet_service",
         "no_internet_service",
         "one_year",
         "no",
         "mailed_check",
         "20.75",
         "418.25",
         "0"
        ],
        [
         "43",
         "4671-vjlcl",
         "female",
         "0",
         "no",
         "no",
         "63",
         "yes",
         "yes",
         "dsl",
         "yes",
         "yes",
         "yes",
         "yes",
         "yes",
         "no",
         "two_year",
         "yes",
         "credit_card_(automatic)",
         "79.85",
         "4861.45",
         "0"
        ],
        [
         "44",
         "4080-iiard",
         "female",
         "0",
         "yes",
         "no",
         "13",
         "yes",
         "yes",
         "dsl",
         "yes",
         "yes",
         "no",
         "yes",
         "yes",
         "no",
         "month-to-month",
         "yes",
         "electronic_check",
         "76.2",
         "981.45",
         "0"
        ],
        [
         "45",
         "3714-ntnfo",
         "female",
         "0",
         "no",
         "no",
         "49",
         "yes",
         "yes",
         "fiber_optic",
         "no",
         "no",
         "no",
         "no",
         "no",
         "yes",
         "month-to-month",
         "yes",
         "electronic_check",
         "84.5",
         "3906.7",
         "0"
        ],
        [
         "46",
         "5948-ujzlf",
         "male",
         "0",
         "no",
         "no",
         "2",
         "yes",
         "no",
         "dsl",
         "no",
         "yes",
         "no",
         "no",
         "no",
         "no",
         "month-to-month",
         "no",
         "mailed_check",
         "49.25",
         "97",
         "0"
        ],
        [
         "47",
         "7760-oypdy",
         "female",
         "0",
         "no",
         "no",
         "2",
         "yes",
         "no",
         "fiber_optic",
         "no",
         "no",
         "no",
         "no",
         "yes",
         "no",
         "month-to-month",
         "yes",
         "electronic_check",
         "80.65",
         "144.15",
         "1"
        ],
        [
         "48",
         "7639-liayi",
         "male",
         "0",
         "no",
         "no",
         "52",
         "yes",
         "yes",
         "dsl",
         "yes",
         "no",
         "no",
         "yes",
         "yes",
         "yes",
         "two_year",
         "yes",
         "credit_card_(automatic)",
         "79.75",
         "4217.8",
         "0"
        ],
        [
         "49",
         "2954-pibko",
         "female",
         "0",
         "yes",
         "yes",
         "69",
         "yes",
         "yes",
         "dsl",
         "yes",
         "no",
         "yes",
         "yes",
         "no",
         "no",
         "two_year",
         "yes",
         "credit_card_(automatic)",
         "64.15",
         "4254.1",
         "0"
        ]
       ],
       "shape": {
        "columns": 21,
        "rows": 7043
       }
      },
      "text/html": [
       "<div>\n",
       "<style scoped>\n",
       "    .dataframe tbody tr th:only-of-type {\n",
       "        vertical-align: middle;\n",
       "    }\n",
       "\n",
       "    .dataframe tbody tr th {\n",
       "        vertical-align: top;\n",
       "    }\n",
       "\n",
       "    .dataframe thead th {\n",
       "        text-align: right;\n",
       "    }\n",
       "</style>\n",
       "<table border=\"1\" class=\"dataframe\">\n",
       "  <thead>\n",
       "    <tr style=\"text-align: right;\">\n",
       "      <th></th>\n",
       "      <th>customerid</th>\n",
       "      <th>gender</th>\n",
       "      <th>seniorcitizen</th>\n",
       "      <th>partner</th>\n",
       "      <th>dependents</th>\n",
       "      <th>tenure</th>\n",
       "      <th>phoneservice</th>\n",
       "      <th>multiplelines</th>\n",
       "      <th>internetservice</th>\n",
       "      <th>onlinesecurity</th>\n",
       "      <th>...</th>\n",
       "      <th>deviceprotection</th>\n",
       "      <th>techsupport</th>\n",
       "      <th>streamingtv</th>\n",
       "      <th>streamingmovies</th>\n",
       "      <th>contract</th>\n",
       "      <th>paperlessbilling</th>\n",
       "      <th>paymentmethod</th>\n",
       "      <th>monthlycharges</th>\n",
       "      <th>totalcharges</th>\n",
       "      <th>churn</th>\n",
       "    </tr>\n",
       "  </thead>\n",
       "  <tbody>\n",
       "    <tr>\n",
       "      <th>0</th>\n",
       "      <td>7590-vhveg</td>\n",
       "      <td>female</td>\n",
       "      <td>0</td>\n",
       "      <td>yes</td>\n",
       "      <td>no</td>\n",
       "      <td>1</td>\n",
       "      <td>no</td>\n",
       "      <td>no_phone_service</td>\n",
       "      <td>dsl</td>\n",
       "      <td>no</td>\n",
       "      <td>...</td>\n",
       "      <td>no</td>\n",
       "      <td>no</td>\n",
       "      <td>no</td>\n",
       "      <td>no</td>\n",
       "      <td>month-to-month</td>\n",
       "      <td>yes</td>\n",
       "      <td>electronic_check</td>\n",
       "      <td>29.85</td>\n",
       "      <td>29.85</td>\n",
       "      <td>0</td>\n",
       "    </tr>\n",
       "    <tr>\n",
       "      <th>1</th>\n",
       "      <td>5575-gnvde</td>\n",
       "      <td>male</td>\n",
       "      <td>0</td>\n",
       "      <td>no</td>\n",
       "      <td>no</td>\n",
       "      <td>34</td>\n",
       "      <td>yes</td>\n",
       "      <td>no</td>\n",
       "      <td>dsl</td>\n",
       "      <td>yes</td>\n",
       "      <td>...</td>\n",
       "      <td>yes</td>\n",
       "      <td>no</td>\n",
       "      <td>no</td>\n",
       "      <td>no</td>\n",
       "      <td>one_year</td>\n",
       "      <td>no</td>\n",
       "      <td>mailed_check</td>\n",
       "      <td>56.95</td>\n",
       "      <td>1889.5</td>\n",
       "      <td>0</td>\n",
       "    </tr>\n",
       "    <tr>\n",
       "      <th>2</th>\n",
       "      <td>3668-qpybk</td>\n",
       "      <td>male</td>\n",
       "      <td>0</td>\n",
       "      <td>no</td>\n",
       "      <td>no</td>\n",
       "      <td>2</td>\n",
       "      <td>yes</td>\n",
       "      <td>no</td>\n",
       "      <td>dsl</td>\n",
       "      <td>yes</td>\n",
       "      <td>...</td>\n",
       "      <td>no</td>\n",
       "      <td>no</td>\n",
       "      <td>no</td>\n",
       "      <td>no</td>\n",
       "      <td>month-to-month</td>\n",
       "      <td>yes</td>\n",
       "      <td>mailed_check</td>\n",
       "      <td>53.85</td>\n",
       "      <td>108.15</td>\n",
       "      <td>1</td>\n",
       "    </tr>\n",
       "    <tr>\n",
       "      <th>3</th>\n",
       "      <td>7795-cfocw</td>\n",
       "      <td>male</td>\n",
       "      <td>0</td>\n",
       "      <td>no</td>\n",
       "      <td>no</td>\n",
       "      <td>45</td>\n",
       "      <td>no</td>\n",
       "      <td>no_phone_service</td>\n",
       "      <td>dsl</td>\n",
       "      <td>yes</td>\n",
       "      <td>...</td>\n",
       "      <td>yes</td>\n",
       "      <td>yes</td>\n",
       "      <td>no</td>\n",
       "      <td>no</td>\n",
       "      <td>one_year</td>\n",
       "      <td>no</td>\n",
       "      <td>bank_transfer_(automatic)</td>\n",
       "      <td>42.30</td>\n",
       "      <td>1840.75</td>\n",
       "      <td>0</td>\n",
       "    </tr>\n",
       "    <tr>\n",
       "      <th>4</th>\n",
       "      <td>9237-hqitu</td>\n",
       "      <td>female</td>\n",
       "      <td>0</td>\n",
       "      <td>no</td>\n",
       "      <td>no</td>\n",
       "      <td>2</td>\n",
       "      <td>yes</td>\n",
       "      <td>no</td>\n",
       "      <td>fiber_optic</td>\n",
       "      <td>no</td>\n",
       "      <td>...</td>\n",
       "      <td>no</td>\n",
       "      <td>no</td>\n",
       "      <td>no</td>\n",
       "      <td>no</td>\n",
       "      <td>month-to-month</td>\n",
       "      <td>yes</td>\n",
       "      <td>electronic_check</td>\n",
       "      <td>70.70</td>\n",
       "      <td>151.65</td>\n",
       "      <td>1</td>\n",
       "    </tr>\n",
       "    <tr>\n",
       "      <th>...</th>\n",
       "      <td>...</td>\n",
       "      <td>...</td>\n",
       "      <td>...</td>\n",
       "      <td>...</td>\n",
       "      <td>...</td>\n",
       "      <td>...</td>\n",
       "      <td>...</td>\n",
       "      <td>...</td>\n",
       "      <td>...</td>\n",
       "      <td>...</td>\n",
       "      <td>...</td>\n",
       "      <td>...</td>\n",
       "      <td>...</td>\n",
       "      <td>...</td>\n",
       "      <td>...</td>\n",
       "      <td>...</td>\n",
       "      <td>...</td>\n",
       "      <td>...</td>\n",
       "      <td>...</td>\n",
       "      <td>...</td>\n",
       "      <td>...</td>\n",
       "    </tr>\n",
       "    <tr>\n",
       "      <th>7038</th>\n",
       "      <td>6840-resvb</td>\n",
       "      <td>male</td>\n",
       "      <td>0</td>\n",
       "      <td>yes</td>\n",
       "      <td>yes</td>\n",
       "      <td>24</td>\n",
       "      <td>yes</td>\n",
       "      <td>yes</td>\n",
       "      <td>dsl</td>\n",
       "      <td>yes</td>\n",
       "      <td>...</td>\n",
       "      <td>yes</td>\n",
       "      <td>yes</td>\n",
       "      <td>yes</td>\n",
       "      <td>yes</td>\n",
       "      <td>one_year</td>\n",
       "      <td>yes</td>\n",
       "      <td>mailed_check</td>\n",
       "      <td>84.80</td>\n",
       "      <td>1990.5</td>\n",
       "      <td>0</td>\n",
       "    </tr>\n",
       "    <tr>\n",
       "      <th>7039</th>\n",
       "      <td>2234-xaduh</td>\n",
       "      <td>female</td>\n",
       "      <td>0</td>\n",
       "      <td>yes</td>\n",
       "      <td>yes</td>\n",
       "      <td>72</td>\n",
       "      <td>yes</td>\n",
       "      <td>yes</td>\n",
       "      <td>fiber_optic</td>\n",
       "      <td>no</td>\n",
       "      <td>...</td>\n",
       "      <td>yes</td>\n",
       "      <td>no</td>\n",
       "      <td>yes</td>\n",
       "      <td>yes</td>\n",
       "      <td>one_year</td>\n",
       "      <td>yes</td>\n",
       "      <td>credit_card_(automatic)</td>\n",
       "      <td>103.20</td>\n",
       "      <td>7362.9</td>\n",
       "      <td>0</td>\n",
       "    </tr>\n",
       "    <tr>\n",
       "      <th>7040</th>\n",
       "      <td>4801-jzazl</td>\n",
       "      <td>female</td>\n",
       "      <td>0</td>\n",
       "      <td>yes</td>\n",
       "      <td>yes</td>\n",
       "      <td>11</td>\n",
       "      <td>no</td>\n",
       "      <td>no_phone_service</td>\n",
       "      <td>dsl</td>\n",
       "      <td>yes</td>\n",
       "      <td>...</td>\n",
       "      <td>no</td>\n",
       "      <td>no</td>\n",
       "      <td>no</td>\n",
       "      <td>no</td>\n",
       "      <td>month-to-month</td>\n",
       "      <td>yes</td>\n",
       "      <td>electronic_check</td>\n",
       "      <td>29.60</td>\n",
       "      <td>346.45</td>\n",
       "      <td>0</td>\n",
       "    </tr>\n",
       "    <tr>\n",
       "      <th>7041</th>\n",
       "      <td>8361-ltmkd</td>\n",
       "      <td>male</td>\n",
       "      <td>1</td>\n",
       "      <td>yes</td>\n",
       "      <td>no</td>\n",
       "      <td>4</td>\n",
       "      <td>yes</td>\n",
       "      <td>yes</td>\n",
       "      <td>fiber_optic</td>\n",
       "      <td>no</td>\n",
       "      <td>...</td>\n",
       "      <td>no</td>\n",
       "      <td>no</td>\n",
       "      <td>no</td>\n",
       "      <td>no</td>\n",
       "      <td>month-to-month</td>\n",
       "      <td>yes</td>\n",
       "      <td>mailed_check</td>\n",
       "      <td>74.40</td>\n",
       "      <td>306.6</td>\n",
       "      <td>1</td>\n",
       "    </tr>\n",
       "    <tr>\n",
       "      <th>7042</th>\n",
       "      <td>3186-ajiek</td>\n",
       "      <td>male</td>\n",
       "      <td>0</td>\n",
       "      <td>no</td>\n",
       "      <td>no</td>\n",
       "      <td>66</td>\n",
       "      <td>yes</td>\n",
       "      <td>no</td>\n",
       "      <td>fiber_optic</td>\n",
       "      <td>yes</td>\n",
       "      <td>...</td>\n",
       "      <td>yes</td>\n",
       "      <td>yes</td>\n",
       "      <td>yes</td>\n",
       "      <td>yes</td>\n",
       "      <td>two_year</td>\n",
       "      <td>yes</td>\n",
       "      <td>bank_transfer_(automatic)</td>\n",
       "      <td>105.65</td>\n",
       "      <td>6844.5</td>\n",
       "      <td>0</td>\n",
       "    </tr>\n",
       "  </tbody>\n",
       "</table>\n",
       "<p>7043 rows × 21 columns</p>\n",
       "</div>"
      ],
      "text/plain": [
       "      customerid  gender  seniorcitizen partner dependents  tenure  \\\n",
       "0     7590-vhveg  female              0     yes         no       1   \n",
       "1     5575-gnvde    male              0      no         no      34   \n",
       "2     3668-qpybk    male              0      no         no       2   \n",
       "3     7795-cfocw    male              0      no         no      45   \n",
       "4     9237-hqitu  female              0      no         no       2   \n",
       "...          ...     ...            ...     ...        ...     ...   \n",
       "7038  6840-resvb    male              0     yes        yes      24   \n",
       "7039  2234-xaduh  female              0     yes        yes      72   \n",
       "7040  4801-jzazl  female              0     yes        yes      11   \n",
       "7041  8361-ltmkd    male              1     yes         no       4   \n",
       "7042  3186-ajiek    male              0      no         no      66   \n",
       "\n",
       "     phoneservice     multiplelines internetservice onlinesecurity  ...  \\\n",
       "0              no  no_phone_service             dsl             no  ...   \n",
       "1             yes                no             dsl            yes  ...   \n",
       "2             yes                no             dsl            yes  ...   \n",
       "3              no  no_phone_service             dsl            yes  ...   \n",
       "4             yes                no     fiber_optic             no  ...   \n",
       "...           ...               ...             ...            ...  ...   \n",
       "7038          yes               yes             dsl            yes  ...   \n",
       "7039          yes               yes     fiber_optic             no  ...   \n",
       "7040           no  no_phone_service             dsl            yes  ...   \n",
       "7041          yes               yes     fiber_optic             no  ...   \n",
       "7042          yes                no     fiber_optic            yes  ...   \n",
       "\n",
       "     deviceprotection techsupport streamingtv streamingmovies        contract  \\\n",
       "0                  no          no          no              no  month-to-month   \n",
       "1                 yes          no          no              no        one_year   \n",
       "2                  no          no          no              no  month-to-month   \n",
       "3                 yes         yes          no              no        one_year   \n",
       "4                  no          no          no              no  month-to-month   \n",
       "...               ...         ...         ...             ...             ...   \n",
       "7038              yes         yes         yes             yes        one_year   \n",
       "7039              yes          no         yes             yes        one_year   \n",
       "7040               no          no          no              no  month-to-month   \n",
       "7041               no          no          no              no  month-to-month   \n",
       "7042              yes         yes         yes             yes        two_year   \n",
       "\n",
       "     paperlessbilling              paymentmethod monthlycharges  totalcharges  \\\n",
       "0                 yes           electronic_check          29.85         29.85   \n",
       "1                  no               mailed_check          56.95        1889.5   \n",
       "2                 yes               mailed_check          53.85        108.15   \n",
       "3                  no  bank_transfer_(automatic)          42.30       1840.75   \n",
       "4                 yes           electronic_check          70.70        151.65   \n",
       "...               ...                        ...            ...           ...   \n",
       "7038              yes               mailed_check          84.80        1990.5   \n",
       "7039              yes    credit_card_(automatic)         103.20        7362.9   \n",
       "7040              yes           electronic_check          29.60        346.45   \n",
       "7041              yes               mailed_check          74.40         306.6   \n",
       "7042              yes  bank_transfer_(automatic)         105.65        6844.5   \n",
       "\n",
       "     churn  \n",
       "0        0  \n",
       "1        0  \n",
       "2        1  \n",
       "3        0  \n",
       "4        1  \n",
       "...    ...  \n",
       "7038     0  \n",
       "7039     0  \n",
       "7040     0  \n",
       "7041     1  \n",
       "7042     0  \n",
       "\n",
       "[7043 rows x 21 columns]"
      ]
     },
     "execution_count": 21,
     "metadata": {},
     "output_type": "execute_result"
    }
   ],
   "source": [
    "df"
   ]
  },
  {
   "cell_type": "markdown",
   "id": "589d9d25",
   "metadata": {},
   "source": [
    "## Section 3: Setting up the Validation Framework\n",
    "\n",
    "** Perform the train/validation/test split with Scikit-learn"
   ]
  },
  {
   "cell_type": "code",
   "execution_count": 22,
   "id": "0a81dae8",
   "metadata": {},
   "outputs": [],
   "source": [
    "from sklearn.model_selection import train_test_split\n"
   ]
  },
  {
   "cell_type": "code",
   "execution_count": 23,
   "id": "6fb8d00c",
   "metadata": {},
   "outputs": [
    {
     "name": "stdout",
     "output_type": "stream",
     "text": [
      "\u001b[31mSignature:\u001b[39m\n",
      "train_test_split(\n",
      "    *arrays,\n",
      "    test_size=\u001b[38;5;28;01mNone\u001b[39;00m,\n",
      "    train_size=\u001b[38;5;28;01mNone\u001b[39;00m,\n",
      "    random_state=\u001b[38;5;28;01mNone\u001b[39;00m,\n",
      "    shuffle=\u001b[38;5;28;01mTrue\u001b[39;00m,\n",
      "    stratify=\u001b[38;5;28;01mNone\u001b[39;00m,\n",
      ")\n",
      "\u001b[31mDocstring:\u001b[39m\n",
      "Split arrays or matrices into random train and test subsets.\n",
      "\n",
      "Quick utility that wraps input validation,\n",
      "``next(ShuffleSplit().split(X, y))``, and application to input data\n",
      "into a single call for splitting (and optionally subsampling) data into a\n",
      "one-liner.\n",
      "\n",
      "Read more in the :ref:`User Guide <cross_validation>`.\n",
      "\n",
      "Parameters\n",
      "----------\n",
      "*arrays : sequence of indexables with same length / shape[0]\n",
      "    Allowed inputs are lists, numpy arrays, scipy-sparse\n",
      "    matrices or pandas dataframes.\n",
      "\n",
      "test_size : float or int, default=None\n",
      "    If float, should be between 0.0 and 1.0 and represent the proportion\n",
      "    of the dataset to include in the test split. If int, represents the\n",
      "    absolute number of test samples. If None, the value is set to the\n",
      "    complement of the train size. If ``train_size`` is also None, it will\n",
      "    be set to 0.25.\n",
      "\n",
      "train_size : float or int, default=None\n",
      "    If float, should be between 0.0 and 1.0 and represent the\n",
      "    proportion of the dataset to include in the train split. If\n",
      "    int, represents the absolute number of train samples. If None,\n",
      "    the value is automatically set to the complement of the test size.\n",
      "\n",
      "random_state : int, RandomState instance or None, default=None\n",
      "    Controls the shuffling applied to the data before applying the split.\n",
      "    Pass an int for reproducible output across multiple function calls.\n",
      "    See :term:`Glossary <random_state>`.\n",
      "\n",
      "shuffle : bool, default=True\n",
      "    Whether or not to shuffle the data before splitting. If shuffle=False\n",
      "    then stratify must be None.\n",
      "\n",
      "stratify : array-like, default=None\n",
      "    If not None, data is split in a stratified fashion, using this as\n",
      "    the class labels.\n",
      "    Read more in the :ref:`User Guide <stratification>`.\n",
      "\n",
      "Returns\n",
      "-------\n",
      "splitting : list, length=2 * len(arrays)\n",
      "    List containing train-test split of inputs.\n",
      "\n",
      "    .. versionadded:: 0.16\n",
      "        If the input is sparse, the output will be a\n",
      "        ``scipy.sparse.csr_matrix``. Else, output type is the same as the\n",
      "        input type.\n",
      "\n",
      "Examples\n",
      "--------\n",
      ">>> import numpy as np\n",
      ">>> from sklearn.model_selection import train_test_split\n",
      ">>> X, y = np.arange(10).reshape((5, 2)), range(5)\n",
      ">>> X\n",
      "array([[0, 1],\n",
      "       [2, 3],\n",
      "       [4, 5],\n",
      "       [6, 7],\n",
      "       [8, 9]])\n",
      ">>> list(y)\n",
      "[0, 1, 2, 3, 4]\n",
      "\n",
      ">>> X_train, X_test, y_train, y_test = train_test_split(\n",
      "...     X, y, test_size=0.33, random_state=42)\n",
      "...\n",
      ">>> X_train\n",
      "array([[4, 5],\n",
      "       [0, 1],\n",
      "       [6, 7]])\n",
      ">>> y_train\n",
      "[2, 0, 3]\n",
      ">>> X_test\n",
      "array([[2, 3],\n",
      "       [8, 9]])\n",
      ">>> y_test\n",
      "[1, 4]\n",
      "\n",
      ">>> train_test_split(y, shuffle=False)\n",
      "[[0, 1, 2], [3, 4]]\n",
      "\u001b[31mFile:\u001b[39m      ~/.local/lib/python3.12/site-packages/sklearn/model_selection/_split.py\n",
      "\u001b[31mType:\u001b[39m      function"
     ]
    }
   ],
   "source": [
    "train_test_split?"
   ]
  },
  {
   "cell_type": "code",
   "execution_count": 214,
   "id": "2762e5a3",
   "metadata": {},
   "outputs": [],
   "source": [
    "full_train, test = train_test_split(df, test_size= 0.2, random_state=1)\n",
    "train, val = train_test_split(full_train, test_size = 0.25, random_state = 1)\n"
   ]
  },
  {
   "cell_type": "code",
   "execution_count": 215,
   "id": "1607201a",
   "metadata": {},
   "outputs": [
    {
     "data": {
      "text/plain": [
       "(4225, 1409, 5634, 1409)"
      ]
     },
     "execution_count": 215,
     "metadata": {},
     "output_type": "execute_result"
    }
   ],
   "source": [
    "len(train), len(val), len(full_train), len(test)"
   ]
  },
  {
   "cell_type": "code",
   "execution_count": 216,
   "id": "2a8c5ff6",
   "metadata": {},
   "outputs": [
    {
     "data": {
      "application/vnd.microsoft.datawrangler.viewer.v0+json": {
       "columns": [
        {
         "name": "index",
         "rawType": "int64",
         "type": "integer"
        },
        {
         "name": "customerid",
         "rawType": "object",
         "type": "string"
        },
        {
         "name": "gender",
         "rawType": "object",
         "type": "string"
        },
        {
         "name": "seniorcitizen",
         "rawType": "int64",
         "type": "integer"
        },
        {
         "name": "partner",
         "rawType": "object",
         "type": "string"
        },
        {
         "name": "dependents",
         "rawType": "object",
         "type": "string"
        },
        {
         "name": "tenure",
         "rawType": "int64",
         "type": "integer"
        },
        {
         "name": "phoneservice",
         "rawType": "object",
         "type": "string"
        },
        {
         "name": "multiplelines",
         "rawType": "object",
         "type": "string"
        },
        {
         "name": "internetservice",
         "rawType": "object",
         "type": "string"
        },
        {
         "name": "onlinesecurity",
         "rawType": "object",
         "type": "string"
        },
        {
         "name": "onlinebackup",
         "rawType": "object",
         "type": "string"
        },
        {
         "name": "deviceprotection",
         "rawType": "object",
         "type": "string"
        },
        {
         "name": "techsupport",
         "rawType": "object",
         "type": "string"
        },
        {
         "name": "streamingtv",
         "rawType": "object",
         "type": "string"
        },
        {
         "name": "streamingmovies",
         "rawType": "object",
         "type": "string"
        },
        {
         "name": "contract",
         "rawType": "object",
         "type": "string"
        },
        {
         "name": "paperlessbilling",
         "rawType": "object",
         "type": "string"
        },
        {
         "name": "paymentmethod",
         "rawType": "object",
         "type": "string"
        },
        {
         "name": "monthlycharges",
         "rawType": "float64",
         "type": "float"
        },
        {
         "name": "totalcharges",
         "rawType": "object",
         "type": "string"
        },
        {
         "name": "churn",
         "rawType": "int64",
         "type": "integer"
        }
       ],
       "ref": "ff733b4f-51b0-42fe-82f6-32dfabe6dd80",
       "rows": [
        [
         "3897",
         "8015-ihcgw",
         "female",
         "0",
         "yes",
         "yes",
         "72",
         "yes",
         "yes",
         "fiber_optic",
         "yes",
         "yes",
         "yes",
         "yes",
         "yes",
         "yes",
         "two_year",
         "yes",
         "electronic_check",
         "115.5",
         "8425.15",
         "0"
        ],
        [
         "1980",
         "1960-uycnn",
         "male",
         "0",
         "no",
         "no",
         "10",
         "yes",
         "yes",
         "fiber_optic",
         "no",
         "yes",
         "yes",
         "no",
         "no",
         "yes",
         "month-to-month",
         "yes",
         "electronic_check",
         "95.25",
         "1021.55",
         "0"
        ],
        [
         "6302",
         "9250-wypll",
         "female",
         "0",
         "no",
         "no",
         "5",
         "yes",
         "yes",
         "fiber_optic",
         "no",
         "no",
         "no",
         "no",
         "no",
         "no",
         "month-to-month",
         "no",
         "electronic_check",
         "75.55",
         "413.65",
         "1"
        ],
        [
         "727",
         "6786-obwqr",
         "female",
         "0",
         "yes",
         "yes",
         "5",
         "yes",
         "no",
         "fiber_optic",
         "no",
         "no",
         "no",
         "no",
         "yes",
         "no",
         "month-to-month",
         "yes",
         "electronic_check",
         "80.85",
         "356.1",
         "0"
        ],
        [
         "5104",
         "1328-euzhc",
         "female",
         "0",
         "yes",
         "no",
         "18",
         "yes",
         "no",
         "no",
         "no_internet_service",
         "no_internet_service",
         "no_internet_service",
         "no_internet_service",
         "no_internet_service",
         "no_internet_service",
         "two_year",
         "no",
         "mailed_check",
         "20.1",
         "370.5",
         "0"
        ]
       ],
       "shape": {
        "columns": 21,
        "rows": 5
       }
      },
      "text/html": [
       "<div>\n",
       "<style scoped>\n",
       "    .dataframe tbody tr th:only-of-type {\n",
       "        vertical-align: middle;\n",
       "    }\n",
       "\n",
       "    .dataframe tbody tr th {\n",
       "        vertical-align: top;\n",
       "    }\n",
       "\n",
       "    .dataframe thead th {\n",
       "        text-align: right;\n",
       "    }\n",
       "</style>\n",
       "<table border=\"1\" class=\"dataframe\">\n",
       "  <thead>\n",
       "    <tr style=\"text-align: right;\">\n",
       "      <th></th>\n",
       "      <th>customerid</th>\n",
       "      <th>gender</th>\n",
       "      <th>seniorcitizen</th>\n",
       "      <th>partner</th>\n",
       "      <th>dependents</th>\n",
       "      <th>tenure</th>\n",
       "      <th>phoneservice</th>\n",
       "      <th>multiplelines</th>\n",
       "      <th>internetservice</th>\n",
       "      <th>onlinesecurity</th>\n",
       "      <th>...</th>\n",
       "      <th>deviceprotection</th>\n",
       "      <th>techsupport</th>\n",
       "      <th>streamingtv</th>\n",
       "      <th>streamingmovies</th>\n",
       "      <th>contract</th>\n",
       "      <th>paperlessbilling</th>\n",
       "      <th>paymentmethod</th>\n",
       "      <th>monthlycharges</th>\n",
       "      <th>totalcharges</th>\n",
       "      <th>churn</th>\n",
       "    </tr>\n",
       "  </thead>\n",
       "  <tbody>\n",
       "    <tr>\n",
       "      <th>3897</th>\n",
       "      <td>8015-ihcgw</td>\n",
       "      <td>female</td>\n",
       "      <td>0</td>\n",
       "      <td>yes</td>\n",
       "      <td>yes</td>\n",
       "      <td>72</td>\n",
       "      <td>yes</td>\n",
       "      <td>yes</td>\n",
       "      <td>fiber_optic</td>\n",
       "      <td>yes</td>\n",
       "      <td>...</td>\n",
       "      <td>yes</td>\n",
       "      <td>yes</td>\n",
       "      <td>yes</td>\n",
       "      <td>yes</td>\n",
       "      <td>two_year</td>\n",
       "      <td>yes</td>\n",
       "      <td>electronic_check</td>\n",
       "      <td>115.50</td>\n",
       "      <td>8425.15</td>\n",
       "      <td>0</td>\n",
       "    </tr>\n",
       "    <tr>\n",
       "      <th>1980</th>\n",
       "      <td>1960-uycnn</td>\n",
       "      <td>male</td>\n",
       "      <td>0</td>\n",
       "      <td>no</td>\n",
       "      <td>no</td>\n",
       "      <td>10</td>\n",
       "      <td>yes</td>\n",
       "      <td>yes</td>\n",
       "      <td>fiber_optic</td>\n",
       "      <td>no</td>\n",
       "      <td>...</td>\n",
       "      <td>yes</td>\n",
       "      <td>no</td>\n",
       "      <td>no</td>\n",
       "      <td>yes</td>\n",
       "      <td>month-to-month</td>\n",
       "      <td>yes</td>\n",
       "      <td>electronic_check</td>\n",
       "      <td>95.25</td>\n",
       "      <td>1021.55</td>\n",
       "      <td>0</td>\n",
       "    </tr>\n",
       "    <tr>\n",
       "      <th>6302</th>\n",
       "      <td>9250-wypll</td>\n",
       "      <td>female</td>\n",
       "      <td>0</td>\n",
       "      <td>no</td>\n",
       "      <td>no</td>\n",
       "      <td>5</td>\n",
       "      <td>yes</td>\n",
       "      <td>yes</td>\n",
       "      <td>fiber_optic</td>\n",
       "      <td>no</td>\n",
       "      <td>...</td>\n",
       "      <td>no</td>\n",
       "      <td>no</td>\n",
       "      <td>no</td>\n",
       "      <td>no</td>\n",
       "      <td>month-to-month</td>\n",
       "      <td>no</td>\n",
       "      <td>electronic_check</td>\n",
       "      <td>75.55</td>\n",
       "      <td>413.65</td>\n",
       "      <td>1</td>\n",
       "    </tr>\n",
       "    <tr>\n",
       "      <th>727</th>\n",
       "      <td>6786-obwqr</td>\n",
       "      <td>female</td>\n",
       "      <td>0</td>\n",
       "      <td>yes</td>\n",
       "      <td>yes</td>\n",
       "      <td>5</td>\n",
       "      <td>yes</td>\n",
       "      <td>no</td>\n",
       "      <td>fiber_optic</td>\n",
       "      <td>no</td>\n",
       "      <td>...</td>\n",
       "      <td>no</td>\n",
       "      <td>no</td>\n",
       "      <td>yes</td>\n",
       "      <td>no</td>\n",
       "      <td>month-to-month</td>\n",
       "      <td>yes</td>\n",
       "      <td>electronic_check</td>\n",
       "      <td>80.85</td>\n",
       "      <td>356.1</td>\n",
       "      <td>0</td>\n",
       "    </tr>\n",
       "    <tr>\n",
       "      <th>5104</th>\n",
       "      <td>1328-euzhc</td>\n",
       "      <td>female</td>\n",
       "      <td>0</td>\n",
       "      <td>yes</td>\n",
       "      <td>no</td>\n",
       "      <td>18</td>\n",
       "      <td>yes</td>\n",
       "      <td>no</td>\n",
       "      <td>no</td>\n",
       "      <td>no_internet_service</td>\n",
       "      <td>...</td>\n",
       "      <td>no_internet_service</td>\n",
       "      <td>no_internet_service</td>\n",
       "      <td>no_internet_service</td>\n",
       "      <td>no_internet_service</td>\n",
       "      <td>two_year</td>\n",
       "      <td>no</td>\n",
       "      <td>mailed_check</td>\n",
       "      <td>20.10</td>\n",
       "      <td>370.5</td>\n",
       "      <td>0</td>\n",
       "    </tr>\n",
       "  </tbody>\n",
       "</table>\n",
       "<p>5 rows × 21 columns</p>\n",
       "</div>"
      ],
      "text/plain": [
       "      customerid  gender  seniorcitizen partner dependents  tenure  \\\n",
       "3897  8015-ihcgw  female              0     yes        yes      72   \n",
       "1980  1960-uycnn    male              0      no         no      10   \n",
       "6302  9250-wypll  female              0      no         no       5   \n",
       "727   6786-obwqr  female              0     yes        yes       5   \n",
       "5104  1328-euzhc  female              0     yes         no      18   \n",
       "\n",
       "     phoneservice multiplelines internetservice       onlinesecurity  ...  \\\n",
       "3897          yes           yes     fiber_optic                  yes  ...   \n",
       "1980          yes           yes     fiber_optic                   no  ...   \n",
       "6302          yes           yes     fiber_optic                   no  ...   \n",
       "727           yes            no     fiber_optic                   no  ...   \n",
       "5104          yes            no              no  no_internet_service  ...   \n",
       "\n",
       "         deviceprotection          techsupport          streamingtv  \\\n",
       "3897                  yes                  yes                  yes   \n",
       "1980                  yes                   no                   no   \n",
       "6302                   no                   no                   no   \n",
       "727                    no                   no                  yes   \n",
       "5104  no_internet_service  no_internet_service  no_internet_service   \n",
       "\n",
       "          streamingmovies        contract paperlessbilling     paymentmethod  \\\n",
       "3897                  yes        two_year              yes  electronic_check   \n",
       "1980                  yes  month-to-month              yes  electronic_check   \n",
       "6302                   no  month-to-month               no  electronic_check   \n",
       "727                    no  month-to-month              yes  electronic_check   \n",
       "5104  no_internet_service        two_year               no      mailed_check   \n",
       "\n",
       "     monthlycharges  totalcharges churn  \n",
       "3897         115.50       8425.15     0  \n",
       "1980          95.25       1021.55     0  \n",
       "6302          75.55        413.65     1  \n",
       "727           80.85         356.1     0  \n",
       "5104          20.10         370.5     0  \n",
       "\n",
       "[5 rows x 21 columns]"
      ]
     },
     "execution_count": 216,
     "metadata": {},
     "output_type": "execute_result"
    }
   ],
   "source": [
    "\n",
    "train.head()"
   ]
  },
  {
   "cell_type": "code",
   "execution_count": 217,
   "id": "a132b8b6",
   "metadata": {},
   "outputs": [],
   "source": [
    "train = train.reset_index(drop = True)\n",
    "val = val.reset_index(drop = True)\n",
    "test = test.reset_index(drop = True)\n",
    "\n"
   ]
  },
  {
   "cell_type": "code",
   "execution_count": 218,
   "id": "c6fb73c1",
   "metadata": {},
   "outputs": [],
   "source": [
    "# Extracting the target values, that is the churn values\n",
    "\n",
    "y_train = train.churn.values\n",
    "y_val = val.churn.values\n",
    "y_test = test.churn.values\n",
    "\n",
    "del train['churn']\n",
    "del val['churn']\n",
    "del test['churn']\n",
    "\n"
   ]
  },
  {
   "cell_type": "code",
   "execution_count": 29,
   "id": "ea96bd55",
   "metadata": {},
   "outputs": [
    {
     "data": {
      "application/vnd.microsoft.datawrangler.viewer.v0+json": {
       "columns": [
        {
         "name": "index",
         "rawType": "object",
         "type": "string"
        },
        {
         "name": "0",
         "rawType": "object",
         "type": "unknown"
        },
        {
         "name": "1",
         "rawType": "object",
         "type": "unknown"
        },
        {
         "name": "2",
         "rawType": "object",
         "type": "unknown"
        },
        {
         "name": "3",
         "rawType": "object",
         "type": "unknown"
        },
        {
         "name": "4",
         "rawType": "object",
         "type": "unknown"
        }
       ],
       "ref": "49587aa5-7a21-4414-a29d-20fab0c6884c",
       "rows": [
        [
         "customerid",
         "8015-ihcgw",
         "1960-uycnn",
         "9250-wypll",
         "6786-obwqr",
         "1328-euzhc"
        ],
        [
         "gender",
         "female",
         "male",
         "female",
         "female",
         "female"
        ],
        [
         "seniorcitizen",
         "0",
         "0",
         "0",
         "0",
         "0"
        ],
        [
         "partner",
         "yes",
         "no",
         "no",
         "yes",
         "yes"
        ],
        [
         "dependents",
         "yes",
         "no",
         "no",
         "yes",
         "no"
        ],
        [
         "tenure",
         "72",
         "10",
         "5",
         "5",
         "18"
        ],
        [
         "phoneservice",
         "yes",
         "yes",
         "yes",
         "yes",
         "yes"
        ],
        [
         "multiplelines",
         "yes",
         "yes",
         "yes",
         "no",
         "no"
        ],
        [
         "internetservice",
         "fiber_optic",
         "fiber_optic",
         "fiber_optic",
         "fiber_optic",
         "no"
        ],
        [
         "onlinesecurity",
         "yes",
         "no",
         "no",
         "no",
         "no_internet_service"
        ],
        [
         "onlinebackup",
         "yes",
         "yes",
         "no",
         "no",
         "no_internet_service"
        ],
        [
         "deviceprotection",
         "yes",
         "yes",
         "no",
         "no",
         "no_internet_service"
        ],
        [
         "techsupport",
         "yes",
         "no",
         "no",
         "no",
         "no_internet_service"
        ],
        [
         "streamingtv",
         "yes",
         "no",
         "no",
         "yes",
         "no_internet_service"
        ],
        [
         "streamingmovies",
         "yes",
         "yes",
         "no",
         "no",
         "no_internet_service"
        ],
        [
         "contract",
         "two_year",
         "month-to-month",
         "month-to-month",
         "month-to-month",
         "two_year"
        ],
        [
         "paperlessbilling",
         "yes",
         "yes",
         "no",
         "yes",
         "no"
        ],
        [
         "paymentmethod",
         "electronic_check",
         "electronic_check",
         "electronic_check",
         "electronic_check",
         "mailed_check"
        ],
        [
         "monthlycharges",
         "115.5",
         "95.25",
         "75.55",
         "80.85",
         "20.1"
        ],
        [
         "totalcharges",
         "8425.15",
         "1021.55",
         "413.65",
         "356.1",
         "370.5"
        ]
       ],
       "shape": {
        "columns": 5,
        "rows": 20
       }
      },
      "text/html": [
       "<div>\n",
       "<style scoped>\n",
       "    .dataframe tbody tr th:only-of-type {\n",
       "        vertical-align: middle;\n",
       "    }\n",
       "\n",
       "    .dataframe tbody tr th {\n",
       "        vertical-align: top;\n",
       "    }\n",
       "\n",
       "    .dataframe thead th {\n",
       "        text-align: right;\n",
       "    }\n",
       "</style>\n",
       "<table border=\"1\" class=\"dataframe\">\n",
       "  <thead>\n",
       "    <tr style=\"text-align: right;\">\n",
       "      <th></th>\n",
       "      <th>0</th>\n",
       "      <th>1</th>\n",
       "      <th>2</th>\n",
       "      <th>3</th>\n",
       "      <th>4</th>\n",
       "    </tr>\n",
       "  </thead>\n",
       "  <tbody>\n",
       "    <tr>\n",
       "      <th>customerid</th>\n",
       "      <td>8015-ihcgw</td>\n",
       "      <td>1960-uycnn</td>\n",
       "      <td>9250-wypll</td>\n",
       "      <td>6786-obwqr</td>\n",
       "      <td>1328-euzhc</td>\n",
       "    </tr>\n",
       "    <tr>\n",
       "      <th>gender</th>\n",
       "      <td>female</td>\n",
       "      <td>male</td>\n",
       "      <td>female</td>\n",
       "      <td>female</td>\n",
       "      <td>female</td>\n",
       "    </tr>\n",
       "    <tr>\n",
       "      <th>seniorcitizen</th>\n",
       "      <td>0</td>\n",
       "      <td>0</td>\n",
       "      <td>0</td>\n",
       "      <td>0</td>\n",
       "      <td>0</td>\n",
       "    </tr>\n",
       "    <tr>\n",
       "      <th>partner</th>\n",
       "      <td>yes</td>\n",
       "      <td>no</td>\n",
       "      <td>no</td>\n",
       "      <td>yes</td>\n",
       "      <td>yes</td>\n",
       "    </tr>\n",
       "    <tr>\n",
       "      <th>dependents</th>\n",
       "      <td>yes</td>\n",
       "      <td>no</td>\n",
       "      <td>no</td>\n",
       "      <td>yes</td>\n",
       "      <td>no</td>\n",
       "    </tr>\n",
       "    <tr>\n",
       "      <th>tenure</th>\n",
       "      <td>72</td>\n",
       "      <td>10</td>\n",
       "      <td>5</td>\n",
       "      <td>5</td>\n",
       "      <td>18</td>\n",
       "    </tr>\n",
       "    <tr>\n",
       "      <th>phoneservice</th>\n",
       "      <td>yes</td>\n",
       "      <td>yes</td>\n",
       "      <td>yes</td>\n",
       "      <td>yes</td>\n",
       "      <td>yes</td>\n",
       "    </tr>\n",
       "    <tr>\n",
       "      <th>multiplelines</th>\n",
       "      <td>yes</td>\n",
       "      <td>yes</td>\n",
       "      <td>yes</td>\n",
       "      <td>no</td>\n",
       "      <td>no</td>\n",
       "    </tr>\n",
       "    <tr>\n",
       "      <th>internetservice</th>\n",
       "      <td>fiber_optic</td>\n",
       "      <td>fiber_optic</td>\n",
       "      <td>fiber_optic</td>\n",
       "      <td>fiber_optic</td>\n",
       "      <td>no</td>\n",
       "    </tr>\n",
       "    <tr>\n",
       "      <th>onlinesecurity</th>\n",
       "      <td>yes</td>\n",
       "      <td>no</td>\n",
       "      <td>no</td>\n",
       "      <td>no</td>\n",
       "      <td>no_internet_service</td>\n",
       "    </tr>\n",
       "    <tr>\n",
       "      <th>onlinebackup</th>\n",
       "      <td>yes</td>\n",
       "      <td>yes</td>\n",
       "      <td>no</td>\n",
       "      <td>no</td>\n",
       "      <td>no_internet_service</td>\n",
       "    </tr>\n",
       "    <tr>\n",
       "      <th>deviceprotection</th>\n",
       "      <td>yes</td>\n",
       "      <td>yes</td>\n",
       "      <td>no</td>\n",
       "      <td>no</td>\n",
       "      <td>no_internet_service</td>\n",
       "    </tr>\n",
       "    <tr>\n",
       "      <th>techsupport</th>\n",
       "      <td>yes</td>\n",
       "      <td>no</td>\n",
       "      <td>no</td>\n",
       "      <td>no</td>\n",
       "      <td>no_internet_service</td>\n",
       "    </tr>\n",
       "    <tr>\n",
       "      <th>streamingtv</th>\n",
       "      <td>yes</td>\n",
       "      <td>no</td>\n",
       "      <td>no</td>\n",
       "      <td>yes</td>\n",
       "      <td>no_internet_service</td>\n",
       "    </tr>\n",
       "    <tr>\n",
       "      <th>streamingmovies</th>\n",
       "      <td>yes</td>\n",
       "      <td>yes</td>\n",
       "      <td>no</td>\n",
       "      <td>no</td>\n",
       "      <td>no_internet_service</td>\n",
       "    </tr>\n",
       "    <tr>\n",
       "      <th>contract</th>\n",
       "      <td>two_year</td>\n",
       "      <td>month-to-month</td>\n",
       "      <td>month-to-month</td>\n",
       "      <td>month-to-month</td>\n",
       "      <td>two_year</td>\n",
       "    </tr>\n",
       "    <tr>\n",
       "      <th>paperlessbilling</th>\n",
       "      <td>yes</td>\n",
       "      <td>yes</td>\n",
       "      <td>no</td>\n",
       "      <td>yes</td>\n",
       "      <td>no</td>\n",
       "    </tr>\n",
       "    <tr>\n",
       "      <th>paymentmethod</th>\n",
       "      <td>electronic_check</td>\n",
       "      <td>electronic_check</td>\n",
       "      <td>electronic_check</td>\n",
       "      <td>electronic_check</td>\n",
       "      <td>mailed_check</td>\n",
       "    </tr>\n",
       "    <tr>\n",
       "      <th>monthlycharges</th>\n",
       "      <td>115.5</td>\n",
       "      <td>95.25</td>\n",
       "      <td>75.55</td>\n",
       "      <td>80.85</td>\n",
       "      <td>20.1</td>\n",
       "    </tr>\n",
       "    <tr>\n",
       "      <th>totalcharges</th>\n",
       "      <td>8425.15</td>\n",
       "      <td>1021.55</td>\n",
       "      <td>413.65</td>\n",
       "      <td>356.1</td>\n",
       "      <td>370.5</td>\n",
       "    </tr>\n",
       "  </tbody>\n",
       "</table>\n",
       "</div>"
      ],
      "text/plain": [
       "                                 0                 1                 2  \\\n",
       "customerid              8015-ihcgw        1960-uycnn        9250-wypll   \n",
       "gender                      female              male            female   \n",
       "seniorcitizen                    0                 0                 0   \n",
       "partner                        yes                no                no   \n",
       "dependents                     yes                no                no   \n",
       "tenure                          72                10                 5   \n",
       "phoneservice                   yes               yes               yes   \n",
       "multiplelines                  yes               yes               yes   \n",
       "internetservice        fiber_optic       fiber_optic       fiber_optic   \n",
       "onlinesecurity                 yes                no                no   \n",
       "onlinebackup                   yes               yes                no   \n",
       "deviceprotection               yes               yes                no   \n",
       "techsupport                    yes                no                no   \n",
       "streamingtv                    yes                no                no   \n",
       "streamingmovies                yes               yes                no   \n",
       "contract                  two_year    month-to-month    month-to-month   \n",
       "paperlessbilling               yes               yes                no   \n",
       "paymentmethod     electronic_check  electronic_check  electronic_check   \n",
       "monthlycharges               115.5             95.25             75.55   \n",
       "totalcharges               8425.15           1021.55            413.65   \n",
       "\n",
       "                                 3                    4  \n",
       "customerid              6786-obwqr           1328-euzhc  \n",
       "gender                      female               female  \n",
       "seniorcitizen                    0                    0  \n",
       "partner                        yes                  yes  \n",
       "dependents                     yes                   no  \n",
       "tenure                           5                   18  \n",
       "phoneservice                   yes                  yes  \n",
       "multiplelines                   no                   no  \n",
       "internetservice        fiber_optic                   no  \n",
       "onlinesecurity                  no  no_internet_service  \n",
       "onlinebackup                    no  no_internet_service  \n",
       "deviceprotection                no  no_internet_service  \n",
       "techsupport                     no  no_internet_service  \n",
       "streamingtv                    yes  no_internet_service  \n",
       "streamingmovies                 no  no_internet_service  \n",
       "contract            month-to-month             two_year  \n",
       "paperlessbilling               yes                   no  \n",
       "paymentmethod     electronic_check         mailed_check  \n",
       "monthlycharges               80.85                 20.1  \n",
       "totalcharges                 356.1                370.5  "
      ]
     },
     "execution_count": 29,
     "metadata": {},
     "output_type": "execute_result"
    }
   ],
   "source": [
    "train.head().T"
   ]
  },
  {
   "cell_type": "code",
   "execution_count": 30,
   "id": "4b601a21",
   "metadata": {},
   "outputs": [
    {
     "data": {
      "application/vnd.microsoft.datawrangler.viewer.v0+json": {
       "columns": [
        {
         "name": "index",
         "rawType": "int64",
         "type": "integer"
        },
        {
         "name": "customerid",
         "rawType": "object",
         "type": "string"
        },
        {
         "name": "gender",
         "rawType": "object",
         "type": "string"
        },
        {
         "name": "seniorcitizen",
         "rawType": "int64",
         "type": "integer"
        },
        {
         "name": "partner",
         "rawType": "object",
         "type": "string"
        },
        {
         "name": "dependents",
         "rawType": "object",
         "type": "string"
        },
        {
         "name": "tenure",
         "rawType": "int64",
         "type": "integer"
        },
        {
         "name": "phoneservice",
         "rawType": "object",
         "type": "string"
        },
        {
         "name": "multiplelines",
         "rawType": "object",
         "type": "string"
        },
        {
         "name": "internetservice",
         "rawType": "object",
         "type": "string"
        },
        {
         "name": "onlinesecurity",
         "rawType": "object",
         "type": "string"
        },
        {
         "name": "onlinebackup",
         "rawType": "object",
         "type": "string"
        },
        {
         "name": "deviceprotection",
         "rawType": "object",
         "type": "string"
        },
        {
         "name": "techsupport",
         "rawType": "object",
         "type": "string"
        },
        {
         "name": "streamingtv",
         "rawType": "object",
         "type": "string"
        },
        {
         "name": "streamingmovies",
         "rawType": "object",
         "type": "string"
        },
        {
         "name": "contract",
         "rawType": "object",
         "type": "string"
        },
        {
         "name": "paperlessbilling",
         "rawType": "object",
         "type": "string"
        },
        {
         "name": "paymentmethod",
         "rawType": "object",
         "type": "string"
        },
        {
         "name": "monthlycharges",
         "rawType": "float64",
         "type": "float"
        },
        {
         "name": "totalcharges",
         "rawType": "object",
         "type": "string"
        }
       ],
       "ref": "acafa438-03e4-4ce2-8746-09cf9c0ffa7c",
       "rows": [
        [
         "0",
         "8015-ihcgw",
         "female",
         "0",
         "yes",
         "yes",
         "72",
         "yes",
         "yes",
         "fiber_optic",
         "yes",
         "yes",
         "yes",
         "yes",
         "yes",
         "yes",
         "two_year",
         "yes",
         "electronic_check",
         "115.5",
         "8425.15"
        ],
        [
         "1",
         "1960-uycnn",
         "male",
         "0",
         "no",
         "no",
         "10",
         "yes",
         "yes",
         "fiber_optic",
         "no",
         "yes",
         "yes",
         "no",
         "no",
         "yes",
         "month-to-month",
         "yes",
         "electronic_check",
         "95.25",
         "1021.55"
        ],
        [
         "2",
         "9250-wypll",
         "female",
         "0",
         "no",
         "no",
         "5",
         "yes",
         "yes",
         "fiber_optic",
         "no",
         "no",
         "no",
         "no",
         "no",
         "no",
         "month-to-month",
         "no",
         "electronic_check",
         "75.55",
         "413.65"
        ],
        [
         "3",
         "6786-obwqr",
         "female",
         "0",
         "yes",
         "yes",
         "5",
         "yes",
         "no",
         "fiber_optic",
         "no",
         "no",
         "no",
         "no",
         "yes",
         "no",
         "month-to-month",
         "yes",
         "electronic_check",
         "80.85",
         "356.1"
        ],
        [
         "4",
         "1328-euzhc",
         "female",
         "0",
         "yes",
         "no",
         "18",
         "yes",
         "no",
         "no",
         "no_internet_service",
         "no_internet_service",
         "no_internet_service",
         "no_internet_service",
         "no_internet_service",
         "no_internet_service",
         "two_year",
         "no",
         "mailed_check",
         "20.1",
         "370.5"
        ],
        [
         "5",
         "8676-ooqej",
         "male",
         "0",
         "no",
         "no",
         "4",
         "no",
         "no_phone_service",
         "dsl",
         "no",
         "no",
         "no",
         "yes",
         "no",
         "no",
         "month-to-month",
         "no",
         "electronic_check",
         "30.5",
         "118.4"
        ],
        [
         "6",
         "1452-voqch",
         "male",
         "0",
         "no",
         "no",
         "1",
         "yes",
         "yes",
         "fiber_optic",
         "no",
         "no",
         "no",
         "no",
         "no",
         "no",
         "month-to-month",
         "yes",
         "electronic_check",
         "75.1",
         "75.1"
        ],
        [
         "7",
         "6653-cbbom",
         "female",
         "0",
         "no",
         "no",
         "1",
         "yes",
         "no",
         "fiber_optic",
         "no",
         "no",
         "no",
         "no",
         "no",
         "no",
         "month-to-month",
         "yes",
         "electronic_check",
         "70.3",
         "70.3"
        ],
        [
         "8",
         "5893-kclgt",
         "female",
         "0",
         "no",
         "yes",
         "72",
         "yes",
         "no",
         "no",
         "no_internet_service",
         "no_internet_service",
         "no_internet_service",
         "no_internet_service",
         "no_internet_service",
         "no_internet_service",
         "two_year",
         "yes",
         "mailed_check",
         "19.75",
         "1567"
        ],
        [
         "9",
         "3992-ywpko",
         "female",
         "0",
         "no",
         "no",
         "6",
         "yes",
         "yes",
         "fiber_optic",
         "no",
         "yes",
         "yes",
         "yes",
         "yes",
         "yes",
         "month-to-month",
         "yes",
         "credit_card_(automatic)",
         "109.9",
         "669.45"
        ],
        [
         "10",
         "6234-raapl",
         "female",
         "0",
         "yes",
         "yes",
         "72",
         "yes",
         "yes",
         "fiber_optic",
         "yes",
         "yes",
         "no",
         "yes",
         "yes",
         "no",
         "two_year",
         "no",
         "bank_transfer_(automatic)",
         "99.9",
         "7251.7"
        ],
        [
         "11",
         "0365-bzuwy",
         "male",
         "0",
         "yes",
         "no",
         "17",
         "yes",
         "yes",
         "fiber_optic",
         "no",
         "yes",
         "yes",
         "no",
         "yes",
         "yes",
         "month-to-month",
         "yes",
         "electronic_check",
         "102.55",
         "1742.5"
        ],
        [
         "12",
         "9795-shuhb",
         "female",
         "0",
         "yes",
         "yes",
         "66",
         "yes",
         "no",
         "dsl",
         "yes",
         "yes",
         "no",
         "yes",
         "no",
         "no",
         "two_year",
         "yes",
         "credit_card_(automatic)",
         "58.2",
         "3810.8"
        ],
        [
         "13",
         "6993-ohlxr",
         "female",
         "0",
         "no",
         "no",
         "2",
         "yes",
         "no",
         "fiber_optic",
         "no",
         "no",
         "no",
         "no",
         "no",
         "no",
         "month-to-month",
         "no",
         "electronic_check",
         "68.95",
         "119.75"
        ],
        [
         "14",
         "4397-frlta",
         "female",
         "0",
         "no",
         "no",
         "4",
         "yes",
         "no",
         "no",
         "no_internet_service",
         "no_internet_service",
         "no_internet_service",
         "no_internet_service",
         "no_internet_service",
         "no_internet_service",
         "month-to-month",
         "no",
         "mailed_check",
         "20.15",
         "84.5"
        ],
        [
         "15",
         "0734-oxwbt",
         "male",
         "0",
         "no",
         "yes",
         "3",
         "yes",
         "no",
         "dsl",
         "no",
         "no",
         "no",
         "yes",
         "yes",
         "yes",
         "month-to-month",
         "no",
         "mailed_check",
         "70.7",
         "225.65"
        ],
        [
         "16",
         "7602-dbtou",
         "female",
         "0",
         "yes",
         "no",
         "71",
         "yes",
         "no",
         "no",
         "no_internet_service",
         "no_internet_service",
         "no_internet_service",
         "no_internet_service",
         "no_internet_service",
         "no_internet_service",
         "two_year",
         "no",
         "mailed_check",
         "19.6",
         "1416.5"
        ],
        [
         "17",
         "8189-xrike",
         "female",
         "1",
         "no",
         "no",
         "32",
         "yes",
         "no",
         "fiber_optic",
         "no",
         "no",
         "no",
         "no",
         "yes",
         "yes",
         "month-to-month",
         "no",
         "electronic_check",
         "90.95",
         "2897.95"
        ],
        [
         "18",
         "3567-pqtso",
         "male",
         "0",
         "yes",
         "yes",
         "53",
         "yes",
         "yes",
         "fiber_optic",
         "no",
         "yes",
         "yes",
         "no",
         "yes",
         "yes",
         "one_year",
         "yes",
         "electronic_check",
         "105.25",
         "5576.3"
        ],
        [
         "19",
         "2530-fmfxo",
         "male",
         "0",
         "yes",
         "yes",
         "56",
         "yes",
         "yes",
         "fiber_optic",
         "no",
         "no",
         "yes",
         "yes",
         "yes",
         "yes",
         "two_year",
         "yes",
         "electronic_check",
         "103.2",
         "5873.75"
        ],
        [
         "20",
         "8535-sfutn",
         "male",
         "0",
         "no",
         "no",
         "61",
         "yes",
         "yes",
         "fiber_optic",
         "yes",
         "no",
         "yes",
         "no",
         "yes",
         "yes",
         "month-to-month",
         "yes",
         "electronic_check",
         "106.45",
         "6300.15"
        ],
        [
         "21",
         "3926-yzvvx",
         "female",
         "0",
         "no",
         "no",
         "41",
         "yes",
         "no",
         "dsl",
         "no",
         "no",
         "no",
         "yes",
         "no",
         "no",
         "one_year",
         "no",
         "bank_transfer_(automatic)",
         "50.05",
         "2029.05"
        ],
        [
         "22",
         "4847-qnoka",
         "female",
         "0",
         "no",
         "no",
         "1",
         "yes",
         "no",
         "dsl",
         "no",
         "no",
         "no",
         "no",
         "no",
         "no",
         "month-to-month",
         "yes",
         "bank_transfer_(automatic)",
         "44.9",
         "44.9"
        ],
        [
         "23",
         "2710-wyvxg",
         "female",
         "0",
         "no",
         "no",
         "3",
         "yes",
         "no",
         "dsl",
         "yes",
         "yes",
         "no",
         "yes",
         "no",
         "yes",
         "two_year",
         "no",
         "mailed_check",
         "71.1",
         "213.35"
        ],
        [
         "24",
         "5567-wsele",
         "male",
         "1",
         "yes",
         "no",
         "3",
         "yes",
         "yes",
         "fiber_optic",
         "no",
         "no",
         "no",
         "no",
         "yes",
         "yes",
         "month-to-month",
         "yes",
         "electronic_check",
         "94.6",
         "279.55"
        ],
        [
         "25",
         "6828-hmkwp",
         "male",
         "0",
         "yes",
         "yes",
         "12",
         "yes",
         "no",
         "no",
         "no_internet_service",
         "no_internet_service",
         "no_internet_service",
         "no_internet_service",
         "no_internet_service",
         "no_internet_service",
         "two_year",
         "no",
         "bank_transfer_(automatic)",
         "21.05",
         "262.05"
        ],
        [
         "26",
         "5312-uxesg",
         "female",
         "0",
         "no",
         "no",
         "41",
         "yes",
         "yes",
         "fiber_optic",
         "no",
         "no",
         "yes",
         "no",
         "yes",
         "yes",
         "month-to-month",
         "no",
         "bank_transfer_(automatic)",
         "98.05",
         "3990.6"
        ],
        [
         "27",
         "7248-vzqlc",
         "female",
         "1",
         "no",
         "no",
         "47",
         "yes",
         "yes",
         "fiber_optic",
         "no",
         "yes",
         "yes",
         "no",
         "no",
         "no",
         "month-to-month",
         "yes",
         "bank_transfer_(automatic)",
         "85.2",
         "3969.35"
        ],
        [
         "28",
         "2342-ckiao",
         "female",
         "0",
         "no",
         "no",
         "2",
         "yes",
         "no",
         "no",
         "no_internet_service",
         "no_internet_service",
         "no_internet_service",
         "no_internet_service",
         "no_internet_service",
         "no_internet_service",
         "month-to-month",
         "no",
         "mailed_check",
         "20.3",
         "41.2"
        ],
        [
         "29",
         "8016-zmgmo",
         "female",
         "1",
         "yes",
         "no",
         "66",
         "yes",
         "yes",
         "dsl",
         "no",
         "yes",
         "yes",
         "no",
         "yes",
         "no",
         "one_year",
         "yes",
         "bank_transfer_(automatic)",
         "70.85",
         "4738.85"
        ],
        [
         "30",
         "7318-eivko",
         "male",
         "0",
         "no",
         "no",
         "8",
         "yes",
         "yes",
         "dsl",
         "no",
         "no",
         "no",
         "no",
         "yes",
         "no",
         "month-to-month",
         "yes",
         "electronic_check",
         "59.25",
         "436.6"
        ],
        [
         "31",
         "2369-fevno",
         "male",
         "0",
         "no",
         "no",
         "1",
         "yes",
         "no",
         "no",
         "no_internet_service",
         "no_internet_service",
         "no_internet_service",
         "no_internet_service",
         "no_internet_service",
         "no_internet_service",
         "month-to-month",
         "yes",
         "mailed_check",
         "19.9",
         "19.9"
        ],
        [
         "32",
         "2877-vduer",
         "female",
         "0",
         "yes",
         "yes",
         "35",
         "no",
         "no_phone_service",
         "dsl",
         "no",
         "no",
         "no",
         "yes",
         "yes",
         "no",
         "one_year",
         "no",
         "mailed_check",
         "40.9",
         "1383.6"
        ],
        [
         "33",
         "5481-ntdoh",
         "female",
         "1",
         "yes",
         "no",
         "67",
         "yes",
         "yes",
         "fiber_optic",
         "yes",
         "no",
         "yes",
         "no",
         "yes",
         "yes",
         "one_year",
         "yes",
         "credit_card_(automatic)",
         "107.05",
         "7142.5"
        ],
        [
         "34",
         "5868-czjdr",
         "male",
         "0",
         "no",
         "yes",
         "1",
         "no",
         "no_phone_service",
         "dsl",
         "no",
         "yes",
         "no",
         "no",
         "no",
         "no",
         "month-to-month",
         "yes",
         "mailed_check",
         "31.35",
         "31.35"
        ],
        [
         "35",
         "7047-fweya",
         "female",
         "0",
         "yes",
         "no",
         "46",
         "yes",
         "yes",
         "fiber_optic",
         "no",
         "yes",
         "no",
         "yes",
         "yes",
         "yes",
         "one_year",
         "yes",
         "electronic_check",
         "103.15",
         "4594.65"
        ],
        [
         "36",
         "2402-tairz",
         "female",
         "0",
         "no",
         "no",
         "37",
         "yes",
         "no",
         "fiber_optic",
         "no",
         "yes",
         "yes",
         "no",
         "no",
         "no",
         "one_year",
         "no",
         "electronic_check",
         "80.05",
         "3019.1"
        ],
        [
         "37",
         "1951-ieyxm",
         "male",
         "0",
         "yes",
         "yes",
         "72",
         "yes",
         "yes",
         "dsl",
         "yes",
         "yes",
         "yes",
         "yes",
         "yes",
         "yes",
         "two_year",
         "yes",
         "credit_card_(automatic)",
         "90.6",
         "6441.85"
        ],
        [
         "38",
         "1596-bbvtg",
         "male",
         "0",
         "no",
         "no",
         "35",
         "yes",
         "yes",
         "fiber_optic",
         "no",
         "no",
         "no",
         "no",
         "no",
         "no",
         "month-to-month",
         "no",
         "credit_card_(automatic)",
         "75.35",
         "2636.05"
        ],
        [
         "39",
         "4760-thgot",
         "female",
         "0",
         "yes",
         "no",
         "43",
         "yes",
         "yes",
         "fiber_optic",
         "yes",
         "yes",
         "no",
         "no",
         "no",
         "yes",
         "month-to-month",
         "yes",
         "electronic_check",
         "94.1",
         "4107.3"
        ],
        [
         "40",
         "0519-drgti",
         "female",
         "0",
         "yes",
         "yes",
         "20",
         "yes",
         "no",
         "no",
         "no_internet_service",
         "no_internet_service",
         "no_internet_service",
         "no_internet_service",
         "no_internet_service",
         "no_internet_service",
         "month-to-month",
         "no",
         "mailed_check",
         "20.35",
         "442.6"
        ],
        [
         "41",
         "2250-ivbwa",
         "male",
         "0",
         "yes",
         "yes",
         "64",
         "yes",
         "no",
         "fiber_optic",
         "yes",
         "yes",
         "no",
         "no",
         "no",
         "no",
         "month-to-month",
         "no",
         "electronic_check",
         "81.05",
         "5135.35"
        ],
        [
         "42",
         "2235-dwlju",
         "female",
         "1",
         "no",
         "no",
         "6",
         "no",
         "no_phone_service",
         "dsl",
         "no",
         "no",
         "no",
         "no",
         "yes",
         "yes",
         "month-to-month",
         "yes",
         "electronic_check",
         "44.4",
         "263.05"
        ],
        [
         "43",
         "1750-cskkm",
         "male",
         "0",
         "no",
         "yes",
         "9",
         "yes",
         "no",
         "dsl",
         "no",
         "no",
         "no",
         "no",
         "yes",
         "no",
         "month-to-month",
         "no",
         "electronic_check",
         "55.35",
         "449.75"
        ],
        [
         "44",
         "6791-ybnak",
         "male",
         "0",
         "yes",
         "yes",
         "18",
         "no",
         "no_phone_service",
         "dsl",
         "no",
         "no",
         "no",
         "no",
         "no",
         "no",
         "month-to-month",
         "no",
         "credit_card_(automatic)",
         "25.55",
         "467.85"
        ],
        [
         "45",
         "1370-ggawx",
         "female",
         "0",
         "no",
         "no",
         "46",
         "yes",
         "yes",
         "fiber_optic",
         "no",
         "yes",
         "yes",
         "no",
         "no",
         "yes",
         "one_year",
         "yes",
         "electronic_check",
         "94.15",
         "4408.45"
        ],
        [
         "46",
         "1304-bccfo",
         "male",
         "0",
         "yes",
         "no",
         "9",
         "yes",
         "no",
         "dsl",
         "no",
         "no",
         "yes",
         "no",
         "yes",
         "yes",
         "month-to-month",
         "yes",
         "mailed_check",
         "70.05",
         "564.4"
        ],
        [
         "47",
         "7673-bqgku",
         "female",
         "0",
         "yes",
         "yes",
         "69",
         "yes",
         "no",
         "no",
         "no_internet_service",
         "no_internet_service",
         "no_internet_service",
         "no_internet_service",
         "no_internet_service",
         "no_internet_service",
         "two_year",
         "no",
         "bank_transfer_(automatic)",
         "20.15",
         "1337.5"
        ],
        [
         "48",
         "2171-udmfd",
         "male",
         "0",
         "yes",
         "yes",
         "32",
         "yes",
         "no",
         "no",
         "no_internet_service",
         "no_internet_service",
         "no_internet_service",
         "no_internet_service",
         "no_internet_service",
         "no_internet_service",
         "month-to-month",
         "yes",
         "credit_card_(automatic)",
         "19.45",
         "674.55"
        ],
        [
         "49",
         "8311-ueuab",
         "female",
         "0",
         "yes",
         "yes",
         "67",
         "yes",
         "yes",
         "dsl",
         "yes",
         "no",
         "no",
         "no",
         "yes",
         "yes",
         "two_year",
         "yes",
         "electronic_check",
         "75.5",
         "5229.45"
        ]
       ],
       "shape": {
        "columns": 20,
        "rows": 4225
       }
      },
      "text/html": [
       "<div>\n",
       "<style scoped>\n",
       "    .dataframe tbody tr th:only-of-type {\n",
       "        vertical-align: middle;\n",
       "    }\n",
       "\n",
       "    .dataframe tbody tr th {\n",
       "        vertical-align: top;\n",
       "    }\n",
       "\n",
       "    .dataframe thead th {\n",
       "        text-align: right;\n",
       "    }\n",
       "</style>\n",
       "<table border=\"1\" class=\"dataframe\">\n",
       "  <thead>\n",
       "    <tr style=\"text-align: right;\">\n",
       "      <th></th>\n",
       "      <th>customerid</th>\n",
       "      <th>gender</th>\n",
       "      <th>seniorcitizen</th>\n",
       "      <th>partner</th>\n",
       "      <th>dependents</th>\n",
       "      <th>tenure</th>\n",
       "      <th>phoneservice</th>\n",
       "      <th>multiplelines</th>\n",
       "      <th>internetservice</th>\n",
       "      <th>onlinesecurity</th>\n",
       "      <th>onlinebackup</th>\n",
       "      <th>deviceprotection</th>\n",
       "      <th>techsupport</th>\n",
       "      <th>streamingtv</th>\n",
       "      <th>streamingmovies</th>\n",
       "      <th>contract</th>\n",
       "      <th>paperlessbilling</th>\n",
       "      <th>paymentmethod</th>\n",
       "      <th>monthlycharges</th>\n",
       "      <th>totalcharges</th>\n",
       "    </tr>\n",
       "  </thead>\n",
       "  <tbody>\n",
       "    <tr>\n",
       "      <th>0</th>\n",
       "      <td>8015-ihcgw</td>\n",
       "      <td>female</td>\n",
       "      <td>0</td>\n",
       "      <td>yes</td>\n",
       "      <td>yes</td>\n",
       "      <td>72</td>\n",
       "      <td>yes</td>\n",
       "      <td>yes</td>\n",
       "      <td>fiber_optic</td>\n",
       "      <td>yes</td>\n",
       "      <td>yes</td>\n",
       "      <td>yes</td>\n",
       "      <td>yes</td>\n",
       "      <td>yes</td>\n",
       "      <td>yes</td>\n",
       "      <td>two_year</td>\n",
       "      <td>yes</td>\n",
       "      <td>electronic_check</td>\n",
       "      <td>115.50</td>\n",
       "      <td>8425.15</td>\n",
       "    </tr>\n",
       "    <tr>\n",
       "      <th>1</th>\n",
       "      <td>1960-uycnn</td>\n",
       "      <td>male</td>\n",
       "      <td>0</td>\n",
       "      <td>no</td>\n",
       "      <td>no</td>\n",
       "      <td>10</td>\n",
       "      <td>yes</td>\n",
       "      <td>yes</td>\n",
       "      <td>fiber_optic</td>\n",
       "      <td>no</td>\n",
       "      <td>yes</td>\n",
       "      <td>yes</td>\n",
       "      <td>no</td>\n",
       "      <td>no</td>\n",
       "      <td>yes</td>\n",
       "      <td>month-to-month</td>\n",
       "      <td>yes</td>\n",
       "      <td>electronic_check</td>\n",
       "      <td>95.25</td>\n",
       "      <td>1021.55</td>\n",
       "    </tr>\n",
       "    <tr>\n",
       "      <th>2</th>\n",
       "      <td>9250-wypll</td>\n",
       "      <td>female</td>\n",
       "      <td>0</td>\n",
       "      <td>no</td>\n",
       "      <td>no</td>\n",
       "      <td>5</td>\n",
       "      <td>yes</td>\n",
       "      <td>yes</td>\n",
       "      <td>fiber_optic</td>\n",
       "      <td>no</td>\n",
       "      <td>no</td>\n",
       "      <td>no</td>\n",
       "      <td>no</td>\n",
       "      <td>no</td>\n",
       "      <td>no</td>\n",
       "      <td>month-to-month</td>\n",
       "      <td>no</td>\n",
       "      <td>electronic_check</td>\n",
       "      <td>75.55</td>\n",
       "      <td>413.65</td>\n",
       "    </tr>\n",
       "    <tr>\n",
       "      <th>3</th>\n",
       "      <td>6786-obwqr</td>\n",
       "      <td>female</td>\n",
       "      <td>0</td>\n",
       "      <td>yes</td>\n",
       "      <td>yes</td>\n",
       "      <td>5</td>\n",
       "      <td>yes</td>\n",
       "      <td>no</td>\n",
       "      <td>fiber_optic</td>\n",
       "      <td>no</td>\n",
       "      <td>no</td>\n",
       "      <td>no</td>\n",
       "      <td>no</td>\n",
       "      <td>yes</td>\n",
       "      <td>no</td>\n",
       "      <td>month-to-month</td>\n",
       "      <td>yes</td>\n",
       "      <td>electronic_check</td>\n",
       "      <td>80.85</td>\n",
       "      <td>356.1</td>\n",
       "    </tr>\n",
       "    <tr>\n",
       "      <th>4</th>\n",
       "      <td>1328-euzhc</td>\n",
       "      <td>female</td>\n",
       "      <td>0</td>\n",
       "      <td>yes</td>\n",
       "      <td>no</td>\n",
       "      <td>18</td>\n",
       "      <td>yes</td>\n",
       "      <td>no</td>\n",
       "      <td>no</td>\n",
       "      <td>no_internet_service</td>\n",
       "      <td>no_internet_service</td>\n",
       "      <td>no_internet_service</td>\n",
       "      <td>no_internet_service</td>\n",
       "      <td>no_internet_service</td>\n",
       "      <td>no_internet_service</td>\n",
       "      <td>two_year</td>\n",
       "      <td>no</td>\n",
       "      <td>mailed_check</td>\n",
       "      <td>20.10</td>\n",
       "      <td>370.5</td>\n",
       "    </tr>\n",
       "    <tr>\n",
       "      <th>...</th>\n",
       "      <td>...</td>\n",
       "      <td>...</td>\n",
       "      <td>...</td>\n",
       "      <td>...</td>\n",
       "      <td>...</td>\n",
       "      <td>...</td>\n",
       "      <td>...</td>\n",
       "      <td>...</td>\n",
       "      <td>...</td>\n",
       "      <td>...</td>\n",
       "      <td>...</td>\n",
       "      <td>...</td>\n",
       "      <td>...</td>\n",
       "      <td>...</td>\n",
       "      <td>...</td>\n",
       "      <td>...</td>\n",
       "      <td>...</td>\n",
       "      <td>...</td>\n",
       "      <td>...</td>\n",
       "      <td>...</td>\n",
       "    </tr>\n",
       "    <tr>\n",
       "      <th>4220</th>\n",
       "      <td>1309-xgfsn</td>\n",
       "      <td>male</td>\n",
       "      <td>1</td>\n",
       "      <td>yes</td>\n",
       "      <td>yes</td>\n",
       "      <td>52</td>\n",
       "      <td>yes</td>\n",
       "      <td>yes</td>\n",
       "      <td>dsl</td>\n",
       "      <td>no</td>\n",
       "      <td>yes</td>\n",
       "      <td>yes</td>\n",
       "      <td>no</td>\n",
       "      <td>yes</td>\n",
       "      <td>yes</td>\n",
       "      <td>one_year</td>\n",
       "      <td>yes</td>\n",
       "      <td>electronic_check</td>\n",
       "      <td>80.85</td>\n",
       "      <td>4079.55</td>\n",
       "    </tr>\n",
       "    <tr>\n",
       "      <th>4221</th>\n",
       "      <td>4819-hjpiw</td>\n",
       "      <td>male</td>\n",
       "      <td>0</td>\n",
       "      <td>no</td>\n",
       "      <td>no</td>\n",
       "      <td>18</td>\n",
       "      <td>no</td>\n",
       "      <td>no_phone_service</td>\n",
       "      <td>dsl</td>\n",
       "      <td>no</td>\n",
       "      <td>no</td>\n",
       "      <td>no</td>\n",
       "      <td>no</td>\n",
       "      <td>no</td>\n",
       "      <td>no</td>\n",
       "      <td>month-to-month</td>\n",
       "      <td>no</td>\n",
       "      <td>mailed_check</td>\n",
       "      <td>25.15</td>\n",
       "      <td>476.8</td>\n",
       "    </tr>\n",
       "    <tr>\n",
       "      <th>4222</th>\n",
       "      <td>3703-vavcl</td>\n",
       "      <td>male</td>\n",
       "      <td>0</td>\n",
       "      <td>yes</td>\n",
       "      <td>yes</td>\n",
       "      <td>2</td>\n",
       "      <td>yes</td>\n",
       "      <td>no</td>\n",
       "      <td>fiber_optic</td>\n",
       "      <td>no</td>\n",
       "      <td>no</td>\n",
       "      <td>yes</td>\n",
       "      <td>yes</td>\n",
       "      <td>no</td>\n",
       "      <td>yes</td>\n",
       "      <td>month-to-month</td>\n",
       "      <td>no</td>\n",
       "      <td>credit_card_(automatic)</td>\n",
       "      <td>90.00</td>\n",
       "      <td>190.05</td>\n",
       "    </tr>\n",
       "    <tr>\n",
       "      <th>4223</th>\n",
       "      <td>3812-lrzir</td>\n",
       "      <td>female</td>\n",
       "      <td>0</td>\n",
       "      <td>yes</td>\n",
       "      <td>yes</td>\n",
       "      <td>27</td>\n",
       "      <td>yes</td>\n",
       "      <td>yes</td>\n",
       "      <td>no</td>\n",
       "      <td>no_internet_service</td>\n",
       "      <td>no_internet_service</td>\n",
       "      <td>no_internet_service</td>\n",
       "      <td>no_internet_service</td>\n",
       "      <td>no_internet_service</td>\n",
       "      <td>no_internet_service</td>\n",
       "      <td>two_year</td>\n",
       "      <td>no</td>\n",
       "      <td>electronic_check</td>\n",
       "      <td>24.50</td>\n",
       "      <td>761.95</td>\n",
       "    </tr>\n",
       "    <tr>\n",
       "      <th>4224</th>\n",
       "      <td>1704-nrwye</td>\n",
       "      <td>female</td>\n",
       "      <td>1</td>\n",
       "      <td>no</td>\n",
       "      <td>no</td>\n",
       "      <td>9</td>\n",
       "      <td>yes</td>\n",
       "      <td>no</td>\n",
       "      <td>fiber_optic</td>\n",
       "      <td>no</td>\n",
       "      <td>no</td>\n",
       "      <td>no</td>\n",
       "      <td>no</td>\n",
       "      <td>yes</td>\n",
       "      <td>no</td>\n",
       "      <td>month-to-month</td>\n",
       "      <td>yes</td>\n",
       "      <td>electronic_check</td>\n",
       "      <td>80.85</td>\n",
       "      <td>751.65</td>\n",
       "    </tr>\n",
       "  </tbody>\n",
       "</table>\n",
       "<p>4225 rows × 20 columns</p>\n",
       "</div>"
      ],
      "text/plain": [
       "      customerid  gender  seniorcitizen partner dependents  tenure  \\\n",
       "0     8015-ihcgw  female              0     yes        yes      72   \n",
       "1     1960-uycnn    male              0      no         no      10   \n",
       "2     9250-wypll  female              0      no         no       5   \n",
       "3     6786-obwqr  female              0     yes        yes       5   \n",
       "4     1328-euzhc  female              0     yes         no      18   \n",
       "...          ...     ...            ...     ...        ...     ...   \n",
       "4220  1309-xgfsn    male              1     yes        yes      52   \n",
       "4221  4819-hjpiw    male              0      no         no      18   \n",
       "4222  3703-vavcl    male              0     yes        yes       2   \n",
       "4223  3812-lrzir  female              0     yes        yes      27   \n",
       "4224  1704-nrwye  female              1      no         no       9   \n",
       "\n",
       "     phoneservice     multiplelines internetservice       onlinesecurity  \\\n",
       "0             yes               yes     fiber_optic                  yes   \n",
       "1             yes               yes     fiber_optic                   no   \n",
       "2             yes               yes     fiber_optic                   no   \n",
       "3             yes                no     fiber_optic                   no   \n",
       "4             yes                no              no  no_internet_service   \n",
       "...           ...               ...             ...                  ...   \n",
       "4220          yes               yes             dsl                   no   \n",
       "4221           no  no_phone_service             dsl                   no   \n",
       "4222          yes                no     fiber_optic                   no   \n",
       "4223          yes               yes              no  no_internet_service   \n",
       "4224          yes                no     fiber_optic                   no   \n",
       "\n",
       "             onlinebackup     deviceprotection          techsupport  \\\n",
       "0                     yes                  yes                  yes   \n",
       "1                     yes                  yes                   no   \n",
       "2                      no                   no                   no   \n",
       "3                      no                   no                   no   \n",
       "4     no_internet_service  no_internet_service  no_internet_service   \n",
       "...                   ...                  ...                  ...   \n",
       "4220                  yes                  yes                   no   \n",
       "4221                   no                   no                   no   \n",
       "4222                   no                  yes                  yes   \n",
       "4223  no_internet_service  no_internet_service  no_internet_service   \n",
       "4224                   no                   no                   no   \n",
       "\n",
       "              streamingtv      streamingmovies        contract  \\\n",
       "0                     yes                  yes        two_year   \n",
       "1                      no                  yes  month-to-month   \n",
       "2                      no                   no  month-to-month   \n",
       "3                     yes                   no  month-to-month   \n",
       "4     no_internet_service  no_internet_service        two_year   \n",
       "...                   ...                  ...             ...   \n",
       "4220                  yes                  yes        one_year   \n",
       "4221                   no                   no  month-to-month   \n",
       "4222                   no                  yes  month-to-month   \n",
       "4223  no_internet_service  no_internet_service        two_year   \n",
       "4224                  yes                   no  month-to-month   \n",
       "\n",
       "     paperlessbilling            paymentmethod  monthlycharges totalcharges  \n",
       "0                 yes         electronic_check          115.50      8425.15  \n",
       "1                 yes         electronic_check           95.25      1021.55  \n",
       "2                  no         electronic_check           75.55       413.65  \n",
       "3                 yes         electronic_check           80.85        356.1  \n",
       "4                  no             mailed_check           20.10        370.5  \n",
       "...               ...                      ...             ...          ...  \n",
       "4220              yes         electronic_check           80.85      4079.55  \n",
       "4221               no             mailed_check           25.15        476.8  \n",
       "4222               no  credit_card_(automatic)           90.00       190.05  \n",
       "4223               no         electronic_check           24.50       761.95  \n",
       "4224              yes         electronic_check           80.85       751.65  \n",
       "\n",
       "[4225 rows x 20 columns]"
      ]
     },
     "execution_count": 30,
     "metadata": {},
     "output_type": "execute_result"
    }
   ],
   "source": [
    "train"
   ]
  },
  {
   "cell_type": "markdown",
   "id": "f4efcff6",
   "metadata": {},
   "source": [
    "## Section 4: Exploratory Data Analysis\n",
    "\n",
    " -  Check missing values\n",
    " -  Look at the target variable (churn)\n",
    " - look at the numerical and categorical variables\n",
    "\n",
    "We use the fulltrain data frame to do this exploratory analysis"
   ]
  },
  {
   "cell_type": "code",
   "execution_count": 31,
   "id": "73ae8555",
   "metadata": {},
   "outputs": [
    {
     "data": {
      "application/vnd.microsoft.datawrangler.viewer.v0+json": {
       "columns": [
        {
         "name": "index",
         "rawType": "object",
         "type": "string"
        },
        {
         "name": "1814",
         "rawType": "object",
         "type": "unknown"
        },
        {
         "name": "5946",
         "rawType": "object",
         "type": "unknown"
        },
        {
         "name": "3881",
         "rawType": "object",
         "type": "unknown"
        },
        {
         "name": "2389",
         "rawType": "object",
         "type": "unknown"
        },
        {
         "name": "3676",
         "rawType": "object",
         "type": "unknown"
        }
       ],
       "ref": "6f2fa6bb-a05b-4092-831a-508a25e2a880",
       "rows": [
        [
         "customerid",
         "5442-pptjy",
         "6261-rcvns",
         "2176-osjuv",
         "6161-erdgd",
         "2364-ufrom"
        ],
        [
         "gender",
         "male",
         "female",
         "male",
         "male",
         "male"
        ],
        [
         "seniorcitizen",
         "0",
         "0",
         "0",
         "0",
         "0"
        ],
        [
         "partner",
         "yes",
         "no",
         "yes",
         "yes",
         "no"
        ],
        [
         "dependents",
         "yes",
         "no",
         "no",
         "yes",
         "no"
        ],
        [
         "tenure",
         "12",
         "42",
         "71",
         "71",
         "30"
        ],
        [
         "phoneservice",
         "yes",
         "yes",
         "yes",
         "yes",
         "yes"
        ],
        [
         "multiplelines",
         "no",
         "no",
         "yes",
         "yes",
         "no"
        ],
        [
         "internetservice",
         "no",
         "dsl",
         "dsl",
         "dsl",
         "dsl"
        ],
        [
         "onlinesecurity",
         "no_internet_service",
         "yes",
         "yes",
         "yes",
         "yes"
        ],
        [
         "onlinebackup",
         "no_internet_service",
         "yes",
         "yes",
         "no",
         "yes"
        ],
        [
         "deviceprotection",
         "no_internet_service",
         "yes",
         "no",
         "yes",
         "no"
        ],
        [
         "techsupport",
         "no_internet_service",
         "yes",
         "yes",
         "yes",
         "yes"
        ],
        [
         "streamingtv",
         "no_internet_service",
         "no",
         "no",
         "yes",
         "yes"
        ],
        [
         "streamingmovies",
         "no_internet_service",
         "yes",
         "no",
         "yes",
         "no"
        ],
        [
         "contract",
         "two_year",
         "one_year",
         "two_year",
         "one_year",
         "one_year"
        ],
        [
         "paperlessbilling",
         "no",
         "no",
         "no",
         "no",
         "no"
        ],
        [
         "paymentmethod",
         "mailed_check",
         "credit_card_(automatic)",
         "bank_transfer_(automatic)",
         "electronic_check",
         "electronic_check"
        ],
        [
         "monthlycharges",
         "19.7",
         "73.9",
         "65.15",
         "85.45",
         "70.4"
        ],
        [
         "totalcharges",
         "258.35",
         "3160.55",
         "4681.75",
         "6300.85",
         "2044.75"
        ],
        [
         "churn",
         "0",
         "1",
         "0",
         "0",
         "0"
        ]
       ],
       "shape": {
        "columns": 5,
        "rows": 21
       }
      },
      "text/html": [
       "<div>\n",
       "<style scoped>\n",
       "    .dataframe tbody tr th:only-of-type {\n",
       "        vertical-align: middle;\n",
       "    }\n",
       "\n",
       "    .dataframe tbody tr th {\n",
       "        vertical-align: top;\n",
       "    }\n",
       "\n",
       "    .dataframe thead th {\n",
       "        text-align: right;\n",
       "    }\n",
       "</style>\n",
       "<table border=\"1\" class=\"dataframe\">\n",
       "  <thead>\n",
       "    <tr style=\"text-align: right;\">\n",
       "      <th></th>\n",
       "      <th>1814</th>\n",
       "      <th>5946</th>\n",
       "      <th>3881</th>\n",
       "      <th>2389</th>\n",
       "      <th>3676</th>\n",
       "    </tr>\n",
       "  </thead>\n",
       "  <tbody>\n",
       "    <tr>\n",
       "      <th>customerid</th>\n",
       "      <td>5442-pptjy</td>\n",
       "      <td>6261-rcvns</td>\n",
       "      <td>2176-osjuv</td>\n",
       "      <td>6161-erdgd</td>\n",
       "      <td>2364-ufrom</td>\n",
       "    </tr>\n",
       "    <tr>\n",
       "      <th>gender</th>\n",
       "      <td>male</td>\n",
       "      <td>female</td>\n",
       "      <td>male</td>\n",
       "      <td>male</td>\n",
       "      <td>male</td>\n",
       "    </tr>\n",
       "    <tr>\n",
       "      <th>seniorcitizen</th>\n",
       "      <td>0</td>\n",
       "      <td>0</td>\n",
       "      <td>0</td>\n",
       "      <td>0</td>\n",
       "      <td>0</td>\n",
       "    </tr>\n",
       "    <tr>\n",
       "      <th>partner</th>\n",
       "      <td>yes</td>\n",
       "      <td>no</td>\n",
       "      <td>yes</td>\n",
       "      <td>yes</td>\n",
       "      <td>no</td>\n",
       "    </tr>\n",
       "    <tr>\n",
       "      <th>dependents</th>\n",
       "      <td>yes</td>\n",
       "      <td>no</td>\n",
       "      <td>no</td>\n",
       "      <td>yes</td>\n",
       "      <td>no</td>\n",
       "    </tr>\n",
       "    <tr>\n",
       "      <th>tenure</th>\n",
       "      <td>12</td>\n",
       "      <td>42</td>\n",
       "      <td>71</td>\n",
       "      <td>71</td>\n",
       "      <td>30</td>\n",
       "    </tr>\n",
       "    <tr>\n",
       "      <th>phoneservice</th>\n",
       "      <td>yes</td>\n",
       "      <td>yes</td>\n",
       "      <td>yes</td>\n",
       "      <td>yes</td>\n",
       "      <td>yes</td>\n",
       "    </tr>\n",
       "    <tr>\n",
       "      <th>multiplelines</th>\n",
       "      <td>no</td>\n",
       "      <td>no</td>\n",
       "      <td>yes</td>\n",
       "      <td>yes</td>\n",
       "      <td>no</td>\n",
       "    </tr>\n",
       "    <tr>\n",
       "      <th>internetservice</th>\n",
       "      <td>no</td>\n",
       "      <td>dsl</td>\n",
       "      <td>dsl</td>\n",
       "      <td>dsl</td>\n",
       "      <td>dsl</td>\n",
       "    </tr>\n",
       "    <tr>\n",
       "      <th>onlinesecurity</th>\n",
       "      <td>no_internet_service</td>\n",
       "      <td>yes</td>\n",
       "      <td>yes</td>\n",
       "      <td>yes</td>\n",
       "      <td>yes</td>\n",
       "    </tr>\n",
       "    <tr>\n",
       "      <th>onlinebackup</th>\n",
       "      <td>no_internet_service</td>\n",
       "      <td>yes</td>\n",
       "      <td>yes</td>\n",
       "      <td>no</td>\n",
       "      <td>yes</td>\n",
       "    </tr>\n",
       "    <tr>\n",
       "      <th>deviceprotection</th>\n",
       "      <td>no_internet_service</td>\n",
       "      <td>yes</td>\n",
       "      <td>no</td>\n",
       "      <td>yes</td>\n",
       "      <td>no</td>\n",
       "    </tr>\n",
       "    <tr>\n",
       "      <th>techsupport</th>\n",
       "      <td>no_internet_service</td>\n",
       "      <td>yes</td>\n",
       "      <td>yes</td>\n",
       "      <td>yes</td>\n",
       "      <td>yes</td>\n",
       "    </tr>\n",
       "    <tr>\n",
       "      <th>streamingtv</th>\n",
       "      <td>no_internet_service</td>\n",
       "      <td>no</td>\n",
       "      <td>no</td>\n",
       "      <td>yes</td>\n",
       "      <td>yes</td>\n",
       "    </tr>\n",
       "    <tr>\n",
       "      <th>streamingmovies</th>\n",
       "      <td>no_internet_service</td>\n",
       "      <td>yes</td>\n",
       "      <td>no</td>\n",
       "      <td>yes</td>\n",
       "      <td>no</td>\n",
       "    </tr>\n",
       "    <tr>\n",
       "      <th>contract</th>\n",
       "      <td>two_year</td>\n",
       "      <td>one_year</td>\n",
       "      <td>two_year</td>\n",
       "      <td>one_year</td>\n",
       "      <td>one_year</td>\n",
       "    </tr>\n",
       "    <tr>\n",
       "      <th>paperlessbilling</th>\n",
       "      <td>no</td>\n",
       "      <td>no</td>\n",
       "      <td>no</td>\n",
       "      <td>no</td>\n",
       "      <td>no</td>\n",
       "    </tr>\n",
       "    <tr>\n",
       "      <th>paymentmethod</th>\n",
       "      <td>mailed_check</td>\n",
       "      <td>credit_card_(automatic)</td>\n",
       "      <td>bank_transfer_(automatic)</td>\n",
       "      <td>electronic_check</td>\n",
       "      <td>electronic_check</td>\n",
       "    </tr>\n",
       "    <tr>\n",
       "      <th>monthlycharges</th>\n",
       "      <td>19.7</td>\n",
       "      <td>73.9</td>\n",
       "      <td>65.15</td>\n",
       "      <td>85.45</td>\n",
       "      <td>70.4</td>\n",
       "    </tr>\n",
       "    <tr>\n",
       "      <th>totalcharges</th>\n",
       "      <td>258.35</td>\n",
       "      <td>3160.55</td>\n",
       "      <td>4681.75</td>\n",
       "      <td>6300.85</td>\n",
       "      <td>2044.75</td>\n",
       "    </tr>\n",
       "    <tr>\n",
       "      <th>churn</th>\n",
       "      <td>0</td>\n",
       "      <td>1</td>\n",
       "      <td>0</td>\n",
       "      <td>0</td>\n",
       "      <td>0</td>\n",
       "    </tr>\n",
       "  </tbody>\n",
       "</table>\n",
       "</div>"
      ],
      "text/plain": [
       "                                 1814                     5946  \\\n",
       "customerid                 5442-pptjy               6261-rcvns   \n",
       "gender                           male                   female   \n",
       "seniorcitizen                       0                        0   \n",
       "partner                           yes                       no   \n",
       "dependents                        yes                       no   \n",
       "tenure                             12                       42   \n",
       "phoneservice                      yes                      yes   \n",
       "multiplelines                      no                       no   \n",
       "internetservice                    no                      dsl   \n",
       "onlinesecurity    no_internet_service                      yes   \n",
       "onlinebackup      no_internet_service                      yes   \n",
       "deviceprotection  no_internet_service                      yes   \n",
       "techsupport       no_internet_service                      yes   \n",
       "streamingtv       no_internet_service                       no   \n",
       "streamingmovies   no_internet_service                      yes   \n",
       "contract                     two_year                 one_year   \n",
       "paperlessbilling                   no                       no   \n",
       "paymentmethod            mailed_check  credit_card_(automatic)   \n",
       "monthlycharges                   19.7                     73.9   \n",
       "totalcharges                   258.35                  3160.55   \n",
       "churn                               0                        1   \n",
       "\n",
       "                                       3881              2389  \\\n",
       "customerid                       2176-osjuv        6161-erdgd   \n",
       "gender                                 male              male   \n",
       "seniorcitizen                             0                 0   \n",
       "partner                                 yes               yes   \n",
       "dependents                               no               yes   \n",
       "tenure                                   71                71   \n",
       "phoneservice                            yes               yes   \n",
       "multiplelines                           yes               yes   \n",
       "internetservice                         dsl               dsl   \n",
       "onlinesecurity                          yes               yes   \n",
       "onlinebackup                            yes                no   \n",
       "deviceprotection                         no               yes   \n",
       "techsupport                             yes               yes   \n",
       "streamingtv                              no               yes   \n",
       "streamingmovies                          no               yes   \n",
       "contract                           two_year          one_year   \n",
       "paperlessbilling                         no                no   \n",
       "paymentmethod     bank_transfer_(automatic)  electronic_check   \n",
       "monthlycharges                        65.15             85.45   \n",
       "totalcharges                        4681.75           6300.85   \n",
       "churn                                     0                 0   \n",
       "\n",
       "                              3676  \n",
       "customerid              2364-ufrom  \n",
       "gender                        male  \n",
       "seniorcitizen                    0  \n",
       "partner                         no  \n",
       "dependents                      no  \n",
       "tenure                          30  \n",
       "phoneservice                   yes  \n",
       "multiplelines                   no  \n",
       "internetservice                dsl  \n",
       "onlinesecurity                 yes  \n",
       "onlinebackup                   yes  \n",
       "deviceprotection                no  \n",
       "techsupport                    yes  \n",
       "streamingtv                    yes  \n",
       "streamingmovies                 no  \n",
       "contract                  one_year  \n",
       "paperlessbilling                no  \n",
       "paymentmethod     electronic_check  \n",
       "monthlycharges                70.4  \n",
       "totalcharges               2044.75  \n",
       "churn                            0  "
      ]
     },
     "execution_count": 31,
     "metadata": {},
     "output_type": "execute_result"
    }
   ],
   "source": [
    "full_train.head().T"
   ]
  },
  {
   "cell_type": "code",
   "execution_count": 32,
   "id": "20e89e43",
   "metadata": {},
   "outputs": [],
   "source": [
    "full_train = full_train.reset_index(drop =  True)"
   ]
  },
  {
   "cell_type": "code",
   "execution_count": 33,
   "id": "b2015b81",
   "metadata": {},
   "outputs": [
    {
     "data": {
      "application/vnd.microsoft.datawrangler.viewer.v0+json": {
       "columns": [
        {
         "name": "churn",
         "rawType": "int64",
         "type": "integer"
        },
        {
         "name": "proportion",
         "rawType": "float64",
         "type": "float"
        }
       ],
       "ref": "f68bdb46-93aa-4220-a7dc-42c39d9d9063",
       "rows": [
        [
         "0",
         "0.7300319488817891"
        ],
        [
         "1",
         "0.26996805111821087"
        ]
       ],
       "shape": {
        "columns": 1,
        "rows": 2
       }
      },
      "text/plain": [
       "churn\n",
       "0    0.730032\n",
       "1    0.269968\n",
       "Name: proportion, dtype: float64"
      ]
     },
     "execution_count": 33,
     "metadata": {},
     "output_type": "execute_result"
    }
   ],
   "source": [
    "full_train.churn.value_counts(normalize = True) ## "
   ]
  },
  {
   "cell_type": "markdown",
   "id": "b67be781",
   "metadata": {},
   "source": [
    "The churn rate for the current data set is 0.27"
   ]
  },
  {
   "cell_type": "code",
   "execution_count": 34,
   "id": "e611321f",
   "metadata": {},
   "outputs": [
    {
     "data": {
      "text/plain": [
       "np.float64(0.27)"
      ]
     },
     "execution_count": 34,
     "metadata": {},
     "output_type": "execute_result"
    }
   ],
   "source": [
    "# We can do this as:\n",
    "global_churn_rate = full_train.churn.mean()\n",
    "round(global_churn_rate, 2)"
   ]
  },
  {
   "cell_type": "code",
   "execution_count": 35,
   "id": "152f07a7",
   "metadata": {},
   "outputs": [
    {
     "data": {
      "application/vnd.microsoft.datawrangler.viewer.v0+json": {
       "columns": [
        {
         "name": "index",
         "rawType": "object",
         "type": "string"
        },
        {
         "name": "0",
         "rawType": "object",
         "type": "unknown"
        }
       ],
       "ref": "0c0a7632-eec8-406b-a0f8-59c084443503",
       "rows": [
        [
         "customerid",
         "object"
        ],
        [
         "gender",
         "object"
        ],
        [
         "seniorcitizen",
         "int64"
        ],
        [
         "partner",
         "object"
        ],
        [
         "dependents",
         "object"
        ],
        [
         "tenure",
         "int64"
        ],
        [
         "phoneservice",
         "object"
        ],
        [
         "multiplelines",
         "object"
        ],
        [
         "internetservice",
         "object"
        ],
        [
         "onlinesecurity",
         "object"
        ],
        [
         "onlinebackup",
         "object"
        ],
        [
         "deviceprotection",
         "object"
        ],
        [
         "techsupport",
         "object"
        ],
        [
         "streamingtv",
         "object"
        ],
        [
         "streamingmovies",
         "object"
        ],
        [
         "contract",
         "object"
        ],
        [
         "paperlessbilling",
         "object"
        ],
        [
         "paymentmethod",
         "object"
        ],
        [
         "monthlycharges",
         "float64"
        ],
        [
         "totalcharges",
         "object"
        ],
        [
         "churn",
         "int64"
        ]
       ],
       "shape": {
        "columns": 1,
        "rows": 21
       }
      },
      "text/plain": [
       "customerid           object\n",
       "gender               object\n",
       "seniorcitizen         int64\n",
       "partner              object\n",
       "dependents           object\n",
       "tenure                int64\n",
       "phoneservice         object\n",
       "multiplelines        object\n",
       "internetservice      object\n",
       "onlinesecurity       object\n",
       "onlinebackup         object\n",
       "deviceprotection     object\n",
       "techsupport          object\n",
       "streamingtv          object\n",
       "streamingmovies      object\n",
       "contract             object\n",
       "paperlessbilling     object\n",
       "paymentmethod        object\n",
       "monthlycharges      float64\n",
       "totalcharges         object\n",
       "churn                 int64\n",
       "dtype: object"
      ]
     },
     "execution_count": 35,
     "metadata": {},
     "output_type": "execute_result"
    }
   ],
   "source": [
    "full_train.dtypes"
   ]
  },
  {
   "cell_type": "code",
   "execution_count": 36,
   "id": "68345f98",
   "metadata": {},
   "outputs": [],
   "source": [
    "numerical = ['tenure', 'monthlycharges', 'totalcharges']"
   ]
  },
  {
   "cell_type": "code",
   "execution_count": 37,
   "id": "7d949cc3",
   "metadata": {},
   "outputs": [
    {
     "data": {
      "text/plain": [
       "Index(['customerid', 'gender', 'seniorcitizen', 'partner', 'dependents',\n",
       "       'tenure', 'phoneservice', 'multiplelines', 'internetservice',\n",
       "       'onlinesecurity', 'onlinebackup', 'deviceprotection', 'techsupport',\n",
       "       'streamingtv', 'streamingmovies', 'contract', 'paperlessbilling',\n",
       "       'paymentmethod', 'monthlycharges', 'totalcharges', 'churn'],\n",
       "      dtype='object')"
      ]
     },
     "execution_count": 37,
     "metadata": {},
     "output_type": "execute_result"
    }
   ],
   "source": [
    "full_train.columns"
   ]
  },
  {
   "cell_type": "code",
   "execution_count": 174,
   "id": "c0cfb556",
   "metadata": {},
   "outputs": [],
   "source": [
    "categorical = ['gender', 'seniorcitizen', 'partner', 'dependents',\n",
    "        'phoneservice', 'multiplelines', 'internetservice',\n",
    "        'onlinesecurity', 'onlinebackup', 'deviceprotection', 'techsupport',\n",
    "        'streamingtv', 'streamingmovies', 'contract', 'paperlessbilling',\n",
    "        'paymentmethod']"
   ]
  },
  {
   "cell_type": "code",
   "execution_count": 39,
   "id": "6e4d298e",
   "metadata": {},
   "outputs": [
    {
     "data": {
      "application/vnd.microsoft.datawrangler.viewer.v0+json": {
       "columns": [
        {
         "name": "index",
         "rawType": "object",
         "type": "string"
        },
        {
         "name": "0",
         "rawType": "int64",
         "type": "integer"
        }
       ],
       "ref": "b2989792-0bf4-4073-9fc3-650e0c9fa268",
       "rows": [
        [
         "customerid",
         "5634"
        ],
        [
         "gender",
         "2"
        ],
        [
         "seniorcitizen",
         "2"
        ],
        [
         "partner",
         "2"
        ],
        [
         "dependents",
         "2"
        ],
        [
         "phoneservice",
         "2"
        ],
        [
         "multiplelines",
         "3"
        ],
        [
         "internetservice",
         "3"
        ],
        [
         "onlinesecurity",
         "3"
        ],
        [
         "onlinebackup",
         "3"
        ],
        [
         "deviceprotection",
         "3"
        ],
        [
         "techsupport",
         "3"
        ],
        [
         "streamingtv",
         "3"
        ],
        [
         "streamingmovies",
         "3"
        ],
        [
         "contract",
         "3"
        ],
        [
         "paperlessbilling",
         "2"
        ],
        [
         "paymentmethod",
         "4"
        ]
       ],
       "shape": {
        "columns": 1,
        "rows": 17
       }
      },
      "text/plain": [
       "customerid          5634\n",
       "gender                 2\n",
       "seniorcitizen          2\n",
       "partner                2\n",
       "dependents             2\n",
       "phoneservice           2\n",
       "multiplelines          3\n",
       "internetservice        3\n",
       "onlinesecurity         3\n",
       "onlinebackup           3\n",
       "deviceprotection       3\n",
       "techsupport            3\n",
       "streamingtv            3\n",
       "streamingmovies        3\n",
       "contract               3\n",
       "paperlessbilling       2\n",
       "paymentmethod          4\n",
       "dtype: int64"
      ]
     },
     "execution_count": 39,
     "metadata": {},
     "output_type": "execute_result"
    }
   ],
   "source": [
    "full_train[categorical].nunique() # most categorical values are binary or tripartite in nature"
   ]
  },
  {
   "cell_type": "code",
   "execution_count": 40,
   "id": "802a3262",
   "metadata": {},
   "outputs": [
    {
     "data": {
      "text/plain": [
       "<Axes: xlabel='churn', ylabel='Count'>"
      ]
     },
     "execution_count": 40,
     "metadata": {},
     "output_type": "execute_result"
    },
    {
     "data": {
      "image/png": "[encoded data removed]",
      "text/plain": [
       "<Figure size 640x480 with 1 Axes>"
      ]
     },
     "metadata": {},
     "output_type": "display_data"
    }
   ],
   "source": [
    "## Let's plot the distribution of the churn\n",
    "\n",
    "sns.histplot(df.churn) # most of the customers didn't churn\n",
    "# but this kind of distribution by itself doesn't help that much."
   ]
  },
  {
   "cell_type": "markdown",
   "id": "ff43f0bd",
   "metadata": {},
   "source": [
    "## Section 5: Feature Importance: Churn rate and risk ratio\n",
    "\n",
    "Feature importance analysis (part of EDA) - identifiying which features our tarfet variable:\n",
    "- Churn Rate\n",
    "- Risk Ratio\n",
    "- Mutual_information (later)"
   ]
  },
  {
   "cell_type": "markdown",
   "id": "abc57289",
   "metadata": {},
   "source": [
    "### Churn Rate"
   ]
  },
  {
   "cell_type": "code",
   "execution_count": 41,
   "id": "0a9d6217",
   "metadata": {},
   "outputs": [
    {
     "data": {
      "text/plain": [
       "np.float64(0.26996805111821087)"
      ]
     },
     "execution_count": 41,
     "metadata": {},
     "output_type": "execute_result"
    }
   ],
   "source": [
    "global_churn_rate"
   ]
  },
  {
   "cell_type": "code",
   "execution_count": 43,
   "id": "7e7d5404",
   "metadata": {},
   "outputs": [
    {
     "data": {
      "text/plain": [
       "np.float64(0.27682403433476394)"
      ]
     },
     "execution_count": 43,
     "metadata": {},
     "output_type": "execute_result"
    }
   ],
   "source": [
    "churn_female = full_train[full_train.gender == 'female'].churn.mean()\n",
    "churn_female"
   ]
  },
  {
   "cell_type": "code",
   "execution_count": 44,
   "id": "c81854cd",
   "metadata": {},
   "outputs": [
    {
     "data": {
      "text/plain": [
       "np.float64(0.2632135306553911)"
      ]
     },
     "execution_count": 44,
     "metadata": {},
     "output_type": "execute_result"
    }
   ],
   "source": [
    "churn_male = full_train[full_train.gender == 'male'].churn.mean()\n",
    "churn_male"
   ]
  },
  {
   "cell_type": "markdown",
   "id": "afb8cfa6",
   "metadata": {},
   "source": [
    "The gender variable has no significant bearing on the churn rate as it is about the same as the global churn rate"
   ]
  },
  {
   "cell_type": "code",
   "execution_count": 46,
   "id": "d9a16f20",
   "metadata": {},
   "outputs": [
    {
     "data": {
      "application/vnd.microsoft.datawrangler.viewer.v0+json": {
       "columns": [
        {
         "name": "index",
         "rawType": "int64",
         "type": "integer"
        },
        {
         "name": "partner",
         "rawType": "object",
         "type": "string"
        }
       ],
       "ref": "455df163-86b0-4ede-92c2-12e227f74e65",
       "rows": [
        [
         "0",
         "yes"
        ],
        [
         "1",
         "no"
        ],
        [
         "2",
         "yes"
        ],
        [
         "3",
         "yes"
        ],
        [
         "4",
         "no"
        ],
        [
         "5",
         "yes"
        ],
        [
         "6",
         "yes"
        ],
        [
         "7",
         "no"
        ],
        [
         "8",
         "yes"
        ],
        [
         "9",
         "yes"
        ],
        [
         "10",
         "no"
        ],
        [
         "11",
         "yes"
        ],
        [
         "12",
         "no"
        ],
        [
         "13",
         "no"
        ],
        [
         "14",
         "yes"
        ],
        [
         "15",
         "yes"
        ],
        [
         "16",
         "yes"
        ],
        [
         "17",
         "yes"
        ],
        [
         "18",
         "yes"
        ],
        [
         "19",
         "yes"
        ],
        [
         "20",
         "no"
        ],
        [
         "21",
         "no"
        ],
        [
         "22",
         "no"
        ],
        [
         "23",
         "no"
        ],
        [
         "24",
         "yes"
        ],
        [
         "25",
         "no"
        ],
        [
         "26",
         "yes"
        ],
        [
         "27",
         "no"
        ],
        [
         "28",
         "yes"
        ],
        [
         "29",
         "yes"
        ],
        [
         "30",
         "yes"
        ],
        [
         "31",
         "yes"
        ],
        [
         "32",
         "yes"
        ],
        [
         "33",
         "yes"
        ],
        [
         "34",
         "yes"
        ],
        [
         "35",
         "no"
        ],
        [
         "36",
         "no"
        ],
        [
         "37",
         "yes"
        ],
        [
         "38",
         "yes"
        ],
        [
         "39",
         "no"
        ],
        [
         "40",
         "yes"
        ],
        [
         "41",
         "no"
        ],
        [
         "42",
         "yes"
        ],
        [
         "43",
         "no"
        ],
        [
         "44",
         "no"
        ],
        [
         "45",
         "yes"
        ],
        [
         "46",
         "yes"
        ],
        [
         "47",
         "yes"
        ],
        [
         "48",
         "yes"
        ],
        [
         "49",
         "no"
        ]
       ],
       "shape": {
        "columns": 1,
        "rows": 5634
       }
      },
      "text/plain": [
       "0       yes\n",
       "1        no\n",
       "2       yes\n",
       "3       yes\n",
       "4        no\n",
       "       ... \n",
       "5629     no\n",
       "5630     no\n",
       "5631     no\n",
       "5632     no\n",
       "5633    yes\n",
       "Name: partner, Length: 5634, dtype: object"
      ]
     },
     "execution_count": 46,
     "metadata": {},
     "output_type": "execute_result"
    }
   ],
   "source": [
    "full_train.partner"
   ]
  },
  {
   "cell_type": "code",
   "execution_count": 48,
   "id": "19cbd4b0",
   "metadata": {},
   "outputs": [
    {
     "data": {
      "application/vnd.microsoft.datawrangler.viewer.v0+json": {
       "columns": [
        {
         "name": "partner",
         "rawType": "object",
         "type": "string"
        },
        {
         "name": "count",
         "rawType": "int64",
         "type": "integer"
        }
       ],
       "ref": "e14d7bb3-49bf-45fe-903a-ac4743838a41",
       "rows": [
        [
         "no",
         "2932"
        ],
        [
         "yes",
         "2702"
        ]
       ],
       "shape": {
        "columns": 1,
        "rows": 2
       }
      },
      "text/plain": [
       "partner\n",
       "no     2932\n",
       "yes    2702\n",
       "Name: count, dtype: int64"
      ]
     },
     "execution_count": 48,
     "metadata": {},
     "output_type": "execute_result"
    }
   ],
   "source": [
    "full_train.partner.value_counts()"
   ]
  },
  {
   "cell_type": "code",
   "execution_count": 49,
   "id": "3658ec73",
   "metadata": {},
   "outputs": [
    {
     "data": {
      "text/plain": [
       "np.int64(0)"
      ]
     },
     "execution_count": 49,
     "metadata": {},
     "output_type": "execute_result"
    }
   ],
   "source": [
    "full_train.partner.isnull().sum()"
   ]
  },
  {
   "cell_type": "code",
   "execution_count": 51,
   "id": "ca8d41f6",
   "metadata": {},
   "outputs": [
    {
     "data": {
      "text/plain": [
       "np.float64(0.20503330866025166)"
      ]
     },
     "execution_count": 51,
     "metadata": {},
     "output_type": "execute_result"
    }
   ],
   "source": [
    "\n",
    "churn_partner = full_train[full_train.partner == 'yes'].churn.mean()\n",
    "churn_partner"
   ]
  },
  {
   "cell_type": "code",
   "execution_count": 52,
   "id": "9a8be943",
   "metadata": {},
   "outputs": [
    {
     "data": {
      "text/plain": [
       "np.float64(0.3298090040927694)"
      ]
     },
     "execution_count": 52,
     "metadata": {},
     "output_type": "execute_result"
    }
   ],
   "source": [
    "churn_no_partner = full_train[full_train.partner == 'no'].churn.mean()\n",
    "churn_no_partner"
   ]
  },
  {
   "cell_type": "markdown",
   "id": "34d6e51d",
   "metadata": {},
   "source": [
    "We now that the churn rate differs from the global churn rate depending on whether you have a partner or not. This implies that the information of the partner features bears relevance to the churn variable"
   ]
  },
  {
   "cell_type": "code",
   "execution_count": 54,
   "id": "fefc1c42",
   "metadata": {},
   "outputs": [
    {
     "data": {
      "text/plain": [
       "np.float64(0.06493474245795922)"
      ]
     },
     "execution_count": 54,
     "metadata": {},
     "output_type": "execute_result"
    }
   ],
   "source": [
    "delta_churn = global_churn_rate  - churn_partner\n",
    "delta_churn"
   ]
  },
  {
   "cell_type": "code",
   "execution_count": 55,
   "id": "a8616478",
   "metadata": {},
   "outputs": [],
   "source": [
    "# 1 .Difference  = (global_rate) - (group)\n",
    "# if difference < 0: group is more likely to churn\n",
    "# if difference > 0; Group is less likely to churn\n",
    "\n",
    "# 2. Risk Ration = group_rate/global_rate\n",
    "\n",
    "# if risk ratio < 1: group is less likely to churn\n",
    "# if risk ratio > 1: group is more likely to churn\n"
   ]
  },
  {
   "cell_type": "markdown",
   "id": "96c72eeb",
   "metadata": {
    "vscode": {
     "languageId": "sql"
    }
   },
   "source": [
    "SELECT \n",
    "    gender,\n",
    "    AVG(churn),\n",
    "    AVG(churn) - global_churn AS diff,\n",
    "    AVG(churn) / global_churn AS risk\n",
    "\n",
    "FROM \n",
    "    data\n",
    "\n",
    "GROUP BY\n",
    "    gender;"
   ]
  },
  {
   "cell_type": "code",
   "execution_count": 59,
   "id": "f2407c88",
   "metadata": {},
   "outputs": [
    {
     "data": {
      "application/vnd.microsoft.datawrangler.viewer.v0+json": {
       "columns": [
        {
         "name": "gender",
         "rawType": "object",
         "type": "string"
        },
        {
         "name": "mean",
         "rawType": "float64",
         "type": "float"
        },
        {
         "name": "count",
         "rawType": "int64",
         "type": "integer"
        }
       ],
       "ref": "4c12f994-07a1-4ee4-acc5-83e5596efab1",
       "rows": [
        [
         "female",
         "0.27682403433476394",
         "2796"
        ],
        [
         "male",
         "0.2632135306553911",
         "2838"
        ]
       ],
       "shape": {
        "columns": 2,
        "rows": 2
       }
      },
      "text/html": [
       "<div>\n",
       "<style scoped>\n",
       "    .dataframe tbody tr th:only-of-type {\n",
       "        vertical-align: middle;\n",
       "    }\n",
       "\n",
       "    .dataframe tbody tr th {\n",
       "        vertical-align: top;\n",
       "    }\n",
       "\n",
       "    .dataframe thead th {\n",
       "        text-align: right;\n",
       "    }\n",
       "</style>\n",
       "<table border=\"1\" class=\"dataframe\">\n",
       "  <thead>\n",
       "    <tr style=\"text-align: right;\">\n",
       "      <th></th>\n",
       "      <th>mean</th>\n",
       "      <th>count</th>\n",
       "    </tr>\n",
       "    <tr>\n",
       "      <th>gender</th>\n",
       "      <th></th>\n",
       "      <th></th>\n",
       "    </tr>\n",
       "  </thead>\n",
       "  <tbody>\n",
       "    <tr>\n",
       "      <th>female</th>\n",
       "      <td>0.276824</td>\n",
       "      <td>2796</td>\n",
       "    </tr>\n",
       "    <tr>\n",
       "      <th>male</th>\n",
       "      <td>0.263214</td>\n",
       "      <td>2838</td>\n",
       "    </tr>\n",
       "  </tbody>\n",
       "</table>\n",
       "</div>"
      ],
      "text/plain": [
       "            mean  count\n",
       "gender                 \n",
       "female  0.276824   2796\n",
       "male    0.263214   2838"
      ]
     },
     "execution_count": 59,
     "metadata": {},
     "output_type": "execute_result"
    }
   ],
   "source": [
    "# In panda \n",
    "\n",
    "full_train.groupby('gender').churn.agg(['mean', 'count'])"
   ]
  },
  {
   "cell_type": "code",
   "execution_count": 60,
   "id": "b4bc4b97",
   "metadata": {},
   "outputs": [
    {
     "data": {
      "application/vnd.microsoft.datawrangler.viewer.v0+json": {
       "columns": [
        {
         "name": "dependents",
         "rawType": "object",
         "type": "string"
        },
        {
         "name": "mean",
         "rawType": "float64",
         "type": "float"
        },
        {
         "name": "count",
         "rawType": "int64",
         "type": "integer"
        }
       ],
       "ref": "34bd1ae7-dd9f-49ca-a9c5-b10c1b1a8559",
       "rows": [
        [
         "no",
         "0.3137600806451613",
         "3968"
        ],
        [
         "yes",
         "0.16566626650660263",
         "1666"
        ]
       ],
       "shape": {
        "columns": 2,
        "rows": 2
       }
      },
      "text/html": [
       "<div>\n",
       "<style scoped>\n",
       "    .dataframe tbody tr th:only-of-type {\n",
       "        vertical-align: middle;\n",
       "    }\n",
       "\n",
       "    .dataframe tbody tr th {\n",
       "        vertical-align: top;\n",
       "    }\n",
       "\n",
       "    .dataframe thead th {\n",
       "        text-align: right;\n",
       "    }\n",
       "</style>\n",
       "<table border=\"1\" class=\"dataframe\">\n",
       "  <thead>\n",
       "    <tr style=\"text-align: right;\">\n",
       "      <th></th>\n",
       "      <th>mean</th>\n",
       "      <th>count</th>\n",
       "    </tr>\n",
       "    <tr>\n",
       "      <th>dependents</th>\n",
       "      <th></th>\n",
       "      <th></th>\n",
       "    </tr>\n",
       "  </thead>\n",
       "  <tbody>\n",
       "    <tr>\n",
       "      <th>no</th>\n",
       "      <td>0.313760</td>\n",
       "      <td>3968</td>\n",
       "    </tr>\n",
       "    <tr>\n",
       "      <th>yes</th>\n",
       "      <td>0.165666</td>\n",
       "      <td>1666</td>\n",
       "    </tr>\n",
       "  </tbody>\n",
       "</table>\n",
       "</div>"
      ],
      "text/plain": [
       "                mean  count\n",
       "dependents                 \n",
       "no          0.313760   3968\n",
       "yes         0.165666   1666"
      ]
     },
     "execution_count": 60,
     "metadata": {},
     "output_type": "execute_result"
    }
   ],
   "source": [
    "# \n",
    "full_train.groupby('dependents').churn.agg(['mean', 'count'])\n"
   ]
  },
  {
   "cell_type": "code",
   "execution_count": 61,
   "id": "c9156942",
   "metadata": {},
   "outputs": [],
   "source": [
    "df_group = full_train.groupby('gender').churn.agg(['mean', 'count'])"
   ]
  },
  {
   "cell_type": "code",
   "execution_count": 62,
   "id": "7aaa0233",
   "metadata": {},
   "outputs": [
    {
     "data": {
      "application/vnd.microsoft.datawrangler.viewer.v0+json": {
       "columns": [
        {
         "name": "gender",
         "rawType": "object",
         "type": "string"
        },
        {
         "name": "mean",
         "rawType": "float64",
         "type": "float"
        },
        {
         "name": "count",
         "rawType": "int64",
         "type": "integer"
        }
       ],
       "ref": "38711b88-95b6-4dab-bbd9-7b225a9a86d2",
       "rows": [
        [
         "female",
         "0.27682403433476394",
         "2796"
        ],
        [
         "male",
         "0.2632135306553911",
         "2838"
        ]
       ],
       "shape": {
        "columns": 2,
        "rows": 2
       }
      },
      "text/html": [
       "<div>\n",
       "<style scoped>\n",
       "    .dataframe tbody tr th:only-of-type {\n",
       "        vertical-align: middle;\n",
       "    }\n",
       "\n",
       "    .dataframe tbody tr th {\n",
       "        vertical-align: top;\n",
       "    }\n",
       "\n",
       "    .dataframe thead th {\n",
       "        text-align: right;\n",
       "    }\n",
       "</style>\n",
       "<table border=\"1\" class=\"dataframe\">\n",
       "  <thead>\n",
       "    <tr style=\"text-align: right;\">\n",
       "      <th></th>\n",
       "      <th>mean</th>\n",
       "      <th>count</th>\n",
       "    </tr>\n",
       "    <tr>\n",
       "      <th>gender</th>\n",
       "      <th></th>\n",
       "      <th></th>\n",
       "    </tr>\n",
       "  </thead>\n",
       "  <tbody>\n",
       "    <tr>\n",
       "      <th>female</th>\n",
       "      <td>0.276824</td>\n",
       "      <td>2796</td>\n",
       "    </tr>\n",
       "    <tr>\n",
       "      <th>male</th>\n",
       "      <td>0.263214</td>\n",
       "      <td>2838</td>\n",
       "    </tr>\n",
       "  </tbody>\n",
       "</table>\n",
       "</div>"
      ],
      "text/plain": [
       "            mean  count\n",
       "gender                 \n",
       "female  0.276824   2796\n",
       "male    0.263214   2838"
      ]
     },
     "execution_count": 62,
     "metadata": {},
     "output_type": "execute_result"
    }
   ],
   "source": [
    "df_group['diff'] = df_group['mean'] - global_churn_rate\n"
   ]
  },
  {
   "cell_type": "code",
   "execution_count": 63,
   "id": "3ab05fe4",
   "metadata": {},
   "outputs": [],
   "source": [
    "from IPython.display import display"
   ]
  },
  {
   "cell_type": "code",
   "execution_count": 65,
   "id": "2d9e1b9d",
   "metadata": {},
   "outputs": [
    {
     "name": "stdout",
     "output_type": "stream",
     "text": [
      "customerid\n"
     ]
    },
    {
     "data": {
      "application/vnd.microsoft.datawrangler.viewer.v0+json": {
       "columns": [
        {
         "name": "customerid",
         "rawType": "object",
         "type": "string"
        },
        {
         "name": "mean",
         "rawType": "float64",
         "type": "float"
        },
        {
         "name": "count",
         "rawType": "int64",
         "type": "integer"
        },
        {
         "name": "diff",
         "rawType": "float64",
         "type": "float"
        },
        {
         "name": "risk",
         "rawType": "float64",
         "type": "float"
        }
       ],
       "ref": "a85746d5-3f74-44b4-9a54-c3a90b12fb1b",
       "rows": [
        [
         "0002-orfbo",
         "0.0",
         "1",
         "-0.26996805111821087",
         "0.0"
        ],
        [
         "0004-tlhlj",
         "1.0",
         "1",
         "0.7300319488817891",
         "3.7041420118343193"
        ],
        [
         "0011-igkff",
         "1.0",
         "1",
         "0.7300319488817891",
         "3.7041420118343193"
        ],
        [
         "0013-exchz",
         "1.0",
         "1",
         "0.7300319488817891",
         "3.7041420118343193"
        ],
        [
         "0013-mhzwf",
         "0.0",
         "1",
         "-0.26996805111821087",
         "0.0"
        ],
        [
         "0013-smeoe",
         "0.0",
         "1",
         "-0.26996805111821087",
         "0.0"
        ],
        [
         "0014-bmaqu",
         "0.0",
         "1",
         "-0.26996805111821087",
         "0.0"
        ],
        [
         "0015-uocoj",
         "0.0",
         "1",
         "-0.26996805111821087",
         "0.0"
        ],
        [
         "0017-dinoc",
         "0.0",
         "1",
         "-0.26996805111821087",
         "0.0"
        ],
        [
         "0018-nyrou",
         "0.0",
         "1",
         "-0.26996805111821087",
         "0.0"
        ],
        [
         "0019-efaep",
         "0.0",
         "1",
         "-0.26996805111821087",
         "0.0"
        ],
        [
         "0020-inwck",
         "0.0",
         "1",
         "-0.26996805111821087",
         "0.0"
        ],
        [
         "0020-jdnxp",
         "0.0",
         "1",
         "-0.26996805111821087",
         "0.0"
        ],
        [
         "0021-ikxgc",
         "0.0",
         "1",
         "-0.26996805111821087",
         "0.0"
        ],
        [
         "0023-uyupn",
         "0.0",
         "1",
         "-0.26996805111821087",
         "0.0"
        ],
        [
         "0023-xuopt",
         "1.0",
         "1",
         "0.7300319488817891",
         "3.7041420118343193"
        ],
        [
         "0027-kwykw",
         "0.0",
         "1",
         "-0.26996805111821087",
         "0.0"
        ],
        [
         "0030-fnxpp",
         "0.0",
         "1",
         "-0.26996805111821087",
         "0.0"
        ],
        [
         "0031-pvlzi",
         "1.0",
         "1",
         "0.7300319488817891",
         "3.7041420118343193"
        ],
        [
         "0036-ihmot",
         "0.0",
         "1",
         "-0.26996805111821087",
         "0.0"
        ],
        [
         "0042-jvwoj",
         "0.0",
         "1",
         "-0.26996805111821087",
         "0.0"
        ],
        [
         "0042-rlhyp",
         "0.0",
         "1",
         "-0.26996805111821087",
         "0.0"
        ],
        [
         "0048-lumls",
         "0.0",
         "1",
         "-0.26996805111821087",
         "0.0"
        ],
        [
         "0048-pihnl",
         "0.0",
         "1",
         "-0.26996805111821087",
         "0.0"
        ],
        [
         "0052-dckon",
         "0.0",
         "1",
         "-0.26996805111821087",
         "0.0"
        ],
        [
         "0056-epfbg",
         "0.0",
         "1",
         "-0.26996805111821087",
         "0.0"
        ],
        [
         "0057-qbuqh",
         "0.0",
         "1",
         "-0.26996805111821087",
         "0.0"
        ],
        [
         "0060-fualy",
         "0.0",
         "1",
         "-0.26996805111821087",
         "0.0"
        ],
        [
         "0064-sudog",
         "0.0",
         "1",
         "-0.26996805111821087",
         "0.0"
        ],
        [
         "0068-figtf",
         "0.0",
         "1",
         "-0.26996805111821087",
         "0.0"
        ],
        [
         "0071-ndafp",
         "0.0",
         "1",
         "-0.26996805111821087",
         "0.0"
        ],
        [
         "0078-xzmht",
         "0.0",
         "1",
         "-0.26996805111821087",
         "0.0"
        ],
        [
         "0080-emyvy",
         "0.0",
         "1",
         "-0.26996805111821087",
         "0.0"
        ],
        [
         "0080-orozo",
         "0.0",
         "1",
         "-0.26996805111821087",
         "0.0"
        ],
        [
         "0082-ldzue",
         "0.0",
         "1",
         "-0.26996805111821087",
         "0.0"
        ],
        [
         "0082-oqiqy",
         "0.0",
         "1",
         "-0.26996805111821087",
         "0.0"
        ],
        [
         "0083-pivik",
         "0.0",
         "1",
         "-0.26996805111821087",
         "0.0"
        ],
        [
         "0093-exyql",
         "0.0",
         "1",
         "-0.26996805111821087",
         "0.0"
        ],
        [
         "0093-xwzfy",
         "1.0",
         "1",
         "0.7300319488817891",
         "3.7041420118343193"
        ],
        [
         "0094-oifmo",
         "1.0",
         "1",
         "0.7300319488817891",
         "3.7041420118343193"
        ],
        [
         "0096-bxers",
         "0.0",
         "1",
         "-0.26996805111821087",
         "0.0"
        ],
        [
         "0096-fcpuf",
         "0.0",
         "1",
         "-0.26996805111821087",
         "0.0"
        ],
        [
         "0098-bowso",
         "0.0",
         "1",
         "-0.26996805111821087",
         "0.0"
        ],
        [
         "0100-duvfc",
         "0.0",
         "1",
         "-0.26996805111821087",
         "0.0"
        ],
        [
         "0103-csitq",
         "0.0",
         "1",
         "-0.26996805111821087",
         "0.0"
        ],
        [
         "0104-ppxdv",
         "0.0",
         "1",
         "-0.26996805111821087",
         "0.0"
        ],
        [
         "0106-ghrqr",
         "0.0",
         "1",
         "-0.26996805111821087",
         "0.0"
        ],
        [
         "0106-ugrdo",
         "0.0",
         "1",
         "-0.26996805111821087",
         "0.0"
        ],
        [
         "0107-weslm",
         "1.0",
         "1",
         "0.7300319488817891",
         "3.7041420118343193"
        ],
        [
         "0107-yhina",
         "1.0",
         "1",
         "0.7300319488817891",
         "3.7041420118343193"
        ]
       ],
       "shape": {
        "columns": 4,
        "rows": 5634
       }
      },
      "text/html": [
       "<div>\n",
       "<style scoped>\n",
       "    .dataframe tbody tr th:only-of-type {\n",
       "        vertical-align: middle;\n",
       "    }\n",
       "\n",
       "    .dataframe tbody tr th {\n",
       "        vertical-align: top;\n",
       "    }\n",
       "\n",
       "    .dataframe thead th {\n",
       "        text-align: right;\n",
       "    }\n",
       "</style>\n",
       "<table border=\"1\" class=\"dataframe\">\n",
       "  <thead>\n",
       "    <tr style=\"text-align: right;\">\n",
       "      <th></th>\n",
       "      <th>mean</th>\n",
       "      <th>count</th>\n",
       "      <th>diff</th>\n",
       "      <th>risk</th>\n",
       "    </tr>\n",
       "    <tr>\n",
       "      <th>customerid</th>\n",
       "      <th></th>\n",
       "      <th></th>\n",
       "      <th></th>\n",
       "      <th></th>\n",
       "    </tr>\n",
       "  </thead>\n",
       "  <tbody>\n",
       "    <tr>\n",
       "      <th>0002-orfbo</th>\n",
       "      <td>0.0</td>\n",
       "      <td>1</td>\n",
       "      <td>-0.269968</td>\n",
       "      <td>0.000000</td>\n",
       "    </tr>\n",
       "    <tr>\n",
       "      <th>0004-tlhlj</th>\n",
       "      <td>1.0</td>\n",
       "      <td>1</td>\n",
       "      <td>0.730032</td>\n",
       "      <td>3.704142</td>\n",
       "    </tr>\n",
       "    <tr>\n",
       "      <th>0011-igkff</th>\n",
       "      <td>1.0</td>\n",
       "      <td>1</td>\n",
       "      <td>0.730032</td>\n",
       "      <td>3.704142</td>\n",
       "    </tr>\n",
       "    <tr>\n",
       "      <th>0013-exchz</th>\n",
       "      <td>1.0</td>\n",
       "      <td>1</td>\n",
       "      <td>0.730032</td>\n",
       "      <td>3.704142</td>\n",
       "    </tr>\n",
       "    <tr>\n",
       "      <th>0013-mhzwf</th>\n",
       "      <td>0.0</td>\n",
       "      <td>1</td>\n",
       "      <td>-0.269968</td>\n",
       "      <td>0.000000</td>\n",
       "    </tr>\n",
       "    <tr>\n",
       "      <th>...</th>\n",
       "      <td>...</td>\n",
       "      <td>...</td>\n",
       "      <td>...</td>\n",
       "      <td>...</td>\n",
       "    </tr>\n",
       "    <tr>\n",
       "      <th>9987-lutyd</th>\n",
       "      <td>0.0</td>\n",
       "      <td>1</td>\n",
       "      <td>-0.269968</td>\n",
       "      <td>0.000000</td>\n",
       "    </tr>\n",
       "    <tr>\n",
       "      <th>9992-rramn</th>\n",
       "      <td>1.0</td>\n",
       "      <td>1</td>\n",
       "      <td>0.730032</td>\n",
       "      <td>3.704142</td>\n",
       "    </tr>\n",
       "    <tr>\n",
       "      <th>9992-ujoel</th>\n",
       "      <td>0.0</td>\n",
       "      <td>1</td>\n",
       "      <td>-0.269968</td>\n",
       "      <td>0.000000</td>\n",
       "    </tr>\n",
       "    <tr>\n",
       "      <th>9993-lhieb</th>\n",
       "      <td>0.0</td>\n",
       "      <td>1</td>\n",
       "      <td>-0.269968</td>\n",
       "      <td>0.000000</td>\n",
       "    </tr>\n",
       "    <tr>\n",
       "      <th>9995-hotoh</th>\n",
       "      <td>0.0</td>\n",
       "      <td>1</td>\n",
       "      <td>-0.269968</td>\n",
       "      <td>0.000000</td>\n",
       "    </tr>\n",
       "  </tbody>\n",
       "</table>\n",
       "<p>5634 rows × 4 columns</p>\n",
       "</div>"
      ],
      "text/plain": [
       "            mean  count      diff      risk\n",
       "customerid                                 \n",
       "0002-orfbo   0.0      1 -0.269968  0.000000\n",
       "0004-tlhlj   1.0      1  0.730032  3.704142\n",
       "0011-igkff   1.0      1  0.730032  3.704142\n",
       "0013-exchz   1.0      1  0.730032  3.704142\n",
       "0013-mhzwf   0.0      1 -0.269968  0.000000\n",
       "...          ...    ...       ...       ...\n",
       "9987-lutyd   0.0      1 -0.269968  0.000000\n",
       "9992-rramn   1.0      1  0.730032  3.704142\n",
       "9992-ujoel   0.0      1 -0.269968  0.000000\n",
       "9993-lhieb   0.0      1 -0.269968  0.000000\n",
       "9995-hotoh   0.0      1 -0.269968  0.000000\n",
       "\n",
       "[5634 rows x 4 columns]"
      ]
     },
     "metadata": {},
     "output_type": "display_data"
    },
    {
     "name": "stdout",
     "output_type": "stream",
     "text": [
      "\n",
      "\n",
      "gender\n"
     ]
    },
    {
     "data": {
      "application/vnd.microsoft.datawrangler.viewer.v0+json": {
       "columns": [
        {
         "name": "gender",
         "rawType": "object",
         "type": "string"
        },
        {
         "name": "mean",
         "rawType": "float64",
         "type": "float"
        },
        {
         "name": "count",
         "rawType": "int64",
         "type": "integer"
        },
        {
         "name": "diff",
         "rawType": "float64",
         "type": "float"
        },
        {
         "name": "risk",
         "rawType": "float64",
         "type": "float"
        }
       ],
       "ref": "c60657c1-61b0-4a37-97e5-7c730f876d57",
       "rows": [
        [
         "female",
         "0.27682403433476394",
         "2796",
         "0.006855983216553063",
         "1.0253955354648652"
        ],
        [
         "male",
         "0.2632135306553911",
         "2838",
         "-0.006754520462819769",
         "0.9749802969838747"
        ]
       ],
       "shape": {
        "columns": 4,
        "rows": 2
       }
      },
      "text/html": [
       "<div>\n",
       "<style scoped>\n",
       "    .dataframe tbody tr th:only-of-type {\n",
       "        vertical-align: middle;\n",
       "    }\n",
       "\n",
       "    .dataframe tbody tr th {\n",
       "        vertical-align: top;\n",
       "    }\n",
       "\n",
       "    .dataframe thead th {\n",
       "        text-align: right;\n",
       "    }\n",
       "</style>\n",
       "<table border=\"1\" class=\"dataframe\">\n",
       "  <thead>\n",
       "    <tr style=\"text-align: right;\">\n",
       "      <th></th>\n",
       "      <th>mean</th>\n",
       "      <th>count</th>\n",
       "      <th>diff</th>\n",
       "      <th>risk</th>\n",
       "    </tr>\n",
       "    <tr>\n",
       "      <th>gender</th>\n",
       "      <th></th>\n",
       "      <th></th>\n",
       "      <th></th>\n",
       "      <th></th>\n",
       "    </tr>\n",
       "  </thead>\n",
       "  <tbody>\n",
       "    <tr>\n",
       "      <th>female</th>\n",
       "      <td>0.276824</td>\n",
       "      <td>2796</td>\n",
       "      <td>0.006856</td>\n",
       "      <td>1.025396</td>\n",
       "    </tr>\n",
       "    <tr>\n",
       "      <th>male</th>\n",
       "      <td>0.263214</td>\n",
       "      <td>2838</td>\n",
       "      <td>-0.006755</td>\n",
       "      <td>0.974980</td>\n",
       "    </tr>\n",
       "  </tbody>\n",
       "</table>\n",
       "</div>"
      ],
      "text/plain": [
       "            mean  count      diff      risk\n",
       "gender                                     \n",
       "female  0.276824   2796  0.006856  1.025396\n",
       "male    0.263214   2838 -0.006755  0.974980"
      ]
     },
     "metadata": {},
     "output_type": "display_data"
    },
    {
     "name": "stdout",
     "output_type": "stream",
     "text": [
      "\n",
      "\n",
      "seniorcitizen\n"
     ]
    },
    {
     "data": {
      "application/vnd.microsoft.datawrangler.viewer.v0+json": {
       "columns": [
        {
         "name": "seniorcitizen",
         "rawType": "int64",
         "type": "integer"
        },
        {
         "name": "mean",
         "rawType": "float64",
         "type": "float"
        },
        {
         "name": "count",
         "rawType": "int64",
         "type": "integer"
        },
        {
         "name": "diff",
         "rawType": "float64",
         "type": "float"
        },
        {
         "name": "risk",
         "rawType": "float64",
         "type": "float"
        }
       ],
       "ref": "875e3b49-e0d2-44fb-b13f-98a88d8786c4",
       "rows": [
        [
         "0",
         "0.24227022448115204",
         "4722",
         "-0.02769782663705883",
         "0.8974033167171667"
        ],
        [
         "1",
         "0.4133771929824561",
         "912",
         "0.14340914186424525",
         "1.5312078272604588"
        ]
       ],
       "shape": {
        "columns": 4,
        "rows": 2
       }
      },
      "text/html": [
       "<div>\n",
       "<style scoped>\n",
       "    .dataframe tbody tr th:only-of-type {\n",
       "        vertical-align: middle;\n",
       "    }\n",
       "\n",
       "    .dataframe tbody tr th {\n",
       "        vertical-align: top;\n",
       "    }\n",
       "\n",
       "    .dataframe thead th {\n",
       "        text-align: right;\n",
       "    }\n",
       "</style>\n",
       "<table border=\"1\" class=\"dataframe\">\n",
       "  <thead>\n",
       "    <tr style=\"text-align: right;\">\n",
       "      <th></th>\n",
       "      <th>mean</th>\n",
       "      <th>count</th>\n",
       "      <th>diff</th>\n",
       "      <th>risk</th>\n",
       "    </tr>\n",
       "    <tr>\n",
       "      <th>seniorcitizen</th>\n",
       "      <th></th>\n",
       "      <th></th>\n",
       "      <th></th>\n",
       "      <th></th>\n",
       "    </tr>\n",
       "  </thead>\n",
       "  <tbody>\n",
       "    <tr>\n",
       "      <th>0</th>\n",
       "      <td>0.242270</td>\n",
       "      <td>4722</td>\n",
       "      <td>-0.027698</td>\n",
       "      <td>0.897403</td>\n",
       "    </tr>\n",
       "    <tr>\n",
       "      <th>1</th>\n",
       "      <td>0.413377</td>\n",
       "      <td>912</td>\n",
       "      <td>0.143409</td>\n",
       "      <td>1.531208</td>\n",
       "    </tr>\n",
       "  </tbody>\n",
       "</table>\n",
       "</div>"
      ],
      "text/plain": [
       "                   mean  count      diff      risk\n",
       "seniorcitizen                                     \n",
       "0              0.242270   4722 -0.027698  0.897403\n",
       "1              0.413377    912  0.143409  1.531208"
      ]
     },
     "metadata": {},
     "output_type": "display_data"
    },
    {
     "name": "stdout",
     "output_type": "stream",
     "text": [
      "\n",
      "\n",
      "partner\n"
     ]
    },
    {
     "data": {
      "application/vnd.microsoft.datawrangler.viewer.v0+json": {
       "columns": [
        {
         "name": "partner",
         "rawType": "object",
         "type": "string"
        },
        {
         "name": "mean",
         "rawType": "float64",
         "type": "float"
        },
        {
         "name": "count",
         "rawType": "int64",
         "type": "integer"
        },
        {
         "name": "diff",
         "rawType": "float64",
         "type": "float"
        },
        {
         "name": "risk",
         "rawType": "float64",
         "type": "float"
        }
       ],
       "ref": "717f1f03-7c30-439a-807c-78fc8940cbd6",
       "rows": [
        [
         "no",
         "0.3298090040927694",
         "2932",
         "0.05984095297455855",
         "1.2216593879412643"
        ],
        [
         "yes",
         "0.20503330866025166",
         "2702",
         "-0.06493474245795922",
         "0.7594724924338315"
        ]
       ],
       "shape": {
        "columns": 4,
        "rows": 2
       }
      },
      "text/html": [
       "<div>\n",
       "<style scoped>\n",
       "    .dataframe tbody tr th:only-of-type {\n",
       "        vertical-align: middle;\n",
       "    }\n",
       "\n",
       "    .dataframe tbody tr th {\n",
       "        vertical-align: top;\n",
       "    }\n",
       "\n",
       "    .dataframe thead th {\n",
       "        text-align: right;\n",
       "    }\n",
       "</style>\n",
       "<table border=\"1\" class=\"dataframe\">\n",
       "  <thead>\n",
       "    <tr style=\"text-align: right;\">\n",
       "      <th></th>\n",
       "      <th>mean</th>\n",
       "      <th>count</th>\n",
       "      <th>diff</th>\n",
       "      <th>risk</th>\n",
       "    </tr>\n",
       "    <tr>\n",
       "      <th>partner</th>\n",
       "      <th></th>\n",
       "      <th></th>\n",
       "      <th></th>\n",
       "      <th></th>\n",
       "    </tr>\n",
       "  </thead>\n",
       "  <tbody>\n",
       "    <tr>\n",
       "      <th>no</th>\n",
       "      <td>0.329809</td>\n",
       "      <td>2932</td>\n",
       "      <td>0.059841</td>\n",
       "      <td>1.221659</td>\n",
       "    </tr>\n",
       "    <tr>\n",
       "      <th>yes</th>\n",
       "      <td>0.205033</td>\n",
       "      <td>2702</td>\n",
       "      <td>-0.064935</td>\n",
       "      <td>0.759472</td>\n",
       "    </tr>\n",
       "  </tbody>\n",
       "</table>\n",
       "</div>"
      ],
      "text/plain": [
       "             mean  count      diff      risk\n",
       "partner                                     \n",
       "no       0.329809   2932  0.059841  1.221659\n",
       "yes      0.205033   2702 -0.064935  0.759472"
      ]
     },
     "metadata": {},
     "output_type": "display_data"
    },
    {
     "name": "stdout",
     "output_type": "stream",
     "text": [
      "\n",
      "\n",
      "dependents\n"
     ]
    },
    {
     "data": {
      "application/vnd.microsoft.datawrangler.viewer.v0+json": {
       "columns": [
        {
         "name": "dependents",
         "rawType": "object",
         "type": "string"
        },
        {
         "name": "mean",
         "rawType": "float64",
         "type": "float"
        },
        {
         "name": "count",
         "rawType": "int64",
         "type": "integer"
        },
        {
         "name": "diff",
         "rawType": "float64",
         "type": "float"
        },
        {
         "name": "risk",
         "rawType": "float64",
         "type": "float"
        }
       ],
       "ref": "86a72dbb-19a4-4045-8904-71c8276c064a",
       "rows": [
        [
         "no",
         "0.3137600806451613",
         "3968",
         "0.04379202952695044",
         "1.162211896354266"
        ],
        [
         "yes",
         "0.16566626650660263",
         "1666",
         "-0.10430178461160824",
         "0.6136513777108475"
        ]
       ],
       "shape": {
        "columns": 4,
        "rows": 2
       }
      },
      "text/html": [
       "<div>\n",
       "<style scoped>\n",
       "    .dataframe tbody tr th:only-of-type {\n",
       "        vertical-align: middle;\n",
       "    }\n",
       "\n",
       "    .dataframe tbody tr th {\n",
       "        vertical-align: top;\n",
       "    }\n",
       "\n",
       "    .dataframe thead th {\n",
       "        text-align: right;\n",
       "    }\n",
       "</style>\n",
       "<table border=\"1\" class=\"dataframe\">\n",
       "  <thead>\n",
       "    <tr style=\"text-align: right;\">\n",
       "      <th></th>\n",
       "      <th>mean</th>\n",
       "      <th>count</th>\n",
       "      <th>diff</th>\n",
       "      <th>risk</th>\n",
       "    </tr>\n",
       "    <tr>\n",
       "      <th>dependents</th>\n",
       "      <th></th>\n",
       "      <th></th>\n",
       "      <th></th>\n",
       "      <th></th>\n",
       "    </tr>\n",
       "  </thead>\n",
       "  <tbody>\n",
       "    <tr>\n",
       "      <th>no</th>\n",
       "      <td>0.313760</td>\n",
       "      <td>3968</td>\n",
       "      <td>0.043792</td>\n",
       "      <td>1.162212</td>\n",
       "    </tr>\n",
       "    <tr>\n",
       "      <th>yes</th>\n",
       "      <td>0.165666</td>\n",
       "      <td>1666</td>\n",
       "      <td>-0.104302</td>\n",
       "      <td>0.613651</td>\n",
       "    </tr>\n",
       "  </tbody>\n",
       "</table>\n",
       "</div>"
      ],
      "text/plain": [
       "                mean  count      diff      risk\n",
       "dependents                                     \n",
       "no          0.313760   3968  0.043792  1.162212\n",
       "yes         0.165666   1666 -0.104302  0.613651"
      ]
     },
     "metadata": {},
     "output_type": "display_data"
    },
    {
     "name": "stdout",
     "output_type": "stream",
     "text": [
      "\n",
      "\n",
      "phoneservice\n"
     ]
    },
    {
     "data": {
      "application/vnd.microsoft.datawrangler.viewer.v0+json": {
       "columns": [
        {
         "name": "phoneservice",
         "rawType": "object",
         "type": "string"
        },
        {
         "name": "mean",
         "rawType": "float64",
         "type": "float"
        },
        {
         "name": "count",
         "rawType": "int64",
         "type": "integer"
        },
        {
         "name": "diff",
         "rawType": "float64",
         "type": "float"
        },
        {
         "name": "risk",
         "rawType": "float64",
         "type": "float"
        }
       ],
       "ref": "34d15bef-f7ad-443f-8593-3e44046ec03f",
       "rows": [
        [
         "no",
         "0.2413162705667276",
         "547",
         "-0.028651780551483264",
         "0.8938697359453933"
        ],
        [
         "yes",
         "0.2730489482995872",
         "5087",
         "0.0030808971813763297",
         "1.011412080683678"
        ]
       ],
       "shape": {
        "columns": 4,
        "rows": 2
       }
      },
      "text/html": [
       "<div>\n",
       "<style scoped>\n",
       "    .dataframe tbody tr th:only-of-type {\n",
       "        vertical-align: middle;\n",
       "    }\n",
       "\n",
       "    .dataframe tbody tr th {\n",
       "        vertical-align: top;\n",
       "    }\n",
       "\n",
       "    .dataframe thead th {\n",
       "        text-align: right;\n",
       "    }\n",
       "</style>\n",
       "<table border=\"1\" class=\"dataframe\">\n",
       "  <thead>\n",
       "    <tr style=\"text-align: right;\">\n",
       "      <th></th>\n",
       "      <th>mean</th>\n",
       "      <th>count</th>\n",
       "      <th>diff</th>\n",
       "      <th>risk</th>\n",
       "    </tr>\n",
       "    <tr>\n",
       "      <th>phoneservice</th>\n",
       "      <th></th>\n",
       "      <th></th>\n",
       "      <th></th>\n",
       "      <th></th>\n",
       "    </tr>\n",
       "  </thead>\n",
       "  <tbody>\n",
       "    <tr>\n",
       "      <th>no</th>\n",
       "      <td>0.241316</td>\n",
       "      <td>547</td>\n",
       "      <td>-0.028652</td>\n",
       "      <td>0.893870</td>\n",
       "    </tr>\n",
       "    <tr>\n",
       "      <th>yes</th>\n",
       "      <td>0.273049</td>\n",
       "      <td>5087</td>\n",
       "      <td>0.003081</td>\n",
       "      <td>1.011412</td>\n",
       "    </tr>\n",
       "  </tbody>\n",
       "</table>\n",
       "</div>"
      ],
      "text/plain": [
       "                  mean  count      diff      risk\n",
       "phoneservice                                     \n",
       "no            0.241316    547 -0.028652  0.893870\n",
       "yes           0.273049   5087  0.003081  1.011412"
      ]
     },
     "metadata": {},
     "output_type": "display_data"
    },
    {
     "name": "stdout",
     "output_type": "stream",
     "text": [
      "\n",
      "\n",
      "multiplelines\n"
     ]
    },
    {
     "data": {
      "application/vnd.microsoft.datawrangler.viewer.v0+json": {
       "columns": [
        {
         "name": "multiplelines",
         "rawType": "object",
         "type": "string"
        },
        {
         "name": "mean",
         "rawType": "float64",
         "type": "float"
        },
        {
         "name": "count",
         "rawType": "int64",
         "type": "integer"
        },
        {
         "name": "diff",
         "rawType": "float64",
         "type": "float"
        },
        {
         "name": "risk",
         "rawType": "float64",
         "type": "float"
        }
       ],
       "ref": "fc0dfd82-47aa-4854-9e23-e7bc8fa85da8",
       "rows": [
        [
         "no",
         "0.2574074074074074",
         "2700",
         "-0.012560643710803454",
         "0.9534735919351304"
        ],
        [
         "no_phone_service",
         "0.2413162705667276",
         "547",
         "-0.028651780551483264",
         "0.8938697359453933"
        ],
        [
         "yes",
         "0.29074151654796815",
         "2387",
         "0.020773465429757276",
         "1.0769478660297518"
        ]
       ],
       "shape": {
        "columns": 4,
        "rows": 3
       }
      },
      "text/html": [
       "<div>\n",
       "<style scoped>\n",
       "    .dataframe tbody tr th:only-of-type {\n",
       "        vertical-align: middle;\n",
       "    }\n",
       "\n",
       "    .dataframe tbody tr th {\n",
       "        vertical-align: top;\n",
       "    }\n",
       "\n",
       "    .dataframe thead th {\n",
       "        text-align: right;\n",
       "    }\n",
       "</style>\n",
       "<table border=\"1\" class=\"dataframe\">\n",
       "  <thead>\n",
       "    <tr style=\"text-align: right;\">\n",
       "      <th></th>\n",
       "      <th>mean</th>\n",
       "      <th>count</th>\n",
       "      <th>diff</th>\n",
       "      <th>risk</th>\n",
       "    </tr>\n",
       "    <tr>\n",
       "      <th>multiplelines</th>\n",
       "      <th></th>\n",
       "      <th></th>\n",
       "      <th></th>\n",
       "      <th></th>\n",
       "    </tr>\n",
       "  </thead>\n",
       "  <tbody>\n",
       "    <tr>\n",
       "      <th>no</th>\n",
       "      <td>0.257407</td>\n",
       "      <td>2700</td>\n",
       "      <td>-0.012561</td>\n",
       "      <td>0.953474</td>\n",
       "    </tr>\n",
       "    <tr>\n",
       "      <th>no_phone_service</th>\n",
       "      <td>0.241316</td>\n",
       "      <td>547</td>\n",
       "      <td>-0.028652</td>\n",
       "      <td>0.893870</td>\n",
       "    </tr>\n",
       "    <tr>\n",
       "      <th>yes</th>\n",
       "      <td>0.290742</td>\n",
       "      <td>2387</td>\n",
       "      <td>0.020773</td>\n",
       "      <td>1.076948</td>\n",
       "    </tr>\n",
       "  </tbody>\n",
       "</table>\n",
       "</div>"
      ],
      "text/plain": [
       "                      mean  count      diff      risk\n",
       "multiplelines                                        \n",
       "no                0.257407   2700 -0.012561  0.953474\n",
       "no_phone_service  0.241316    547 -0.028652  0.893870\n",
       "yes               0.290742   2387  0.020773  1.076948"
      ]
     },
     "metadata": {},
     "output_type": "display_data"
    },
    {
     "name": "stdout",
     "output_type": "stream",
     "text": [
      "\n",
      "\n",
      "internetservice\n"
     ]
    },
    {
     "data": {
      "application/vnd.microsoft.datawrangler.viewer.v0+json": {
       "columns": [
        {
         "name": "internetservice",
         "rawType": "object",
         "type": "string"
        },
        {
         "name": "mean",
         "rawType": "float64",
         "type": "float"
        },
        {
         "name": "count",
         "rawType": "int64",
         "type": "integer"
        },
        {
         "name": "diff",
         "rawType": "float64",
         "type": "float"
        },
        {
         "name": "risk",
         "rawType": "float64",
         "type": "float"
        }
       ],
       "ref": "31edd8c7-fdf2-4547-ad99-d8804cdbe66d",
       "rows": [
        [
         "dsl",
         "0.1923474663908997",
         "1934",
         "-0.07762058472731118",
         "0.7124823311284213"
        ],
        [
         "fiber_optic",
         "0.42517144009681324",
         "2479",
         "0.15520338897860236",
         "1.5748953934947045"
        ],
        [
         "no",
         "0.07780507780507781",
         "1221",
         "-0.19216297331313306",
         "0.28820105743182667"
        ]
       ],
       "shape": {
        "columns": 4,
        "rows": 3
       }
      },
      "text/html": [
       "<div>\n",
       "<style scoped>\n",
       "    .dataframe tbody tr th:only-of-type {\n",
       "        vertical-align: middle;\n",
       "    }\n",
       "\n",
       "    .dataframe tbody tr th {\n",
       "        vertical-align: top;\n",
       "    }\n",
       "\n",
       "    .dataframe thead th {\n",
       "        text-align: right;\n",
       "    }\n",
       "</style>\n",
       "<table border=\"1\" class=\"dataframe\">\n",
       "  <thead>\n",
       "    <tr style=\"text-align: right;\">\n",
       "      <th></th>\n",
       "      <th>mean</th>\n",
       "      <th>count</th>\n",
       "      <th>diff</th>\n",
       "      <th>risk</th>\n",
       "    </tr>\n",
       "    <tr>\n",
       "      <th>internetservice</th>\n",
       "      <th></th>\n",
       "      <th></th>\n",
       "      <th></th>\n",
       "      <th></th>\n",
       "    </tr>\n",
       "  </thead>\n",
       "  <tbody>\n",
       "    <tr>\n",
       "      <th>dsl</th>\n",
       "      <td>0.192347</td>\n",
       "      <td>1934</td>\n",
       "      <td>-0.077621</td>\n",
       "      <td>0.712482</td>\n",
       "    </tr>\n",
       "    <tr>\n",
       "      <th>fiber_optic</th>\n",
       "      <td>0.425171</td>\n",
       "      <td>2479</td>\n",
       "      <td>0.155203</td>\n",
       "      <td>1.574895</td>\n",
       "    </tr>\n",
       "    <tr>\n",
       "      <th>no</th>\n",
       "      <td>0.077805</td>\n",
       "      <td>1221</td>\n",
       "      <td>-0.192163</td>\n",
       "      <td>0.288201</td>\n",
       "    </tr>\n",
       "  </tbody>\n",
       "</table>\n",
       "</div>"
      ],
      "text/plain": [
       "                     mean  count      diff      risk\n",
       "internetservice                                     \n",
       "dsl              0.192347   1934 -0.077621  0.712482\n",
       "fiber_optic      0.425171   2479  0.155203  1.574895\n",
       "no               0.077805   1221 -0.192163  0.288201"
      ]
     },
     "metadata": {},
     "output_type": "display_data"
    },
    {
     "name": "stdout",
     "output_type": "stream",
     "text": [
      "\n",
      "\n",
      "onlinesecurity\n"
     ]
    },
    {
     "data": {
      "application/vnd.microsoft.datawrangler.viewer.v0+json": {
       "columns": [
        {
         "name": "onlinesecurity",
         "rawType": "object",
         "type": "string"
        },
        {
         "name": "mean",
         "rawType": "float64",
         "type": "float"
        },
        {
         "name": "count",
         "rawType": "int64",
         "type": "integer"
        },
        {
         "name": "diff",
         "rawType": "float64",
         "type": "float"
        },
        {
         "name": "risk",
         "rawType": "float64",
         "type": "float"
        }
       ],
       "ref": "4ac20dd7-1ac4-48e6-a595-44446e053ddb",
       "rows": [
        [
         "no",
         "0.42092109960728313",
         "2801",
         "0.15095304848907226",
         "1.5591515287228357"
        ],
        [
         "no_internet_service",
         "0.07780507780507781",
         "1221",
         "-0.19216297331313306",
         "0.28820105743182667"
        ],
        [
         "yes",
         "0.1532258064516129",
         "1612",
         "-0.11674224466659797",
         "0.5675701469746135"
        ]
       ],
       "shape": {
        "columns": 4,
        "rows": 3
       }
      },
      "text/html": [
       "<div>\n",
       "<style scoped>\n",
       "    .dataframe tbody tr th:only-of-type {\n",
       "        vertical-align: middle;\n",
       "    }\n",
       "\n",
       "    .dataframe tbody tr th {\n",
       "        vertical-align: top;\n",
       "    }\n",
       "\n",
       "    .dataframe thead th {\n",
       "        text-align: right;\n",
       "    }\n",
       "</style>\n",
       "<table border=\"1\" class=\"dataframe\">\n",
       "  <thead>\n",
       "    <tr style=\"text-align: right;\">\n",
       "      <th></th>\n",
       "      <th>mean</th>\n",
       "      <th>count</th>\n",
       "      <th>diff</th>\n",
       "      <th>risk</th>\n",
       "    </tr>\n",
       "    <tr>\n",
       "      <th>onlinesecurity</th>\n",
       "      <th></th>\n",
       "      <th></th>\n",
       "      <th></th>\n",
       "      <th></th>\n",
       "    </tr>\n",
       "  </thead>\n",
       "  <tbody>\n",
       "    <tr>\n",
       "      <th>no</th>\n",
       "      <td>0.420921</td>\n",
       "      <td>2801</td>\n",
       "      <td>0.150953</td>\n",
       "      <td>1.559152</td>\n",
       "    </tr>\n",
       "    <tr>\n",
       "      <th>no_internet_service</th>\n",
       "      <td>0.077805</td>\n",
       "      <td>1221</td>\n",
       "      <td>-0.192163</td>\n",
       "      <td>0.288201</td>\n",
       "    </tr>\n",
       "    <tr>\n",
       "      <th>yes</th>\n",
       "      <td>0.153226</td>\n",
       "      <td>1612</td>\n",
       "      <td>-0.116742</td>\n",
       "      <td>0.567570</td>\n",
       "    </tr>\n",
       "  </tbody>\n",
       "</table>\n",
       "</div>"
      ],
      "text/plain": [
       "                         mean  count      diff      risk\n",
       "onlinesecurity                                          \n",
       "no                   0.420921   2801  0.150953  1.559152\n",
       "no_internet_service  0.077805   1221 -0.192163  0.288201\n",
       "yes                  0.153226   1612 -0.116742  0.567570"
      ]
     },
     "metadata": {},
     "output_type": "display_data"
    },
    {
     "name": "stdout",
     "output_type": "stream",
     "text": [
      "\n",
      "\n",
      "onlinebackup\n"
     ]
    },
    {
     "data": {
      "application/vnd.microsoft.datawrangler.viewer.v0+json": {
       "columns": [
        {
         "name": "onlinebackup",
         "rawType": "object",
         "type": "string"
        },
        {
         "name": "mean",
         "rawType": "float64",
         "type": "float"
        },
        {
         "name": "count",
         "rawType": "int64",
         "type": "integer"
        },
        {
         "name": "diff",
         "rawType": "float64",
         "type": "float"
        },
        {
         "name": "risk",
         "rawType": "float64",
         "type": "float"
        }
       ],
       "ref": "ae6405cd-6f4f-4e63-a155-95d3614d0cac",
       "rows": [
        [
         "no",
         "0.4043234587670136",
         "2498",
         "0.13435540764880272",
         "1.4976715099890563"
        ],
        [
         "no_internet_service",
         "0.07780507780507781",
         "1221",
         "-0.19216297331313306",
         "0.28820105743182667"
        ],
        [
         "yes",
         "0.21723237597911227",
         "1915",
         "-0.0527356751390986",
         "0.8046595701948182"
        ]
       ],
       "shape": {
        "columns": 4,
        "rows": 3
       }
      },
      "text/html": [
       "<div>\n",
       "<style scoped>\n",
       "    .dataframe tbody tr th:only-of-type {\n",
       "        vertical-align: middle;\n",
       "    }\n",
       "\n",
       "    .dataframe tbody tr th {\n",
       "        vertical-align: top;\n",
       "    }\n",
       "\n",
       "    .dataframe thead th {\n",
       "        text-align: right;\n",
       "    }\n",
       "</style>\n",
       "<table border=\"1\" class=\"dataframe\">\n",
       "  <thead>\n",
       "    <tr style=\"text-align: right;\">\n",
       "      <th></th>\n",
       "      <th>mean</th>\n",
       "      <th>count</th>\n",
       "      <th>diff</th>\n",
       "      <th>risk</th>\n",
       "    </tr>\n",
       "    <tr>\n",
       "      <th>onlinebackup</th>\n",
       "      <th></th>\n",
       "      <th></th>\n",
       "      <th></th>\n",
       "      <th></th>\n",
       "    </tr>\n",
       "  </thead>\n",
       "  <tbody>\n",
       "    <tr>\n",
       "      <th>no</th>\n",
       "      <td>0.404323</td>\n",
       "      <td>2498</td>\n",
       "      <td>0.134355</td>\n",
       "      <td>1.497672</td>\n",
       "    </tr>\n",
       "    <tr>\n",
       "      <th>no_internet_service</th>\n",
       "      <td>0.077805</td>\n",
       "      <td>1221</td>\n",
       "      <td>-0.192163</td>\n",
       "      <td>0.288201</td>\n",
       "    </tr>\n",
       "    <tr>\n",
       "      <th>yes</th>\n",
       "      <td>0.217232</td>\n",
       "      <td>1915</td>\n",
       "      <td>-0.052736</td>\n",
       "      <td>0.804660</td>\n",
       "    </tr>\n",
       "  </tbody>\n",
       "</table>\n",
       "</div>"
      ],
      "text/plain": [
       "                         mean  count      diff      risk\n",
       "onlinebackup                                            \n",
       "no                   0.404323   2498  0.134355  1.497672\n",
       "no_internet_service  0.077805   1221 -0.192163  0.288201\n",
       "yes                  0.217232   1915 -0.052736  0.804660"
      ]
     },
     "metadata": {},
     "output_type": "display_data"
    },
    {
     "name": "stdout",
     "output_type": "stream",
     "text": [
      "\n",
      "\n",
      "deviceprotection\n"
     ]
    },
    {
     "data": {
      "application/vnd.microsoft.datawrangler.viewer.v0+json": {
       "columns": [
        {
         "name": "deviceprotection",
         "rawType": "object",
         "type": "string"
        },
        {
         "name": "mean",
         "rawType": "float64",
         "type": "float"
        },
        {
         "name": "count",
         "rawType": "int64",
         "type": "integer"
        },
        {
         "name": "diff",
         "rawType": "float64",
         "type": "float"
        },
        {
         "name": "risk",
         "rawType": "float64",
         "type": "float"
        }
       ],
       "ref": "c39e1377-1861-4a36-8281-3710f3d2e5c5",
       "rows": [
        [
         "no",
         "0.3958754549130611",
         "2473",
         "0.12590740379485021",
         "1.4663789039974926"
        ],
        [
         "no_internet_service",
         "0.07780507780507781",
         "1221",
         "-0.19216297331313306",
         "0.28820105743182667"
        ],
        [
         "yes",
         "0.2304123711340206",
         "1940",
         "-0.03955567998419027",
         "0.8534801439638869"
        ]
       ],
       "shape": {
        "columns": 4,
        "rows": 3
       }
      },
      "text/html": [
       "<div>\n",
       "<style scoped>\n",
       "    .dataframe tbody tr th:only-of-type {\n",
       "        vertical-align: middle;\n",
       "    }\n",
       "\n",
       "    .dataframe tbody tr th {\n",
       "        vertical-align: top;\n",
       "    }\n",
       "\n",
       "    .dataframe thead th {\n",
       "        text-align: right;\n",
       "    }\n",
       "</style>\n",
       "<table border=\"1\" class=\"dataframe\">\n",
       "  <thead>\n",
       "    <tr style=\"text-align: right;\">\n",
       "      <th></th>\n",
       "      <th>mean</th>\n",
       "      <th>count</th>\n",
       "      <th>diff</th>\n",
       "      <th>risk</th>\n",
       "    </tr>\n",
       "    <tr>\n",
       "      <th>deviceprotection</th>\n",
       "      <th></th>\n",
       "      <th></th>\n",
       "      <th></th>\n",
       "      <th></th>\n",
       "    </tr>\n",
       "  </thead>\n",
       "  <tbody>\n",
       "    <tr>\n",
       "      <th>no</th>\n",
       "      <td>0.395875</td>\n",
       "      <td>2473</td>\n",
       "      <td>0.125907</td>\n",
       "      <td>1.466379</td>\n",
       "    </tr>\n",
       "    <tr>\n",
       "      <th>no_internet_service</th>\n",
       "      <td>0.077805</td>\n",
       "      <td>1221</td>\n",
       "      <td>-0.192163</td>\n",
       "      <td>0.288201</td>\n",
       "    </tr>\n",
       "    <tr>\n",
       "      <th>yes</th>\n",
       "      <td>0.230412</td>\n",
       "      <td>1940</td>\n",
       "      <td>-0.039556</td>\n",
       "      <td>0.853480</td>\n",
       "    </tr>\n",
       "  </tbody>\n",
       "</table>\n",
       "</div>"
      ],
      "text/plain": [
       "                         mean  count      diff      risk\n",
       "deviceprotection                                        \n",
       "no                   0.395875   2473  0.125907  1.466379\n",
       "no_internet_service  0.077805   1221 -0.192163  0.288201\n",
       "yes                  0.230412   1940 -0.039556  0.853480"
      ]
     },
     "metadata": {},
     "output_type": "display_data"
    },
    {
     "name": "stdout",
     "output_type": "stream",
     "text": [
      "\n",
      "\n",
      "techsupport\n"
     ]
    },
    {
     "data": {
      "application/vnd.microsoft.datawrangler.viewer.v0+json": {
       "columns": [
        {
         "name": "techsupport",
         "rawType": "object",
         "type": "string"
        },
        {
         "name": "mean",
         "rawType": "float64",
         "type": "float"
        },
        {
         "name": "count",
         "rawType": "int64",
         "type": "integer"
        },
        {
         "name": "diff",
         "rawType": "float64",
         "type": "float"
        },
        {
         "name": "risk",
         "rawType": "float64",
         "type": "float"
        }
       ],
       "ref": "d8dc32a6-531c-40ba-b546-8129f2fa1efd",
       "rows": [
        [
         "no",
         "0.41891405969075873",
         "2781",
         "0.14894600857254786",
         "1.5517171678486092"
        ],
        [
         "no_internet_service",
         "0.07780507780507781",
         "1221",
         "-0.19216297331313306",
         "0.28820105743182667"
        ],
        [
         "yes",
         "0.15992647058823528",
         "1632",
         "-0.11004158052997559",
         "0.5923903585102679"
        ]
       ],
       "shape": {
        "columns": 4,
        "rows": 3
       }
      },
      "text/html": [
       "<div>\n",
       "<style scoped>\n",
       "    .dataframe tbody tr th:only-of-type {\n",
       "        vertical-align: middle;\n",
       "    }\n",
       "\n",
       "    .dataframe tbody tr th {\n",
       "        vertical-align: top;\n",
       "    }\n",
       "\n",
       "    .dataframe thead th {\n",
       "        text-align: right;\n",
       "    }\n",
       "</style>\n",
       "<table border=\"1\" class=\"dataframe\">\n",
       "  <thead>\n",
       "    <tr style=\"text-align: right;\">\n",
       "      <th></th>\n",
       "      <th>mean</th>\n",
       "      <th>count</th>\n",
       "      <th>diff</th>\n",
       "      <th>risk</th>\n",
       "    </tr>\n",
       "    <tr>\n",
       "      <th>techsupport</th>\n",
       "      <th></th>\n",
       "      <th></th>\n",
       "      <th></th>\n",
       "      <th></th>\n",
       "    </tr>\n",
       "  </thead>\n",
       "  <tbody>\n",
       "    <tr>\n",
       "      <th>no</th>\n",
       "      <td>0.418914</td>\n",
       "      <td>2781</td>\n",
       "      <td>0.148946</td>\n",
       "      <td>1.551717</td>\n",
       "    </tr>\n",
       "    <tr>\n",
       "      <th>no_internet_service</th>\n",
       "      <td>0.077805</td>\n",
       "      <td>1221</td>\n",
       "      <td>-0.192163</td>\n",
       "      <td>0.288201</td>\n",
       "    </tr>\n",
       "    <tr>\n",
       "      <th>yes</th>\n",
       "      <td>0.159926</td>\n",
       "      <td>1632</td>\n",
       "      <td>-0.110042</td>\n",
       "      <td>0.592390</td>\n",
       "    </tr>\n",
       "  </tbody>\n",
       "</table>\n",
       "</div>"
      ],
      "text/plain": [
       "                         mean  count      diff      risk\n",
       "techsupport                                             \n",
       "no                   0.418914   2781  0.148946  1.551717\n",
       "no_internet_service  0.077805   1221 -0.192163  0.288201\n",
       "yes                  0.159926   1632 -0.110042  0.592390"
      ]
     },
     "metadata": {},
     "output_type": "display_data"
    },
    {
     "name": "stdout",
     "output_type": "stream",
     "text": [
      "\n",
      "\n",
      "streamingtv\n"
     ]
    },
    {
     "data": {
      "application/vnd.microsoft.datawrangler.viewer.v0+json": {
       "columns": [
        {
         "name": "streamingtv",
         "rawType": "object",
         "type": "string"
        },
        {
         "name": "mean",
         "rawType": "float64",
         "type": "float"
        },
        {
         "name": "count",
         "rawType": "int64",
         "type": "integer"
        },
        {
         "name": "diff",
         "rawType": "float64",
         "type": "float"
        },
        {
         "name": "risk",
         "rawType": "float64",
         "type": "float"
        }
       ],
       "ref": "b507923b-8cc0-4b95-8162-b7628795da97",
       "rows": [
        [
         "no",
         "0.3428317008014248",
         "2246",
         "0.0728636496832139",
         "1.269897305927171"
        ],
        [
         "no_internet_service",
         "0.07780507780507781",
         "1221",
         "-0.19216297331313306",
         "0.28820105743182667"
        ],
        [
         "yes",
         "0.3027226580526073",
         "2167",
         "0.03275460693439641",
         "1.1213277156268175"
        ]
       ],
       "shape": {
        "columns": 4,
        "rows": 3
       }
      },
      "text/html": [
       "<div>\n",
       "<style scoped>\n",
       "    .dataframe tbody tr th:only-of-type {\n",
       "        vertical-align: middle;\n",
       "    }\n",
       "\n",
       "    .dataframe tbody tr th {\n",
       "        vertical-align: top;\n",
       "    }\n",
       "\n",
       "    .dataframe thead th {\n",
       "        text-align: right;\n",
       "    }\n",
       "</style>\n",
       "<table border=\"1\" class=\"dataframe\">\n",
       "  <thead>\n",
       "    <tr style=\"text-align: right;\">\n",
       "      <th></th>\n",
       "      <th>mean</th>\n",
       "      <th>count</th>\n",
       "      <th>diff</th>\n",
       "      <th>risk</th>\n",
       "    </tr>\n",
       "    <tr>\n",
       "      <th>streamingtv</th>\n",
       "      <th></th>\n",
       "      <th></th>\n",
       "      <th></th>\n",
       "      <th></th>\n",
       "    </tr>\n",
       "  </thead>\n",
       "  <tbody>\n",
       "    <tr>\n",
       "      <th>no</th>\n",
       "      <td>0.342832</td>\n",
       "      <td>2246</td>\n",
       "      <td>0.072864</td>\n",
       "      <td>1.269897</td>\n",
       "    </tr>\n",
       "    <tr>\n",
       "      <th>no_internet_service</th>\n",
       "      <td>0.077805</td>\n",
       "      <td>1221</td>\n",
       "      <td>-0.192163</td>\n",
       "      <td>0.288201</td>\n",
       "    </tr>\n",
       "    <tr>\n",
       "      <th>yes</th>\n",
       "      <td>0.302723</td>\n",
       "      <td>2167</td>\n",
       "      <td>0.032755</td>\n",
       "      <td>1.121328</td>\n",
       "    </tr>\n",
       "  </tbody>\n",
       "</table>\n",
       "</div>"
      ],
      "text/plain": [
       "                         mean  count      diff      risk\n",
       "streamingtv                                             \n",
       "no                   0.342832   2246  0.072864  1.269897\n",
       "no_internet_service  0.077805   1221 -0.192163  0.288201\n",
       "yes                  0.302723   2167  0.032755  1.121328"
      ]
     },
     "metadata": {},
     "output_type": "display_data"
    },
    {
     "name": "stdout",
     "output_type": "stream",
     "text": [
      "\n",
      "\n",
      "streamingmovies\n"
     ]
    },
    {
     "data": {
      "application/vnd.microsoft.datawrangler.viewer.v0+json": {
       "columns": [
        {
         "name": "streamingmovies",
         "rawType": "object",
         "type": "string"
        },
        {
         "name": "mean",
         "rawType": "float64",
         "type": "float"
        },
        {
         "name": "count",
         "rawType": "int64",
         "type": "integer"
        },
        {
         "name": "diff",
         "rawType": "float64",
         "type": "float"
        },
        {
         "name": "risk",
         "rawType": "float64",
         "type": "float"
        }
       ],
       "ref": "45593e85-8436-4a02-80e7-30610bbd1ff6",
       "rows": [
        [
         "no",
         "0.33890646181653866",
         "2213",
         "0.06893841069832779",
         "1.2553576632967645"
        ],
        [
         "no_internet_service",
         "0.07780507780507781",
         "1221",
         "-0.19216297331313306",
         "0.28820105743182667"
        ],
        [
         "yes",
         "0.30727272727272725",
         "2200",
         "0.03730467615451638",
         "1.138181818181818"
        ]
       ],
       "shape": {
        "columns": 4,
        "rows": 3
       }
      },
      "text/html": [
       "<div>\n",
       "<style scoped>\n",
       "    .dataframe tbody tr th:only-of-type {\n",
       "        vertical-align: middle;\n",
       "    }\n",
       "\n",
       "    .dataframe tbody tr th {\n",
       "        vertical-align: top;\n",
       "    }\n",
       "\n",
       "    .dataframe thead th {\n",
       "        text-align: right;\n",
       "    }\n",
       "</style>\n",
       "<table border=\"1\" class=\"dataframe\">\n",
       "  <thead>\n",
       "    <tr style=\"text-align: right;\">\n",
       "      <th></th>\n",
       "      <th>mean</th>\n",
       "      <th>count</th>\n",
       "      <th>diff</th>\n",
       "      <th>risk</th>\n",
       "    </tr>\n",
       "    <tr>\n",
       "      <th>streamingmovies</th>\n",
       "      <th></th>\n",
       "      <th></th>\n",
       "      <th></th>\n",
       "      <th></th>\n",
       "    </tr>\n",
       "  </thead>\n",
       "  <tbody>\n",
       "    <tr>\n",
       "      <th>no</th>\n",
       "      <td>0.338906</td>\n",
       "      <td>2213</td>\n",
       "      <td>0.068938</td>\n",
       "      <td>1.255358</td>\n",
       "    </tr>\n",
       "    <tr>\n",
       "      <th>no_internet_service</th>\n",
       "      <td>0.077805</td>\n",
       "      <td>1221</td>\n",
       "      <td>-0.192163</td>\n",
       "      <td>0.288201</td>\n",
       "    </tr>\n",
       "    <tr>\n",
       "      <th>yes</th>\n",
       "      <td>0.307273</td>\n",
       "      <td>2200</td>\n",
       "      <td>0.037305</td>\n",
       "      <td>1.138182</td>\n",
       "    </tr>\n",
       "  </tbody>\n",
       "</table>\n",
       "</div>"
      ],
      "text/plain": [
       "                         mean  count      diff      risk\n",
       "streamingmovies                                         \n",
       "no                   0.338906   2213  0.068938  1.255358\n",
       "no_internet_service  0.077805   1221 -0.192163  0.288201\n",
       "yes                  0.307273   2200  0.037305  1.138182"
      ]
     },
     "metadata": {},
     "output_type": "display_data"
    },
    {
     "name": "stdout",
     "output_type": "stream",
     "text": [
      "\n",
      "\n",
      "contract\n"
     ]
    },
    {
     "data": {
      "application/vnd.microsoft.datawrangler.viewer.v0+json": {
       "columns": [
        {
         "name": "contract",
         "rawType": "object",
         "type": "string"
        },
        {
         "name": "mean",
         "rawType": "float64",
         "type": "float"
        },
        {
         "name": "count",
         "rawType": "int64",
         "type": "integer"
        },
        {
         "name": "diff",
         "rawType": "float64",
         "type": "float"
        },
        {
         "name": "risk",
         "rawType": "float64",
         "type": "float"
        }
       ],
       "ref": "cd5e9764-64e8-4adf-860e-af26493ea195",
       "rows": [
        [
         "month-to-month",
         "0.43170103092783507",
         "3104",
         "0.1617329798096242",
         "1.5990819252119808"
        ],
        [
         "one_year",
         "0.1205733558178752",
         "1186",
         "-0.14939469530033567",
         "0.4466208327928395"
        ],
        [
         "two_year",
         "0.028273809523809524",
         "1344",
         "-0.24169424159440134",
         "0.10473020569174415"
        ]
       ],
       "shape": {
        "columns": 4,
        "rows": 3
       }
      },
      "text/html": [
       "<div>\n",
       "<style scoped>\n",
       "    .dataframe tbody tr th:only-of-type {\n",
       "        vertical-align: middle;\n",
       "    }\n",
       "\n",
       "    .dataframe tbody tr th {\n",
       "        vertical-align: top;\n",
       "    }\n",
       "\n",
       "    .dataframe thead th {\n",
       "        text-align: right;\n",
       "    }\n",
       "</style>\n",
       "<table border=\"1\" class=\"dataframe\">\n",
       "  <thead>\n",
       "    <tr style=\"text-align: right;\">\n",
       "      <th></th>\n",
       "      <th>mean</th>\n",
       "      <th>count</th>\n",
       "      <th>diff</th>\n",
       "      <th>risk</th>\n",
       "    </tr>\n",
       "    <tr>\n",
       "      <th>contract</th>\n",
       "      <th></th>\n",
       "      <th></th>\n",
       "      <th></th>\n",
       "      <th></th>\n",
       "    </tr>\n",
       "  </thead>\n",
       "  <tbody>\n",
       "    <tr>\n",
       "      <th>month-to-month</th>\n",
       "      <td>0.431701</td>\n",
       "      <td>3104</td>\n",
       "      <td>0.161733</td>\n",
       "      <td>1.599082</td>\n",
       "    </tr>\n",
       "    <tr>\n",
       "      <th>one_year</th>\n",
       "      <td>0.120573</td>\n",
       "      <td>1186</td>\n",
       "      <td>-0.149395</td>\n",
       "      <td>0.446621</td>\n",
       "    </tr>\n",
       "    <tr>\n",
       "      <th>two_year</th>\n",
       "      <td>0.028274</td>\n",
       "      <td>1344</td>\n",
       "      <td>-0.241694</td>\n",
       "      <td>0.104730</td>\n",
       "    </tr>\n",
       "  </tbody>\n",
       "</table>\n",
       "</div>"
      ],
      "text/plain": [
       "                    mean  count      diff      risk\n",
       "contract                                           \n",
       "month-to-month  0.431701   3104  0.161733  1.599082\n",
       "one_year        0.120573   1186 -0.149395  0.446621\n",
       "two_year        0.028274   1344 -0.241694  0.104730"
      ]
     },
     "metadata": {},
     "output_type": "display_data"
    },
    {
     "name": "stdout",
     "output_type": "stream",
     "text": [
      "\n",
      "\n",
      "paperlessbilling\n"
     ]
    },
    {
     "data": {
      "application/vnd.microsoft.datawrangler.viewer.v0+json": {
       "columns": [
        {
         "name": "paperlessbilling",
         "rawType": "object",
         "type": "string"
        },
        {
         "name": "mean",
         "rawType": "float64",
         "type": "float"
        },
        {
         "name": "count",
         "rawType": "int64",
         "type": "integer"
        },
        {
         "name": "diff",
         "rawType": "float64",
         "type": "float"
        },
        {
         "name": "risk",
         "rawType": "float64",
         "type": "float"
        }
       ],
       "ref": "b0f15de9-4747-49bc-a827-d1a9069d0aa4",
       "rows": [
        [
         "no",
         "0.17207090358841332",
         "2313",
         "-0.09789714752979756",
         "0.6373750629961346"
        ],
        [
         "yes",
         "0.3381511592893707",
         "3321",
         "0.0681831081711598",
         "1.2525599154742368"
        ]
       ],
       "shape": {
        "columns": 4,
        "rows": 2
       }
      },
      "text/html": [
       "<div>\n",
       "<style scoped>\n",
       "    .dataframe tbody tr th:only-of-type {\n",
       "        vertical-align: middle;\n",
       "    }\n",
       "\n",
       "    .dataframe tbody tr th {\n",
       "        vertical-align: top;\n",
       "    }\n",
       "\n",
       "    .dataframe thead th {\n",
       "        text-align: right;\n",
       "    }\n",
       "</style>\n",
       "<table border=\"1\" class=\"dataframe\">\n",
       "  <thead>\n",
       "    <tr style=\"text-align: right;\">\n",
       "      <th></th>\n",
       "      <th>mean</th>\n",
       "      <th>count</th>\n",
       "      <th>diff</th>\n",
       "      <th>risk</th>\n",
       "    </tr>\n",
       "    <tr>\n",
       "      <th>paperlessbilling</th>\n",
       "      <th></th>\n",
       "      <th></th>\n",
       "      <th></th>\n",
       "      <th></th>\n",
       "    </tr>\n",
       "  </thead>\n",
       "  <tbody>\n",
       "    <tr>\n",
       "      <th>no</th>\n",
       "      <td>0.172071</td>\n",
       "      <td>2313</td>\n",
       "      <td>-0.097897</td>\n",
       "      <td>0.637375</td>\n",
       "    </tr>\n",
       "    <tr>\n",
       "      <th>yes</th>\n",
       "      <td>0.338151</td>\n",
       "      <td>3321</td>\n",
       "      <td>0.068183</td>\n",
       "      <td>1.252560</td>\n",
       "    </tr>\n",
       "  </tbody>\n",
       "</table>\n",
       "</div>"
      ],
      "text/plain": [
       "                      mean  count      diff      risk\n",
       "paperlessbilling                                     \n",
       "no                0.172071   2313 -0.097897  0.637375\n",
       "yes               0.338151   3321  0.068183  1.252560"
      ]
     },
     "metadata": {},
     "output_type": "display_data"
    },
    {
     "name": "stdout",
     "output_type": "stream",
     "text": [
      "\n",
      "\n",
      "paymentmethod\n"
     ]
    },
    {
     "data": {
      "application/vnd.microsoft.datawrangler.viewer.v0+json": {
       "columns": [
        {
         "name": "paymentmethod",
         "rawType": "object",
         "type": "string"
        },
        {
         "name": "mean",
         "rawType": "float64",
         "type": "float"
        },
        {
         "name": "count",
         "rawType": "int64",
         "type": "integer"
        },
        {
         "name": "diff",
         "rawType": "float64",
         "type": "float"
        },
        {
         "name": "risk",
         "rawType": "float64",
         "type": "float"
        }
       ],
       "ref": "2a2fdd12-c386-4467-90f0-70182cbc3560",
       "rows": [
        [
         "bank_transfer_(automatic)",
         "0.1681706316652994",
         "1219",
         "-0.10179741945291146",
         "0.6229279019081505"
        ],
        [
         "credit_card_(automatic)",
         "0.16433853738701726",
         "1217",
         "-0.10562951373119361",
         "0.6087332804986556"
        ],
        [
         "electronic_check",
         "0.45589012150026414",
         "1893",
         "0.18592207038205327",
         "1.6886817518293806"
        ],
        [
         "mailed_check",
         "0.19386973180076628",
         "1305",
         "-0.0760983193174446",
         "0.7181210183862703"
        ]
       ],
       "shape": {
        "columns": 4,
        "rows": 4
       }
      },
      "text/html": [
       "<div>\n",
       "<style scoped>\n",
       "    .dataframe tbody tr th:only-of-type {\n",
       "        vertical-align: middle;\n",
       "    }\n",
       "\n",
       "    .dataframe tbody tr th {\n",
       "        vertical-align: top;\n",
       "    }\n",
       "\n",
       "    .dataframe thead th {\n",
       "        text-align: right;\n",
       "    }\n",
       "</style>\n",
       "<table border=\"1\" class=\"dataframe\">\n",
       "  <thead>\n",
       "    <tr style=\"text-align: right;\">\n",
       "      <th></th>\n",
       "      <th>mean</th>\n",
       "      <th>count</th>\n",
       "      <th>diff</th>\n",
       "      <th>risk</th>\n",
       "    </tr>\n",
       "    <tr>\n",
       "      <th>paymentmethod</th>\n",
       "      <th></th>\n",
       "      <th></th>\n",
       "      <th></th>\n",
       "      <th></th>\n",
       "    </tr>\n",
       "  </thead>\n",
       "  <tbody>\n",
       "    <tr>\n",
       "      <th>bank_transfer_(automatic)</th>\n",
       "      <td>0.168171</td>\n",
       "      <td>1219</td>\n",
       "      <td>-0.101797</td>\n",
       "      <td>0.622928</td>\n",
       "    </tr>\n",
       "    <tr>\n",
       "      <th>credit_card_(automatic)</th>\n",
       "      <td>0.164339</td>\n",
       "      <td>1217</td>\n",
       "      <td>-0.105630</td>\n",
       "      <td>0.608733</td>\n",
       "    </tr>\n",
       "    <tr>\n",
       "      <th>electronic_check</th>\n",
       "      <td>0.455890</td>\n",
       "      <td>1893</td>\n",
       "      <td>0.185922</td>\n",
       "      <td>1.688682</td>\n",
       "    </tr>\n",
       "    <tr>\n",
       "      <th>mailed_check</th>\n",
       "      <td>0.193870</td>\n",
       "      <td>1305</td>\n",
       "      <td>-0.076098</td>\n",
       "      <td>0.718121</td>\n",
       "    </tr>\n",
       "  </tbody>\n",
       "</table>\n",
       "</div>"
      ],
      "text/plain": [
       "                               mean  count      diff      risk\n",
       "paymentmethod                                                 \n",
       "bank_transfer_(automatic)  0.168171   1219 -0.101797  0.622928\n",
       "credit_card_(automatic)    0.164339   1217 -0.105630  0.608733\n",
       "electronic_check           0.455890   1893  0.185922  1.688682\n",
       "mailed_check               0.193870   1305 -0.076098  0.718121"
      ]
     },
     "metadata": {},
     "output_type": "display_data"
    },
    {
     "name": "stdout",
     "output_type": "stream",
     "text": [
      "\n",
      "\n"
     ]
    }
   ],
   "source": [
    "for c in categorical:\n",
    "    print(c)\n",
    "    df_group = full_train.groupby(c).churn.agg(['mean', 'count'])\n",
    "    df_group['diff'] = df_group['mean'] - global_churn_rate\n",
    "    df_group['risk'] = df_group['mean']/ global_churn_rate\n",
    "    display(df_group)\n",
    "    print()\n",
    "    print()"
   ]
  },
  {
   "cell_type": "markdown",
   "id": "92af9b4a",
   "metadata": {},
   "source": [
    "## Section 6: Feature Importance: Mutual Information\n",
    "\n",
    "The MI of two Random Variable is a measure of the mutual dependence between the two variables. "
   ]
  },
  {
   "cell_type": "code",
   "execution_count": 66,
   "id": "856c60a9",
   "metadata": {},
   "outputs": [],
   "source": [
    "from sklearn.metrics import mutual_info_score"
   ]
  },
  {
   "cell_type": "code",
   "execution_count": 67,
   "id": "270d8df4",
   "metadata": {},
   "outputs": [
    {
     "data": {
      "text/plain": [
       "np.float64(0.0983203874041556)"
      ]
     },
     "execution_count": 67,
     "metadata": {},
     "output_type": "execute_result"
    }
   ],
   "source": [
    "mutual_info_score(full_train.churn, full_train.contract)"
   ]
  },
  {
   "cell_type": "code",
   "execution_count": 68,
   "id": "e8be399f",
   "metadata": {},
   "outputs": [
    {
     "data": {
      "text/plain": [
       "np.float64(0.0001174846211139946)"
      ]
     },
     "execution_count": 68,
     "metadata": {},
     "output_type": "execute_result"
    }
   ],
   "source": [
    "mutual_info_score(full_train.churn, full_train.gender)\n"
   ]
  },
  {
   "cell_type": "code",
   "execution_count": 69,
   "id": "6339644e",
   "metadata": {},
   "outputs": [
    {
     "data": {
      "application/vnd.microsoft.datawrangler.viewer.v0+json": {
       "columns": [
        {
         "name": "index",
         "rawType": "object",
         "type": "string"
        },
        {
         "name": "0",
         "rawType": "float64",
         "type": "float"
        }
       ],
       "ref": "e03ca04a-479e-49f4-9bd9-4b8daeae4e82",
       "rows": [
        [
         "customerid",
         "0.5832270604600807"
        ],
        [
         "contract",
         "0.0983203874041556"
        ],
        [
         "onlinesecurity",
         "0.06308524972985574"
        ],
        [
         "techsupport",
         "0.06103245991777444"
        ],
        [
         "internetservice",
         "0.055867945893496467"
        ],
        [
         "onlinebackup",
         "0.0469234640537918"
        ],
        [
         "deviceprotection",
         "0.04345286925268559"
        ],
        [
         "paymentmethod",
         "0.043210027531582915"
        ],
        [
         "streamingtv",
         "0.03185333110086085"
        ],
        [
         "streamingmovies",
         "0.03158089669519908"
        ],
        [
         "paperlessbilling",
         "0.01758882715925275"
        ],
        [
         "dependents",
         "0.012345815445534689"
        ],
        [
         "partner",
         "0.009967689095399745"
        ],
        [
         "seniorcitizen",
         "0.009410216144208144"
        ],
        [
         "multiplelines",
         "0.0008574478744731856"
        ],
        [
         "phoneservice",
         "0.00022871269738296285"
        ],
        [
         "gender",
         "0.0001174846211139946"
        ]
       ],
       "shape": {
        "columns": 1,
        "rows": 17
       }
      },
      "text/plain": [
       "customerid          0.583227\n",
       "contract            0.098320\n",
       "onlinesecurity      0.063085\n",
       "techsupport         0.061032\n",
       "internetservice     0.055868\n",
       "onlinebackup        0.046923\n",
       "deviceprotection    0.043453\n",
       "paymentmethod       0.043210\n",
       "streamingtv         0.031853\n",
       "streamingmovies     0.031581\n",
       "paperlessbilling    0.017589\n",
       "dependents          0.012346\n",
       "partner             0.009968\n",
       "seniorcitizen       0.009410\n",
       "multiplelines       0.000857\n",
       "phoneservice        0.000229\n",
       "gender              0.000117\n",
       "dtype: float64"
      ]
     },
     "execution_count": 69,
     "metadata": {},
     "output_type": "execute_result"
    }
   ],
   "source": [
    "def mutual_info_churn_score(series):\n",
    "    return mutual_info_score(series, full_train.churn)\n",
    "\n",
    "mi = full_train[categorical].apply(mutual_info_churn_score)\n",
    "mi.sort_values(ascending = False)"
   ]
  },
  {
   "cell_type": "markdown",
   "id": "889494a9",
   "metadata": {},
   "source": [
    "The higher the score in the mutual information, the more we can learn of the churn value from the selected features\n",
    "\n",
    "## Section 7: Feature Importance: Correlation\n",
    "\n",
    "Peason Correlation Coefficient \n",
    "\n",
    "The P_coeff of two variables X, Y \\belongs to [-1,1] \n"
   ]
  },
  {
   "cell_type": "code",
   "execution_count": 106,
   "id": "4257a04e",
   "metadata": {},
   "outputs": [
    {
     "ename": "ValueError",
     "evalue": "could not convert string to float: '_'",
     "output_type": "error",
     "traceback": [
      "\u001b[31m---------------------------------------------------------------------------\u001b[39m",
      "\u001b[31mValueError\u001b[39m                                Traceback (most recent call last)",
      "\u001b[36mCell\u001b[39m\u001b[36m \u001b[39m\u001b[32mIn[106]\u001b[39m\u001b[32m, line 1\u001b[39m\n\u001b[32m----> \u001b[39m\u001b[32m1\u001b[39m \u001b[43mfull_train\u001b[49m\u001b[43m[\u001b[49m\u001b[43mnumerical\u001b[49m\u001b[43m]\u001b[49m\u001b[43m.\u001b[49m\u001b[43mcorrwith\u001b[49m\u001b[43m(\u001b[49m\u001b[43mfull_train\u001b[49m\u001b[43m.\u001b[49m\u001b[43mchurn\u001b[49m\u001b[43m)\u001b[49m\n",
      "\u001b[36mFile \u001b[39m\u001b[32m~/.local/lib/python3.12/site-packages/pandas/core/frame.py:11295\u001b[39m, in \u001b[36mDataFrame.corrwith\u001b[39m\u001b[34m(self, other, axis, drop, method, numeric_only)\u001b[39m\n\u001b[32m  11292\u001b[39m this = \u001b[38;5;28mself\u001b[39m._get_numeric_data() \u001b[38;5;28;01mif\u001b[39;00m numeric_only \u001b[38;5;28;01melse\u001b[39;00m \u001b[38;5;28mself\u001b[39m\n\u001b[32m  11294\u001b[39m \u001b[38;5;28;01mif\u001b[39;00m \u001b[38;5;28misinstance\u001b[39m(other, Series):\n\u001b[32m> \u001b[39m\u001b[32m11295\u001b[39m     \u001b[38;5;28;01mreturn\u001b[39;00m \u001b[43mthis\u001b[49m\u001b[43m.\u001b[49m\u001b[43mapply\u001b[49m\u001b[43m(\u001b[49m\u001b[38;5;28;43;01mlambda\u001b[39;49;00m\u001b[43m \u001b[49m\u001b[43mx\u001b[49m\u001b[43m:\u001b[49m\u001b[43m \u001b[49m\u001b[43mother\u001b[49m\u001b[43m.\u001b[49m\u001b[43mcorr\u001b[49m\u001b[43m(\u001b[49m\u001b[43mx\u001b[49m\u001b[43m,\u001b[49m\u001b[43m \u001b[49m\u001b[43mmethod\u001b[49m\u001b[43m=\u001b[49m\u001b[43mmethod\u001b[49m\u001b[43m)\u001b[49m\u001b[43m,\u001b[49m\u001b[43m \u001b[49m\u001b[43maxis\u001b[49m\u001b[43m=\u001b[49m\u001b[43maxis\u001b[49m\u001b[43m)\u001b[49m\n\u001b[32m  11297\u001b[39m \u001b[38;5;28;01mif\u001b[39;00m numeric_only:\n\u001b[32m  11298\u001b[39m     other = other._get_numeric_data()\n",
      "\u001b[36mFile \u001b[39m\u001b[32m~/.local/lib/python3.12/site-packages/pandas/core/frame.py:10374\u001b[39m, in \u001b[36mDataFrame.apply\u001b[39m\u001b[34m(self, func, axis, raw, result_type, args, by_row, engine, engine_kwargs, **kwargs)\u001b[39m\n\u001b[32m  10360\u001b[39m \u001b[38;5;28;01mfrom\u001b[39;00m\u001b[38;5;250m \u001b[39m\u001b[34;01mpandas\u001b[39;00m\u001b[34;01m.\u001b[39;00m\u001b[34;01mcore\u001b[39;00m\u001b[34;01m.\u001b[39;00m\u001b[34;01mapply\u001b[39;00m\u001b[38;5;250m \u001b[39m\u001b[38;5;28;01mimport\u001b[39;00m frame_apply\n\u001b[32m  10362\u001b[39m op = frame_apply(\n\u001b[32m  10363\u001b[39m     \u001b[38;5;28mself\u001b[39m,\n\u001b[32m  10364\u001b[39m     func=func,\n\u001b[32m   (...)\u001b[39m\u001b[32m  10372\u001b[39m     kwargs=kwargs,\n\u001b[32m  10373\u001b[39m )\n\u001b[32m> \u001b[39m\u001b[32m10374\u001b[39m \u001b[38;5;28;01mreturn\u001b[39;00m \u001b[43mop\u001b[49m\u001b[43m.\u001b[49m\u001b[43mapply\u001b[49m\u001b[43m(\u001b[49m\u001b[43m)\u001b[49m.__finalize__(\u001b[38;5;28mself\u001b[39m, method=\u001b[33m\"\u001b[39m\u001b[33mapply\u001b[39m\u001b[33m\"\u001b[39m)\n",
      "\u001b[36mFile \u001b[39m\u001b[32m~/.local/lib/python3.12/site-packages/pandas/core/apply.py:916\u001b[39m, in \u001b[36mFrameApply.apply\u001b[39m\u001b[34m(self)\u001b[39m\n\u001b[32m    913\u001b[39m \u001b[38;5;28;01melif\u001b[39;00m \u001b[38;5;28mself\u001b[39m.raw:\n\u001b[32m    914\u001b[39m     \u001b[38;5;28;01mreturn\u001b[39;00m \u001b[38;5;28mself\u001b[39m.apply_raw(engine=\u001b[38;5;28mself\u001b[39m.engine, engine_kwargs=\u001b[38;5;28mself\u001b[39m.engine_kwargs)\n\u001b[32m--> \u001b[39m\u001b[32m916\u001b[39m \u001b[38;5;28;01mreturn\u001b[39;00m \u001b[38;5;28;43mself\u001b[39;49m\u001b[43m.\u001b[49m\u001b[43mapply_standard\u001b[49m\u001b[43m(\u001b[49m\u001b[43m)\u001b[49m\n",
      "\u001b[36mFile \u001b[39m\u001b[32m~/.local/lib/python3.12/site-packages/pandas/core/apply.py:1063\u001b[39m, in \u001b[36mFrameApply.apply_standard\u001b[39m\u001b[34m(self)\u001b[39m\n\u001b[32m   1061\u001b[39m \u001b[38;5;28;01mdef\u001b[39;00m\u001b[38;5;250m \u001b[39m\u001b[34mapply_standard\u001b[39m(\u001b[38;5;28mself\u001b[39m):\n\u001b[32m   1062\u001b[39m     \u001b[38;5;28;01mif\u001b[39;00m \u001b[38;5;28mself\u001b[39m.engine == \u001b[33m\"\u001b[39m\u001b[33mpython\u001b[39m\u001b[33m\"\u001b[39m:\n\u001b[32m-> \u001b[39m\u001b[32m1063\u001b[39m         results, res_index = \u001b[38;5;28;43mself\u001b[39;49m\u001b[43m.\u001b[49m\u001b[43mapply_series_generator\u001b[49m\u001b[43m(\u001b[49m\u001b[43m)\u001b[49m\n\u001b[32m   1064\u001b[39m     \u001b[38;5;28;01melse\u001b[39;00m:\n\u001b[32m   1065\u001b[39m         results, res_index = \u001b[38;5;28mself\u001b[39m.apply_series_numba()\n",
      "\u001b[36mFile \u001b[39m\u001b[32m~/.local/lib/python3.12/site-packages/pandas/core/apply.py:1081\u001b[39m, in \u001b[36mFrameApply.apply_series_generator\u001b[39m\u001b[34m(self)\u001b[39m\n\u001b[32m   1078\u001b[39m \u001b[38;5;28;01mwith\u001b[39;00m option_context(\u001b[33m\"\u001b[39m\u001b[33mmode.chained_assignment\u001b[39m\u001b[33m\"\u001b[39m, \u001b[38;5;28;01mNone\u001b[39;00m):\n\u001b[32m   1079\u001b[39m     \u001b[38;5;28;01mfor\u001b[39;00m i, v \u001b[38;5;129;01min\u001b[39;00m \u001b[38;5;28menumerate\u001b[39m(series_gen):\n\u001b[32m   1080\u001b[39m         \u001b[38;5;66;03m# ignore SettingWithCopy here in case the user mutates\u001b[39;00m\n\u001b[32m-> \u001b[39m\u001b[32m1081\u001b[39m         results[i] = \u001b[38;5;28;43mself\u001b[39;49m\u001b[43m.\u001b[49m\u001b[43mfunc\u001b[49m\u001b[43m(\u001b[49m\u001b[43mv\u001b[49m\u001b[43m,\u001b[49m\u001b[43m \u001b[49m\u001b[43m*\u001b[49m\u001b[38;5;28;43mself\u001b[39;49m\u001b[43m.\u001b[49m\u001b[43margs\u001b[49m\u001b[43m,\u001b[49m\u001b[43m \u001b[49m\u001b[43m*\u001b[49m\u001b[43m*\u001b[49m\u001b[38;5;28;43mself\u001b[39;49m\u001b[43m.\u001b[49m\u001b[43mkwargs\u001b[49m\u001b[43m)\u001b[49m\n\u001b[32m   1082\u001b[39m         \u001b[38;5;28;01mif\u001b[39;00m \u001b[38;5;28misinstance\u001b[39m(results[i], ABCSeries):\n\u001b[32m   1083\u001b[39m             \u001b[38;5;66;03m# If we have a view on v, we need to make a copy because\u001b[39;00m\n\u001b[32m   1084\u001b[39m             \u001b[38;5;66;03m#  series_generator will swap out the underlying data\u001b[39;00m\n\u001b[32m   1085\u001b[39m             results[i] = results[i].copy(deep=\u001b[38;5;28;01mFalse\u001b[39;00m)\n",
      "\u001b[36mFile \u001b[39m\u001b[32m~/.local/lib/python3.12/site-packages/pandas/core/frame.py:11295\u001b[39m, in \u001b[36mDataFrame.corrwith.<locals>.<lambda>\u001b[39m\u001b[34m(x)\u001b[39m\n\u001b[32m  11292\u001b[39m this = \u001b[38;5;28mself\u001b[39m._get_numeric_data() \u001b[38;5;28;01mif\u001b[39;00m numeric_only \u001b[38;5;28;01melse\u001b[39;00m \u001b[38;5;28mself\u001b[39m\n\u001b[32m  11294\u001b[39m \u001b[38;5;28;01mif\u001b[39;00m \u001b[38;5;28misinstance\u001b[39m(other, Series):\n\u001b[32m> \u001b[39m\u001b[32m11295\u001b[39m     \u001b[38;5;28;01mreturn\u001b[39;00m this.apply(\u001b[38;5;28;01mlambda\u001b[39;00m x: \u001b[43mother\u001b[49m\u001b[43m.\u001b[49m\u001b[43mcorr\u001b[49m\u001b[43m(\u001b[49m\u001b[43mx\u001b[49m\u001b[43m,\u001b[49m\u001b[43m \u001b[49m\u001b[43mmethod\u001b[49m\u001b[43m=\u001b[49m\u001b[43mmethod\u001b[49m\u001b[43m)\u001b[49m, axis=axis)\n\u001b[32m  11297\u001b[39m \u001b[38;5;28;01mif\u001b[39;00m numeric_only:\n\u001b[32m  11298\u001b[39m     other = other._get_numeric_data()\n",
      "\u001b[36mFile \u001b[39m\u001b[32m~/.local/lib/python3.12/site-packages/pandas/core/series.py:2974\u001b[39m, in \u001b[36mSeries.corr\u001b[39m\u001b[34m(self, other, method, min_periods)\u001b[39m\n\u001b[32m   2971\u001b[39m     \u001b[38;5;28;01mreturn\u001b[39;00m np.nan\n\u001b[32m   2973\u001b[39m this_values = this.to_numpy(dtype=\u001b[38;5;28mfloat\u001b[39m, na_value=np.nan, copy=\u001b[38;5;28;01mFalse\u001b[39;00m)\n\u001b[32m-> \u001b[39m\u001b[32m2974\u001b[39m other_values = \u001b[43mother\u001b[49m\u001b[43m.\u001b[49m\u001b[43mto_numpy\u001b[49m\u001b[43m(\u001b[49m\u001b[43mdtype\u001b[49m\u001b[43m=\u001b[49m\u001b[38;5;28;43mfloat\u001b[39;49m\u001b[43m,\u001b[49m\u001b[43m \u001b[49m\u001b[43mna_value\u001b[49m\u001b[43m=\u001b[49m\u001b[43mnp\u001b[49m\u001b[43m.\u001b[49m\u001b[43mnan\u001b[49m\u001b[43m,\u001b[49m\u001b[43m \u001b[49m\u001b[43mcopy\u001b[49m\u001b[43m=\u001b[49m\u001b[38;5;28;43;01mFalse\u001b[39;49;00m\u001b[43m)\u001b[49m\n\u001b[32m   2976\u001b[39m \u001b[38;5;28;01mif\u001b[39;00m method \u001b[38;5;129;01min\u001b[39;00m [\u001b[33m\"\u001b[39m\u001b[33mpearson\u001b[39m\u001b[33m\"\u001b[39m, \u001b[33m\"\u001b[39m\u001b[33mspearman\u001b[39m\u001b[33m\"\u001b[39m, \u001b[33m\"\u001b[39m\u001b[33mkendall\u001b[39m\u001b[33m\"\u001b[39m] \u001b[38;5;129;01mor\u001b[39;00m \u001b[38;5;28mcallable\u001b[39m(method):\n\u001b[32m   2977\u001b[39m     \u001b[38;5;28;01mreturn\u001b[39;00m nanops.nancorr(\n\u001b[32m   2978\u001b[39m         this_values, other_values, method=method, min_periods=min_periods\n\u001b[32m   2979\u001b[39m     )\n",
      "\u001b[36mFile \u001b[39m\u001b[32m~/.local/lib/python3.12/site-packages/pandas/core/base.py:662\u001b[39m, in \u001b[36mIndexOpsMixin.to_numpy\u001b[39m\u001b[34m(self, dtype, copy, na_value, **kwargs)\u001b[39m\n\u001b[32m    658\u001b[39m         values = values.copy()\n\u001b[32m    660\u001b[39m     values[np.asanyarray(isna(\u001b[38;5;28mself\u001b[39m))] = na_value\n\u001b[32m--> \u001b[39m\u001b[32m662\u001b[39m result = \u001b[43mnp\u001b[49m\u001b[43m.\u001b[49m\u001b[43masarray\u001b[49m\u001b[43m(\u001b[49m\u001b[43mvalues\u001b[49m\u001b[43m,\u001b[49m\u001b[43m \u001b[49m\u001b[43mdtype\u001b[49m\u001b[43m=\u001b[49m\u001b[43mdtype\u001b[49m\u001b[43m)\u001b[49m\n\u001b[32m    664\u001b[39m \u001b[38;5;28;01mif\u001b[39;00m (copy \u001b[38;5;129;01mand\u001b[39;00m \u001b[38;5;129;01mnot\u001b[39;00m fillna) \u001b[38;5;129;01mor\u001b[39;00m (\u001b[38;5;129;01mnot\u001b[39;00m copy \u001b[38;5;129;01mand\u001b[39;00m using_copy_on_write()):\n\u001b[32m    665\u001b[39m     \u001b[38;5;28;01mif\u001b[39;00m np.shares_memory(\u001b[38;5;28mself\u001b[39m._values[:\u001b[32m2\u001b[39m], result[:\u001b[32m2\u001b[39m]):\n\u001b[32m    666\u001b[39m         \u001b[38;5;66;03m# Take slices to improve performance of check\u001b[39;00m\n",
      "\u001b[31mValueError\u001b[39m: could not convert string to float: '_'"
     ]
    }
   ],
   "source": [
    "full_train[numerical].corrwith(full_train.churn)"
   ]
  },
  {
   "cell_type": "code",
   "execution_count": 71,
   "id": "e3b4dde1",
   "metadata": {},
   "outputs": [
    {
     "data": {
      "text/plain": [
       "['tenure', 'monthlycharges', 'totalcharges']"
      ]
     },
     "execution_count": 71,
     "metadata": {},
     "output_type": "execute_result"
    }
   ],
   "source": [
    "numerical"
   ]
  },
  {
   "cell_type": "code",
   "execution_count": 77,
   "id": "06b383e9",
   "metadata": {},
   "outputs": [
    {
     "data": {
      "application/vnd.microsoft.datawrangler.viewer.v0+json": {
       "columns": [
        {
         "name": "churn",
         "rawType": "int64",
         "type": "integer"
        },
        {
         "name": "count",
         "rawType": "int64",
         "type": "integer"
        }
       ],
       "ref": "1340c4e8-8346-4da7-ba8f-02a5b5403a74",
       "rows": [
        [
         "0",
         "4113"
        ],
        [
         "1",
         "1521"
        ]
       ],
       "shape": {
        "columns": 1,
        "rows": 2
       }
      },
      "text/plain": [
       "churn\n",
       "0    4113\n",
       "1    1521\n",
       "Name: count, dtype: int64"
      ]
     },
     "execution_count": 77,
     "metadata": {},
     "output_type": "execute_result"
    }
   ],
   "source": [
    "full_train.churn.value_counts()"
   ]
  },
  {
   "cell_type": "code",
   "execution_count": 86,
   "id": "0c9a7798",
   "metadata": {},
   "outputs": [],
   "source": [
    "full_train_2 = full_train.copy()"
   ]
  },
  {
   "cell_type": "code",
   "execution_count": 89,
   "id": "747bcc57",
   "metadata": {},
   "outputs": [
    {
     "data": {
      "application/vnd.microsoft.datawrangler.viewer.v0+json": {
       "columns": [
        {
         "name": "index",
         "rawType": "int64",
         "type": "integer"
        },
        {
         "name": "customerid",
         "rawType": "object",
         "type": "string"
        },
        {
         "name": "gender",
         "rawType": "object",
         "type": "string"
        },
        {
         "name": "seniorcitizen",
         "rawType": "int64",
         "type": "integer"
        },
        {
         "name": "partner",
         "rawType": "object",
         "type": "string"
        },
        {
         "name": "dependents",
         "rawType": "object",
         "type": "string"
        },
        {
         "name": "tenure",
         "rawType": "int64",
         "type": "integer"
        },
        {
         "name": "phoneservice",
         "rawType": "object",
         "type": "string"
        },
        {
         "name": "multiplelines",
         "rawType": "object",
         "type": "string"
        },
        {
         "name": "internetservice",
         "rawType": "object",
         "type": "string"
        },
        {
         "name": "onlinesecurity",
         "rawType": "object",
         "type": "string"
        },
        {
         "name": "onlinebackup",
         "rawType": "object",
         "type": "string"
        },
        {
         "name": "deviceprotection",
         "rawType": "object",
         "type": "string"
        },
        {
         "name": "techsupport",
         "rawType": "object",
         "type": "string"
        },
        {
         "name": "streamingtv",
         "rawType": "object",
         "type": "string"
        },
        {
         "name": "streamingmovies",
         "rawType": "object",
         "type": "string"
        },
        {
         "name": "contract",
         "rawType": "object",
         "type": "string"
        },
        {
         "name": "paperlessbilling",
         "rawType": "object",
         "type": "string"
        },
        {
         "name": "paymentmethod",
         "rawType": "object",
         "type": "string"
        },
        {
         "name": "monthlycharges",
         "rawType": "float64",
         "type": "float"
        },
        {
         "name": "totalcharges",
         "rawType": "object",
         "type": "string"
        },
        {
         "name": "churn",
         "rawType": "int64",
         "type": "integer"
        }
       ],
       "ref": "23ed33b0-3aa9-4736-abcc-779988dc363a",
       "rows": [
        [
         "899",
         "3213-vvolg",
         "male",
         "0",
         "yes",
         "yes",
         "0",
         "yes",
         "yes",
         "no",
         "no_internet_service",
         "no_internet_service",
         "no_internet_service",
         "no_internet_service",
         "no_internet_service",
         "no_internet_service",
         "two_year",
         "no",
         "mailed_check",
         "25.35",
         "_",
         "0"
        ],
        [
         "2224",
         "5709-lvoeq",
         "female",
         "0",
         "yes",
         "yes",
         "0",
         "yes",
         "no",
         "dsl",
         "yes",
         "yes",
         "yes",
         "no",
         "yes",
         "yes",
         "two_year",
         "no",
         "mailed_check",
         "80.85",
         "_",
         "0"
        ],
        [
         "2697",
         "4367-nuyao",
         "male",
         "0",
         "yes",
         "yes",
         "0",
         "yes",
         "yes",
         "no",
         "no_internet_service",
         "no_internet_service",
         "no_internet_service",
         "no_internet_service",
         "no_internet_service",
         "no_internet_service",
         "two_year",
         "no",
         "mailed_check",
         "25.75",
         "_",
         "0"
        ],
        [
         "3054",
         "2923-arzlg",
         "male",
         "0",
         "yes",
         "yes",
         "0",
         "yes",
         "no",
         "no",
         "no_internet_service",
         "no_internet_service",
         "no_internet_service",
         "no_internet_service",
         "no_internet_service",
         "no_internet_service",
         "one_year",
         "yes",
         "mailed_check",
         "19.7",
         "_",
         "0"
        ],
        [
         "3488",
         "2775-sefee",
         "male",
         "0",
         "no",
         "yes",
         "0",
         "yes",
         "yes",
         "dsl",
         "yes",
         "yes",
         "no",
         "yes",
         "no",
         "no",
         "two_year",
         "yes",
         "bank_transfer_(automatic)",
         "61.9",
         "_",
         "0"
        ],
        [
         "4056",
         "4472-lvygi",
         "female",
         "0",
         "yes",
         "yes",
         "0",
         "no",
         "no_phone_service",
         "dsl",
         "yes",
         "no",
         "yes",
         "yes",
         "yes",
         "no",
         "two_year",
         "yes",
         "bank_transfer_(automatic)",
         "52.55",
         "_",
         "0"
        ],
        [
         "4761",
         "1371-dwpaz",
         "female",
         "0",
         "yes",
         "yes",
         "0",
         "no",
         "no_phone_service",
         "dsl",
         "yes",
         "yes",
         "yes",
         "yes",
         "yes",
         "no",
         "two_year",
         "no",
         "credit_card_(automatic)",
         "56.05",
         "_",
         "0"
        ],
        [
         "5607",
         "3115-czmzd",
         "male",
         "0",
         "no",
         "yes",
         "0",
         "yes",
         "no",
         "no",
         "no_internet_service",
         "no_internet_service",
         "no_internet_service",
         "no_internet_service",
         "no_internet_service",
         "no_internet_service",
         "two_year",
         "no",
         "mailed_check",
         "20.25",
         "_",
         "0"
        ]
       ],
       "shape": {
        "columns": 21,
        "rows": 8
       }
      },
      "text/html": [
       "<div>\n",
       "<style scoped>\n",
       "    .dataframe tbody tr th:only-of-type {\n",
       "        vertical-align: middle;\n",
       "    }\n",
       "\n",
       "    .dataframe tbody tr th {\n",
       "        vertical-align: top;\n",
       "    }\n",
       "\n",
       "    .dataframe thead th {\n",
       "        text-align: right;\n",
       "    }\n",
       "</style>\n",
       "<table border=\"1\" class=\"dataframe\">\n",
       "  <thead>\n",
       "    <tr style=\"text-align: right;\">\n",
       "      <th></th>\n",
       "      <th>customerid</th>\n",
       "      <th>gender</th>\n",
       "      <th>seniorcitizen</th>\n",
       "      <th>partner</th>\n",
       "      <th>dependents</th>\n",
       "      <th>tenure</th>\n",
       "      <th>phoneservice</th>\n",
       "      <th>multiplelines</th>\n",
       "      <th>internetservice</th>\n",
       "      <th>onlinesecurity</th>\n",
       "      <th>...</th>\n",
       "      <th>deviceprotection</th>\n",
       "      <th>techsupport</th>\n",
       "      <th>streamingtv</th>\n",
       "      <th>streamingmovies</th>\n",
       "      <th>contract</th>\n",
       "      <th>paperlessbilling</th>\n",
       "      <th>paymentmethod</th>\n",
       "      <th>monthlycharges</th>\n",
       "      <th>totalcharges</th>\n",
       "      <th>churn</th>\n",
       "    </tr>\n",
       "  </thead>\n",
       "  <tbody>\n",
       "    <tr>\n",
       "      <th>899</th>\n",
       "      <td>3213-vvolg</td>\n",
       "      <td>male</td>\n",
       "      <td>0</td>\n",
       "      <td>yes</td>\n",
       "      <td>yes</td>\n",
       "      <td>0</td>\n",
       "      <td>yes</td>\n",
       "      <td>yes</td>\n",
       "      <td>no</td>\n",
       "      <td>no_internet_service</td>\n",
       "      <td>...</td>\n",
       "      <td>no_internet_service</td>\n",
       "      <td>no_internet_service</td>\n",
       "      <td>no_internet_service</td>\n",
       "      <td>no_internet_service</td>\n",
       "      <td>two_year</td>\n",
       "      <td>no</td>\n",
       "      <td>mailed_check</td>\n",
       "      <td>25.35</td>\n",
       "      <td>_</td>\n",
       "      <td>0</td>\n",
       "    </tr>\n",
       "    <tr>\n",
       "      <th>2224</th>\n",
       "      <td>5709-lvoeq</td>\n",
       "      <td>female</td>\n",
       "      <td>0</td>\n",
       "      <td>yes</td>\n",
       "      <td>yes</td>\n",
       "      <td>0</td>\n",
       "      <td>yes</td>\n",
       "      <td>no</td>\n",
       "      <td>dsl</td>\n",
       "      <td>yes</td>\n",
       "      <td>...</td>\n",
       "      <td>yes</td>\n",
       "      <td>no</td>\n",
       "      <td>yes</td>\n",
       "      <td>yes</td>\n",
       "      <td>two_year</td>\n",
       "      <td>no</td>\n",
       "      <td>mailed_check</td>\n",
       "      <td>80.85</td>\n",
       "      <td>_</td>\n",
       "      <td>0</td>\n",
       "    </tr>\n",
       "    <tr>\n",
       "      <th>2697</th>\n",
       "      <td>4367-nuyao</td>\n",
       "      <td>male</td>\n",
       "      <td>0</td>\n",
       "      <td>yes</td>\n",
       "      <td>yes</td>\n",
       "      <td>0</td>\n",
       "      <td>yes</td>\n",
       "      <td>yes</td>\n",
       "      <td>no</td>\n",
       "      <td>no_internet_service</td>\n",
       "      <td>...</td>\n",
       "      <td>no_internet_service</td>\n",
       "      <td>no_internet_service</td>\n",
       "      <td>no_internet_service</td>\n",
       "      <td>no_internet_service</td>\n",
       "      <td>two_year</td>\n",
       "      <td>no</td>\n",
       "      <td>mailed_check</td>\n",
       "      <td>25.75</td>\n",
       "      <td>_</td>\n",
       "      <td>0</td>\n",
       "    </tr>\n",
       "    <tr>\n",
       "      <th>3054</th>\n",
       "      <td>2923-arzlg</td>\n",
       "      <td>male</td>\n",
       "      <td>0</td>\n",
       "      <td>yes</td>\n",
       "      <td>yes</td>\n",
       "      <td>0</td>\n",
       "      <td>yes</td>\n",
       "      <td>no</td>\n",
       "      <td>no</td>\n",
       "      <td>no_internet_service</td>\n",
       "      <td>...</td>\n",
       "      <td>no_internet_service</td>\n",
       "      <td>no_internet_service</td>\n",
       "      <td>no_internet_service</td>\n",
       "      <td>no_internet_service</td>\n",
       "      <td>one_year</td>\n",
       "      <td>yes</td>\n",
       "      <td>mailed_check</td>\n",
       "      <td>19.70</td>\n",
       "      <td>_</td>\n",
       "      <td>0</td>\n",
       "    </tr>\n",
       "    <tr>\n",
       "      <th>3488</th>\n",
       "      <td>2775-sefee</td>\n",
       "      <td>male</td>\n",
       "      <td>0</td>\n",
       "      <td>no</td>\n",
       "      <td>yes</td>\n",
       "      <td>0</td>\n",
       "      <td>yes</td>\n",
       "      <td>yes</td>\n",
       "      <td>dsl</td>\n",
       "      <td>yes</td>\n",
       "      <td>...</td>\n",
       "      <td>no</td>\n",
       "      <td>yes</td>\n",
       "      <td>no</td>\n",
       "      <td>no</td>\n",
       "      <td>two_year</td>\n",
       "      <td>yes</td>\n",
       "      <td>bank_transfer_(automatic)</td>\n",
       "      <td>61.90</td>\n",
       "      <td>_</td>\n",
       "      <td>0</td>\n",
       "    </tr>\n",
       "    <tr>\n",
       "      <th>4056</th>\n",
       "      <td>4472-lvygi</td>\n",
       "      <td>female</td>\n",
       "      <td>0</td>\n",
       "      <td>yes</td>\n",
       "      <td>yes</td>\n",
       "      <td>0</td>\n",
       "      <td>no</td>\n",
       "      <td>no_phone_service</td>\n",
       "      <td>dsl</td>\n",
       "      <td>yes</td>\n",
       "      <td>...</td>\n",
       "      <td>yes</td>\n",
       "      <td>yes</td>\n",
       "      <td>yes</td>\n",
       "      <td>no</td>\n",
       "      <td>two_year</td>\n",
       "      <td>yes</td>\n",
       "      <td>bank_transfer_(automatic)</td>\n",
       "      <td>52.55</td>\n",
       "      <td>_</td>\n",
       "      <td>0</td>\n",
       "    </tr>\n",
       "    <tr>\n",
       "      <th>4761</th>\n",
       "      <td>1371-dwpaz</td>\n",
       "      <td>female</td>\n",
       "      <td>0</td>\n",
       "      <td>yes</td>\n",
       "      <td>yes</td>\n",
       "      <td>0</td>\n",
       "      <td>no</td>\n",
       "      <td>no_phone_service</td>\n",
       "      <td>dsl</td>\n",
       "      <td>yes</td>\n",
       "      <td>...</td>\n",
       "      <td>yes</td>\n",
       "      <td>yes</td>\n",
       "      <td>yes</td>\n",
       "      <td>no</td>\n",
       "      <td>two_year</td>\n",
       "      <td>no</td>\n",
       "      <td>credit_card_(automatic)</td>\n",
       "      <td>56.05</td>\n",
       "      <td>_</td>\n",
       "      <td>0</td>\n",
       "    </tr>\n",
       "    <tr>\n",
       "      <th>5607</th>\n",
       "      <td>3115-czmzd</td>\n",
       "      <td>male</td>\n",
       "      <td>0</td>\n",
       "      <td>no</td>\n",
       "      <td>yes</td>\n",
       "      <td>0</td>\n",
       "      <td>yes</td>\n",
       "      <td>no</td>\n",
       "      <td>no</td>\n",
       "      <td>no_internet_service</td>\n",
       "      <td>...</td>\n",
       "      <td>no_internet_service</td>\n",
       "      <td>no_internet_service</td>\n",
       "      <td>no_internet_service</td>\n",
       "      <td>no_internet_service</td>\n",
       "      <td>two_year</td>\n",
       "      <td>no</td>\n",
       "      <td>mailed_check</td>\n",
       "      <td>20.25</td>\n",
       "      <td>_</td>\n",
       "      <td>0</td>\n",
       "    </tr>\n",
       "  </tbody>\n",
       "</table>\n",
       "<p>8 rows × 21 columns</p>\n",
       "</div>"
      ],
      "text/plain": [
       "      customerid  gender  seniorcitizen partner dependents  tenure  \\\n",
       "899   3213-vvolg    male              0     yes        yes       0   \n",
       "2224  5709-lvoeq  female              0     yes        yes       0   \n",
       "2697  4367-nuyao    male              0     yes        yes       0   \n",
       "3054  2923-arzlg    male              0     yes        yes       0   \n",
       "3488  2775-sefee    male              0      no        yes       0   \n",
       "4056  4472-lvygi  female              0     yes        yes       0   \n",
       "4761  1371-dwpaz  female              0     yes        yes       0   \n",
       "5607  3115-czmzd    male              0      no        yes       0   \n",
       "\n",
       "     phoneservice     multiplelines internetservice       onlinesecurity  ...  \\\n",
       "899           yes               yes              no  no_internet_service  ...   \n",
       "2224          yes                no             dsl                  yes  ...   \n",
       "2697          yes               yes              no  no_internet_service  ...   \n",
       "3054          yes                no              no  no_internet_service  ...   \n",
       "3488          yes               yes             dsl                  yes  ...   \n",
       "4056           no  no_phone_service             dsl                  yes  ...   \n",
       "4761           no  no_phone_service             dsl                  yes  ...   \n",
       "5607          yes                no              no  no_internet_service  ...   \n",
       "\n",
       "         deviceprotection          techsupport          streamingtv  \\\n",
       "899   no_internet_service  no_internet_service  no_internet_service   \n",
       "2224                  yes                   no                  yes   \n",
       "2697  no_internet_service  no_internet_service  no_internet_service   \n",
       "3054  no_internet_service  no_internet_service  no_internet_service   \n",
       "3488                   no                  yes                   no   \n",
       "4056                  yes                  yes                  yes   \n",
       "4761                  yes                  yes                  yes   \n",
       "5607  no_internet_service  no_internet_service  no_internet_service   \n",
       "\n",
       "          streamingmovies  contract paperlessbilling  \\\n",
       "899   no_internet_service  two_year               no   \n",
       "2224                  yes  two_year               no   \n",
       "2697  no_internet_service  two_year               no   \n",
       "3054  no_internet_service  one_year              yes   \n",
       "3488                   no  two_year              yes   \n",
       "4056                   no  two_year              yes   \n",
       "4761                   no  two_year               no   \n",
       "5607  no_internet_service  two_year               no   \n",
       "\n",
       "                  paymentmethod monthlycharges  totalcharges churn  \n",
       "899                mailed_check          25.35             _     0  \n",
       "2224               mailed_check          80.85             _     0  \n",
       "2697               mailed_check          25.75             _     0  \n",
       "3054               mailed_check          19.70             _     0  \n",
       "3488  bank_transfer_(automatic)          61.90             _     0  \n",
       "4056  bank_transfer_(automatic)          52.55             _     0  \n",
       "4761    credit_card_(automatic)          56.05             _     0  \n",
       "5607               mailed_check          20.25             _     0  \n",
       "\n",
       "[8 rows x 21 columns]"
      ]
     },
     "execution_count": 89,
     "metadata": {},
     "output_type": "execute_result"
    }
   ],
   "source": [
    "full_train_2[full_train_2.totalcharges == '_']"
   ]
  },
  {
   "cell_type": "code",
   "execution_count": 93,
   "id": "1c76d366",
   "metadata": {},
   "outputs": [],
   "source": [
    "tc = pd.to_numeric(full_train_2.totalcharges, errors = 'coerce')"
   ]
  },
  {
   "cell_type": "code",
   "execution_count": 94,
   "id": "4431a9ba",
   "metadata": {},
   "outputs": [
    {
     "data": {
      "application/vnd.microsoft.datawrangler.viewer.v0+json": {
       "columns": [
        {
         "name": "index",
         "rawType": "int64",
         "type": "integer"
        },
        {
         "name": "totalcharges",
         "rawType": "float64",
         "type": "float"
        }
       ],
       "ref": "c44d47fb-95ce-4db6-a2a7-8c53a6a0c3b1",
       "rows": [
        [
         "0",
         "258.35"
        ],
        [
         "1",
         "3160.55"
        ],
        [
         "2",
         "4681.75"
        ],
        [
         "3",
         "6300.85"
        ],
        [
         "4",
         "2044.75"
        ],
        [
         "5",
         "663.05"
        ],
        [
         "6",
         "7422.1"
        ],
        [
         "7",
         "2626.15"
        ],
        [
         "8",
         "457.1"
        ],
        [
         "9",
         "3309.25"
        ],
        [
         "10",
         "1304.85"
        ],
        [
         "11",
         "43.15"
        ],
        [
         "12",
         "209.9"
        ],
        [
         "13",
         "424.45"
        ],
        [
         "14",
         "6157.6"
        ],
        [
         "15",
         "3527.0"
        ],
        [
         "16",
         "1388.45"
        ],
        [
         "17",
         "1376.5"
        ],
        [
         "18",
         "1285.8"
        ],
        [
         "19",
         "2656.5"
        ],
        [
         "20",
         "713.6"
        ],
        [
         "21",
         "531.6"
        ],
        [
         "22",
         "2015.35"
        ],
        [
         "23",
         "2249.1"
        ],
        [
         "24",
         "6929.4"
        ],
        [
         "25",
         "2727.3"
        ],
        [
         "26",
         "7932.5"
        ],
        [
         "27",
         "298.35"
        ],
        [
         "28",
         "7234.8"
        ],
        [
         "29",
         "5186.0"
        ],
        [
         "30",
         "3789.2"
        ],
        [
         "31",
         "6890.0"
        ],
        [
         "32",
         "356.1"
        ],
        [
         "33",
         "3858.05"
        ],
        [
         "34",
         "867.3"
        ],
        [
         "35",
         "5069.65"
        ],
        [
         "36",
         "2440.15"
        ],
        [
         "37",
         "70.0"
        ],
        [
         "38",
         "432.25"
        ],
        [
         "39",
         "2139.2"
        ],
        [
         "40",
         "2745.7"
        ],
        [
         "41",
         "1266.4"
        ],
        [
         "42",
         "7508.55"
        ],
        [
         "43",
         "1739.6"
        ],
        [
         "44",
         "1381.2"
        ],
        [
         "45",
         "1857.3"
        ],
        [
         "46",
         "3303.05"
        ],
        [
         "47",
         "1359.7"
        ],
        [
         "48",
         "1763.55"
        ],
        [
         "49",
         "3688.6"
        ]
       ],
       "shape": {
        "columns": 1,
        "rows": 5634
       }
      },
      "text/plain": [
       "0        258.35\n",
       "1       3160.55\n",
       "2       4681.75\n",
       "3       6300.85\n",
       "4       2044.75\n",
       "         ...   \n",
       "5629     918.60\n",
       "5630    1189.90\n",
       "5631    2979.50\n",
       "5632     114.10\n",
       "5633    1114.85\n",
       "Name: totalcharges, Length: 5634, dtype: float64"
      ]
     },
     "execution_count": 94,
     "metadata": {},
     "output_type": "execute_result"
    }
   ],
   "source": [
    "tc"
   ]
  },
  {
   "cell_type": "code",
   "execution_count": 97,
   "id": "3bd44cb3",
   "metadata": {},
   "outputs": [
    {
     "data": {
      "text/plain": [
       "np.int64(8)"
      ]
     },
     "execution_count": 97,
     "metadata": {},
     "output_type": "execute_result"
    }
   ],
   "source": [
    "tc.isnull().sum()"
   ]
  },
  {
   "cell_type": "code",
   "execution_count": 101,
   "id": "848cb554",
   "metadata": {},
   "outputs": [],
   "source": [
    "tc = tc.fillna(0)"
   ]
  },
  {
   "cell_type": "code",
   "execution_count": 102,
   "id": "4ab04f96",
   "metadata": {},
   "outputs": [
    {
     "data": {
      "text/plain": [
       "np.int64(0)"
      ]
     },
     "execution_count": 102,
     "metadata": {},
     "output_type": "execute_result"
    }
   ],
   "source": [
    "tc.isnull().sum()"
   ]
  },
  {
   "cell_type": "code",
   "execution_count": 103,
   "id": "ef8cb039",
   "metadata": {},
   "outputs": [],
   "source": [
    "full_train_2.totalcharges = tc"
   ]
  },
  {
   "cell_type": "code",
   "execution_count": 104,
   "id": "8011b94e",
   "metadata": {},
   "outputs": [
    {
     "data": {
      "application/vnd.microsoft.datawrangler.viewer.v0+json": {
       "columns": [
        {
         "name": "index",
         "rawType": "int64",
         "type": "integer"
        },
        {
         "name": "customerid",
         "rawType": "object",
         "type": "string"
        },
        {
         "name": "gender",
         "rawType": "object",
         "type": "string"
        },
        {
         "name": "seniorcitizen",
         "rawType": "int64",
         "type": "integer"
        },
        {
         "name": "partner",
         "rawType": "object",
         "type": "string"
        },
        {
         "name": "dependents",
         "rawType": "object",
         "type": "string"
        },
        {
         "name": "tenure",
         "rawType": "int64",
         "type": "integer"
        },
        {
         "name": "phoneservice",
         "rawType": "object",
         "type": "string"
        },
        {
         "name": "multiplelines",
         "rawType": "object",
         "type": "string"
        },
        {
         "name": "internetservice",
         "rawType": "object",
         "type": "string"
        },
        {
         "name": "onlinesecurity",
         "rawType": "object",
         "type": "string"
        },
        {
         "name": "onlinebackup",
         "rawType": "object",
         "type": "string"
        },
        {
         "name": "deviceprotection",
         "rawType": "object",
         "type": "string"
        },
        {
         "name": "techsupport",
         "rawType": "object",
         "type": "string"
        },
        {
         "name": "streamingtv",
         "rawType": "object",
         "type": "string"
        },
        {
         "name": "streamingmovies",
         "rawType": "object",
         "type": "string"
        },
        {
         "name": "contract",
         "rawType": "object",
         "type": "string"
        },
        {
         "name": "paperlessbilling",
         "rawType": "object",
         "type": "string"
        },
        {
         "name": "paymentmethod",
         "rawType": "object",
         "type": "string"
        },
        {
         "name": "monthlycharges",
         "rawType": "float64",
         "type": "float"
        },
        {
         "name": "totalcharges",
         "rawType": "float64",
         "type": "float"
        },
        {
         "name": "churn",
         "rawType": "int64",
         "type": "integer"
        }
       ],
       "ref": "9673a6d4-a106-4c7b-b79b-643ca6b3042a",
       "rows": [
        [
         "0",
         "5442-pptjy",
         "male",
         "0",
         "yes",
         "yes",
         "12",
         "yes",
         "no",
         "no",
         "no_internet_service",
         "no_internet_service",
         "no_internet_service",
         "no_internet_service",
         "no_internet_service",
         "no_internet_service",
         "two_year",
         "no",
         "mailed_check",
         "19.7",
         "258.35",
         "0"
        ],
        [
         "1",
         "6261-rcvns",
         "female",
         "0",
         "no",
         "no",
         "42",
         "yes",
         "no",
         "dsl",
         "yes",
         "yes",
         "yes",
         "yes",
         "no",
         "yes",
         "one_year",
         "no",
         "credit_card_(automatic)",
         "73.9",
         "3160.55",
         "1"
        ],
        [
         "2",
         "2176-osjuv",
         "male",
         "0",
         "yes",
         "no",
         "71",
         "yes",
         "yes",
         "dsl",
         "yes",
         "yes",
         "no",
         "yes",
         "no",
         "no",
         "two_year",
         "no",
         "bank_transfer_(automatic)",
         "65.15",
         "4681.75",
         "0"
        ],
        [
         "3",
         "6161-erdgd",
         "male",
         "0",
         "yes",
         "yes",
         "71",
         "yes",
         "yes",
         "dsl",
         "yes",
         "no",
         "yes",
         "yes",
         "yes",
         "yes",
         "one_year",
         "no",
         "electronic_check",
         "85.45",
         "6300.85",
         "0"
        ],
        [
         "4",
         "2364-ufrom",
         "male",
         "0",
         "no",
         "no",
         "30",
         "yes",
         "no",
         "dsl",
         "yes",
         "yes",
         "no",
         "yes",
         "yes",
         "no",
         "one_year",
         "no",
         "electronic_check",
         "70.4",
         "2044.75",
         "0"
        ],
        [
         "5",
         "4765-oxppd",
         "female",
         "0",
         "yes",
         "yes",
         "9",
         "yes",
         "no",
         "dsl",
         "yes",
         "yes",
         "yes",
         "yes",
         "no",
         "no",
         "month-to-month",
         "no",
         "mailed_check",
         "65.0",
         "663.05",
         "1"
        ],
        [
         "6",
         "0742-lafqk",
         "male",
         "0",
         "yes",
         "no",
         "72",
         "yes",
         "yes",
         "fiber_optic",
         "yes",
         "yes",
         "yes",
         "no",
         "no",
         "yes",
         "two_year",
         "yes",
         "electronic_check",
         "99.15",
         "7422.1",
         "0"
        ],
        [
         "7",
         "5213-twwju",
         "male",
         "0",
         "no",
         "no",
         "28",
         "yes",
         "no",
         "fiber_optic",
         "no",
         "no",
         "yes",
         "yes",
         "no",
         "yes",
         "month-to-month",
         "no",
         "electronic_check",
         "91.0",
         "2626.15",
         "0"
        ],
        [
         "8",
         "9957-yodkz",
         "male",
         "1",
         "yes",
         "no",
         "6",
         "yes",
         "yes",
         "fiber_optic",
         "no",
         "no",
         "yes",
         "no",
         "no",
         "no",
         "month-to-month",
         "yes",
         "electronic_check",
         "80.8",
         "457.1",
         "0"
        ],
        [
         "9",
         "1732-vhubq",
         "female",
         "1",
         "yes",
         "yes",
         "47",
         "yes",
         "no",
         "fiber_optic",
         "no",
         "no",
         "no",
         "no",
         "no",
         "no",
         "month-to-month",
         "no",
         "bank_transfer_(automatic)",
         "70.55",
         "3309.25",
         "1"
        ],
        [
         "10",
         "7771-zonat",
         "male",
         "0",
         "no",
         "no",
         "22",
         "no",
         "no_phone_service",
         "dsl",
         "no",
         "no",
         "yes",
         "yes",
         "yes",
         "yes",
         "two_year",
         "no",
         "bank_transfer_(automatic)",
         "56.75",
         "1304.85",
         "0"
        ],
        [
         "11",
         "7017-vfuly",
         "female",
         "0",
         "yes",
         "no",
         "2",
         "yes",
         "no",
         "no",
         "no_internet_service",
         "no_internet_service",
         "no_internet_service",
         "no_internet_service",
         "no_internet_service",
         "no_internet_service",
         "month-to-month",
         "no",
         "bank_transfer_(automatic)",
         "20.1",
         "43.15",
         "0"
        ],
        [
         "12",
         "1230-qajdw",
         "male",
         "0",
         "no",
         "no",
         "3",
         "yes",
         "yes",
         "dsl",
         "no",
         "no",
         "no",
         "yes",
         "yes",
         "no",
         "month-to-month",
         "yes",
         "mailed_check",
         "65.25",
         "209.9",
         "0"
        ],
        [
         "13",
         "1374-dmzui",
         "female",
         "1",
         "no",
         "no",
         "4",
         "yes",
         "yes",
         "fiber_optic",
         "no",
         "no",
         "no",
         "no",
         "yes",
         "yes",
         "month-to-month",
         "yes",
         "electronic_check",
         "94.3",
         "424.45",
         "1"
        ],
        [
         "14",
         "0330-bgyze",
         "male",
         "0",
         "yes",
         "no",
         "60",
         "yes",
         "yes",
         "fiber_optic",
         "no",
         "yes",
         "yes",
         "no",
         "yes",
         "yes",
         "one_year",
         "no",
         "bank_transfer_(automatic)",
         "102.5",
         "6157.6",
         "0"
        ],
        [
         "15",
         "1814-wfgvs",
         "male",
         "0",
         "yes",
         "yes",
         "72",
         "no",
         "no_phone_service",
         "dsl",
         "yes",
         "no",
         "yes",
         "yes",
         "yes",
         "no",
         "two_year",
         "no",
         "mailed_check",
         "48.9",
         "3527.0",
         "0"
        ],
        [
         "16",
         "3996-znwyk",
         "male",
         "1",
         "yes",
         "yes",
         "71",
         "yes",
         "no",
         "no",
         "no_internet_service",
         "no_internet_service",
         "no_internet_service",
         "no_internet_service",
         "no_internet_service",
         "no_internet_service",
         "two_year",
         "no",
         "credit_card_(automatic)",
         "19.8",
         "1388.45",
         "0"
        ],
        [
         "17",
         "0902-xkxpn",
         "male",
         "0",
         "yes",
         "yes",
         "69",
         "yes",
         "no",
         "no",
         "no_internet_service",
         "no_internet_service",
         "no_internet_service",
         "no_internet_service",
         "no_internet_service",
         "no_internet_service",
         "two_year",
         "no",
         "bank_transfer_(automatic)",
         "20.2",
         "1376.5",
         "0"
        ],
        [
         "18",
         "0980-fexwf",
         "male",
         "0",
         "yes",
         "yes",
         "26",
         "yes",
         "no",
         "dsl",
         "no",
         "no",
         "yes",
         "no",
         "no",
         "no",
         "one_year",
         "no",
         "mailed_check",
         "50.35",
         "1285.8",
         "0"
        ],
        [
         "19",
         "9369-xfehk",
         "female",
         "1",
         "yes",
         "no",
         "33",
         "yes",
         "yes",
         "fiber_optic",
         "no",
         "yes",
         "no",
         "no",
         "no",
         "no",
         "month-to-month",
         "yes",
         "bank_transfer_(automatic)",
         "80.6",
         "2656.5",
         "1"
        ],
        [
         "20",
         "4884-zthvf",
         "female",
         "1",
         "no",
         "no",
         "8",
         "yes",
         "no",
         "fiber_optic",
         "no",
         "yes",
         "no",
         "no",
         "yes",
         "no",
         "month-to-month",
         "yes",
         "electronic_check",
         "87.1",
         "713.6",
         "0"
        ],
        [
         "21",
         "2346-czyil",
         "male",
         "0",
         "no",
         "no",
         "27",
         "yes",
         "no",
         "no",
         "no_internet_service",
         "no_internet_service",
         "no_internet_service",
         "no_internet_service",
         "no_internet_service",
         "no_internet_service",
         "two_year",
         "no",
         "credit_card_(automatic)",
         "20.35",
         "531.6",
         "0"
        ],
        [
         "22",
         "7133-vbdcg",
         "female",
         "0",
         "no",
         "no",
         "25",
         "yes",
         "no",
         "fiber_optic",
         "yes",
         "yes",
         "no",
         "no",
         "no",
         "no",
         "month-to-month",
         "yes",
         "bank_transfer_(automatic)",
         "79.85",
         "2015.35",
         "1"
        ],
        [
         "23",
         "9133-ayjzg",
         "female",
         "0",
         "no",
         "no",
         "23",
         "yes",
         "yes",
         "fiber_optic",
         "no",
         "yes",
         "no",
         "no",
         "yes",
         "yes",
         "month-to-month",
         "yes",
         "credit_card_(automatic)",
         "98.7",
         "2249.1",
         "0"
        ],
        [
         "24",
         "5663-qbgis",
         "male",
         "1",
         "yes",
         "no",
         "72",
         "yes",
         "yes",
         "fiber_optic",
         "no",
         "yes",
         "no",
         "no",
         "yes",
         "yes",
         "two_year",
         "no",
         "bank_transfer_(automatic)",
         "98.35",
         "6929.4",
         "0"
        ],
        [
         "25",
         "3229-uswar",
         "female",
         "0",
         "no",
         "no",
         "34",
         "yes",
         "no",
         "dsl",
         "yes",
         "no",
         "yes",
         "yes",
         "yes",
         "yes",
         "one_year",
         "yes",
         "bank_transfer_(automatic)",
         "79.95",
         "2727.3",
         "0"
        ],
        [
         "26",
         "1162-ecvii",
         "male",
         "1",
         "yes",
         "no",
         "72",
         "yes",
         "yes",
         "fiber_optic",
         "no",
         "yes",
         "yes",
         "yes",
         "yes",
         "yes",
         "two_year",
         "yes",
         "bank_transfer_(automatic)",
         "109.75",
         "7932.5",
         "0"
        ],
        [
         "27",
         "5299-sjczt",
         "male",
         "0",
         "no",
         "no",
         "3",
         "yes",
         "yes",
         "fiber_optic",
         "no",
         "no",
         "yes",
         "no",
         "yes",
         "yes",
         "month-to-month",
         "yes",
         "bank_transfer_(automatic)",
         "101.55",
         "298.35",
         "1"
        ],
        [
         "28",
         "1090-pykci",
         "female",
         "0",
         "yes",
         "yes",
         "69",
         "yes",
         "yes",
         "fiber_optic",
         "yes",
         "yes",
         "yes",
         "yes",
         "yes",
         "no",
         "one_year",
         "yes",
         "credit_card_(automatic)",
         "105.1",
         "7234.8",
         "0"
        ],
        [
         "29",
         "1498-nhtlt",
         "male",
         "0",
         "yes",
         "yes",
         "59",
         "yes",
         "no",
         "dsl",
         "yes",
         "yes",
         "yes",
         "yes",
         "yes",
         "yes",
         "two_year",
         "yes",
         "electronic_check",
         "86.75",
         "5186.0",
         "0"
        ],
        [
         "30",
         "0230-wequw",
         "male",
         "0",
         "yes",
         "no",
         "66",
         "no",
         "no_phone_service",
         "dsl",
         "yes",
         "yes",
         "yes",
         "yes",
         "yes",
         "no",
         "two_year",
         "yes",
         "bank_transfer_(automatic)",
         "56.6",
         "3789.2",
         "0"
        ],
        [
         "31",
         "3763-gczhz",
         "male",
         "0",
         "yes",
         "no",
         "66",
         "yes",
         "yes",
         "fiber_optic",
         "no",
         "yes",
         "no",
         "yes",
         "yes",
         "yes",
         "one_year",
         "yes",
         "electronic_check",
         "104.05",
         "6890.0",
         "1"
        ],
        [
         "32",
         "6786-obwqr",
         "female",
         "0",
         "yes",
         "yes",
         "5",
         "yes",
         "no",
         "fiber_optic",
         "no",
         "no",
         "no",
         "no",
         "yes",
         "no",
         "month-to-month",
         "yes",
         "electronic_check",
         "80.85",
         "356.1",
         "0"
        ],
        [
         "33",
         "8999-ypybv",
         "male",
         "0",
         "yes",
         "yes",
         "45",
         "yes",
         "no",
         "dsl",
         "yes",
         "yes",
         "yes",
         "yes",
         "yes",
         "yes",
         "two_year",
         "yes",
         "mailed_check",
         "84.35",
         "3858.05",
         "0"
        ],
        [
         "34",
         "8922-npkbj",
         "male",
         "0",
         "yes",
         "yes",
         "42",
         "yes",
         "no",
         "no",
         "no_internet_service",
         "no_internet_service",
         "no_internet_service",
         "no_internet_service",
         "no_internet_service",
         "no_internet_service",
         "two_year",
         "no",
         "mailed_check",
         "19.35",
         "867.3",
         "0"
        ],
        [
         "35",
         "3190-xfani",
         "male",
         "0",
         "no",
         "yes",
         "49",
         "yes",
         "yes",
         "fiber_optic",
         "no",
         "no",
         "no",
         "yes",
         "yes",
         "yes",
         "one_year",
         "yes",
         "bank_transfer_(automatic)",
         "100.6",
         "5069.65",
         "1"
        ],
        [
         "36",
         "4597-nucqv",
         "male",
         "1",
         "no",
         "no",
         "24",
         "yes",
         "yes",
         "fiber_optic",
         "no",
         "yes",
         "no",
         "no",
         "yes",
         "yes",
         "month-to-month",
         "yes",
         "electronic_check",
         "101.25",
         "2440.15",
         "1"
        ],
        [
         "37",
         "5583-sxdag",
         "male",
         "0",
         "yes",
         "no",
         "1",
         "yes",
         "no",
         "fiber_optic",
         "no",
         "no",
         "no",
         "no",
         "no",
         "no",
         "month-to-month",
         "no",
         "electronic_check",
         "70.0",
         "70.0",
         "1"
        ],
        [
         "38",
         "0953-lgovu",
         "male",
         "0",
         "yes",
         "yes",
         "12",
         "no",
         "no_phone_service",
         "dsl",
         "no",
         "yes",
         "no",
         "yes",
         "no",
         "no",
         "month-to-month",
         "no",
         "mailed_check",
         "35.5",
         "432.25",
         "0"
        ],
        [
         "39",
         "6682-qjdgb",
         "male",
         "0",
         "no",
         "yes",
         "40",
         "yes",
         "no",
         "dsl",
         "yes",
         "yes",
         "no",
         "no",
         "no",
         "no",
         "month-to-month",
         "yes",
         "mailed_check",
         "55.25",
         "2139.2",
         "1"
        ],
        [
         "40",
         "3023-gflbr",
         "female",
         "0",
         "yes",
         "yes",
         "33",
         "yes",
         "yes",
         "fiber_optic",
         "no",
         "no",
         "no",
         "no",
         "no",
         "yes",
         "month-to-month",
         "no",
         "credit_card_(automatic)",
         "86.15",
         "2745.7",
         "1"
        ],
        [
         "41",
         "5313-fpxwg",
         "male",
         "0",
         "no",
         "no",
         "51",
         "yes",
         "yes",
         "no",
         "no_internet_service",
         "no_internet_service",
         "no_internet_service",
         "no_internet_service",
         "no_internet_service",
         "no_internet_service",
         "one_year",
         "yes",
         "bank_transfer_(automatic)",
         "24.6",
         "1266.4",
         "0"
        ],
        [
         "42",
         "3766-ejlfl",
         "female",
         "0",
         "yes",
         "yes",
         "68",
         "yes",
         "yes",
         "fiber_optic",
         "yes",
         "no",
         "yes",
         "yes",
         "yes",
         "yes",
         "two_year",
         "yes",
         "bank_transfer_(automatic)",
         "109.05",
         "7508.55",
         "0"
        ],
        [
         "43",
         "5423-bhixo",
         "female",
         "0",
         "no",
         "no",
         "32",
         "yes",
         "yes",
         "dsl",
         "no",
         "yes",
         "no",
         "no",
         "no",
         "no",
         "month-to-month",
         "yes",
         "electronic_check",
         "54.2",
         "1739.6",
         "0"
        ],
        [
         "44",
         "5092-stpkp",
         "female",
         "0",
         "no",
         "no",
         "24",
         "yes",
         "no",
         "dsl",
         "yes",
         "no",
         "no",
         "yes",
         "no",
         "no",
         "month-to-month",
         "no",
         "credit_card_(automatic)",
         "56.35",
         "1381.2",
         "0"
        ],
        [
         "45",
         "7841-fcrqd",
         "female",
         "0",
         "yes",
         "no",
         "33",
         "yes",
         "no",
         "dsl",
         "no",
         "yes",
         "no",
         "yes",
         "no",
         "no",
         "one_year",
         "yes",
         "credit_card_(automatic)",
         "53.75",
         "1857.3",
         "0"
        ],
        [
         "46",
         "2873-zliwt",
         "female",
         "0",
         "yes",
         "yes",
         "40",
         "yes",
         "yes",
         "fiber_optic",
         "no",
         "no",
         "yes",
         "yes",
         "no",
         "no",
         "month-to-month",
         "yes",
         "electronic_check",
         "84.85",
         "3303.05",
         "1"
        ],
        [
         "47",
         "8919-fyfqz",
         "male",
         "1",
         "yes",
         "no",
         "44",
         "no",
         "no_phone_service",
         "dsl",
         "no",
         "yes",
         "no",
         "no",
         "no",
         "no",
         "month-to-month",
         "yes",
         "electronic_check",
         "30.35",
         "1359.7",
         "1"
        ],
        [
         "48",
         "9066-qrsdu",
         "female",
         "0",
         "yes",
         "no",
         "69",
         "yes",
         "yes",
         "no",
         "no_internet_service",
         "no_internet_service",
         "no_internet_service",
         "no_internet_service",
         "no_internet_service",
         "no_internet_service",
         "one_year",
         "yes",
         "electronic_check",
         "26.3",
         "1763.55",
         "0"
        ],
        [
         "49",
         "2133-tsrrm",
         "female",
         "0",
         "no",
         "yes",
         "34",
         "yes",
         "no",
         "fiber_optic",
         "yes",
         "yes",
         "yes",
         "no",
         "yes",
         "yes",
         "month-to-month",
         "yes",
         "bank_transfer_(automatic)",
         "105.35",
         "3688.6",
         "0"
        ]
       ],
       "shape": {
        "columns": 21,
        "rows": 5634
       }
      },
      "text/html": [
       "<div>\n",
       "<style scoped>\n",
       "    .dataframe tbody tr th:only-of-type {\n",
       "        vertical-align: middle;\n",
       "    }\n",
       "\n",
       "    .dataframe tbody tr th {\n",
       "        vertical-align: top;\n",
       "    }\n",
       "\n",
       "    .dataframe thead th {\n",
       "        text-align: right;\n",
       "    }\n",
       "</style>\n",
       "<table border=\"1\" class=\"dataframe\">\n",
       "  <thead>\n",
       "    <tr style=\"text-align: right;\">\n",
       "      <th></th>\n",
       "      <th>customerid</th>\n",
       "      <th>gender</th>\n",
       "      <th>seniorcitizen</th>\n",
       "      <th>partner</th>\n",
       "      <th>dependents</th>\n",
       "      <th>tenure</th>\n",
       "      <th>phoneservice</th>\n",
       "      <th>multiplelines</th>\n",
       "      <th>internetservice</th>\n",
       "      <th>onlinesecurity</th>\n",
       "      <th>...</th>\n",
       "      <th>deviceprotection</th>\n",
       "      <th>techsupport</th>\n",
       "      <th>streamingtv</th>\n",
       "      <th>streamingmovies</th>\n",
       "      <th>contract</th>\n",
       "      <th>paperlessbilling</th>\n",
       "      <th>paymentmethod</th>\n",
       "      <th>monthlycharges</th>\n",
       "      <th>totalcharges</th>\n",
       "      <th>churn</th>\n",
       "    </tr>\n",
       "  </thead>\n",
       "  <tbody>\n",
       "    <tr>\n",
       "      <th>0</th>\n",
       "      <td>5442-pptjy</td>\n",
       "      <td>male</td>\n",
       "      <td>0</td>\n",
       "      <td>yes</td>\n",
       "      <td>yes</td>\n",
       "      <td>12</td>\n",
       "      <td>yes</td>\n",
       "      <td>no</td>\n",
       "      <td>no</td>\n",
       "      <td>no_internet_service</td>\n",
       "      <td>...</td>\n",
       "      <td>no_internet_service</td>\n",
       "      <td>no_internet_service</td>\n",
       "      <td>no_internet_service</td>\n",
       "      <td>no_internet_service</td>\n",
       "      <td>two_year</td>\n",
       "      <td>no</td>\n",
       "      <td>mailed_check</td>\n",
       "      <td>19.70</td>\n",
       "      <td>258.35</td>\n",
       "      <td>0</td>\n",
       "    </tr>\n",
       "    <tr>\n",
       "      <th>1</th>\n",
       "      <td>6261-rcvns</td>\n",
       "      <td>female</td>\n",
       "      <td>0</td>\n",
       "      <td>no</td>\n",
       "      <td>no</td>\n",
       "      <td>42</td>\n",
       "      <td>yes</td>\n",
       "      <td>no</td>\n",
       "      <td>dsl</td>\n",
       "      <td>yes</td>\n",
       "      <td>...</td>\n",
       "      <td>yes</td>\n",
       "      <td>yes</td>\n",
       "      <td>no</td>\n",
       "      <td>yes</td>\n",
       "      <td>one_year</td>\n",
       "      <td>no</td>\n",
       "      <td>credit_card_(automatic)</td>\n",
       "      <td>73.90</td>\n",
       "      <td>3160.55</td>\n",
       "      <td>1</td>\n",
       "    </tr>\n",
       "    <tr>\n",
       "      <th>2</th>\n",
       "      <td>2176-osjuv</td>\n",
       "      <td>male</td>\n",
       "      <td>0</td>\n",
       "      <td>yes</td>\n",
       "      <td>no</td>\n",
       "      <td>71</td>\n",
       "      <td>yes</td>\n",
       "      <td>yes</td>\n",
       "      <td>dsl</td>\n",
       "      <td>yes</td>\n",
       "      <td>...</td>\n",
       "      <td>no</td>\n",
       "      <td>yes</td>\n",
       "      <td>no</td>\n",
       "      <td>no</td>\n",
       "      <td>two_year</td>\n",
       "      <td>no</td>\n",
       "      <td>bank_transfer_(automatic)</td>\n",
       "      <td>65.15</td>\n",
       "      <td>4681.75</td>\n",
       "      <td>0</td>\n",
       "    </tr>\n",
       "    <tr>\n",
       "      <th>3</th>\n",
       "      <td>6161-erdgd</td>\n",
       "      <td>male</td>\n",
       "      <td>0</td>\n",
       "      <td>yes</td>\n",
       "      <td>yes</td>\n",
       "      <td>71</td>\n",
       "      <td>yes</td>\n",
       "      <td>yes</td>\n",
       "      <td>dsl</td>\n",
       "      <td>yes</td>\n",
       "      <td>...</td>\n",
       "      <td>yes</td>\n",
       "      <td>yes</td>\n",
       "      <td>yes</td>\n",
       "      <td>yes</td>\n",
       "      <td>one_year</td>\n",
       "      <td>no</td>\n",
       "      <td>electronic_check</td>\n",
       "      <td>85.45</td>\n",
       "      <td>6300.85</td>\n",
       "      <td>0</td>\n",
       "    </tr>\n",
       "    <tr>\n",
       "      <th>4</th>\n",
       "      <td>2364-ufrom</td>\n",
       "      <td>male</td>\n",
       "      <td>0</td>\n",
       "      <td>no</td>\n",
       "      <td>no</td>\n",
       "      <td>30</td>\n",
       "      <td>yes</td>\n",
       "      <td>no</td>\n",
       "      <td>dsl</td>\n",
       "      <td>yes</td>\n",
       "      <td>...</td>\n",
       "      <td>no</td>\n",
       "      <td>yes</td>\n",
       "      <td>yes</td>\n",
       "      <td>no</td>\n",
       "      <td>one_year</td>\n",
       "      <td>no</td>\n",
       "      <td>electronic_check</td>\n",
       "      <td>70.40</td>\n",
       "      <td>2044.75</td>\n",
       "      <td>0</td>\n",
       "    </tr>\n",
       "    <tr>\n",
       "      <th>...</th>\n",
       "      <td>...</td>\n",
       "      <td>...</td>\n",
       "      <td>...</td>\n",
       "      <td>...</td>\n",
       "      <td>...</td>\n",
       "      <td>...</td>\n",
       "      <td>...</td>\n",
       "      <td>...</td>\n",
       "      <td>...</td>\n",
       "      <td>...</td>\n",
       "      <td>...</td>\n",
       "      <td>...</td>\n",
       "      <td>...</td>\n",
       "      <td>...</td>\n",
       "      <td>...</td>\n",
       "      <td>...</td>\n",
       "      <td>...</td>\n",
       "      <td>...</td>\n",
       "      <td>...</td>\n",
       "      <td>...</td>\n",
       "      <td>...</td>\n",
       "    </tr>\n",
       "    <tr>\n",
       "      <th>5629</th>\n",
       "      <td>0781-lkxbr</td>\n",
       "      <td>male</td>\n",
       "      <td>1</td>\n",
       "      <td>no</td>\n",
       "      <td>no</td>\n",
       "      <td>9</td>\n",
       "      <td>yes</td>\n",
       "      <td>yes</td>\n",
       "      <td>fiber_optic</td>\n",
       "      <td>no</td>\n",
       "      <td>...</td>\n",
       "      <td>yes</td>\n",
       "      <td>no</td>\n",
       "      <td>yes</td>\n",
       "      <td>yes</td>\n",
       "      <td>month-to-month</td>\n",
       "      <td>yes</td>\n",
       "      <td>electronic_check</td>\n",
       "      <td>100.50</td>\n",
       "      <td>918.60</td>\n",
       "      <td>1</td>\n",
       "    </tr>\n",
       "    <tr>\n",
       "      <th>5630</th>\n",
       "      <td>3507-gasnp</td>\n",
       "      <td>male</td>\n",
       "      <td>0</td>\n",
       "      <td>no</td>\n",
       "      <td>yes</td>\n",
       "      <td>60</td>\n",
       "      <td>yes</td>\n",
       "      <td>no</td>\n",
       "      <td>no</td>\n",
       "      <td>no_internet_service</td>\n",
       "      <td>...</td>\n",
       "      <td>no_internet_service</td>\n",
       "      <td>no_internet_service</td>\n",
       "      <td>no_internet_service</td>\n",
       "      <td>no_internet_service</td>\n",
       "      <td>two_year</td>\n",
       "      <td>no</td>\n",
       "      <td>mailed_check</td>\n",
       "      <td>19.95</td>\n",
       "      <td>1189.90</td>\n",
       "      <td>0</td>\n",
       "    </tr>\n",
       "    <tr>\n",
       "      <th>5631</th>\n",
       "      <td>8868-wozgu</td>\n",
       "      <td>male</td>\n",
       "      <td>0</td>\n",
       "      <td>no</td>\n",
       "      <td>no</td>\n",
       "      <td>28</td>\n",
       "      <td>yes</td>\n",
       "      <td>yes</td>\n",
       "      <td>fiber_optic</td>\n",
       "      <td>no</td>\n",
       "      <td>...</td>\n",
       "      <td>yes</td>\n",
       "      <td>no</td>\n",
       "      <td>yes</td>\n",
       "      <td>yes</td>\n",
       "      <td>month-to-month</td>\n",
       "      <td>yes</td>\n",
       "      <td>electronic_check</td>\n",
       "      <td>105.70</td>\n",
       "      <td>2979.50</td>\n",
       "      <td>1</td>\n",
       "    </tr>\n",
       "    <tr>\n",
       "      <th>5632</th>\n",
       "      <td>1251-krreg</td>\n",
       "      <td>male</td>\n",
       "      <td>0</td>\n",
       "      <td>no</td>\n",
       "      <td>no</td>\n",
       "      <td>2</td>\n",
       "      <td>yes</td>\n",
       "      <td>yes</td>\n",
       "      <td>dsl</td>\n",
       "      <td>no</td>\n",
       "      <td>...</td>\n",
       "      <td>no</td>\n",
       "      <td>no</td>\n",
       "      <td>no</td>\n",
       "      <td>no</td>\n",
       "      <td>month-to-month</td>\n",
       "      <td>yes</td>\n",
       "      <td>mailed_check</td>\n",
       "      <td>54.40</td>\n",
       "      <td>114.10</td>\n",
       "      <td>1</td>\n",
       "    </tr>\n",
       "    <tr>\n",
       "      <th>5633</th>\n",
       "      <td>5840-nvdcg</td>\n",
       "      <td>female</td>\n",
       "      <td>0</td>\n",
       "      <td>yes</td>\n",
       "      <td>yes</td>\n",
       "      <td>16</td>\n",
       "      <td>yes</td>\n",
       "      <td>no</td>\n",
       "      <td>dsl</td>\n",
       "      <td>yes</td>\n",
       "      <td>...</td>\n",
       "      <td>no</td>\n",
       "      <td>yes</td>\n",
       "      <td>no</td>\n",
       "      <td>yes</td>\n",
       "      <td>two_year</td>\n",
       "      <td>no</td>\n",
       "      <td>bank_transfer_(automatic)</td>\n",
       "      <td>68.25</td>\n",
       "      <td>1114.85</td>\n",
       "      <td>0</td>\n",
       "    </tr>\n",
       "  </tbody>\n",
       "</table>\n",
       "<p>5634 rows × 21 columns</p>\n",
       "</div>"
      ],
      "text/plain": [
       "      customerid  gender  seniorcitizen partner dependents  tenure  \\\n",
       "0     5442-pptjy    male              0     yes        yes      12   \n",
       "1     6261-rcvns  female              0      no         no      42   \n",
       "2     2176-osjuv    male              0     yes         no      71   \n",
       "3     6161-erdgd    male              0     yes        yes      71   \n",
       "4     2364-ufrom    male              0      no         no      30   \n",
       "...          ...     ...            ...     ...        ...     ...   \n",
       "5629  0781-lkxbr    male              1      no         no       9   \n",
       "5630  3507-gasnp    male              0      no        yes      60   \n",
       "5631  8868-wozgu    male              0      no         no      28   \n",
       "5632  1251-krreg    male              0      no         no       2   \n",
       "5633  5840-nvdcg  female              0     yes        yes      16   \n",
       "\n",
       "     phoneservice multiplelines internetservice       onlinesecurity  ...  \\\n",
       "0             yes            no              no  no_internet_service  ...   \n",
       "1             yes            no             dsl                  yes  ...   \n",
       "2             yes           yes             dsl                  yes  ...   \n",
       "3             yes           yes             dsl                  yes  ...   \n",
       "4             yes            no             dsl                  yes  ...   \n",
       "...           ...           ...             ...                  ...  ...   \n",
       "5629          yes           yes     fiber_optic                   no  ...   \n",
       "5630          yes            no              no  no_internet_service  ...   \n",
       "5631          yes           yes     fiber_optic                   no  ...   \n",
       "5632          yes           yes             dsl                   no  ...   \n",
       "5633          yes            no             dsl                  yes  ...   \n",
       "\n",
       "         deviceprotection          techsupport          streamingtv  \\\n",
       "0     no_internet_service  no_internet_service  no_internet_service   \n",
       "1                     yes                  yes                   no   \n",
       "2                      no                  yes                   no   \n",
       "3                     yes                  yes                  yes   \n",
       "4                      no                  yes                  yes   \n",
       "...                   ...                  ...                  ...   \n",
       "5629                  yes                   no                  yes   \n",
       "5630  no_internet_service  no_internet_service  no_internet_service   \n",
       "5631                  yes                   no                  yes   \n",
       "5632                   no                   no                   no   \n",
       "5633                   no                  yes                   no   \n",
       "\n",
       "          streamingmovies        contract paperlessbilling  \\\n",
       "0     no_internet_service        two_year               no   \n",
       "1                     yes        one_year               no   \n",
       "2                      no        two_year               no   \n",
       "3                     yes        one_year               no   \n",
       "4                      no        one_year               no   \n",
       "...                   ...             ...              ...   \n",
       "5629                  yes  month-to-month              yes   \n",
       "5630  no_internet_service        two_year               no   \n",
       "5631                  yes  month-to-month              yes   \n",
       "5632                   no  month-to-month              yes   \n",
       "5633                  yes        two_year               no   \n",
       "\n",
       "                  paymentmethod monthlycharges  totalcharges  churn  \n",
       "0                  mailed_check          19.70        258.35      0  \n",
       "1       credit_card_(automatic)          73.90       3160.55      1  \n",
       "2     bank_transfer_(automatic)          65.15       4681.75      0  \n",
       "3              electronic_check          85.45       6300.85      0  \n",
       "4              electronic_check          70.40       2044.75      0  \n",
       "...                         ...            ...           ...    ...  \n",
       "5629           electronic_check         100.50        918.60      1  \n",
       "5630               mailed_check          19.95       1189.90      0  \n",
       "5631           electronic_check         105.70       2979.50      1  \n",
       "5632               mailed_check          54.40        114.10      1  \n",
       "5633  bank_transfer_(automatic)          68.25       1114.85      0  \n",
       "\n",
       "[5634 rows x 21 columns]"
      ]
     },
     "execution_count": 104,
     "metadata": {},
     "output_type": "execute_result"
    }
   ],
   "source": [
    "full_train_2"
   ]
  },
  {
   "cell_type": "code",
   "execution_count": 105,
   "id": "8429d87f",
   "metadata": {},
   "outputs": [
    {
     "data": {
      "application/vnd.microsoft.datawrangler.viewer.v0+json": {
       "columns": [
        {
         "name": "index",
         "rawType": "int64",
         "type": "integer"
        },
        {
         "name": "customerid",
         "rawType": "object",
         "type": "string"
        },
        {
         "name": "gender",
         "rawType": "object",
         "type": "string"
        },
        {
         "name": "seniorcitizen",
         "rawType": "int64",
         "type": "integer"
        },
        {
         "name": "partner",
         "rawType": "object",
         "type": "string"
        },
        {
         "name": "dependents",
         "rawType": "object",
         "type": "string"
        },
        {
         "name": "tenure",
         "rawType": "int64",
         "type": "integer"
        },
        {
         "name": "phoneservice",
         "rawType": "object",
         "type": "string"
        },
        {
         "name": "multiplelines",
         "rawType": "object",
         "type": "string"
        },
        {
         "name": "internetservice",
         "rawType": "object",
         "type": "string"
        },
        {
         "name": "onlinesecurity",
         "rawType": "object",
         "type": "string"
        },
        {
         "name": "onlinebackup",
         "rawType": "object",
         "type": "string"
        },
        {
         "name": "deviceprotection",
         "rawType": "object",
         "type": "string"
        },
        {
         "name": "techsupport",
         "rawType": "object",
         "type": "string"
        },
        {
         "name": "streamingtv",
         "rawType": "object",
         "type": "string"
        },
        {
         "name": "streamingmovies",
         "rawType": "object",
         "type": "string"
        },
        {
         "name": "contract",
         "rawType": "object",
         "type": "string"
        },
        {
         "name": "paperlessbilling",
         "rawType": "object",
         "type": "string"
        },
        {
         "name": "paymentmethod",
         "rawType": "object",
         "type": "string"
        },
        {
         "name": "monthlycharges",
         "rawType": "float64",
         "type": "float"
        },
        {
         "name": "totalcharges",
         "rawType": "float64",
         "type": "float"
        },
        {
         "name": "churn",
         "rawType": "int64",
         "type": "integer"
        }
       ],
       "ref": "28e2bf9b-b374-44ae-beec-2d9e54e96c29",
       "rows": [],
       "shape": {
        "columns": 21,
        "rows": 0
       }
      },
      "text/html": [
       "<div>\n",
       "<style scoped>\n",
       "    .dataframe tbody tr th:only-of-type {\n",
       "        vertical-align: middle;\n",
       "    }\n",
       "\n",
       "    .dataframe tbody tr th {\n",
       "        vertical-align: top;\n",
       "    }\n",
       "\n",
       "    .dataframe thead th {\n",
       "        text-align: right;\n",
       "    }\n",
       "</style>\n",
       "<table border=\"1\" class=\"dataframe\">\n",
       "  <thead>\n",
       "    <tr style=\"text-align: right;\">\n",
       "      <th></th>\n",
       "      <th>customerid</th>\n",
       "      <th>gender</th>\n",
       "      <th>seniorcitizen</th>\n",
       "      <th>partner</th>\n",
       "      <th>dependents</th>\n",
       "      <th>tenure</th>\n",
       "      <th>phoneservice</th>\n",
       "      <th>multiplelines</th>\n",
       "      <th>internetservice</th>\n",
       "      <th>onlinesecurity</th>\n",
       "      <th>...</th>\n",
       "      <th>deviceprotection</th>\n",
       "      <th>techsupport</th>\n",
       "      <th>streamingtv</th>\n",
       "      <th>streamingmovies</th>\n",
       "      <th>contract</th>\n",
       "      <th>paperlessbilling</th>\n",
       "      <th>paymentmethod</th>\n",
       "      <th>monthlycharges</th>\n",
       "      <th>totalcharges</th>\n",
       "      <th>churn</th>\n",
       "    </tr>\n",
       "  </thead>\n",
       "  <tbody>\n",
       "  </tbody>\n",
       "</table>\n",
       "<p>0 rows × 21 columns</p>\n",
       "</div>"
      ],
      "text/plain": [
       "Empty DataFrame\n",
       "Columns: [customerid, gender, seniorcitizen, partner, dependents, tenure, phoneservice, multiplelines, internetservice, onlinesecurity, onlinebackup, deviceprotection, techsupport, streamingtv, streamingmovies, contract, paperlessbilling, paymentmethod, monthlycharges, totalcharges, churn]\n",
       "Index: []\n",
       "\n",
       "[0 rows x 21 columns]"
      ]
     },
     "execution_count": 105,
     "metadata": {},
     "output_type": "execute_result"
    }
   ],
   "source": [
    "full_train_2[full_train_2.totalcharges == '_']"
   ]
  },
  {
   "cell_type": "code",
   "execution_count": 107,
   "id": "953e92e8",
   "metadata": {},
   "outputs": [
    {
     "data": {
      "application/vnd.microsoft.datawrangler.viewer.v0+json": {
       "columns": [
        {
         "name": "index",
         "rawType": "object",
         "type": "string"
        },
        {
         "name": "0",
         "rawType": "float64",
         "type": "float"
        }
       ],
       "ref": "fb74f7d7-9fc1-4c13-9751-8ab9f11cb8e4",
       "rows": [
        [
         "tenure",
         "-0.3518852391159018"
        ],
        [
         "monthlycharges",
         "0.19680530682529074"
        ],
        [
         "totalcharges",
         "-0.19635337452472953"
        ]
       ],
       "shape": {
        "columns": 1,
        "rows": 3
       }
      },
      "text/plain": [
       "tenure           -0.351885\n",
       "monthlycharges    0.196805\n",
       "totalcharges     -0.196353\n",
       "dtype: float64"
      ]
     },
     "execution_count": 107,
     "metadata": {},
     "output_type": "execute_result"
    }
   ],
   "source": [
    "full_train_2[numerical].corrwith(full_train_2.churn)"
   ]
  },
  {
   "cell_type": "code",
   "execution_count": 108,
   "id": "20eba25a",
   "metadata": {},
   "outputs": [],
   "source": [
    "full_train = full_train_2\n"
   ]
  },
  {
   "cell_type": "code",
   "execution_count": null,
   "id": "1d5b9e6d",
   "metadata": {},
   "outputs": [],
   "source": [
    "full_train[df]"
   ]
  },
  {
   "cell_type": "markdown",
   "id": "640d4148",
   "metadata": {},
   "source": [
    "## Section 8: One-Hot encoding"
   ]
  },
  {
   "cell_type": "code",
   "execution_count": 111,
   "id": "bd93334b",
   "metadata": {},
   "outputs": [],
   "source": [
    "corr_matrix = full_train[numerical + ['churn']].corr()"
   ]
  },
  {
   "cell_type": "code",
   "execution_count": 112,
   "id": "a7e1cf2b",
   "metadata": {},
   "outputs": [
    {
     "data": {
      "text/plain": [
       "<Axes: >"
      ]
     },
     "execution_count": 112,
     "metadata": {},
     "output_type": "execute_result"
    },
    {
     "data": {
      "image/png": "[encoded data removed]",
      "text/plain": [
       "<Figure size 640x480 with 2 Axes>"
      ]
     },
     "metadata": {},
     "output_type": "display_data"
    }
   ],
   "source": [
    "sns.heatmap(corr_matrix)"
   ]
  },
  {
   "cell_type": "markdown",
   "id": "25337591",
   "metadata": {},
   "source": [
    "## Section 8: One Hot encoding\n",
    "- Use Scikit-learn to encode categorical features"
   ]
  },
  {
   "cell_type": "code",
   "execution_count": 118,
   "id": "0ac8ad4d",
   "metadata": {},
   "outputs": [],
   "source": [
    "full_train_dum = full_train.copy()"
   ]
  },
  {
   "cell_type": "code",
   "execution_count": 123,
   "id": "cd318818",
   "metadata": {},
   "outputs": [],
   "source": [
    "unique_vals = full_train_dum.gender.unique()"
   ]
  },
  {
   "cell_type": "code",
   "execution_count": 124,
   "id": "91ad1153",
   "metadata": {},
   "outputs": [
    {
     "data": {
      "text/plain": [
       "array(['male', 'female'], dtype=object)"
      ]
     },
     "execution_count": 124,
     "metadata": {},
     "output_type": "execute_result"
    }
   ],
   "source": [
    "unique_vals"
   ]
  },
  {
   "cell_type": "code",
   "execution_count": 125,
   "id": "02d78f92",
   "metadata": {},
   "outputs": [],
   "source": [
    "full_train_dum['male'] = (full_train_dum.gender == 'male').astype(int)"
   ]
  },
  {
   "cell_type": "code",
   "execution_count": 138,
   "id": "4019c2b9",
   "metadata": {},
   "outputs": [
    {
     "data": {
      "application/vnd.microsoft.datawrangler.viewer.v0+json": {
       "columns": [
        {
         "name": "index",
         "rawType": "int64",
         "type": "integer"
        },
        {
         "name": "male",
         "rawType": "int64",
         "type": "integer"
        },
        {
         "name": "gender",
         "rawType": "object",
         "type": "string"
        }
       ],
       "ref": "4ed6671f-9641-43ff-ba1b-043cb3ad65d1",
       "rows": [
        [
         "0",
         "1",
         "male"
        ],
        [
         "1",
         "0",
         "female"
        ],
        [
         "2",
         "1",
         "male"
        ],
        [
         "3",
         "1",
         "male"
        ],
        [
         "4",
         "1",
         "male"
        ],
        [
         "5",
         "0",
         "female"
        ],
        [
         "6",
         "1",
         "male"
        ],
        [
         "7",
         "1",
         "male"
        ],
        [
         "8",
         "1",
         "male"
        ],
        [
         "9",
         "0",
         "female"
        ],
        [
         "10",
         "1",
         "male"
        ],
        [
         "11",
         "0",
         "female"
        ],
        [
         "12",
         "1",
         "male"
        ],
        [
         "13",
         "0",
         "female"
        ],
        [
         "14",
         "1",
         "male"
        ],
        [
         "15",
         "1",
         "male"
        ],
        [
         "16",
         "1",
         "male"
        ],
        [
         "17",
         "1",
         "male"
        ],
        [
         "18",
         "1",
         "male"
        ],
        [
         "19",
         "0",
         "female"
        ],
        [
         "20",
         "0",
         "female"
        ],
        [
         "21",
         "1",
         "male"
        ],
        [
         "22",
         "0",
         "female"
        ],
        [
         "23",
         "0",
         "female"
        ],
        [
         "24",
         "1",
         "male"
        ],
        [
         "25",
         "0",
         "female"
        ],
        [
         "26",
         "1",
         "male"
        ],
        [
         "27",
         "1",
         "male"
        ],
        [
         "28",
         "0",
         "female"
        ],
        [
         "29",
         "1",
         "male"
        ],
        [
         "30",
         "1",
         "male"
        ],
        [
         "31",
         "1",
         "male"
        ],
        [
         "32",
         "0",
         "female"
        ],
        [
         "33",
         "1",
         "male"
        ],
        [
         "34",
         "1",
         "male"
        ],
        [
         "35",
         "1",
         "male"
        ],
        [
         "36",
         "1",
         "male"
        ],
        [
         "37",
         "1",
         "male"
        ],
        [
         "38",
         "1",
         "male"
        ],
        [
         "39",
         "1",
         "male"
        ],
        [
         "40",
         "0",
         "female"
        ],
        [
         "41",
         "1",
         "male"
        ],
        [
         "42",
         "0",
         "female"
        ],
        [
         "43",
         "0",
         "female"
        ],
        [
         "44",
         "0",
         "female"
        ],
        [
         "45",
         "0",
         "female"
        ],
        [
         "46",
         "0",
         "female"
        ],
        [
         "47",
         "1",
         "male"
        ],
        [
         "48",
         "0",
         "female"
        ],
        [
         "49",
         "0",
         "female"
        ]
       ],
       "shape": {
        "columns": 2,
        "rows": 5634
       }
      },
      "text/html": [
       "<div>\n",
       "<style scoped>\n",
       "    .dataframe tbody tr th:only-of-type {\n",
       "        vertical-align: middle;\n",
       "    }\n",
       "\n",
       "    .dataframe tbody tr th {\n",
       "        vertical-align: top;\n",
       "    }\n",
       "\n",
       "    .dataframe thead th {\n",
       "        text-align: right;\n",
       "    }\n",
       "</style>\n",
       "<table border=\"1\" class=\"dataframe\">\n",
       "  <thead>\n",
       "    <tr style=\"text-align: right;\">\n",
       "      <th></th>\n",
       "      <th>male</th>\n",
       "      <th>gender</th>\n",
       "    </tr>\n",
       "  </thead>\n",
       "  <tbody>\n",
       "    <tr>\n",
       "      <th>0</th>\n",
       "      <td>1</td>\n",
       "      <td>male</td>\n",
       "    </tr>\n",
       "    <tr>\n",
       "      <th>1</th>\n",
       "      <td>0</td>\n",
       "      <td>female</td>\n",
       "    </tr>\n",
       "    <tr>\n",
       "      <th>2</th>\n",
       "      <td>1</td>\n",
       "      <td>male</td>\n",
       "    </tr>\n",
       "    <tr>\n",
       "      <th>3</th>\n",
       "      <td>1</td>\n",
       "      <td>male</td>\n",
       "    </tr>\n",
       "    <tr>\n",
       "      <th>4</th>\n",
       "      <td>1</td>\n",
       "      <td>male</td>\n",
       "    </tr>\n",
       "    <tr>\n",
       "      <th>...</th>\n",
       "      <td>...</td>\n",
       "      <td>...</td>\n",
       "    </tr>\n",
       "    <tr>\n",
       "      <th>5629</th>\n",
       "      <td>1</td>\n",
       "      <td>male</td>\n",
       "    </tr>\n",
       "    <tr>\n",
       "      <th>5630</th>\n",
       "      <td>1</td>\n",
       "      <td>male</td>\n",
       "    </tr>\n",
       "    <tr>\n",
       "      <th>5631</th>\n",
       "      <td>1</td>\n",
       "      <td>male</td>\n",
       "    </tr>\n",
       "    <tr>\n",
       "      <th>5632</th>\n",
       "      <td>1</td>\n",
       "      <td>male</td>\n",
       "    </tr>\n",
       "    <tr>\n",
       "      <th>5633</th>\n",
       "      <td>0</td>\n",
       "      <td>female</td>\n",
       "    </tr>\n",
       "  </tbody>\n",
       "</table>\n",
       "<p>5634 rows × 2 columns</p>\n",
       "</div>"
      ],
      "text/plain": [
       "      male  gender\n",
       "0        1    male\n",
       "1        0  female\n",
       "2        1    male\n",
       "3        1    male\n",
       "4        1    male\n",
       "...    ...     ...\n",
       "5629     1    male\n",
       "5630     1    male\n",
       "5631     1    male\n",
       "5632     1    male\n",
       "5633     0  female\n",
       "\n",
       "[5634 rows x 2 columns]"
      ]
     },
     "execution_count": 138,
     "metadata": {},
     "output_type": "execute_result"
    }
   ],
   "source": [
    "full_train_dum[['male', 'gender']]"
   ]
  },
  {
   "cell_type": "code",
   "execution_count": null,
   "id": "53cb08fe",
   "metadata": {},
   "outputs": [],
   "source": [
    "## Before using the scikit function, let's try to define a custom hot-encoder for pedagogical purposes\n",
    "\n",
    "def one_hot_encoding(some_df, categorical):\n",
    "    some_df = some_df.copy()\n",
    "    for c in categorical:\n",
    "        for unique_dim in some_df[c].unique():\n",
    "            some_df[unique_dim] = (some_df[c] == unique_dim).astype(int)\n",
    "    return some_df\n",
    "\n",
    "full_train_dum = one_hot_encoding(full_train, ['gender', 'contract'])"
   ]
  },
  {
   "cell_type": "code",
   "execution_count": 145,
   "id": "e66468ea",
   "metadata": {},
   "outputs": [
    {
     "data": {
      "application/vnd.microsoft.datawrangler.viewer.v0+json": {
       "columns": [
        {
         "name": "index",
         "rawType": "int64",
         "type": "integer"
        },
        {
         "name": "gender",
         "rawType": "object",
         "type": "string"
        },
        {
         "name": "contract",
         "rawType": "object",
         "type": "string"
        },
        {
         "name": "male",
         "rawType": "int64",
         "type": "integer"
        },
        {
         "name": "female",
         "rawType": "int64",
         "type": "integer"
        },
        {
         "name": "month-to-month",
         "rawType": "int64",
         "type": "integer"
        },
        {
         "name": "two_year",
         "rawType": "int64",
         "type": "integer"
        },
        {
         "name": "one_year",
         "rawType": "int64",
         "type": "integer"
        }
       ],
       "ref": "3f0d183f-e212-422d-b368-d089b166cb35",
       "rows": [
        [
         "0",
         "male",
         "two_year",
         "1",
         "0",
         "0",
         "1",
         "0"
        ],
        [
         "1",
         "female",
         "one_year",
         "0",
         "1",
         "0",
         "0",
         "1"
        ],
        [
         "2",
         "male",
         "two_year",
         "1",
         "0",
         "0",
         "1",
         "0"
        ],
        [
         "3",
         "male",
         "one_year",
         "1",
         "0",
         "0",
         "0",
         "1"
        ],
        [
         "4",
         "male",
         "one_year",
         "1",
         "0",
         "0",
         "0",
         "1"
        ]
       ],
       "shape": {
        "columns": 7,
        "rows": 5
       }
      },
      "text/html": [
       "<div>\n",
       "<style scoped>\n",
       "    .dataframe tbody tr th:only-of-type {\n",
       "        vertical-align: middle;\n",
       "    }\n",
       "\n",
       "    .dataframe tbody tr th {\n",
       "        vertical-align: top;\n",
       "    }\n",
       "\n",
       "    .dataframe thead th {\n",
       "        text-align: right;\n",
       "    }\n",
       "</style>\n",
       "<table border=\"1\" class=\"dataframe\">\n",
       "  <thead>\n",
       "    <tr style=\"text-align: right;\">\n",
       "      <th></th>\n",
       "      <th>gender</th>\n",
       "      <th>contract</th>\n",
       "      <th>male</th>\n",
       "      <th>female</th>\n",
       "      <th>month-to-month</th>\n",
       "      <th>two_year</th>\n",
       "      <th>one_year</th>\n",
       "    </tr>\n",
       "  </thead>\n",
       "  <tbody>\n",
       "    <tr>\n",
       "      <th>0</th>\n",
       "      <td>male</td>\n",
       "      <td>two_year</td>\n",
       "      <td>1</td>\n",
       "      <td>0</td>\n",
       "      <td>0</td>\n",
       "      <td>1</td>\n",
       "      <td>0</td>\n",
       "    </tr>\n",
       "    <tr>\n",
       "      <th>1</th>\n",
       "      <td>female</td>\n",
       "      <td>one_year</td>\n",
       "      <td>0</td>\n",
       "      <td>1</td>\n",
       "      <td>0</td>\n",
       "      <td>0</td>\n",
       "      <td>1</td>\n",
       "    </tr>\n",
       "    <tr>\n",
       "      <th>2</th>\n",
       "      <td>male</td>\n",
       "      <td>two_year</td>\n",
       "      <td>1</td>\n",
       "      <td>0</td>\n",
       "      <td>0</td>\n",
       "      <td>1</td>\n",
       "      <td>0</td>\n",
       "    </tr>\n",
       "    <tr>\n",
       "      <th>3</th>\n",
       "      <td>male</td>\n",
       "      <td>one_year</td>\n",
       "      <td>1</td>\n",
       "      <td>0</td>\n",
       "      <td>0</td>\n",
       "      <td>0</td>\n",
       "      <td>1</td>\n",
       "    </tr>\n",
       "    <tr>\n",
       "      <th>4</th>\n",
       "      <td>male</td>\n",
       "      <td>one_year</td>\n",
       "      <td>1</td>\n",
       "      <td>0</td>\n",
       "      <td>0</td>\n",
       "      <td>0</td>\n",
       "      <td>1</td>\n",
       "    </tr>\n",
       "  </tbody>\n",
       "</table>\n",
       "</div>"
      ],
      "text/plain": [
       "   gender  contract  male  female  month-to-month  two_year  one_year\n",
       "0    male  two_year     1       0               0         1         0\n",
       "1  female  one_year     0       1               0         0         1\n",
       "2    male  two_year     1       0               0         1         0\n",
       "3    male  one_year     1       0               0         0         1\n",
       "4    male  one_year     1       0               0         0         1"
      ]
     },
     "execution_count": 145,
     "metadata": {},
     "output_type": "execute_result"
    }
   ],
   "source": [
    "full_train_dum[['gender', 'contract', 'male', 'female', 'month-to-month', 'two_year', 'one_year']].head()"
   ]
  },
  {
   "cell_type": "code",
   "execution_count": 144,
   "id": "c217fe34",
   "metadata": {},
   "outputs": [
    {
     "data": {
      "text/plain": [
       "array(['two_year', 'one_year', 'month-to-month'], dtype=object)"
      ]
     },
     "execution_count": 144,
     "metadata": {},
     "output_type": "execute_result"
    }
   ],
   "source": [
    "full_train.contract.unique()\n"
   ]
  },
  {
   "cell_type": "markdown",
   "id": "c0356667",
   "metadata": {},
   "source": [
    "Okay, I have define a working one-hot-encoder, now let's move on to understand the sklearn implementation"
   ]
  },
  {
   "cell_type": "code",
   "execution_count": 146,
   "id": "06c169a0",
   "metadata": {},
   "outputs": [],
   "source": [
    "from sklearn.feature_extraction import DictVectorizer"
   ]
  },
  {
   "cell_type": "code",
   "execution_count": 148,
   "id": "af71ea40",
   "metadata": {},
   "outputs": [
    {
     "data": {
      "application/vnd.microsoft.datawrangler.viewer.v0+json": {
       "columns": [
        {
         "name": "index",
         "rawType": "int64",
         "type": "integer"
        },
        {
         "name": "gender",
         "rawType": "object",
         "type": "string"
        },
        {
         "name": "contract",
         "rawType": "object",
         "type": "string"
        }
       ],
       "ref": "88ac781f-c97e-4bb2-afd7-c4803371c644",
       "rows": [
        [
         "0",
         "female",
         "two_year"
        ],
        [
         "1",
         "male",
         "month-to-month"
        ],
        [
         "2",
         "female",
         "month-to-month"
        ],
        [
         "3",
         "female",
         "month-to-month"
        ],
        [
         "4",
         "female",
         "two_year"
        ],
        [
         "5",
         "male",
         "month-to-month"
        ],
        [
         "6",
         "male",
         "month-to-month"
        ],
        [
         "7",
         "female",
         "month-to-month"
        ],
        [
         "8",
         "female",
         "two_year"
        ],
        [
         "9",
         "female",
         "month-to-month"
        ]
       ],
       "shape": {
        "columns": 2,
        "rows": 10
       }
      },
      "text/html": [
       "<div>\n",
       "<style scoped>\n",
       "    .dataframe tbody tr th:only-of-type {\n",
       "        vertical-align: middle;\n",
       "    }\n",
       "\n",
       "    .dataframe tbody tr th {\n",
       "        vertical-align: top;\n",
       "    }\n",
       "\n",
       "    .dataframe thead th {\n",
       "        text-align: right;\n",
       "    }\n",
       "</style>\n",
       "<table border=\"1\" class=\"dataframe\">\n",
       "  <thead>\n",
       "    <tr style=\"text-align: right;\">\n",
       "      <th></th>\n",
       "      <th>gender</th>\n",
       "      <th>contract</th>\n",
       "    </tr>\n",
       "  </thead>\n",
       "  <tbody>\n",
       "    <tr>\n",
       "      <th>0</th>\n",
       "      <td>female</td>\n",
       "      <td>two_year</td>\n",
       "    </tr>\n",
       "    <tr>\n",
       "      <th>1</th>\n",
       "      <td>male</td>\n",
       "      <td>month-to-month</td>\n",
       "    </tr>\n",
       "    <tr>\n",
       "      <th>2</th>\n",
       "      <td>female</td>\n",
       "      <td>month-to-month</td>\n",
       "    </tr>\n",
       "    <tr>\n",
       "      <th>3</th>\n",
       "      <td>female</td>\n",
       "      <td>month-to-month</td>\n",
       "    </tr>\n",
       "    <tr>\n",
       "      <th>4</th>\n",
       "      <td>female</td>\n",
       "      <td>two_year</td>\n",
       "    </tr>\n",
       "    <tr>\n",
       "      <th>5</th>\n",
       "      <td>male</td>\n",
       "      <td>month-to-month</td>\n",
       "    </tr>\n",
       "    <tr>\n",
       "      <th>6</th>\n",
       "      <td>male</td>\n",
       "      <td>month-to-month</td>\n",
       "    </tr>\n",
       "    <tr>\n",
       "      <th>7</th>\n",
       "      <td>female</td>\n",
       "      <td>month-to-month</td>\n",
       "    </tr>\n",
       "    <tr>\n",
       "      <th>8</th>\n",
       "      <td>female</td>\n",
       "      <td>two_year</td>\n",
       "    </tr>\n",
       "    <tr>\n",
       "      <th>9</th>\n",
       "      <td>female</td>\n",
       "      <td>month-to-month</td>\n",
       "    </tr>\n",
       "  </tbody>\n",
       "</table>\n",
       "</div>"
      ],
      "text/plain": [
       "   gender        contract\n",
       "0  female        two_year\n",
       "1    male  month-to-month\n",
       "2  female  month-to-month\n",
       "3  female  month-to-month\n",
       "4  female        two_year\n",
       "5    male  month-to-month\n",
       "6    male  month-to-month\n",
       "7  female  month-to-month\n",
       "8  female        two_year\n",
       "9  female  month-to-month"
      ]
     },
     "execution_count": 148,
     "metadata": {},
     "output_type": "execute_result"
    }
   ],
   "source": [
    "train[['gender', 'contract']].iloc[:10]"
   ]
  },
  {
   "cell_type": "code",
   "execution_count": 149,
   "id": "40859560",
   "metadata": {},
   "outputs": [
    {
     "data": {
      "text/plain": [
       "[{'gender': 'female', 'contract': 'two_year'},\n",
       " {'gender': 'male', 'contract': 'month-to-month'},\n",
       " {'gender': 'female', 'contract': 'month-to-month'},\n",
       " {'gender': 'female', 'contract': 'month-to-month'},\n",
       " {'gender': 'female', 'contract': 'two_year'},\n",
       " {'gender': 'male', 'contract': 'month-to-month'},\n",
       " {'gender': 'male', 'contract': 'month-to-month'},\n",
       " {'gender': 'female', 'contract': 'month-to-month'},\n",
       " {'gender': 'female', 'contract': 'two_year'},\n",
       " {'gender': 'female', 'contract': 'month-to-month'}]"
      ]
     },
     "execution_count": 149,
     "metadata": {},
     "output_type": "execute_result"
    }
   ],
   "source": [
    "train[['gender', 'contract']].iloc[:10].to_dict(orient = 'records')\n"
   ]
  },
  {
   "cell_type": "code",
   "execution_count": 182,
   "id": "06e56c7c",
   "metadata": {},
   "outputs": [],
   "source": [
    "\n",
    "dicts = train[categorical].to_dict(orient = 'records') #orient records turns by row into dict"
   ]
  },
  {
   "cell_type": "code",
   "execution_count": 183,
   "id": "3cfddcf3",
   "metadata": {},
   "outputs": [
    {
     "data": {
      "text/plain": [
       "{'gender': 'female',\n",
       " 'seniorcitizen': 0,\n",
       " 'partner': 'yes',\n",
       " 'dependents': 'yes',\n",
       " 'phoneservice': 'yes',\n",
       " 'multiplelines': 'yes',\n",
       " 'internetservice': 'fiber_optic',\n",
       " 'onlinesecurity': 'yes',\n",
       " 'onlinebackup': 'yes',\n",
       " 'deviceprotection': 'yes',\n",
       " 'techsupport': 'yes',\n",
       " 'streamingtv': 'yes',\n",
       " 'streamingmovies': 'yes',\n",
       " 'contract': 'two_year',\n",
       " 'paperlessbilling': 'yes',\n",
       " 'paymentmethod': 'electronic_check'}"
      ]
     },
     "execution_count": 183,
     "metadata": {},
     "output_type": "execute_result"
    }
   ],
   "source": [
    "dicts[0]\n"
   ]
  },
  {
   "cell_type": "code",
   "execution_count": 184,
   "id": "18591a05",
   "metadata": {},
   "outputs": [
    {
     "data": {
      "text/html": [
       "<style>#sk-container-id-7 {\n",
       "  /* Definition of color scheme common for light and dark mode */\n",
       "  --sklearn-color-text: #000;\n",
       "  --sklearn-color-text-muted: #666;\n",
       "  --sklearn-color-line: gray;\n",
       "  /* Definition of color scheme for unfitted estimators */\n",
       "  --sklearn-color-unfitted-level-0: #fff5e6;\n",
       "  --sklearn-color-unfitted-level-1: #f6e4d2;\n",
       "  --sklearn-color-unfitted-level-2: #ffe0b3;\n",
       "  --sklearn-color-unfitted-level-3: chocolate;\n",
       "  /* Definition of color scheme for fitted estimators */\n",
       "  --sklearn-color-fitted-level-0: #f0f8ff;\n",
       "  --sklearn-color-fitted-level-1: #d4ebff;\n",
       "  --sklearn-color-fitted-level-2: #b3dbfd;\n",
       "  --sklearn-color-fitted-level-3: cornflowerblue;\n",
       "\n",
       "  /* Specific color for light theme */\n",
       "  --sklearn-color-text-on-default-background: var(--sg-text-color, var(--theme-code-foreground, var(--jp-content-font-color1, black)));\n",
       "  --sklearn-color-background: var(--sg-background-color, var(--theme-background, var(--jp-layout-color0, white)));\n",
       "  --sklearn-color-border-box: var(--sg-text-color, var(--theme-code-foreground, var(--jp-content-font-color1, black)));\n",
       "  --sklearn-color-icon: #696969;\n",
       "\n",
       "  @media (prefers-color-scheme: dark) {\n",
       "    /* Redefinition of color scheme for dark theme */\n",
       "    --sklearn-color-text-on-default-background: var(--sg-text-color, var(--theme-code-foreground, var(--jp-content-font-color1, white)));\n",
       "    --sklearn-color-background: var(--sg-background-color, var(--theme-background, var(--jp-layout-color0, #111)));\n",
       "    --sklearn-color-border-box: var(--sg-text-color, var(--theme-code-foreground, var(--jp-content-font-color1, white)));\n",
       "    --sklearn-color-icon: #878787;\n",
       "  }\n",
       "}\n",
       "\n",
       "#sk-container-id-7 {\n",
       "  color: var(--sklearn-color-text);\n",
       "}\n",
       "\n",
       "#sk-container-id-7 pre {\n",
       "  padding: 0;\n",
       "}\n",
       "\n",
       "#sk-container-id-7 input.sk-hidden--visually {\n",
       "  border: 0;\n",
       "  clip: rect(1px 1px 1px 1px);\n",
       "  clip: rect(1px, 1px, 1px, 1px);\n",
       "  height: 1px;\n",
       "  margin: -1px;\n",
       "  overflow: hidden;\n",
       "  padding: 0;\n",
       "  position: absolute;\n",
       "  width: 1px;\n",
       "}\n",
       "\n",
       "#sk-container-id-7 div.sk-dashed-wrapped {\n",
       "  border: 1px dashed var(--sklearn-color-line);\n",
       "  margin: 0 0.4em 0.5em 0.4em;\n",
       "  box-sizing: border-box;\n",
       "  padding-bottom: 0.4em;\n",
       "  background-color: var(--sklearn-color-background);\n",
       "}\n",
       "\n",
       "#sk-container-id-7 div.sk-container {\n",
       "  /* jupyter's `normalize.less` sets `[hidden] { display: none; }`\n",
       "     but bootstrap.min.css set `[hidden] { display: none !important; }`\n",
       "     so we also need the `!important` here to be able to override the\n",
       "     default hidden behavior on the sphinx rendered scikit-learn.org.\n",
       "     See: https://github.com/scikit-learn/scikit-learn/issues/21755 */\n",
       "  display: inline-block !important;\n",
       "  position: relative;\n",
       "}\n",
       "\n",
       "#sk-container-id-7 div.sk-text-repr-fallback {\n",
       "  display: none;\n",
       "}\n",
       "\n",
       "div.sk-parallel-item,\n",
       "div.sk-serial,\n",
       "div.sk-item {\n",
       "  /* draw centered vertical line to link estimators */\n",
       "  background-image: linear-gradient(var(--sklearn-color-text-on-default-background), var(--sklearn-color-text-on-default-background));\n",
       "  background-size: 2px 100%;\n",
       "  background-repeat: no-repeat;\n",
       "  background-position: center center;\n",
       "}\n",
       "\n",
       "/* Parallel-specific style estimator block */\n",
       "\n",
       "#sk-container-id-7 div.sk-parallel-item::after {\n",
       "  content: \"\";\n",
       "  width: 100%;\n",
       "  border-bottom: 2px solid var(--sklearn-color-text-on-default-background);\n",
       "  flex-grow: 1;\n",
       "}\n",
       "\n",
       "#sk-container-id-7 div.sk-parallel {\n",
       "  display: flex;\n",
       "  align-items: stretch;\n",
       "  justify-content: center;\n",
       "  background-color: var(--sklearn-color-background);\n",
       "  position: relative;\n",
       "}\n",
       "\n",
       "#sk-container-id-7 div.sk-parallel-item {\n",
       "  display: flex;\n",
       "  flex-direction: column;\n",
       "}\n",
       "\n",
       "#sk-container-id-7 div.sk-parallel-item:first-child::after {\n",
       "  align-self: flex-end;\n",
       "  width: 50%;\n",
       "}\n",
       "\n",
       "#sk-container-id-7 div.sk-parallel-item:last-child::after {\n",
       "  align-self: flex-start;\n",
       "  width: 50%;\n",
       "}\n",
       "\n",
       "#sk-container-id-7 div.sk-parallel-item:only-child::after {\n",
       "  width: 0;\n",
       "}\n",
       "\n",
       "/* Serial-specific style estimator block */\n",
       "\n",
       "#sk-container-id-7 div.sk-serial {\n",
       "  display: flex;\n",
       "  flex-direction: column;\n",
       "  align-items: center;\n",
       "  background-color: var(--sklearn-color-background);\n",
       "  padding-right: 1em;\n",
       "  padding-left: 1em;\n",
       "}\n",
       "\n",
       "\n",
       "/* Toggleable style: style used for estimator/Pipeline/ColumnTransformer box that is\n",
       "clickable and can be expanded/collapsed.\n",
       "- Pipeline and ColumnTransformer use this feature and define the default style\n",
       "- Estimators will overwrite some part of the style using the `sk-estimator` class\n",
       "*/\n",
       "\n",
       "/* Pipeline and ColumnTransformer style (default) */\n",
       "\n",
       "#sk-container-id-7 div.sk-toggleable {\n",
       "  /* Default theme specific background. It is overwritten whether we have a\n",
       "  specific estimator or a Pipeline/ColumnTransformer */\n",
       "  background-color: var(--sklearn-color-background);\n",
       "}\n",
       "\n",
       "/* Toggleable label */\n",
       "#sk-container-id-7 label.sk-toggleable__label {\n",
       "  cursor: pointer;\n",
       "  display: flex;\n",
       "  width: 100%;\n",
       "  margin-bottom: 0;\n",
       "  padding: 0.5em;\n",
       "  box-sizing: border-box;\n",
       "  text-align: center;\n",
       "  align-items: start;\n",
       "  justify-content: space-between;\n",
       "  gap: 0.5em;\n",
       "}\n",
       "\n",
       "#sk-container-id-7 label.sk-toggleable__label .caption {\n",
       "  font-size: 0.6rem;\n",
       "  font-weight: lighter;\n",
       "  color: var(--sklearn-color-text-muted);\n",
       "}\n",
       "\n",
       "#sk-container-id-7 label.sk-toggleable__label-arrow:before {\n",
       "  /* Arrow on the left of the label */\n",
       "  content: \"▸\";\n",
       "  float: left;\n",
       "  margin-right: 0.25em;\n",
       "  color: var(--sklearn-color-icon);\n",
       "}\n",
       "\n",
       "#sk-container-id-7 label.sk-toggleable__label-arrow:hover:before {\n",
       "  color: var(--sklearn-color-text);\n",
       "}\n",
       "\n",
       "/* Toggleable content - dropdown */\n",
       "\n",
       "#sk-container-id-7 div.sk-toggleable__content {\n",
       "  max-height: 0;\n",
       "  max-width: 0;\n",
       "  overflow: hidden;\n",
       "  text-align: left;\n",
       "  /* unfitted */\n",
       "  background-color: var(--sklearn-color-unfitted-level-0);\n",
       "}\n",
       "\n",
       "#sk-container-id-7 div.sk-toggleable__content.fitted {\n",
       "  /* fitted */\n",
       "  background-color: var(--sklearn-color-fitted-level-0);\n",
       "}\n",
       "\n",
       "#sk-container-id-7 div.sk-toggleable__content pre {\n",
       "  margin: 0.2em;\n",
       "  border-radius: 0.25em;\n",
       "  color: var(--sklearn-color-text);\n",
       "  /* unfitted */\n",
       "  background-color: var(--sklearn-color-unfitted-level-0);\n",
       "}\n",
       "\n",
       "#sk-container-id-7 div.sk-toggleable__content.fitted pre {\n",
       "  /* unfitted */\n",
       "  background-color: var(--sklearn-color-fitted-level-0);\n",
       "}\n",
       "\n",
       "#sk-container-id-7 input.sk-toggleable__control:checked~div.sk-toggleable__content {\n",
       "  /* Expand drop-down */\n",
       "  max-height: 200px;\n",
       "  max-width: 100%;\n",
       "  overflow: auto;\n",
       "}\n",
       "\n",
       "#sk-container-id-7 input.sk-toggleable__control:checked~label.sk-toggleable__label-arrow:before {\n",
       "  content: \"▾\";\n",
       "}\n",
       "\n",
       "/* Pipeline/ColumnTransformer-specific style */\n",
       "\n",
       "#sk-container-id-7 div.sk-label input.sk-toggleable__control:checked~label.sk-toggleable__label {\n",
       "  color: var(--sklearn-color-text);\n",
       "  background-color: var(--sklearn-color-unfitted-level-2);\n",
       "}\n",
       "\n",
       "#sk-container-id-7 div.sk-label.fitted input.sk-toggleable__control:checked~label.sk-toggleable__label {\n",
       "  background-color: var(--sklearn-color-fitted-level-2);\n",
       "}\n",
       "\n",
       "/* Estimator-specific style */\n",
       "\n",
       "/* Colorize estimator box */\n",
       "#sk-container-id-7 div.sk-estimator input.sk-toggleable__control:checked~label.sk-toggleable__label {\n",
       "  /* unfitted */\n",
       "  background-color: var(--sklearn-color-unfitted-level-2);\n",
       "}\n",
       "\n",
       "#sk-container-id-7 div.sk-estimator.fitted input.sk-toggleable__control:checked~label.sk-toggleable__label {\n",
       "  /* fitted */\n",
       "  background-color: var(--sklearn-color-fitted-level-2);\n",
       "}\n",
       "\n",
       "#sk-container-id-7 div.sk-label label.sk-toggleable__label,\n",
       "#sk-container-id-7 div.sk-label label {\n",
       "  /* The background is the default theme color */\n",
       "  color: var(--sklearn-color-text-on-default-background);\n",
       "}\n",
       "\n",
       "/* On hover, darken the color of the background */\n",
       "#sk-container-id-7 div.sk-label:hover label.sk-toggleable__label {\n",
       "  color: var(--sklearn-color-text);\n",
       "  background-color: var(--sklearn-color-unfitted-level-2);\n",
       "}\n",
       "\n",
       "/* Label box, darken color on hover, fitted */\n",
       "#sk-container-id-7 div.sk-label.fitted:hover label.sk-toggleable__label.fitted {\n",
       "  color: var(--sklearn-color-text);\n",
       "  background-color: var(--sklearn-color-fitted-level-2);\n",
       "}\n",
       "\n",
       "/* Estimator label */\n",
       "\n",
       "#sk-container-id-7 div.sk-label label {\n",
       "  font-family: monospace;\n",
       "  font-weight: bold;\n",
       "  display: inline-block;\n",
       "  line-height: 1.2em;\n",
       "}\n",
       "\n",
       "#sk-container-id-7 div.sk-label-container {\n",
       "  text-align: center;\n",
       "}\n",
       "\n",
       "/* Estimator-specific */\n",
       "#sk-container-id-7 div.sk-estimator {\n",
       "  font-family: monospace;\n",
       "  border: 1px dotted var(--sklearn-color-border-box);\n",
       "  border-radius: 0.25em;\n",
       "  box-sizing: border-box;\n",
       "  margin-bottom: 0.5em;\n",
       "  /* unfitted */\n",
       "  background-color: var(--sklearn-color-unfitted-level-0);\n",
       "}\n",
       "\n",
       "#sk-container-id-7 div.sk-estimator.fitted {\n",
       "  /* fitted */\n",
       "  background-color: var(--sklearn-color-fitted-level-0);\n",
       "}\n",
       "\n",
       "/* on hover */\n",
       "#sk-container-id-7 div.sk-estimator:hover {\n",
       "  /* unfitted */\n",
       "  background-color: var(--sklearn-color-unfitted-level-2);\n",
       "}\n",
       "\n",
       "#sk-container-id-7 div.sk-estimator.fitted:hover {\n",
       "  /* fitted */\n",
       "  background-color: var(--sklearn-color-fitted-level-2);\n",
       "}\n",
       "\n",
       "/* Specification for estimator info (e.g. \"i\" and \"?\") */\n",
       "\n",
       "/* Common style for \"i\" and \"?\" */\n",
       "\n",
       ".sk-estimator-doc-link,\n",
       "a:link.sk-estimator-doc-link,\n",
       "a:visited.sk-estimator-doc-link {\n",
       "  float: right;\n",
       "  font-size: smaller;\n",
       "  line-height: 1em;\n",
       "  font-family: monospace;\n",
       "  background-color: var(--sklearn-color-background);\n",
       "  border-radius: 1em;\n",
       "  height: 1em;\n",
       "  width: 1em;\n",
       "  text-decoration: none !important;\n",
       "  margin-left: 0.5em;\n",
       "  text-align: center;\n",
       "  /* unfitted */\n",
       "  border: var(--sklearn-color-unfitted-level-1) 1pt solid;\n",
       "  color: var(--sklearn-color-unfitted-level-1);\n",
       "}\n",
       "\n",
       ".sk-estimator-doc-link.fitted,\n",
       "a:link.sk-estimator-doc-link.fitted,\n",
       "a:visited.sk-estimator-doc-link.fitted {\n",
       "  /* fitted */\n",
       "  border: var(--sklearn-color-fitted-level-1) 1pt solid;\n",
       "  color: var(--sklearn-color-fitted-level-1);\n",
       "}\n",
       "\n",
       "/* On hover */\n",
       "div.sk-estimator:hover .sk-estimator-doc-link:hover,\n",
       ".sk-estimator-doc-link:hover,\n",
       "div.sk-label-container:hover .sk-estimator-doc-link:hover,\n",
       ".sk-estimator-doc-link:hover {\n",
       "  /* unfitted */\n",
       "  background-color: var(--sklearn-color-unfitted-level-3);\n",
       "  color: var(--sklearn-color-background);\n",
       "  text-decoration: none;\n",
       "}\n",
       "\n",
       "div.sk-estimator.fitted:hover .sk-estimator-doc-link.fitted:hover,\n",
       ".sk-estimator-doc-link.fitted:hover,\n",
       "div.sk-label-container:hover .sk-estimator-doc-link.fitted:hover,\n",
       ".sk-estimator-doc-link.fitted:hover {\n",
       "  /* fitted */\n",
       "  background-color: var(--sklearn-color-fitted-level-3);\n",
       "  color: var(--sklearn-color-background);\n",
       "  text-decoration: none;\n",
       "}\n",
       "\n",
       "/* Span, style for the box shown on hovering the info icon */\n",
       ".sk-estimator-doc-link span {\n",
       "  display: none;\n",
       "  z-index: 9999;\n",
       "  position: relative;\n",
       "  font-weight: normal;\n",
       "  right: .2ex;\n",
       "  padding: .5ex;\n",
       "  margin: .5ex;\n",
       "  width: min-content;\n",
       "  min-width: 20ex;\n",
       "  max-width: 50ex;\n",
       "  color: var(--sklearn-color-text);\n",
       "  box-shadow: 2pt 2pt 4pt #999;\n",
       "  /* unfitted */\n",
       "  background: var(--sklearn-color-unfitted-level-0);\n",
       "  border: .5pt solid var(--sklearn-color-unfitted-level-3);\n",
       "}\n",
       "\n",
       ".sk-estimator-doc-link.fitted span {\n",
       "  /* fitted */\n",
       "  background: var(--sklearn-color-fitted-level-0);\n",
       "  border: var(--sklearn-color-fitted-level-3);\n",
       "}\n",
       "\n",
       ".sk-estimator-doc-link:hover span {\n",
       "  display: block;\n",
       "}\n",
       "\n",
       "/* \"?\"-specific style due to the `<a>` HTML tag */\n",
       "\n",
       "#sk-container-id-7 a.estimator_doc_link {\n",
       "  float: right;\n",
       "  font-size: 1rem;\n",
       "  line-height: 1em;\n",
       "  font-family: monospace;\n",
       "  background-color: var(--sklearn-color-background);\n",
       "  border-radius: 1rem;\n",
       "  height: 1rem;\n",
       "  width: 1rem;\n",
       "  text-decoration: none;\n",
       "  /* unfitted */\n",
       "  color: var(--sklearn-color-unfitted-level-1);\n",
       "  border: var(--sklearn-color-unfitted-level-1) 1pt solid;\n",
       "}\n",
       "\n",
       "#sk-container-id-7 a.estimator_doc_link.fitted {\n",
       "  /* fitted */\n",
       "  border: var(--sklearn-color-fitted-level-1) 1pt solid;\n",
       "  color: var(--sklearn-color-fitted-level-1);\n",
       "}\n",
       "\n",
       "/* On hover */\n",
       "#sk-container-id-7 a.estimator_doc_link:hover {\n",
       "  /* unfitted */\n",
       "  background-color: var(--sklearn-color-unfitted-level-3);\n",
       "  color: var(--sklearn-color-background);\n",
       "  text-decoration: none;\n",
       "}\n",
       "\n",
       "#sk-container-id-7 a.estimator_doc_link.fitted:hover {\n",
       "  /* fitted */\n",
       "  background-color: var(--sklearn-color-fitted-level-3);\n",
       "}\n",
       "</style><div id=\"sk-container-id-7\" class=\"sk-top-container\"><div class=\"sk-text-repr-fallback\"><pre>DictVectorizer(sparse=False)</pre><b>In a Jupyter environment, please rerun this cell to show the HTML representation or trust the notebook. <br />On GitHub, the HTML representation is unable to render, please try loading this page with nbviewer.org.</b></div><div class=\"sk-container\" hidden><div class=\"sk-item\"><div class=\"sk-estimator fitted sk-toggleable\"><input class=\"sk-toggleable__control sk-hidden--visually\" id=\"sk-estimator-id-7\" type=\"checkbox\" checked><label for=\"sk-estimator-id-7\" class=\"sk-toggleable__label fitted sk-toggleable__label-arrow\"><div><div>DictVectorizer</div></div><div><a class=\"sk-estimator-doc-link fitted\" rel=\"noreferrer\" target=\"_blank\" href=\"https://scikit-learn.org/1.6/modules/generated/sklearn.feature_extraction.DictVectorizer.html\">?<span>Documentation for DictVectorizer</span></a><span class=\"sk-estimator-doc-link fitted\">i<span>Fitted</span></span></div></label><div class=\"sk-toggleable__content fitted\"><pre>DictVectorizer(sparse=False)</pre></div> </div></div></div></div>"
      ],
      "text/plain": [
       "DictVectorizer(sparse=False)"
      ]
     },
     "execution_count": 184,
     "metadata": {},
     "output_type": "execute_result"
    }
   ],
   "source": [
    "dv = DictVectorizer(sparse = False)\n",
    "dv.fit(dicts)"
   ]
  },
  {
   "cell_type": "code",
   "execution_count": 187,
   "id": "a1d73859",
   "metadata": {},
   "outputs": [
    {
     "data": {
      "text/plain": [
       "array(['contract=month-to-month', 'contract=one_year',\n",
       "       'contract=two_year', 'dependents=no', 'dependents=yes',\n",
       "       'deviceprotection=no', 'deviceprotection=no_internet_service',\n",
       "       'deviceprotection=yes', 'gender=female', 'gender=male',\n",
       "       'internetservice=dsl', 'internetservice=fiber_optic',\n",
       "       'internetservice=no', 'multiplelines=no',\n",
       "       'multiplelines=no_phone_service', 'multiplelines=yes',\n",
       "       'onlinebackup=no', 'onlinebackup=no_internet_service',\n",
       "       'onlinebackup=yes', 'onlinesecurity=no',\n",
       "       'onlinesecurity=no_internet_service', 'onlinesecurity=yes',\n",
       "       'paperlessbilling=no', 'paperlessbilling=yes', 'partner=no',\n",
       "       'partner=yes', 'paymentmethod=bank_transfer_(automatic)',\n",
       "       'paymentmethod=credit_card_(automatic)',\n",
       "       'paymentmethod=electronic_check', 'paymentmethod=mailed_check',\n",
       "       'phoneservice=no', 'phoneservice=yes', 'seniorcitizen',\n",
       "       'streamingmovies=no', 'streamingmovies=no_internet_service',\n",
       "       'streamingmovies=yes', 'streamingtv=no',\n",
       "       'streamingtv=no_internet_service', 'streamingtv=yes',\n",
       "       'techsupport=no', 'techsupport=no_internet_service',\n",
       "       'techsupport=yes'], dtype=object)"
      ]
     },
     "execution_count": 187,
     "metadata": {},
     "output_type": "execute_result"
    }
   ],
   "source": [
    "dv.get_feature_names_out()"
   ]
  },
  {
   "cell_type": "code",
   "execution_count": 223,
   "id": "8b134e1b",
   "metadata": {},
   "outputs": [
    {
     "data": {
      "application/vnd.microsoft.datawrangler.viewer.v0+json": {
       "columns": [
        {
         "name": "index",
         "rawType": "int64",
         "type": "integer"
        },
        {
         "name": "totalcharges",
         "rawType": "float64",
         "type": "float"
        }
       ],
       "ref": "bc7a8ee7-6fce-44d9-b11d-3a1446261d1a",
       "rows": [
        [
         "0",
         "8425.15"
        ],
        [
         "1",
         "1021.55"
        ],
        [
         "2",
         "413.65"
        ],
        [
         "3",
         "356.1"
        ],
        [
         "4",
         "370.5"
        ]
       ],
       "shape": {
        "columns": 1,
        "rows": 5
       }
      },
      "text/plain": [
       "0    8425.15\n",
       "1    1021.55\n",
       "2     413.65\n",
       "3     356.10\n",
       "4     370.50\n",
       "Name: totalcharges, dtype: float64"
      ]
     },
     "execution_count": 223,
     "metadata": {},
     "output_type": "execute_result"
    }
   ],
   "source": [
    "train.totalcharges = pd.to_numeric(train.totalcharges, errors = 'coerce')\n",
    "val.totalcharges = pd.to_numeric(val.totalcharges, errors = 'coerce')\n",
    "train.totalcharges.head()\n"
   ]
  },
  {
   "cell_type": "code",
   "execution_count": 219,
   "id": "5346a7f1",
   "metadata": {},
   "outputs": [
    {
     "data": {
      "text/plain": [
       "np.int64(0)"
      ]
     },
     "execution_count": 219,
     "metadata": {},
     "output_type": "execute_result"
    }
   ],
   "source": [
    "train.totalcharges.isnull().sum()"
   ]
  },
  {
   "cell_type": "code",
   "execution_count": 224,
   "id": "e8d3a565",
   "metadata": {},
   "outputs": [],
   "source": [
    "train.totalcharges = train.totalcharges.fillna(0)\n",
    "val.totalcharges = val.totalcharges.fillna(0)"
   ]
  },
  {
   "cell_type": "code",
   "execution_count": 203,
   "id": "f2a3ebb3",
   "metadata": {},
   "outputs": [
    {
     "data": {
      "text/plain": [
       "np.int64(0)"
      ]
     },
     "execution_count": 203,
     "metadata": {},
     "output_type": "execute_result"
    }
   ],
   "source": [
    "train.totalcharges.isnull().sum()"
   ]
  },
  {
   "cell_type": "code",
   "execution_count": 190,
   "id": "66d0b520",
   "metadata": {},
   "outputs": [
    {
     "data": {
      "text/plain": [
       "array([[0., 0., 1., ..., 0., 0., 1.],\n",
       "       [1., 0., 0., ..., 1., 0., 0.],\n",
       "       [1., 0., 0., ..., 1., 0., 0.],\n",
       "       ...,\n",
       "       [1., 0., 0., ..., 0., 0., 1.],\n",
       "       [0., 0., 1., ..., 0., 1., 0.],\n",
       "       [1., 0., 0., ..., 1., 0., 0.]], shape=(4225, 42))"
      ]
     },
     "execution_count": 190,
     "metadata": {},
     "output_type": "execute_result"
    }
   ],
   "source": [
    "X_cat = dv.transform(dicts)\n",
    "X_cat"
   ]
  },
  {
   "cell_type": "code",
   "execution_count": 204,
   "id": "b0a733e6",
   "metadata": {},
   "outputs": [
    {
     "data": {
      "text/plain": [
       "array([[7.20000e+01, 1.15500e+02, 8.42515e+03],\n",
       "       [1.00000e+01, 9.52500e+01, 1.02155e+03],\n",
       "       [5.00000e+00, 7.55500e+01, 4.13650e+02],\n",
       "       ...,\n",
       "       [2.00000e+00, 9.00000e+01, 1.90050e+02],\n",
       "       [2.70000e+01, 2.45000e+01, 7.61950e+02],\n",
       "       [9.00000e+00, 8.08500e+01, 7.51650e+02]], shape=(4225, 3))"
      ]
     },
     "execution_count": 204,
     "metadata": {},
     "output_type": "execute_result"
    }
   ],
   "source": [
    "X_num = train[numerical].values\n",
    "X_num"
   ]
  },
  {
   "cell_type": "code",
   "execution_count": 168,
   "id": "dabae9c4",
   "metadata": {},
   "outputs": [
    {
     "data": {
      "application/vnd.microsoft.datawrangler.viewer.v0+json": {
       "columns": [
        {
         "name": "index",
         "rawType": "int64",
         "type": "integer"
        },
        {
         "name": "gender",
         "rawType": "object",
         "type": "string"
        },
        {
         "name": "contract",
         "rawType": "object",
         "type": "string"
        },
        {
         "name": "male",
         "rawType": "int64",
         "type": "integer"
        },
        {
         "name": "female",
         "rawType": "int64",
         "type": "integer"
        },
        {
         "name": "month-to-month",
         "rawType": "int64",
         "type": "integer"
        },
        {
         "name": "two_year",
         "rawType": "int64",
         "type": "integer"
        },
        {
         "name": "one_year",
         "rawType": "int64",
         "type": "integer"
        }
       ],
       "ref": "4ee58394-a13e-4182-9f9a-5212d1b9a002",
       "rows": [
        [
         "0",
         "male",
         "two_year",
         "1",
         "0",
         "0",
         "1",
         "0"
        ],
        [
         "1",
         "female",
         "one_year",
         "0",
         "1",
         "0",
         "0",
         "1"
        ],
        [
         "2",
         "male",
         "two_year",
         "1",
         "0",
         "0",
         "1",
         "0"
        ],
        [
         "3",
         "male",
         "one_year",
         "1",
         "0",
         "0",
         "0",
         "1"
        ],
        [
         "4",
         "male",
         "one_year",
         "1",
         "0",
         "0",
         "0",
         "1"
        ]
       ],
       "shape": {
        "columns": 7,
        "rows": 5
       }
      },
      "text/html": [
       "<div>\n",
       "<style scoped>\n",
       "    .dataframe tbody tr th:only-of-type {\n",
       "        vertical-align: middle;\n",
       "    }\n",
       "\n",
       "    .dataframe tbody tr th {\n",
       "        vertical-align: top;\n",
       "    }\n",
       "\n",
       "    .dataframe thead th {\n",
       "        text-align: right;\n",
       "    }\n",
       "</style>\n",
       "<table border=\"1\" class=\"dataframe\">\n",
       "  <thead>\n",
       "    <tr style=\"text-align: right;\">\n",
       "      <th></th>\n",
       "      <th>gender</th>\n",
       "      <th>contract</th>\n",
       "      <th>male</th>\n",
       "      <th>female</th>\n",
       "      <th>month-to-month</th>\n",
       "      <th>two_year</th>\n",
       "      <th>one_year</th>\n",
       "    </tr>\n",
       "  </thead>\n",
       "  <tbody>\n",
       "    <tr>\n",
       "      <th>0</th>\n",
       "      <td>male</td>\n",
       "      <td>two_year</td>\n",
       "      <td>1</td>\n",
       "      <td>0</td>\n",
       "      <td>0</td>\n",
       "      <td>1</td>\n",
       "      <td>0</td>\n",
       "    </tr>\n",
       "    <tr>\n",
       "      <th>1</th>\n",
       "      <td>female</td>\n",
       "      <td>one_year</td>\n",
       "      <td>0</td>\n",
       "      <td>1</td>\n",
       "      <td>0</td>\n",
       "      <td>0</td>\n",
       "      <td>1</td>\n",
       "    </tr>\n",
       "    <tr>\n",
       "      <th>2</th>\n",
       "      <td>male</td>\n",
       "      <td>two_year</td>\n",
       "      <td>1</td>\n",
       "      <td>0</td>\n",
       "      <td>0</td>\n",
       "      <td>1</td>\n",
       "      <td>0</td>\n",
       "    </tr>\n",
       "    <tr>\n",
       "      <th>3</th>\n",
       "      <td>male</td>\n",
       "      <td>one_year</td>\n",
       "      <td>1</td>\n",
       "      <td>0</td>\n",
       "      <td>0</td>\n",
       "      <td>0</td>\n",
       "      <td>1</td>\n",
       "    </tr>\n",
       "    <tr>\n",
       "      <th>4</th>\n",
       "      <td>male</td>\n",
       "      <td>one_year</td>\n",
       "      <td>1</td>\n",
       "      <td>0</td>\n",
       "      <td>0</td>\n",
       "      <td>0</td>\n",
       "      <td>1</td>\n",
       "    </tr>\n",
       "  </tbody>\n",
       "</table>\n",
       "</div>"
      ],
      "text/plain": [
       "   gender  contract  male  female  month-to-month  two_year  one_year\n",
       "0    male  two_year     1       0               0         1         0\n",
       "1  female  one_year     0       1               0         0         1\n",
       "2    male  two_year     1       0               0         1         0\n",
       "3    male  one_year     1       0               0         0         1\n",
       "4    male  one_year     1       0               0         0         1"
      ]
     },
     "execution_count": 168,
     "metadata": {},
     "output_type": "execute_result"
    }
   ],
   "source": [
    "full_train_dum[['gender', 'contract', 'male', 'female', 'month-to-month', 'two_year', 'one_year']].head()"
   ]
  },
  {
   "cell_type": "code",
   "execution_count": 169,
   "id": "bfb14114",
   "metadata": {},
   "outputs": [
    {
     "data": {
      "text/plain": [
       "array([[0, 0, 1, 0, 1],\n",
       "       [0, 1, 0, 1, 0],\n",
       "       [0, 0, 1, 0, 1],\n",
       "       ...,\n",
       "       [1, 0, 0, 0, 1],\n",
       "       [1, 0, 0, 0, 1],\n",
       "       [0, 0, 1, 1, 0]], shape=(5634, 5))"
      ]
     },
     "execution_count": 169,
     "metadata": {},
     "output_type": "execute_result"
    }
   ],
   "source": [
    "# Let's compare with the output of the custom encoder we defined:\n",
    "full_train_dum[['month-to-month', 'one_year', 'two_year', 'female', 'male']].values\n"
   ]
  },
  {
   "cell_type": "code",
   "execution_count": 225,
   "id": "3d4c33c2",
   "metadata": {},
   "outputs": [],
   "source": [
    "def prepare_full_X(some_df, categorial, numerical):\n",
    "    from sklearn.feature_extraction import DictVectorizer\n",
    "\n",
    "    #assume that the df has been treated well\n",
    "    df_dicts = some_df[categorial].to_dict(orient = 'records')\n",
    "    df_dv = DictVectorizer(sparse = False)\n",
    "    X_cat = df_dv.fit_transform(df_dicts)\n",
    "\n",
    "    ## X_numerical \n",
    "    X_num = some_df[numerical].values\n",
    "\n",
    "    X_tot = np.column_stack([X_num, X_cat])\n",
    "    return X_tot\n",
    "    "
   ]
  },
  {
   "cell_type": "code",
   "execution_count": 226,
   "id": "7486379a",
   "metadata": {},
   "outputs": [
    {
     "data": {
      "text/plain": [
       "array([[7.1000e+01, 7.0850e+01, 4.9734e+03, 0.0000e+00, 0.0000e+00,\n",
       "        1.0000e+00, 0.0000e+00, 1.0000e+00, 0.0000e+00, 0.0000e+00,\n",
       "        1.0000e+00, 0.0000e+00, 1.0000e+00, 1.0000e+00, 0.0000e+00,\n",
       "        0.0000e+00, 1.0000e+00, 0.0000e+00, 0.0000e+00, 1.0000e+00,\n",
       "        0.0000e+00, 0.0000e+00, 0.0000e+00, 0.0000e+00, 1.0000e+00,\n",
       "        0.0000e+00, 1.0000e+00, 0.0000e+00, 1.0000e+00, 0.0000e+00,\n",
       "        1.0000e+00, 0.0000e+00, 0.0000e+00, 0.0000e+00, 1.0000e+00,\n",
       "        0.0000e+00, 0.0000e+00, 0.0000e+00, 1.0000e+00, 1.0000e+00,\n",
       "        0.0000e+00, 0.0000e+00, 0.0000e+00, 0.0000e+00, 1.0000e+00],\n",
       "       [1.0000e+00, 2.0750e+01, 2.0750e+01, 1.0000e+00, 0.0000e+00,\n",
       "        0.0000e+00, 0.0000e+00, 1.0000e+00, 0.0000e+00, 1.0000e+00,\n",
       "        0.0000e+00, 0.0000e+00, 1.0000e+00, 0.0000e+00, 0.0000e+00,\n",
       "        1.0000e+00, 1.0000e+00, 0.0000e+00, 0.0000e+00, 0.0000e+00,\n",
       "        1.0000e+00, 0.0000e+00, 0.0000e+00, 1.0000e+00, 0.0000e+00,\n",
       "        1.0000e+00, 0.0000e+00, 1.0000e+00, 0.0000e+00, 0.0000e+00,\n",
       "        0.0000e+00, 0.0000e+00, 1.0000e+00, 0.0000e+00, 1.0000e+00,\n",
       "        0.0000e+00, 0.0000e+00, 1.0000e+00, 0.0000e+00, 0.0000e+00,\n",
       "        1.0000e+00, 0.0000e+00, 0.0000e+00, 1.0000e+00, 0.0000e+00],\n",
       "       [1.0000e+00, 2.0350e+01, 2.0350e+01, 1.0000e+00, 0.0000e+00,\n",
       "        0.0000e+00, 1.0000e+00, 0.0000e+00, 0.0000e+00, 1.0000e+00,\n",
       "        0.0000e+00, 0.0000e+00, 1.0000e+00, 0.0000e+00, 0.0000e+00,\n",
       "        1.0000e+00, 1.0000e+00, 0.0000e+00, 0.0000e+00, 0.0000e+00,\n",
       "        1.0000e+00, 0.0000e+00, 0.0000e+00, 1.0000e+00, 0.0000e+00,\n",
       "        1.0000e+00, 0.0000e+00, 1.0000e+00, 0.0000e+00, 0.0000e+00,\n",
       "        0.0000e+00, 0.0000e+00, 1.0000e+00, 0.0000e+00, 1.0000e+00,\n",
       "        0.0000e+00, 0.0000e+00, 1.0000e+00, 0.0000e+00, 0.0000e+00,\n",
       "        1.0000e+00, 0.0000e+00, 0.0000e+00, 1.0000e+00, 0.0000e+00],\n",
       "       [2.0000e+00, 7.5700e+01, 1.8920e+02, 1.0000e+00, 0.0000e+00,\n",
       "        0.0000e+00, 1.0000e+00, 0.0000e+00, 1.0000e+00, 0.0000e+00,\n",
       "        0.0000e+00, 0.0000e+00, 1.0000e+00, 0.0000e+00, 1.0000e+00,\n",
       "        0.0000e+00, 1.0000e+00, 0.0000e+00, 0.0000e+00, 1.0000e+00,\n",
       "        0.0000e+00, 0.0000e+00, 0.0000e+00, 0.0000e+00, 1.0000e+00,\n",
       "        0.0000e+00, 1.0000e+00, 1.0000e+00, 0.0000e+00, 0.0000e+00,\n",
       "        0.0000e+00, 1.0000e+00, 0.0000e+00, 0.0000e+00, 1.0000e+00,\n",
       "        0.0000e+00, 1.0000e+00, 0.0000e+00, 0.0000e+00, 1.0000e+00,\n",
       "        0.0000e+00, 0.0000e+00, 1.0000e+00, 0.0000e+00, 0.0000e+00],\n",
       "       [1.0000e+00, 1.9900e+01, 1.9900e+01, 1.0000e+00, 0.0000e+00,\n",
       "        0.0000e+00, 1.0000e+00, 0.0000e+00, 0.0000e+00, 1.0000e+00,\n",
       "        0.0000e+00, 1.0000e+00, 0.0000e+00, 0.0000e+00, 0.0000e+00,\n",
       "        1.0000e+00, 1.0000e+00, 0.0000e+00, 0.0000e+00, 0.0000e+00,\n",
       "        1.0000e+00, 0.0000e+00, 0.0000e+00, 1.0000e+00, 0.0000e+00,\n",
       "        1.0000e+00, 0.0000e+00, 1.0000e+00, 0.0000e+00, 1.0000e+00,\n",
       "        0.0000e+00, 0.0000e+00, 0.0000e+00, 0.0000e+00, 1.0000e+00,\n",
       "        0.0000e+00, 0.0000e+00, 1.0000e+00, 0.0000e+00, 0.0000e+00,\n",
       "        1.0000e+00, 0.0000e+00, 0.0000e+00, 1.0000e+00, 0.0000e+00]])"
      ]
     },
     "execution_count": 226,
     "metadata": {},
     "output_type": "execute_result"
    }
   ],
   "source": [
    "train_X = prepare_full_X(train, categorical, numerical)\n",
    "val_X = prepare_full_X(val, categorical, numerical)\n",
    "train_X[:5]\n",
    "val_X[:5]"
   ]
  },
  {
   "cell_type": "markdown",
   "id": "85c4e27f",
   "metadata": {},
   "source": [
    "## Section 9: Logistic Regression\n",
    "\n",
    "- Binary Classification\n",
    "- Linear vs Logistic Regression"
   ]
  },
  {
   "cell_type": "code",
   "execution_count": 227,
   "id": "f1f531ab",
   "metadata": {},
   "outputs": [],
   "source": [
    "def sigmoid(z):\n",
    "    return 1/(1 + np.exp(-z))\n"
   ]
  },
  {
   "cell_type": "code",
   "execution_count": 228,
   "id": "dbdd8b65",
   "metadata": {},
   "outputs": [
    {
     "data": {
      "text/plain": [
       "array([-5. , -4.8, -4.6, -4.4, -4.2, -4. , -3.8, -3.6, -3.4, -3.2, -3. ,\n",
       "       -2.8, -2.6, -2.4, -2.2, -2. , -1.8, -1.6, -1.4, -1.2, -1. , -0.8,\n",
       "       -0.6, -0.4, -0.2,  0. ,  0.2,  0.4,  0.6,  0.8,  1. ,  1.2,  1.4,\n",
       "        1.6,  1.8,  2. ,  2.2,  2.4,  2.6,  2.8,  3. ,  3.2,  3.4,  3.6,\n",
       "        3.8,  4. ,  4.2,  4.4,  4.6,  4.8,  5. ])"
      ]
     },
     "execution_count": 228,
     "metadata": {},
     "output_type": "execute_result"
    }
   ],
   "source": [
    "z = np.linspace(-5, 5, 51)\n",
    "z"
   ]
  },
  {
   "cell_type": "code",
   "execution_count": 229,
   "id": "4209e666",
   "metadata": {},
   "outputs": [
    {
     "data": {
      "text/plain": [
       "[<matplotlib.lines.Line2D at 0x744945a5d670>]"
      ]
     },
     "execution_count": 229,
     "metadata": {},
     "output_type": "execute_result"
    },
    {
     "data": {
      "image/png": "[encoded data removed]",
      "text/plain": [
       "<Figure size 640x480 with 1 Axes>"
      ]
     },
     "metadata": {},
     "output_type": "display_data"
    }
   ],
   "source": [
    "plt.plot(z, sigmoid(z))"
   ]
  },
  {
   "cell_type": "code",
   "execution_count": 231,
   "id": "eb23359a",
   "metadata": {},
   "outputs": [],
   "source": [
    "def linear_model(X, w):\n",
    "    return X.dot(w)\n",
    "\n",
    "def logistic_regression(X, w):\n",
    "    z = linear_model(X, w)\n",
    "    return sigmoid(z)"
   ]
  },
  {
   "cell_type": "markdown",
   "id": "e7f77e5d",
   "metadata": {},
   "source": [
    "## Section 10: Training logistic regression with Scikit Learn\n",
    "- train a model with scikit-learn\n",
    "- Apply it to the validation dataset\n",
    "- Calculate the accuracy"
   ]
  },
  {
   "cell_type": "code",
   "execution_count": 232,
   "id": "661ca58d",
   "metadata": {},
   "outputs": [],
   "source": [
    "from sklearn.linear_model import LogisticRegression\n"
   ]
  },
  {
   "cell_type": "code",
   "execution_count": 233,
   "id": "bcd91f72",
   "metadata": {},
   "outputs": [],
   "source": [
    "model = LogisticRegression()"
   ]
  },
  {
   "cell_type": "code",
   "execution_count": 235,
   "id": "a35ed202",
   "metadata": {},
   "outputs": [
    {
     "data": {
      "text/plain": [
       "(array([[7.20000e+01, 1.15500e+02, 8.42515e+03, ..., 0.00000e+00,\n",
       "         0.00000e+00, 1.00000e+00],\n",
       "        [1.00000e+01, 9.52500e+01, 1.02155e+03, ..., 1.00000e+00,\n",
       "         0.00000e+00, 0.00000e+00],\n",
       "        [5.00000e+00, 7.55500e+01, 4.13650e+02, ..., 1.00000e+00,\n",
       "         0.00000e+00, 0.00000e+00],\n",
       "        ...,\n",
       "        [2.00000e+00, 9.00000e+01, 1.90050e+02, ..., 0.00000e+00,\n",
       "         0.00000e+00, 1.00000e+00],\n",
       "        [2.70000e+01, 2.45000e+01, 7.61950e+02, ..., 0.00000e+00,\n",
       "         1.00000e+00, 0.00000e+00],\n",
       "        [9.00000e+00, 8.08500e+01, 7.51650e+02, ..., 1.00000e+00,\n",
       "         0.00000e+00, 0.00000e+00]], shape=(4225, 45)),\n",
       " array([0, 0, 1, ..., 1, 0, 1], shape=(4225,)))"
      ]
     },
     "execution_count": 235,
     "metadata": {},
     "output_type": "execute_result"
    }
   ],
   "source": [
    "train_X, y_train"
   ]
  },
  {
   "cell_type": "code",
   "execution_count": 236,
   "id": "f071d949",
   "metadata": {},
   "outputs": [
    {
     "name": "stderr",
     "output_type": "stream",
     "text": [
      "/home/codespace/.local/lib/python3.12/site-packages/sklearn/linear_model/_logistic.py:465: ConvergenceWarning: lbfgs failed to converge (status=1):\n",
      "STOP: TOTAL NO. OF ITERATIONS REACHED LIMIT.\n",
      "\n",
      "Increase the number of iterations (max_iter) or scale the data as shown in:\n",
      "    https://scikit-learn.org/stable/modules/preprocessing.html\n",
      "Please also refer to the documentation for alternative solver options:\n",
      "    https://scikit-learn.org/stable/modules/linear_model.html#logistic-regression\n",
      "  n_iter_i = _check_optimize_result(\n"
     ]
    },
    {
     "data": {
      "text/html": [
       "<style>#sk-container-id-8 {\n",
       "  /* Definition of color scheme common for light and dark mode */\n",
       "  --sklearn-color-text: #000;\n",
       "  --sklearn-color-text-muted: #666;\n",
       "  --sklearn-color-line: gray;\n",
       "  /* Definition of color scheme for unfitted estimators */\n",
       "  --sklearn-color-unfitted-level-0: #fff5e6;\n",
       "  --sklearn-color-unfitted-level-1: #f6e4d2;\n",
       "  --sklearn-color-unfitted-level-2: #ffe0b3;\n",
       "  --sklearn-color-unfitted-level-3: chocolate;\n",
       "  /* Definition of color scheme for fitted estimators */\n",
       "  --sklearn-color-fitted-level-0: #f0f8ff;\n",
       "  --sklearn-color-fitted-level-1: #d4ebff;\n",
       "  --sklearn-color-fitted-level-2: #b3dbfd;\n",
       "  --sklearn-color-fitted-level-3: cornflowerblue;\n",
       "\n",
       "  /* Specific color for light theme */\n",
       "  --sklearn-color-text-on-default-background: var(--sg-text-color, var(--theme-code-foreground, var(--jp-content-font-color1, black)));\n",
       "  --sklearn-color-background: var(--sg-background-color, var(--theme-background, var(--jp-layout-color0, white)));\n",
       "  --sklearn-color-border-box: var(--sg-text-color, var(--theme-code-foreground, var(--jp-content-font-color1, black)));\n",
       "  --sklearn-color-icon: #696969;\n",
       "\n",
       "  @media (prefers-color-scheme: dark) {\n",
       "    /* Redefinition of color scheme for dark theme */\n",
       "    --sklearn-color-text-on-default-background: var(--sg-text-color, var(--theme-code-foreground, var(--jp-content-font-color1, white)));\n",
       "    --sklearn-color-background: var(--sg-background-color, var(--theme-background, var(--jp-layout-color0, #111)));\n",
       "    --sklearn-color-border-box: var(--sg-text-color, var(--theme-code-foreground, var(--jp-content-font-color1, white)));\n",
       "    --sklearn-color-icon: #878787;\n",
       "  }\n",
       "}\n",
       "\n",
       "#sk-container-id-8 {\n",
       "  color: var(--sklearn-color-text);\n",
       "}\n",
       "\n",
       "#sk-container-id-8 pre {\n",
       "  padding: 0;\n",
       "}\n",
       "\n",
       "#sk-container-id-8 input.sk-hidden--visually {\n",
       "  border: 0;\n",
       "  clip: rect(1px 1px 1px 1px);\n",
       "  clip: rect(1px, 1px, 1px, 1px);\n",
       "  height: 1px;\n",
       "  margin: -1px;\n",
       "  overflow: hidden;\n",
       "  padding: 0;\n",
       "  position: absolute;\n",
       "  width: 1px;\n",
       "}\n",
       "\n",
       "#sk-container-id-8 div.sk-dashed-wrapped {\n",
       "  border: 1px dashed var(--sklearn-color-line);\n",
       "  margin: 0 0.4em 0.5em 0.4em;\n",
       "  box-sizing: border-box;\n",
       "  padding-bottom: 0.4em;\n",
       "  background-color: var(--sklearn-color-background);\n",
       "}\n",
       "\n",
       "#sk-container-id-8 div.sk-container {\n",
       "  /* jupyter's `normalize.less` sets `[hidden] { display: none; }`\n",
       "     but bootstrap.min.css set `[hidden] { display: none !important; }`\n",
       "     so we also need the `!important` here to be able to override the\n",
       "     default hidden behavior on the sphinx rendered scikit-learn.org.\n",
       "     See: https://github.com/scikit-learn/scikit-learn/issues/21755 */\n",
       "  display: inline-block !important;\n",
       "  position: relative;\n",
       "}\n",
       "\n",
       "#sk-container-id-8 div.sk-text-repr-fallback {\n",
       "  display: none;\n",
       "}\n",
       "\n",
       "div.sk-parallel-item,\n",
       "div.sk-serial,\n",
       "div.sk-item {\n",
       "  /* draw centered vertical line to link estimators */\n",
       "  background-image: linear-gradient(var(--sklearn-color-text-on-default-background), var(--sklearn-color-text-on-default-background));\n",
       "  background-size: 2px 100%;\n",
       "  background-repeat: no-repeat;\n",
       "  background-position: center center;\n",
       "}\n",
       "\n",
       "/* Parallel-specific style estimator block */\n",
       "\n",
       "#sk-container-id-8 div.sk-parallel-item::after {\n",
       "  content: \"\";\n",
       "  width: 100%;\n",
       "  border-bottom: 2px solid var(--sklearn-color-text-on-default-background);\n",
       "  flex-grow: 1;\n",
       "}\n",
       "\n",
       "#sk-container-id-8 div.sk-parallel {\n",
       "  display: flex;\n",
       "  align-items: stretch;\n",
       "  justify-content: center;\n",
       "  background-color: var(--sklearn-color-background);\n",
       "  position: relative;\n",
       "}\n",
       "\n",
       "#sk-container-id-8 div.sk-parallel-item {\n",
       "  display: flex;\n",
       "  flex-direction: column;\n",
       "}\n",
       "\n",
       "#sk-container-id-8 div.sk-parallel-item:first-child::after {\n",
       "  align-self: flex-end;\n",
       "  width: 50%;\n",
       "}\n",
       "\n",
       "#sk-container-id-8 div.sk-parallel-item:last-child::after {\n",
       "  align-self: flex-start;\n",
       "  width: 50%;\n",
       "}\n",
       "\n",
       "#sk-container-id-8 div.sk-parallel-item:only-child::after {\n",
       "  width: 0;\n",
       "}\n",
       "\n",
       "/* Serial-specific style estimator block */\n",
       "\n",
       "#sk-container-id-8 div.sk-serial {\n",
       "  display: flex;\n",
       "  flex-direction: column;\n",
       "  align-items: center;\n",
       "  background-color: var(--sklearn-color-background);\n",
       "  padding-right: 1em;\n",
       "  padding-left: 1em;\n",
       "}\n",
       "\n",
       "\n",
       "/* Toggleable style: style used for estimator/Pipeline/ColumnTransformer box that is\n",
       "clickable and can be expanded/collapsed.\n",
       "- Pipeline and ColumnTransformer use this feature and define the default style\n",
       "- Estimators will overwrite some part of the style using the `sk-estimator` class\n",
       "*/\n",
       "\n",
       "/* Pipeline and ColumnTransformer style (default) */\n",
       "\n",
       "#sk-container-id-8 div.sk-toggleable {\n",
       "  /* Default theme specific background. It is overwritten whether we have a\n",
       "  specific estimator or a Pipeline/ColumnTransformer */\n",
       "  background-color: var(--sklearn-color-background);\n",
       "}\n",
       "\n",
       "/* Toggleable label */\n",
       "#sk-container-id-8 label.sk-toggleable__label {\n",
       "  cursor: pointer;\n",
       "  display: flex;\n",
       "  width: 100%;\n",
       "  margin-bottom: 0;\n",
       "  padding: 0.5em;\n",
       "  box-sizing: border-box;\n",
       "  text-align: center;\n",
       "  align-items: start;\n",
       "  justify-content: space-between;\n",
       "  gap: 0.5em;\n",
       "}\n",
       "\n",
       "#sk-container-id-8 label.sk-toggleable__label .caption {\n",
       "  font-size: 0.6rem;\n",
       "  font-weight: lighter;\n",
       "  color: var(--sklearn-color-text-muted);\n",
       "}\n",
       "\n",
       "#sk-container-id-8 label.sk-toggleable__label-arrow:before {\n",
       "  /* Arrow on the left of the label */\n",
       "  content: \"▸\";\n",
       "  float: left;\n",
       "  margin-right: 0.25em;\n",
       "  color: var(--sklearn-color-icon);\n",
       "}\n",
       "\n",
       "#sk-container-id-8 label.sk-toggleable__label-arrow:hover:before {\n",
       "  color: var(--sklearn-color-text);\n",
       "}\n",
       "\n",
       "/* Toggleable content - dropdown */\n",
       "\n",
       "#sk-container-id-8 div.sk-toggleable__content {\n",
       "  max-height: 0;\n",
       "  max-width: 0;\n",
       "  overflow: hidden;\n",
       "  text-align: left;\n",
       "  /* unfitted */\n",
       "  background-color: var(--sklearn-color-unfitted-level-0);\n",
       "}\n",
       "\n",
       "#sk-container-id-8 div.sk-toggleable__content.fitted {\n",
       "  /* fitted */\n",
       "  background-color: var(--sklearn-color-fitted-level-0);\n",
       "}\n",
       "\n",
       "#sk-container-id-8 div.sk-toggleable__content pre {\n",
       "  margin: 0.2em;\n",
       "  border-radius: 0.25em;\n",
       "  color: var(--sklearn-color-text);\n",
       "  /* unfitted */\n",
       "  background-color: var(--sklearn-color-unfitted-level-0);\n",
       "}\n",
       "\n",
       "#sk-container-id-8 div.sk-toggleable__content.fitted pre {\n",
       "  /* unfitted */\n",
       "  background-color: var(--sklearn-color-fitted-level-0);\n",
       "}\n",
       "\n",
       "#sk-container-id-8 input.sk-toggleable__control:checked~div.sk-toggleable__content {\n",
       "  /* Expand drop-down */\n",
       "  max-height: 200px;\n",
       "  max-width: 100%;\n",
       "  overflow: auto;\n",
       "}\n",
       "\n",
       "#sk-container-id-8 input.sk-toggleable__control:checked~label.sk-toggleable__label-arrow:before {\n",
       "  content: \"▾\";\n",
       "}\n",
       "\n",
       "/* Pipeline/ColumnTransformer-specific style */\n",
       "\n",
       "#sk-container-id-8 div.sk-label input.sk-toggleable__control:checked~label.sk-toggleable__label {\n",
       "  color: var(--sklearn-color-text);\n",
       "  background-color: var(--sklearn-color-unfitted-level-2);\n",
       "}\n",
       "\n",
       "#sk-container-id-8 div.sk-label.fitted input.sk-toggleable__control:checked~label.sk-toggleable__label {\n",
       "  background-color: var(--sklearn-color-fitted-level-2);\n",
       "}\n",
       "\n",
       "/* Estimator-specific style */\n",
       "\n",
       "/* Colorize estimator box */\n",
       "#sk-container-id-8 div.sk-estimator input.sk-toggleable__control:checked~label.sk-toggleable__label {\n",
       "  /* unfitted */\n",
       "  background-color: var(--sklearn-color-unfitted-level-2);\n",
       "}\n",
       "\n",
       "#sk-container-id-8 div.sk-estimator.fitted input.sk-toggleable__control:checked~label.sk-toggleable__label {\n",
       "  /* fitted */\n",
       "  background-color: var(--sklearn-color-fitted-level-2);\n",
       "}\n",
       "\n",
       "#sk-container-id-8 div.sk-label label.sk-toggleable__label,\n",
       "#sk-container-id-8 div.sk-label label {\n",
       "  /* The background is the default theme color */\n",
       "  color: var(--sklearn-color-text-on-default-background);\n",
       "}\n",
       "\n",
       "/* On hover, darken the color of the background */\n",
       "#sk-container-id-8 div.sk-label:hover label.sk-toggleable__label {\n",
       "  color: var(--sklearn-color-text);\n",
       "  background-color: var(--sklearn-color-unfitted-level-2);\n",
       "}\n",
       "\n",
       "/* Label box, darken color on hover, fitted */\n",
       "#sk-container-id-8 div.sk-label.fitted:hover label.sk-toggleable__label.fitted {\n",
       "  color: var(--sklearn-color-text);\n",
       "  background-color: var(--sklearn-color-fitted-level-2);\n",
       "}\n",
       "\n",
       "/* Estimator label */\n",
       "\n",
       "#sk-container-id-8 div.sk-label label {\n",
       "  font-family: monospace;\n",
       "  font-weight: bold;\n",
       "  display: inline-block;\n",
       "  line-height: 1.2em;\n",
       "}\n",
       "\n",
       "#sk-container-id-8 div.sk-label-container {\n",
       "  text-align: center;\n",
       "}\n",
       "\n",
       "/* Estimator-specific */\n",
       "#sk-container-id-8 div.sk-estimator {\n",
       "  font-family: monospace;\n",
       "  border: 1px dotted var(--sklearn-color-border-box);\n",
       "  border-radius: 0.25em;\n",
       "  box-sizing: border-box;\n",
       "  margin-bottom: 0.5em;\n",
       "  /* unfitted */\n",
       "  background-color: var(--sklearn-color-unfitted-level-0);\n",
       "}\n",
       "\n",
       "#sk-container-id-8 div.sk-estimator.fitted {\n",
       "  /* fitted */\n",
       "  background-color: var(--sklearn-color-fitted-level-0);\n",
       "}\n",
       "\n",
       "/* on hover */\n",
       "#sk-container-id-8 div.sk-estimator:hover {\n",
       "  /* unfitted */\n",
       "  background-color: var(--sklearn-color-unfitted-level-2);\n",
       "}\n",
       "\n",
       "#sk-container-id-8 div.sk-estimator.fitted:hover {\n",
       "  /* fitted */\n",
       "  background-color: var(--sklearn-color-fitted-level-2);\n",
       "}\n",
       "\n",
       "/* Specification for estimator info (e.g. \"i\" and \"?\") */\n",
       "\n",
       "/* Common style for \"i\" and \"?\" */\n",
       "\n",
       ".sk-estimator-doc-link,\n",
       "a:link.sk-estimator-doc-link,\n",
       "a:visited.sk-estimator-doc-link {\n",
       "  float: right;\n",
       "  font-size: smaller;\n",
       "  line-height: 1em;\n",
       "  font-family: monospace;\n",
       "  background-color: var(--sklearn-color-background);\n",
       "  border-radius: 1em;\n",
       "  height: 1em;\n",
       "  width: 1em;\n",
       "  text-decoration: none !important;\n",
       "  margin-left: 0.5em;\n",
       "  text-align: center;\n",
       "  /* unfitted */\n",
       "  border: var(--sklearn-color-unfitted-level-1) 1pt solid;\n",
       "  color: var(--sklearn-color-unfitted-level-1);\n",
       "}\n",
       "\n",
       ".sk-estimator-doc-link.fitted,\n",
       "a:link.sk-estimator-doc-link.fitted,\n",
       "a:visited.sk-estimator-doc-link.fitted {\n",
       "  /* fitted */\n",
       "  border: var(--sklearn-color-fitted-level-1) 1pt solid;\n",
       "  color: var(--sklearn-color-fitted-level-1);\n",
       "}\n",
       "\n",
       "/* On hover */\n",
       "div.sk-estimator:hover .sk-estimator-doc-link:hover,\n",
       ".sk-estimator-doc-link:hover,\n",
       "div.sk-label-container:hover .sk-estimator-doc-link:hover,\n",
       ".sk-estimator-doc-link:hover {\n",
       "  /* unfitted */\n",
       "  background-color: var(--sklearn-color-unfitted-level-3);\n",
       "  color: var(--sklearn-color-background);\n",
       "  text-decoration: none;\n",
       "}\n",
       "\n",
       "div.sk-estimator.fitted:hover .sk-estimator-doc-link.fitted:hover,\n",
       ".sk-estimator-doc-link.fitted:hover,\n",
       "div.sk-label-container:hover .sk-estimator-doc-link.fitted:hover,\n",
       ".sk-estimator-doc-link.fitted:hover {\n",
       "  /* fitted */\n",
       "  background-color: var(--sklearn-color-fitted-level-3);\n",
       "  color: var(--sklearn-color-background);\n",
       "  text-decoration: none;\n",
       "}\n",
       "\n",
       "/* Span, style for the box shown on hovering the info icon */\n",
       ".sk-estimator-doc-link span {\n",
       "  display: none;\n",
       "  z-index: 9999;\n",
       "  position: relative;\n",
       "  font-weight: normal;\n",
       "  right: .2ex;\n",
       "  padding: .5ex;\n",
       "  margin: .5ex;\n",
       "  width: min-content;\n",
       "  min-width: 20ex;\n",
       "  max-width: 50ex;\n",
       "  color: var(--sklearn-color-text);\n",
       "  box-shadow: 2pt 2pt 4pt #999;\n",
       "  /* unfitted */\n",
       "  background: var(--sklearn-color-unfitted-level-0);\n",
       "  border: .5pt solid var(--sklearn-color-unfitted-level-3);\n",
       "}\n",
       "\n",
       ".sk-estimator-doc-link.fitted span {\n",
       "  /* fitted */\n",
       "  background: var(--sklearn-color-fitted-level-0);\n",
       "  border: var(--sklearn-color-fitted-level-3);\n",
       "}\n",
       "\n",
       ".sk-estimator-doc-link:hover span {\n",
       "  display: block;\n",
       "}\n",
       "\n",
       "/* \"?\"-specific style due to the `<a>` HTML tag */\n",
       "\n",
       "#sk-container-id-8 a.estimator_doc_link {\n",
       "  float: right;\n",
       "  font-size: 1rem;\n",
       "  line-height: 1em;\n",
       "  font-family: monospace;\n",
       "  background-color: var(--sklearn-color-background);\n",
       "  border-radius: 1rem;\n",
       "  height: 1rem;\n",
       "  width: 1rem;\n",
       "  text-decoration: none;\n",
       "  /* unfitted */\n",
       "  color: var(--sklearn-color-unfitted-level-1);\n",
       "  border: var(--sklearn-color-unfitted-level-1) 1pt solid;\n",
       "}\n",
       "\n",
       "#sk-container-id-8 a.estimator_doc_link.fitted {\n",
       "  /* fitted */\n",
       "  border: var(--sklearn-color-fitted-level-1) 1pt solid;\n",
       "  color: var(--sklearn-color-fitted-level-1);\n",
       "}\n",
       "\n",
       "/* On hover */\n",
       "#sk-container-id-8 a.estimator_doc_link:hover {\n",
       "  /* unfitted */\n",
       "  background-color: var(--sklearn-color-unfitted-level-3);\n",
       "  color: var(--sklearn-color-background);\n",
       "  text-decoration: none;\n",
       "}\n",
       "\n",
       "#sk-container-id-8 a.estimator_doc_link.fitted:hover {\n",
       "  /* fitted */\n",
       "  background-color: var(--sklearn-color-fitted-level-3);\n",
       "}\n",
       "</style><div id=\"sk-container-id-8\" class=\"sk-top-container\"><div class=\"sk-text-repr-fallback\"><pre>LogisticRegression()</pre><b>In a Jupyter environment, please rerun this cell to show the HTML representation or trust the notebook. <br />On GitHub, the HTML representation is unable to render, please try loading this page with nbviewer.org.</b></div><div class=\"sk-container\" hidden><div class=\"sk-item\"><div class=\"sk-estimator fitted sk-toggleable\"><input class=\"sk-toggleable__control sk-hidden--visually\" id=\"sk-estimator-id-8\" type=\"checkbox\" checked><label for=\"sk-estimator-id-8\" class=\"sk-toggleable__label fitted sk-toggleable__label-arrow\"><div><div>LogisticRegression</div></div><div><a class=\"sk-estimator-doc-link fitted\" rel=\"noreferrer\" target=\"_blank\" href=\"https://scikit-learn.org/1.6/modules/generated/sklearn.linear_model.LogisticRegression.html\">?<span>Documentation for LogisticRegression</span></a><span class=\"sk-estimator-doc-link fitted\">i<span>Fitted</span></span></div></label><div class=\"sk-toggleable__content fitted\"><pre>LogisticRegression()</pre></div> </div></div></div></div>"
      ],
      "text/plain": [
       "LogisticRegression()"
      ]
     },
     "execution_count": 236,
     "metadata": {},
     "output_type": "execute_result"
    }
   ],
   "source": [
    "model.fit(train_X, y_train)"
   ]
  },
  {
   "cell_type": "code",
   "execution_count": 239,
   "id": "105ee895",
   "metadata": {},
   "outputs": [
    {
     "data": {
      "text/plain": [
       "array([-0.07 ,  0.004,  0.   ,  0.474, -0.175, -0.407, -0.03 , -0.078,\n",
       "        0.063, -0.089, -0.081, -0.034, -0.073, -0.335,  0.316, -0.089,\n",
       "       -0.258,  0.141,  0.009,  0.063, -0.089, -0.081,  0.265, -0.089,\n",
       "       -0.284, -0.231,  0.123, -0.166,  0.058, -0.087, -0.032,  0.07 ,\n",
       "       -0.059,  0.141, -0.249,  0.215, -0.12 , -0.089,  0.102, -0.071,\n",
       "       -0.089,  0.052,  0.213, -0.089, -0.232])"
      ]
     },
     "execution_count": 239,
     "metadata": {},
     "output_type": "execute_result"
    }
   ],
   "source": [
    "model.coef_[0].round(3)"
   ]
  },
  {
   "cell_type": "code",
   "execution_count": 243,
   "id": "deffacb3",
   "metadata": {},
   "outputs": [
    {
     "data": {
      "text/plain": [
       "np.int64(822)"
      ]
     },
     "execution_count": 243,
     "metadata": {},
     "output_type": "execute_result"
    }
   ],
   "source": [
    "(model.predict(train_X) != y_train).sum()"
   ]
  },
  {
   "cell_type": "code",
   "execution_count": 244,
   "id": "a73fb293",
   "metadata": {},
   "outputs": [
    {
     "data": {
      "text/plain": [
       "array([[0.90430077, 0.09569923],\n",
       "       [0.32090004, 0.67909996],\n",
       "       [0.36653569, 0.63346431],\n",
       "       ...,\n",
       "       [0.46815006, 0.53184994],\n",
       "       [0.95755818, 0.04244182],\n",
       "       [0.3016033 , 0.6983967 ]], shape=(4225, 2))"
      ]
     },
     "execution_count": 244,
     "metadata": {},
     "output_type": "execute_result"
    }
   ],
   "source": [
    "model.predict_proba(train_X)"
   ]
  },
  {
   "cell_type": "code",
   "execution_count": 248,
   "id": "cbd9814f",
   "metadata": {},
   "outputs": [],
   "source": [
    "y_pred_probs = model.predict_proba(val_X)[:,1]"
   ]
  },
  {
   "cell_type": "code",
   "execution_count": 249,
   "id": "57200fe2",
   "metadata": {},
   "outputs": [],
   "source": [
    "churn_decision = (y_pred_probs >= 0.5)"
   ]
  },
  {
   "cell_type": "code",
   "execution_count": 250,
   "id": "5b4020e1",
   "metadata": {},
   "outputs": [
    {
     "data": {
      "text/plain": [
       "np.float64(0.8034066713981547)"
      ]
     },
     "execution_count": 250,
     "metadata": {},
     "output_type": "execute_result"
    }
   ],
   "source": [
    "(y_val == churn_decision).mean()"
   ]
  },
  {
   "cell_type": "code",
   "execution_count": null,
   "id": "a2a0e8a1",
   "metadata": {},
   "outputs": [],
   "source": [
    "df_pred = pd.DataFrame()\n",
    "df_pred['probability'] = y_pred_probs\n",
    "df_pred['prediction'] = churn_decision.astype(int)\n",
    "df_pred['actual'] = y_val"
   ]
  },
  {
   "cell_type": "code",
   "execution_count": 252,
   "id": "43f6110a",
   "metadata": {},
   "outputs": [
    {
     "data": {
      "application/vnd.microsoft.datawrangler.viewer.v0+json": {
       "columns": [
        {
         "name": "index",
         "rawType": "int64",
         "type": "integer"
        },
        {
         "name": "probability",
         "rawType": "float64",
         "type": "float"
        },
        {
         "name": "prediction",
         "rawType": "int64",
         "type": "integer"
        },
        {
         "name": "actual",
         "rawType": "int64",
         "type": "integer"
        }
       ],
       "ref": "3b9bb895-e63b-4594-8c91-f61ba87dfb7d",
       "rows": [
        [
         "0",
         "0.00900354976513758",
         "0",
         "0"
        ],
        [
         "1",
         "0.2043156118931489",
         "0",
         "0"
        ],
        [
         "2",
         "0.2119400276111199",
         "0",
         "0"
        ],
        [
         "3",
         "0.542939397033094",
         "1",
         "1"
        ],
        [
         "4",
         "0.21351103189623166",
         "0",
         "0"
        ],
        [
         "5",
         "0.20530521525221815",
         "0",
         "0"
        ],
        [
         "6",
         "0.027808156664295654",
         "0",
         "0"
        ],
        [
         "7",
         "0.002971503737732989",
         "0",
         "0"
        ],
        [
         "8",
         "0.5822292374869178",
         "1",
         "1"
        ],
        [
         "9",
         "0.46159386713761097",
         "0",
         "1"
        ],
        [
         "10",
         "0.04160353093933236",
         "0",
         "0"
        ],
        [
         "11",
         "0.5006193662434142",
         "1",
         "0"
        ],
        [
         "12",
         "0.7391495169451896",
         "1",
         "1"
        ],
        [
         "13",
         "0.08021655439930944",
         "0",
         "0"
        ],
        [
         "14",
         "0.06593579102668051",
         "0",
         "1"
        ],
        [
         "15",
         "0.11716992600305626",
         "0",
         "0"
        ],
        [
         "16",
         "0.2113971855253289",
         "0",
         "0"
        ],
        [
         "17",
         "0.09285609648162435",
         "0",
         "0"
        ],
        [
         "18",
         "0.111292177804482",
         "0",
         "0"
        ],
        [
         "19",
         "0.6914373151341899",
         "1",
         "1"
        ],
        [
         "20",
         "0.0066542517058334255",
         "0",
         "0"
        ],
        [
         "21",
         "0.004676293856263095",
         "0",
         "0"
        ],
        [
         "22",
         "0.24729391735725784",
         "0",
         "1"
        ],
        [
         "23",
         "0.19667499753973897",
         "0",
         "0"
        ],
        [
         "24",
         "0.6963245784432426",
         "1",
         "1"
        ],
        [
         "25",
         "0.28203177877764385",
         "0",
         "0"
        ],
        [
         "26",
         "0.14446501499405814",
         "0",
         "0"
        ],
        [
         "27",
         "0.21180422161790266",
         "0",
         "1"
        ],
        [
         "28",
         "0.036672278651419574",
         "0",
         "0"
        ],
        [
         "29",
         "0.0035651027928967067",
         "0",
         "0"
        ],
        [
         "30",
         "0.6648512857478515",
         "1",
         "1"
        ],
        [
         "31",
         "0.5127176420194185",
         "1",
         "0"
        ],
        [
         "32",
         "0.25070015080089425",
         "0",
         "0"
        ],
        [
         "33",
         "0.369691696637023",
         "0",
         "0"
        ],
        [
         "34",
         "0.4734567414613187",
         "0",
         "1"
        ],
        [
         "35",
         "0.34863722244284967",
         "0",
         "1"
        ],
        [
         "36",
         "0.15070633707878778",
         "0",
         "1"
        ],
        [
         "37",
         "0.2783027408815785",
         "0",
         "0"
        ],
        [
         "38",
         "0.037364700232782155",
         "0",
         "0"
        ],
        [
         "39",
         "0.02741063950467862",
         "0",
         "0"
        ],
        [
         "40",
         "0.7296409734188639",
         "1",
         "0"
        ],
        [
         "41",
         "0.021782669540631454",
         "0",
         "0"
        ],
        [
         "42",
         "0.0069340823894991944",
         "0",
         "0"
        ],
        [
         "43",
         "0.6173158014133646",
         "1",
         "1"
        ],
        [
         "44",
         "0.5411720590812272",
         "1",
         "0"
        ],
        [
         "45",
         "0.7644443963764884",
         "1",
         "1"
        ],
        [
         "46",
         "0.14246757478873553",
         "0",
         "1"
        ],
        [
         "47",
         "0.4325140166686677",
         "0",
         "1"
        ],
        [
         "48",
         "0.5629267909838275",
         "1",
         "0"
        ],
        [
         "49",
         "0.38510193125500736",
         "0",
         "0"
        ]
       ],
       "shape": {
        "columns": 3,
        "rows": 1409
       }
      },
      "text/html": [
       "<div>\n",
       "<style scoped>\n",
       "    .dataframe tbody tr th:only-of-type {\n",
       "        vertical-align: middle;\n",
       "    }\n",
       "\n",
       "    .dataframe tbody tr th {\n",
       "        vertical-align: top;\n",
       "    }\n",
       "\n",
       "    .dataframe thead th {\n",
       "        text-align: right;\n",
       "    }\n",
       "</style>\n",
       "<table border=\"1\" class=\"dataframe\">\n",
       "  <thead>\n",
       "    <tr style=\"text-align: right;\">\n",
       "      <th></th>\n",
       "      <th>probability</th>\n",
       "      <th>prediction</th>\n",
       "      <th>actual</th>\n",
       "    </tr>\n",
       "  </thead>\n",
       "  <tbody>\n",
       "    <tr>\n",
       "      <th>0</th>\n",
       "      <td>0.009004</td>\n",
       "      <td>0</td>\n",
       "      <td>0</td>\n",
       "    </tr>\n",
       "    <tr>\n",
       "      <th>1</th>\n",
       "      <td>0.204316</td>\n",
       "      <td>0</td>\n",
       "      <td>0</td>\n",
       "    </tr>\n",
       "    <tr>\n",
       "      <th>2</th>\n",
       "      <td>0.211940</td>\n",
       "      <td>0</td>\n",
       "      <td>0</td>\n",
       "    </tr>\n",
       "    <tr>\n",
       "      <th>3</th>\n",
       "      <td>0.542939</td>\n",
       "      <td>1</td>\n",
       "      <td>1</td>\n",
       "    </tr>\n",
       "    <tr>\n",
       "      <th>4</th>\n",
       "      <td>0.213511</td>\n",
       "      <td>0</td>\n",
       "      <td>0</td>\n",
       "    </tr>\n",
       "    <tr>\n",
       "      <th>...</th>\n",
       "      <td>...</td>\n",
       "      <td>...</td>\n",
       "      <td>...</td>\n",
       "    </tr>\n",
       "    <tr>\n",
       "      <th>1404</th>\n",
       "      <td>0.313286</td>\n",
       "      <td>0</td>\n",
       "      <td>0</td>\n",
       "    </tr>\n",
       "    <tr>\n",
       "      <th>1405</th>\n",
       "      <td>0.039359</td>\n",
       "      <td>0</td>\n",
       "      <td>1</td>\n",
       "    </tr>\n",
       "    <tr>\n",
       "      <th>1406</th>\n",
       "      <td>0.136455</td>\n",
       "      <td>0</td>\n",
       "      <td>0</td>\n",
       "    </tr>\n",
       "    <tr>\n",
       "      <th>1407</th>\n",
       "      <td>0.799576</td>\n",
       "      <td>1</td>\n",
       "      <td>1</td>\n",
       "    </tr>\n",
       "    <tr>\n",
       "      <th>1408</th>\n",
       "      <td>0.837204</td>\n",
       "      <td>1</td>\n",
       "      <td>1</td>\n",
       "    </tr>\n",
       "  </tbody>\n",
       "</table>\n",
       "<p>1409 rows × 3 columns</p>\n",
       "</div>"
      ],
      "text/plain": [
       "      probability  prediction  actual\n",
       "0        0.009004           0       0\n",
       "1        0.204316           0       0\n",
       "2        0.211940           0       0\n",
       "3        0.542939           1       1\n",
       "4        0.213511           0       0\n",
       "...           ...         ...     ...\n",
       "1404     0.313286           0       0\n",
       "1405     0.039359           0       1\n",
       "1406     0.136455           0       0\n",
       "1407     0.799576           1       1\n",
       "1408     0.837204           1       1\n",
       "\n",
       "[1409 rows x 3 columns]"
      ]
     },
     "execution_count": 252,
     "metadata": {},
     "output_type": "execute_result"
    }
   ],
   "source": [
    "df_pred"
   ]
  },
  {
   "cell_type": "code",
   "execution_count": 254,
   "id": "91bd28a5",
   "metadata": {},
   "outputs": [],
   "source": [
    "df_pred['correct'] = (df_pred.prediction == df_pred.actual).astype(int)"
   ]
  },
  {
   "cell_type": "code",
   "execution_count": 255,
   "id": "14563597",
   "metadata": {},
   "outputs": [
    {
     "data": {
      "application/vnd.microsoft.datawrangler.viewer.v0+json": {
       "columns": [
        {
         "name": "index",
         "rawType": "int64",
         "type": "integer"
        },
        {
         "name": "probability",
         "rawType": "float64",
         "type": "float"
        },
        {
         "name": "prediction",
         "rawType": "int64",
         "type": "integer"
        },
        {
         "name": "actual",
         "rawType": "int64",
         "type": "integer"
        },
        {
         "name": "correct",
         "rawType": "int64",
         "type": "integer"
        }
       ],
       "ref": "684a4fe9-14c1-4190-b77b-0696cf02a4cb",
       "rows": [
        [
         "0",
         "0.00900354976513758",
         "0",
         "0",
         "1"
        ],
        [
         "1",
         "0.2043156118931489",
         "0",
         "0",
         "1"
        ],
        [
         "2",
         "0.2119400276111199",
         "0",
         "0",
         "1"
        ],
        [
         "3",
         "0.542939397033094",
         "1",
         "1",
         "1"
        ],
        [
         "4",
         "0.21351103189623166",
         "0",
         "0",
         "1"
        ]
       ],
       "shape": {
        "columns": 4,
        "rows": 5
       }
      },
      "text/html": [
       "<div>\n",
       "<style scoped>\n",
       "    .dataframe tbody tr th:only-of-type {\n",
       "        vertical-align: middle;\n",
       "    }\n",
       "\n",
       "    .dataframe tbody tr th {\n",
       "        vertical-align: top;\n",
       "    }\n",
       "\n",
       "    .dataframe thead th {\n",
       "        text-align: right;\n",
       "    }\n",
       "</style>\n",
       "<table border=\"1\" class=\"dataframe\">\n",
       "  <thead>\n",
       "    <tr style=\"text-align: right;\">\n",
       "      <th></th>\n",
       "      <th>probability</th>\n",
       "      <th>prediction</th>\n",
       "      <th>actual</th>\n",
       "      <th>correct</th>\n",
       "    </tr>\n",
       "  </thead>\n",
       "  <tbody>\n",
       "    <tr>\n",
       "      <th>0</th>\n",
       "      <td>0.009004</td>\n",
       "      <td>0</td>\n",
       "      <td>0</td>\n",
       "      <td>1</td>\n",
       "    </tr>\n",
       "    <tr>\n",
       "      <th>1</th>\n",
       "      <td>0.204316</td>\n",
       "      <td>0</td>\n",
       "      <td>0</td>\n",
       "      <td>1</td>\n",
       "    </tr>\n",
       "    <tr>\n",
       "      <th>2</th>\n",
       "      <td>0.211940</td>\n",
       "      <td>0</td>\n",
       "      <td>0</td>\n",
       "      <td>1</td>\n",
       "    </tr>\n",
       "    <tr>\n",
       "      <th>3</th>\n",
       "      <td>0.542939</td>\n",
       "      <td>1</td>\n",
       "      <td>1</td>\n",
       "      <td>1</td>\n",
       "    </tr>\n",
       "    <tr>\n",
       "      <th>4</th>\n",
       "      <td>0.213511</td>\n",
       "      <td>0</td>\n",
       "      <td>0</td>\n",
       "      <td>1</td>\n",
       "    </tr>\n",
       "  </tbody>\n",
       "</table>\n",
       "</div>"
      ],
      "text/plain": [
       "   probability  prediction  actual  correct\n",
       "0     0.009004           0       0        1\n",
       "1     0.204316           0       0        1\n",
       "2     0.211940           0       0        1\n",
       "3     0.542939           1       1        1\n",
       "4     0.213511           0       0        1"
      ]
     },
     "execution_count": 255,
     "metadata": {},
     "output_type": "execute_result"
    }
   ],
   "source": [
    "df_pred.head()"
   ]
  },
  {
   "cell_type": "markdown",
   "id": "8bbadc21",
   "metadata": {},
   "source": [
    "## Section 11: Model Interpretation\n",
    "\n",
    "- Look at the coeeficients\n",
    "-  Train a smaller model with fewer features\n"
   ]
  },
  {
   "cell_type": "code",
   "execution_count": 259,
   "id": "69432be2",
   "metadata": {},
   "outputs": [
    {
     "data": {
      "text/plain": [
       "array([-0.07 ,  0.004,  0.   ,  0.474, -0.175, -0.407, -0.03 , -0.078,\n",
       "        0.063, -0.089, -0.081, -0.034, -0.073, -0.335,  0.316, -0.089,\n",
       "       -0.258,  0.141,  0.009,  0.063, -0.089, -0.081,  0.265, -0.089,\n",
       "       -0.284, -0.231,  0.123, -0.166,  0.058, -0.087, -0.032,  0.07 ,\n",
       "       -0.059,  0.141, -0.249,  0.215, -0.12 , -0.089,  0.102, -0.071,\n",
       "       -0.089,  0.052,  0.213, -0.089, -0.232])"
      ]
     },
     "execution_count": 259,
     "metadata": {},
     "output_type": "execute_result"
    }
   ],
   "source": [
    "weights  = model.coef_[0].round(3)\n",
    "weights"
   ]
  },
  {
   "cell_type": "code",
   "execution_count": null,
   "id": "cf3e470a",
   "metadata": {},
   "outputs": [
    {
     "data": {
      "text/plain": [
       "array(['contract=month-to-month', 'contract=one_year',\n",
       "       'contract=two_year', 'dependents=no', 'dependents=yes',\n",
       "       'deviceprotection=no', 'deviceprotection=no_internet_service',\n",
       "       'deviceprotection=yes', 'gender=female', 'gender=male',\n",
       "       'internetservice=dsl', 'internetservice=fiber_optic',\n",
       "       'internetservice=no', 'multiplelines=no',\n",
       "       'multiplelines=no_phone_service', 'multiplelines=yes',\n",
       "       'onlinebackup=no', 'onlinebackup=no_internet_service',\n",
       "       'onlinebackup=yes', 'onlinesecurity=no',\n",
       "       'onlinesecurity=no_internet_service', 'onlinesecurity=yes',\n",
       "       'paperlessbilling=no', 'paperlessbilling=yes', 'partner=no',\n",
       "       'partner=yes', 'paymentmethod=bank_transfer_(automatic)',\n",
       "       'paymentmethod=credit_card_(automatic)',\n",
       "       'paymentmethod=electronic_check', 'paymentmethod=mailed_check',\n",
       "       'phoneservice=no', 'phoneservice=yes', 'seniorcitizen',\n",
       "       'streamingmovies=no', 'streamingmovies=no_internet_service',\n",
       "       'streamingmovies=yes', 'streamingtv=no',\n",
       "       'streamingtv=no_internet_service', 'streamingtv=yes',\n",
       "       'techsupport=no', 'techsupport=no_internet_service',\n",
       "       'techsupport=yes'], dtype=object)"
      ]
     },
     "execution_count": 260,
     "metadata": {},
     "output_type": "execute_result"
    }
   ],
   "source": []
  },
  {
   "cell_type": "code",
   "execution_count": 274,
   "id": "9b87ac0e",
   "metadata": {},
   "outputs": [
    {
     "data": {
      "text/plain": [
       "{'tenure': np.float64(-0.07),\n",
       " 'monthlycharges': np.float64(0.004),\n",
       " 'totalcharges': np.float64(0.0),\n",
       " 'contract=month-to-month': np.float64(0.474),\n",
       " 'contract=one_year': np.float64(-0.175),\n",
       " 'contract=two_year': np.float64(-0.407),\n",
       " 'dependents=no': np.float64(-0.03),\n",
       " 'dependents=yes': np.float64(-0.078),\n",
       " 'deviceprotection=no': np.float64(0.063),\n",
       " 'deviceprotection=no_internet_service': np.float64(-0.089),\n",
       " 'deviceprotection=yes': np.float64(-0.081),\n",
       " 'gender=female': np.float64(-0.034),\n",
       " 'gender=male': np.float64(-0.073),\n",
       " 'internetservice=dsl': np.float64(-0.335),\n",
       " 'internetservice=fiber_optic': np.float64(0.316),\n",
       " 'internetservice=no': np.float64(-0.089),\n",
       " 'multiplelines=no': np.float64(-0.258),\n",
       " 'multiplelines=no_phone_service': np.float64(0.141),\n",
       " 'multiplelines=yes': np.float64(0.009),\n",
       " 'onlinebackup=no': np.float64(0.063),\n",
       " 'onlinebackup=no_internet_service': np.float64(-0.089),\n",
       " 'onlinebackup=yes': np.float64(-0.081),\n",
       " 'onlinesecurity=no': np.float64(0.265),\n",
       " 'onlinesecurity=no_internet_service': np.float64(-0.089),\n",
       " 'onlinesecurity=yes': np.float64(-0.284),\n",
       " 'paperlessbilling=no': np.float64(-0.231),\n",
       " 'paperlessbilling=yes': np.float64(0.123),\n",
       " 'partner=no': np.float64(-0.166),\n",
       " 'partner=yes': np.float64(0.058),\n",
       " 'paymentmethod=bank_transfer_(automatic)': np.float64(-0.087),\n",
       " 'paymentmethod=credit_card_(automatic)': np.float64(-0.032),\n",
       " 'paymentmethod=electronic_check': np.float64(0.07),\n",
       " 'paymentmethod=mailed_check': np.float64(-0.059),\n",
       " 'phoneservice=no': np.float64(0.141),\n",
       " 'phoneservice=yes': np.float64(-0.249),\n",
       " 'seniorcitizen': np.float64(0.215),\n",
       " 'streamingmovies=no': np.float64(-0.12),\n",
       " 'streamingmovies=no_internet_service': np.float64(-0.089),\n",
       " 'streamingmovies=yes': np.float64(0.102),\n",
       " 'streamingtv=no': np.float64(-0.071),\n",
       " 'streamingtv=no_internet_service': np.float64(-0.089),\n",
       " 'streamingtv=yes': np.float64(0.052),\n",
       " 'techsupport=no': np.float64(0.213),\n",
       " 'techsupport=no_internet_service': np.float64(-0.089),\n",
       " 'techsupport=yes': np.float64(-0.232)}"
      ]
     },
     "execution_count": 274,
     "metadata": {},
     "output_type": "execute_result"
    }
   ],
   "source": [
    "\n",
    "dict(zip(numerical + dv.feature_names_, weights))"
   ]
  },
  {
   "cell_type": "code",
   "execution_count": 264,
   "id": "3bdb2f14",
   "metadata": {},
   "outputs": [
    {
     "data": {
      "text/plain": [
       "['tenure', 'monthlycharges', 'totalcharges']"
      ]
     },
     "execution_count": 264,
     "metadata": {},
     "output_type": "execute_result"
    }
   ],
   "source": [
    "numerical"
   ]
  },
  {
   "cell_type": "code",
   "execution_count": 269,
   "id": "c0504fe5",
   "metadata": {},
   "outputs": [
    {
     "data": {
      "text/plain": [
       "['tenure',\n",
       " 'monthlycharges',\n",
       " 'totalcharges',\n",
       " 'contract=month-to-month',\n",
       " 'contract=one_year',\n",
       " 'contract=two_year',\n",
       " 'dependents=no',\n",
       " 'dependents=yes',\n",
       " 'deviceprotection=no',\n",
       " 'deviceprotection=no_internet_service',\n",
       " 'deviceprotection=yes',\n",
       " 'gender=female',\n",
       " 'gender=male',\n",
       " 'internetservice=dsl',\n",
       " 'internetservice=fiber_optic',\n",
       " 'internetservice=no',\n",
       " 'multiplelines=no',\n",
       " 'multiplelines=no_phone_service',\n",
       " 'multiplelines=yes',\n",
       " 'onlinebackup=no',\n",
       " 'onlinebackup=no_internet_service',\n",
       " 'onlinebackup=yes',\n",
       " 'onlinesecurity=no',\n",
       " 'onlinesecurity=no_internet_service',\n",
       " 'onlinesecurity=yes',\n",
       " 'paperlessbilling=no',\n",
       " 'paperlessbilling=yes',\n",
       " 'partner=no',\n",
       " 'partner=yes',\n",
       " 'paymentmethod=bank_transfer_(automatic)',\n",
       " 'paymentmethod=credit_card_(automatic)',\n",
       " 'paymentmethod=electronic_check',\n",
       " 'paymentmethod=mailed_check',\n",
       " 'phoneservice=no',\n",
       " 'phoneservice=yes',\n",
       " 'seniorcitizen',\n",
       " 'streamingmovies=no',\n",
       " 'streamingmovies=no_internet_service',\n",
       " 'streamingmovies=yes',\n",
       " 'streamingtv=no',\n",
       " 'streamingtv=no_internet_service',\n",
       " 'streamingtv=yes',\n",
       " 'techsupport=no',\n",
       " 'techsupport=no_internet_service',\n",
       " 'techsupport=yes']"
      ]
     },
     "execution_count": 269,
     "metadata": {},
     "output_type": "execute_result"
    }
   ],
   "source": [
    "numerical + dv.feature_names_"
   ]
  },
  {
   "cell_type": "code",
   "execution_count": null,
   "id": "1f3e3317",
   "metadata": {},
   "outputs": [],
   "source": []
  }
 ],
 "metadata": {
  "kernelspec": {
   "display_name": "Python 3",
   "language": "python",
   "name": "python3"
  },
  "language_info": {
   "codemirror_mode": {
    "name": "ipython",
    "version": 3
   },
   "file_extension": ".py",
   "mimetype": "text/x-python",
   "name": "python",
   "nbconvert_exporter": "python",
   "pygments_lexer": "ipython3",
   "version": "3.12.1"
  }
 },
 "nbformat": 4,
 "nbformat_minor": 5
}
