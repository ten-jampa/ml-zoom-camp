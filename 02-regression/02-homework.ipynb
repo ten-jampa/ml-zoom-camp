{
 "cells": [
  {
   "cell_type": "markdown",
   "id": "751b1de1",
   "metadata": {},
   "source": [
    "## Module 2: Regression Homework\n"
   ]
  },
  {
   "cell_type": "code",
   "execution_count": 1,
   "id": "c7a7256b",
   "metadata": {},
   "outputs": [
    {
     "name": "stdout",
     "output_type": "stream",
     "text": [
      "--2025-05-20 14:07:33--  https://raw.githubusercontent.com/alexeygrigorev/datasets/master/laptops.csv\n",
      "Resolving raw.githubusercontent.com (raw.githubusercontent.com)... 185.199.111.133, 185.199.109.133, 185.199.108.133, ...\n",
      "Connecting to raw.githubusercontent.com (raw.githubusercontent.com)|185.199.111.133|:443... connected.\n",
      "HTTP request sent, awaiting response... 200 OK\n",
      "Length: 298573 (292K) [text/plain]\n",
      "Saving to: ‘laptops.csv’\n",
      "\n",
      "laptops.csv         100%[===================>] 291.58K  --.-KB/s    in 0.01s   \n",
      "\n",
      "2025-05-20 14:07:33 (24.7 MB/s) - ‘laptops.csv’ saved [298573/298573]\n",
      "\n"
     ]
    }
   ],
   "source": [
    "!wget https://raw.githubusercontent.com/alexeygrigorev/datasets/master/laptops.csv"
   ]
  },
  {
   "cell_type": "code",
   "execution_count": 2,
   "id": "f702b295",
   "metadata": {},
   "outputs": [],
   "source": [
    "# Imports\n",
    "import numpy as np\n",
    "import pandas as pd\n",
    "\n",
    "import matplotlib.pyplot as plt\n",
    "import seaborn as sns\n",
    "\n",
    "%matplotlib inline"
   ]
  },
  {
   "cell_type": "code",
   "execution_count": 3,
   "id": "153ce7b3",
   "metadata": {},
   "outputs": [],
   "source": [
    "df = pd.read_csv('laptops.csv')\n"
   ]
  },
  {
   "cell_type": "code",
   "execution_count": 4,
   "id": "78189098",
   "metadata": {},
   "outputs": [
    {
     "data": {
      "application/vnd.microsoft.datawrangler.viewer.v0+json": {
       "columns": [
        {
         "name": "index",
         "rawType": "int64",
         "type": "integer"
        },
        {
         "name": "Laptop",
         "rawType": "object",
         "type": "string"
        },
        {
         "name": "Status",
         "rawType": "object",
         "type": "string"
        },
        {
         "name": "Brand",
         "rawType": "object",
         "type": "string"
        },
        {
         "name": "Model",
         "rawType": "object",
         "type": "string"
        },
        {
         "name": "CPU",
         "rawType": "object",
         "type": "string"
        },
        {
         "name": "RAM",
         "rawType": "int64",
         "type": "integer"
        },
        {
         "name": "Storage",
         "rawType": "int64",
         "type": "integer"
        },
        {
         "name": "Storage type",
         "rawType": "object",
         "type": "string"
        },
        {
         "name": "GPU",
         "rawType": "object",
         "type": "unknown"
        },
        {
         "name": "Screen",
         "rawType": "float64",
         "type": "float"
        },
        {
         "name": "Touch",
         "rawType": "object",
         "type": "string"
        },
        {
         "name": "Final Price",
         "rawType": "float64",
         "type": "float"
        }
       ],
       "conversionMethod": "pd.DataFrame",
       "ref": "2dcb6566-3075-4372-9206-7b2d71aa0945",
       "rows": [
        [
         "0",
         "ASUS ExpertBook B1 B1502CBA-EJ0436X Intel Core i5-1235U/8GB/512GB SSD/15.6\"",
         "New",
         "Asus",
         "ExpertBook",
         "Intel Core i5",
         "8",
         "512",
         "SSD",
         null,
         "15.6",
         "No",
         "1009.0"
        ],
        [
         "1",
         "Alurin Go Start Intel Celeron N4020/8GB/256GB SSD/15.6\"",
         "New",
         "Alurin",
         "Go",
         "Intel Celeron",
         "8",
         "256",
         "SSD",
         null,
         "15.6",
         "No",
         "299.0"
        ],
        [
         "2",
         "ASUS ExpertBook B1 B1502CBA-EJ0424X Intel Core i3-1215U/8GB/256GB SSD/15.6\"",
         "New",
         "Asus",
         "ExpertBook",
         "Intel Core i3",
         "8",
         "256",
         "SSD",
         null,
         "15.6",
         "No",
         "789.0"
        ],
        [
         "3",
         "MSI Katana GF66 12UC-082XES Intel Core i7-12700H/16GB/1TB SSD/RTX3050/15.6\"",
         "New",
         "MSI",
         "Katana",
         "Intel Core i7",
         "16",
         "1000",
         "SSD",
         "RTX 3050",
         "15.6",
         "No",
         "1199.0"
        ],
        [
         "4",
         "HP 15S-FQ5085NS Intel Core i5-1235U/16GB/512GB SSD/15.6\"",
         "New",
         "HP",
         "15S",
         "Intel Core i5",
         "16",
         "512",
         "SSD",
         null,
         "15.6",
         "No",
         "669.01"
        ]
       ],
       "shape": {
        "columns": 12,
        "rows": 5
       }
      },
      "text/html": [
       "<div>\n",
       "<style scoped>\n",
       "    .dataframe tbody tr th:only-of-type {\n",
       "        vertical-align: middle;\n",
       "    }\n",
       "\n",
       "    .dataframe tbody tr th {\n",
       "        vertical-align: top;\n",
       "    }\n",
       "\n",
       "    .dataframe thead th {\n",
       "        text-align: right;\n",
       "    }\n",
       "</style>\n",
       "<table border=\"1\" class=\"dataframe\">\n",
       "  <thead>\n",
       "    <tr style=\"text-align: right;\">\n",
       "      <th></th>\n",
       "      <th>Laptop</th>\n",
       "      <th>Status</th>\n",
       "      <th>Brand</th>\n",
       "      <th>Model</th>\n",
       "      <th>CPU</th>\n",
       "      <th>RAM</th>\n",
       "      <th>Storage</th>\n",
       "      <th>Storage type</th>\n",
       "      <th>GPU</th>\n",
       "      <th>Screen</th>\n",
       "      <th>Touch</th>\n",
       "      <th>Final Price</th>\n",
       "    </tr>\n",
       "  </thead>\n",
       "  <tbody>\n",
       "    <tr>\n",
       "      <th>0</th>\n",
       "      <td>ASUS ExpertBook B1 B1502CBA-EJ0436X Intel Core...</td>\n",
       "      <td>New</td>\n",
       "      <td>Asus</td>\n",
       "      <td>ExpertBook</td>\n",
       "      <td>Intel Core i5</td>\n",
       "      <td>8</td>\n",
       "      <td>512</td>\n",
       "      <td>SSD</td>\n",
       "      <td>NaN</td>\n",
       "      <td>15.6</td>\n",
       "      <td>No</td>\n",
       "      <td>1009.00</td>\n",
       "    </tr>\n",
       "    <tr>\n",
       "      <th>1</th>\n",
       "      <td>Alurin Go Start Intel Celeron N4020/8GB/256GB ...</td>\n",
       "      <td>New</td>\n",
       "      <td>Alurin</td>\n",
       "      <td>Go</td>\n",
       "      <td>Intel Celeron</td>\n",
       "      <td>8</td>\n",
       "      <td>256</td>\n",
       "      <td>SSD</td>\n",
       "      <td>NaN</td>\n",
       "      <td>15.6</td>\n",
       "      <td>No</td>\n",
       "      <td>299.00</td>\n",
       "    </tr>\n",
       "    <tr>\n",
       "      <th>2</th>\n",
       "      <td>ASUS ExpertBook B1 B1502CBA-EJ0424X Intel Core...</td>\n",
       "      <td>New</td>\n",
       "      <td>Asus</td>\n",
       "      <td>ExpertBook</td>\n",
       "      <td>Intel Core i3</td>\n",
       "      <td>8</td>\n",
       "      <td>256</td>\n",
       "      <td>SSD</td>\n",
       "      <td>NaN</td>\n",
       "      <td>15.6</td>\n",
       "      <td>No</td>\n",
       "      <td>789.00</td>\n",
       "    </tr>\n",
       "    <tr>\n",
       "      <th>3</th>\n",
       "      <td>MSI Katana GF66 12UC-082XES Intel Core i7-1270...</td>\n",
       "      <td>New</td>\n",
       "      <td>MSI</td>\n",
       "      <td>Katana</td>\n",
       "      <td>Intel Core i7</td>\n",
       "      <td>16</td>\n",
       "      <td>1000</td>\n",
       "      <td>SSD</td>\n",
       "      <td>RTX 3050</td>\n",
       "      <td>15.6</td>\n",
       "      <td>No</td>\n",
       "      <td>1199.00</td>\n",
       "    </tr>\n",
       "    <tr>\n",
       "      <th>4</th>\n",
       "      <td>HP 15S-FQ5085NS Intel Core i5-1235U/16GB/512GB...</td>\n",
       "      <td>New</td>\n",
       "      <td>HP</td>\n",
       "      <td>15S</td>\n",
       "      <td>Intel Core i5</td>\n",
       "      <td>16</td>\n",
       "      <td>512</td>\n",
       "      <td>SSD</td>\n",
       "      <td>NaN</td>\n",
       "      <td>15.6</td>\n",
       "      <td>No</td>\n",
       "      <td>669.01</td>\n",
       "    </tr>\n",
       "  </tbody>\n",
       "</table>\n",
       "</div>"
      ],
      "text/plain": [
       "                                              Laptop Status   Brand  \\\n",
       "0  ASUS ExpertBook B1 B1502CBA-EJ0436X Intel Core...    New    Asus   \n",
       "1  Alurin Go Start Intel Celeron N4020/8GB/256GB ...    New  Alurin   \n",
       "2  ASUS ExpertBook B1 B1502CBA-EJ0424X Intel Core...    New    Asus   \n",
       "3  MSI Katana GF66 12UC-082XES Intel Core i7-1270...    New     MSI   \n",
       "4  HP 15S-FQ5085NS Intel Core i5-1235U/16GB/512GB...    New      HP   \n",
       "\n",
       "        Model            CPU  RAM  Storage Storage type       GPU  Screen  \\\n",
       "0  ExpertBook  Intel Core i5    8      512          SSD       NaN    15.6   \n",
       "1          Go  Intel Celeron    8      256          SSD       NaN    15.6   \n",
       "2  ExpertBook  Intel Core i3    8      256          SSD       NaN    15.6   \n",
       "3      Katana  Intel Core i7   16     1000          SSD  RTX 3050    15.6   \n",
       "4         15S  Intel Core i5   16      512          SSD       NaN    15.6   \n",
       "\n",
       "  Touch  Final Price  \n",
       "0    No      1009.00  \n",
       "1    No       299.00  \n",
       "2    No       789.00  \n",
       "3    No      1199.00  \n",
       "4    No       669.01  "
      ]
     },
     "execution_count": 4,
     "metadata": {},
     "output_type": "execute_result"
    }
   ],
   "source": [
    "df.head()"
   ]
  },
  {
   "cell_type": "markdown",
   "id": "14486a84",
   "metadata": {},
   "source": [
    "## Understanding the data\n",
    "\n",
    "We have the data of Laptops with certain features and we ideally want to predict the final Price of the laptop given those features."
   ]
  },
  {
   "cell_type": "code",
   "execution_count": 6,
   "id": "d960a641",
   "metadata": {},
   "outputs": [
    {
     "data": {
      "text/plain": [
       "Index(['Laptop', 'Status', 'Brand', 'Model', 'CPU', 'RAM', 'Storage',\n",
       "       'Storage type', 'GPU', 'Screen', 'Touch', 'Final Price'],\n",
       "      dtype='object')"
      ]
     },
     "execution_count": 6,
     "metadata": {},
     "output_type": "execute_result"
    }
   ],
   "source": [
    "# features of the data\n",
    "df.columns\n"
   ]
  },
  {
   "cell_type": "code",
   "execution_count": 15,
   "id": "b1d4bec5",
   "metadata": {},
   "outputs": [],
   "source": [
    "# Let's clean the columns up and prepare them\n",
    "\n",
    "df.columns = df.columns.str.lower() #lower all the names\n",
    "df.columns = df.columns.str.replace(' ', '_') #replace spaces with underscores"
   ]
  },
  {
   "cell_type": "code",
   "execution_count": 16,
   "id": "3fd853e6",
   "metadata": {},
   "outputs": [
    {
     "data": {
      "application/vnd.microsoft.datawrangler.viewer.v0+json": {
       "columns": [
        {
         "name": "index",
         "rawType": "int64",
         "type": "integer"
        },
        {
         "name": "laptop",
         "rawType": "object",
         "type": "string"
        },
        {
         "name": "status",
         "rawType": "object",
         "type": "string"
        },
        {
         "name": "brand",
         "rawType": "object",
         "type": "string"
        },
        {
         "name": "model",
         "rawType": "object",
         "type": "string"
        },
        {
         "name": "cpu",
         "rawType": "object",
         "type": "string"
        },
        {
         "name": "ram",
         "rawType": "int64",
         "type": "integer"
        },
        {
         "name": "storage",
         "rawType": "int64",
         "type": "integer"
        },
        {
         "name": "storage_type",
         "rawType": "object",
         "type": "string"
        },
        {
         "name": "gpu",
         "rawType": "object",
         "type": "unknown"
        },
        {
         "name": "screen",
         "rawType": "float64",
         "type": "float"
        },
        {
         "name": "touch",
         "rawType": "object",
         "type": "string"
        },
        {
         "name": "final_price",
         "rawType": "float64",
         "type": "float"
        }
       ],
       "conversionMethod": "pd.DataFrame",
       "ref": "bd77f899-e9ca-4a18-a05d-e9b6176d6828",
       "rows": [
        [
         "0",
         "ASUS ExpertBook B1 B1502CBA-EJ0436X Intel Core i5-1235U/8GB/512GB SSD/15.6\"",
         "New",
         "Asus",
         "ExpertBook",
         "Intel Core i5",
         "8",
         "512",
         "SSD",
         null,
         "15.6",
         "No",
         "1009.0"
        ],
        [
         "1",
         "Alurin Go Start Intel Celeron N4020/8GB/256GB SSD/15.6\"",
         "New",
         "Alurin",
         "Go",
         "Intel Celeron",
         "8",
         "256",
         "SSD",
         null,
         "15.6",
         "No",
         "299.0"
        ],
        [
         "2",
         "ASUS ExpertBook B1 B1502CBA-EJ0424X Intel Core i3-1215U/8GB/256GB SSD/15.6\"",
         "New",
         "Asus",
         "ExpertBook",
         "Intel Core i3",
         "8",
         "256",
         "SSD",
         null,
         "15.6",
         "No",
         "789.0"
        ],
        [
         "3",
         "MSI Katana GF66 12UC-082XES Intel Core i7-12700H/16GB/1TB SSD/RTX3050/15.6\"",
         "New",
         "MSI",
         "Katana",
         "Intel Core i7",
         "16",
         "1000",
         "SSD",
         "RTX 3050",
         "15.6",
         "No",
         "1199.0"
        ],
        [
         "4",
         "HP 15S-FQ5085NS Intel Core i5-1235U/16GB/512GB SSD/15.6\"",
         "New",
         "HP",
         "15S",
         "Intel Core i5",
         "16",
         "512",
         "SSD",
         null,
         "15.6",
         "No",
         "669.01"
        ]
       ],
       "shape": {
        "columns": 12,
        "rows": 5
       }
      },
      "text/html": [
       "<div>\n",
       "<style scoped>\n",
       "    .dataframe tbody tr th:only-of-type {\n",
       "        vertical-align: middle;\n",
       "    }\n",
       "\n",
       "    .dataframe tbody tr th {\n",
       "        vertical-align: top;\n",
       "    }\n",
       "\n",
       "    .dataframe thead th {\n",
       "        text-align: right;\n",
       "    }\n",
       "</style>\n",
       "<table border=\"1\" class=\"dataframe\">\n",
       "  <thead>\n",
       "    <tr style=\"text-align: right;\">\n",
       "      <th></th>\n",
       "      <th>laptop</th>\n",
       "      <th>status</th>\n",
       "      <th>brand</th>\n",
       "      <th>model</th>\n",
       "      <th>cpu</th>\n",
       "      <th>ram</th>\n",
       "      <th>storage</th>\n",
       "      <th>storage_type</th>\n",
       "      <th>gpu</th>\n",
       "      <th>screen</th>\n",
       "      <th>touch</th>\n",
       "      <th>final_price</th>\n",
       "    </tr>\n",
       "  </thead>\n",
       "  <tbody>\n",
       "    <tr>\n",
       "      <th>0</th>\n",
       "      <td>ASUS ExpertBook B1 B1502CBA-EJ0436X Intel Core...</td>\n",
       "      <td>New</td>\n",
       "      <td>Asus</td>\n",
       "      <td>ExpertBook</td>\n",
       "      <td>Intel Core i5</td>\n",
       "      <td>8</td>\n",
       "      <td>512</td>\n",
       "      <td>SSD</td>\n",
       "      <td>NaN</td>\n",
       "      <td>15.6</td>\n",
       "      <td>No</td>\n",
       "      <td>1009.00</td>\n",
       "    </tr>\n",
       "    <tr>\n",
       "      <th>1</th>\n",
       "      <td>Alurin Go Start Intel Celeron N4020/8GB/256GB ...</td>\n",
       "      <td>New</td>\n",
       "      <td>Alurin</td>\n",
       "      <td>Go</td>\n",
       "      <td>Intel Celeron</td>\n",
       "      <td>8</td>\n",
       "      <td>256</td>\n",
       "      <td>SSD</td>\n",
       "      <td>NaN</td>\n",
       "      <td>15.6</td>\n",
       "      <td>No</td>\n",
       "      <td>299.00</td>\n",
       "    </tr>\n",
       "    <tr>\n",
       "      <th>2</th>\n",
       "      <td>ASUS ExpertBook B1 B1502CBA-EJ0424X Intel Core...</td>\n",
       "      <td>New</td>\n",
       "      <td>Asus</td>\n",
       "      <td>ExpertBook</td>\n",
       "      <td>Intel Core i3</td>\n",
       "      <td>8</td>\n",
       "      <td>256</td>\n",
       "      <td>SSD</td>\n",
       "      <td>NaN</td>\n",
       "      <td>15.6</td>\n",
       "      <td>No</td>\n",
       "      <td>789.00</td>\n",
       "    </tr>\n",
       "    <tr>\n",
       "      <th>3</th>\n",
       "      <td>MSI Katana GF66 12UC-082XES Intel Core i7-1270...</td>\n",
       "      <td>New</td>\n",
       "      <td>MSI</td>\n",
       "      <td>Katana</td>\n",
       "      <td>Intel Core i7</td>\n",
       "      <td>16</td>\n",
       "      <td>1000</td>\n",
       "      <td>SSD</td>\n",
       "      <td>RTX 3050</td>\n",
       "      <td>15.6</td>\n",
       "      <td>No</td>\n",
       "      <td>1199.00</td>\n",
       "    </tr>\n",
       "    <tr>\n",
       "      <th>4</th>\n",
       "      <td>HP 15S-FQ5085NS Intel Core i5-1235U/16GB/512GB...</td>\n",
       "      <td>New</td>\n",
       "      <td>HP</td>\n",
       "      <td>15S</td>\n",
       "      <td>Intel Core i5</td>\n",
       "      <td>16</td>\n",
       "      <td>512</td>\n",
       "      <td>SSD</td>\n",
       "      <td>NaN</td>\n",
       "      <td>15.6</td>\n",
       "      <td>No</td>\n",
       "      <td>669.01</td>\n",
       "    </tr>\n",
       "  </tbody>\n",
       "</table>\n",
       "</div>"
      ],
      "text/plain": [
       "                                              laptop status   brand  \\\n",
       "0  ASUS ExpertBook B1 B1502CBA-EJ0436X Intel Core...    New    Asus   \n",
       "1  Alurin Go Start Intel Celeron N4020/8GB/256GB ...    New  Alurin   \n",
       "2  ASUS ExpertBook B1 B1502CBA-EJ0424X Intel Core...    New    Asus   \n",
       "3  MSI Katana GF66 12UC-082XES Intel Core i7-1270...    New     MSI   \n",
       "4  HP 15S-FQ5085NS Intel Core i5-1235U/16GB/512GB...    New      HP   \n",
       "\n",
       "        model            cpu  ram  storage storage_type       gpu  screen  \\\n",
       "0  ExpertBook  Intel Core i5    8      512          SSD       NaN    15.6   \n",
       "1          Go  Intel Celeron    8      256          SSD       NaN    15.6   \n",
       "2  ExpertBook  Intel Core i3    8      256          SSD       NaN    15.6   \n",
       "3      Katana  Intel Core i7   16     1000          SSD  RTX 3050    15.6   \n",
       "4         15S  Intel Core i5   16      512          SSD       NaN    15.6   \n",
       "\n",
       "  touch  final_price  \n",
       "0    No      1009.00  \n",
       "1    No       299.00  \n",
       "2    No       789.00  \n",
       "3    No      1199.00  \n",
       "4    No       669.01  "
      ]
     },
     "execution_count": 16,
     "metadata": {},
     "output_type": "execute_result"
    }
   ],
   "source": [
    "df.head()"
   ]
  },
  {
   "cell_type": "code",
   "execution_count": 17,
   "id": "ae808824",
   "metadata": {},
   "outputs": [
    {
     "data": {
      "text/plain": [
       "laptop           object\n",
       "status           object\n",
       "brand            object\n",
       "model            object\n",
       "cpu              object\n",
       "ram               int64\n",
       "storage           int64\n",
       "storage_type     object\n",
       "gpu              object\n",
       "screen          float64\n",
       "touch            object\n",
       "final_price     float64\n",
       "dtype: object"
      ]
     },
     "execution_count": 17,
     "metadata": {},
     "output_type": "execute_result"
    }
   ],
   "source": [
    "## let's look at the data type\n",
    "df.dtypes"
   ]
  },
  {
   "cell_type": "markdown",
   "id": "15d3b6df",
   "metadata": {},
   "source": [
    "Most of the features are objects in data frame, that is they are represented as string (and can later be understood as categorical variables); let's clean the data up with a similar process\n"
   ]
  },
  {
   "cell_type": "code",
   "execution_count": 25,
   "id": "c51fe8df",
   "metadata": {},
   "outputs": [
    {
     "name": "stdout",
     "output_type": "stream",
     "text": [
      "Cleaning done.\n"
     ]
    }
   ],
   "source": [
    "# cleaning the internal data\n",
    "for feature in df.columns:\n",
    "    if df[feature].dtypes == 'object':\n",
    "        df[feature] = df[feature].str.lower().str.replace(' ', '_')\n",
    "print('Cleaning done.')"
   ]
  },
  {
   "cell_type": "code",
   "execution_count": 26,
   "id": "73cd2c48",
   "metadata": {},
   "outputs": [
    {
     "data": {
      "application/vnd.microsoft.datawrangler.viewer.v0+json": {
       "columns": [
        {
         "name": "index",
         "rawType": "int64",
         "type": "integer"
        },
        {
         "name": "laptop",
         "rawType": "object",
         "type": "string"
        },
        {
         "name": "status",
         "rawType": "object",
         "type": "string"
        },
        {
         "name": "brand",
         "rawType": "object",
         "type": "string"
        },
        {
         "name": "model",
         "rawType": "object",
         "type": "string"
        },
        {
         "name": "cpu",
         "rawType": "object",
         "type": "string"
        },
        {
         "name": "ram",
         "rawType": "int64",
         "type": "integer"
        },
        {
         "name": "storage",
         "rawType": "int64",
         "type": "integer"
        },
        {
         "name": "storage_type",
         "rawType": "object",
         "type": "string"
        },
        {
         "name": "gpu",
         "rawType": "object",
         "type": "unknown"
        },
        {
         "name": "screen",
         "rawType": "float64",
         "type": "float"
        },
        {
         "name": "touch",
         "rawType": "object",
         "type": "string"
        },
        {
         "name": "final_price",
         "rawType": "float64",
         "type": "float"
        }
       ],
       "conversionMethod": "pd.DataFrame",
       "ref": "1130dc3e-4ba9-457c-868d-11add3959709",
       "rows": [
        [
         "0",
         "asus_expertbook_b1_b1502cba-ej0436x_intel_core_i5-1235u/8gb/512gb_ssd/15.6\"",
         "new",
         "asus",
         "expertbook",
         "intel_core_i5",
         "8",
         "512",
         "ssd",
         null,
         "15.6",
         "no",
         "1009.0"
        ],
        [
         "1",
         "alurin_go_start_intel_celeron_n4020/8gb/256gb_ssd/15.6\"",
         "new",
         "alurin",
         "go",
         "intel_celeron",
         "8",
         "256",
         "ssd",
         null,
         "15.6",
         "no",
         "299.0"
        ],
        [
         "2",
         "asus_expertbook_b1_b1502cba-ej0424x_intel_core_i3-1215u/8gb/256gb_ssd/15.6\"",
         "new",
         "asus",
         "expertbook",
         "intel_core_i3",
         "8",
         "256",
         "ssd",
         null,
         "15.6",
         "no",
         "789.0"
        ],
        [
         "3",
         "msi_katana_gf66_12uc-082xes_intel_core_i7-12700h/16gb/1tb_ssd/rtx3050/15.6\"",
         "new",
         "msi",
         "katana",
         "intel_core_i7",
         "16",
         "1000",
         "ssd",
         "rtx_3050",
         "15.6",
         "no",
         "1199.0"
        ],
        [
         "4",
         "hp_15s-fq5085ns_intel_core_i5-1235u/16gb/512gb_ssd/15.6\"",
         "new",
         "hp",
         "15s",
         "intel_core_i5",
         "16",
         "512",
         "ssd",
         null,
         "15.6",
         "no",
         "669.01"
        ]
       ],
       "shape": {
        "columns": 12,
        "rows": 5
       }
      },
      "text/html": [
       "<div>\n",
       "<style scoped>\n",
       "    .dataframe tbody tr th:only-of-type {\n",
       "        vertical-align: middle;\n",
       "    }\n",
       "\n",
       "    .dataframe tbody tr th {\n",
       "        vertical-align: top;\n",
       "    }\n",
       "\n",
       "    .dataframe thead th {\n",
       "        text-align: right;\n",
       "    }\n",
       "</style>\n",
       "<table border=\"1\" class=\"dataframe\">\n",
       "  <thead>\n",
       "    <tr style=\"text-align: right;\">\n",
       "      <th></th>\n",
       "      <th>laptop</th>\n",
       "      <th>status</th>\n",
       "      <th>brand</th>\n",
       "      <th>model</th>\n",
       "      <th>cpu</th>\n",
       "      <th>ram</th>\n",
       "      <th>storage</th>\n",
       "      <th>storage_type</th>\n",
       "      <th>gpu</th>\n",
       "      <th>screen</th>\n",
       "      <th>touch</th>\n",
       "      <th>final_price</th>\n",
       "    </tr>\n",
       "  </thead>\n",
       "  <tbody>\n",
       "    <tr>\n",
       "      <th>0</th>\n",
       "      <td>asus_expertbook_b1_b1502cba-ej0436x_intel_core...</td>\n",
       "      <td>new</td>\n",
       "      <td>asus</td>\n",
       "      <td>expertbook</td>\n",
       "      <td>intel_core_i5</td>\n",
       "      <td>8</td>\n",
       "      <td>512</td>\n",
       "      <td>ssd</td>\n",
       "      <td>NaN</td>\n",
       "      <td>15.6</td>\n",
       "      <td>no</td>\n",
       "      <td>1009.00</td>\n",
       "    </tr>\n",
       "    <tr>\n",
       "      <th>1</th>\n",
       "      <td>alurin_go_start_intel_celeron_n4020/8gb/256gb_...</td>\n",
       "      <td>new</td>\n",
       "      <td>alurin</td>\n",
       "      <td>go</td>\n",
       "      <td>intel_celeron</td>\n",
       "      <td>8</td>\n",
       "      <td>256</td>\n",
       "      <td>ssd</td>\n",
       "      <td>NaN</td>\n",
       "      <td>15.6</td>\n",
       "      <td>no</td>\n",
       "      <td>299.00</td>\n",
       "    </tr>\n",
       "    <tr>\n",
       "      <th>2</th>\n",
       "      <td>asus_expertbook_b1_b1502cba-ej0424x_intel_core...</td>\n",
       "      <td>new</td>\n",
       "      <td>asus</td>\n",
       "      <td>expertbook</td>\n",
       "      <td>intel_core_i3</td>\n",
       "      <td>8</td>\n",
       "      <td>256</td>\n",
       "      <td>ssd</td>\n",
       "      <td>NaN</td>\n",
       "      <td>15.6</td>\n",
       "      <td>no</td>\n",
       "      <td>789.00</td>\n",
       "    </tr>\n",
       "    <tr>\n",
       "      <th>3</th>\n",
       "      <td>msi_katana_gf66_12uc-082xes_intel_core_i7-1270...</td>\n",
       "      <td>new</td>\n",
       "      <td>msi</td>\n",
       "      <td>katana</td>\n",
       "      <td>intel_core_i7</td>\n",
       "      <td>16</td>\n",
       "      <td>1000</td>\n",
       "      <td>ssd</td>\n",
       "      <td>rtx_3050</td>\n",
       "      <td>15.6</td>\n",
       "      <td>no</td>\n",
       "      <td>1199.00</td>\n",
       "    </tr>\n",
       "    <tr>\n",
       "      <th>4</th>\n",
       "      <td>hp_15s-fq5085ns_intel_core_i5-1235u/16gb/512gb...</td>\n",
       "      <td>new</td>\n",
       "      <td>hp</td>\n",
       "      <td>15s</td>\n",
       "      <td>intel_core_i5</td>\n",
       "      <td>16</td>\n",
       "      <td>512</td>\n",
       "      <td>ssd</td>\n",
       "      <td>NaN</td>\n",
       "      <td>15.6</td>\n",
       "      <td>no</td>\n",
       "      <td>669.01</td>\n",
       "    </tr>\n",
       "  </tbody>\n",
       "</table>\n",
       "</div>"
      ],
      "text/plain": [
       "                                              laptop status   brand  \\\n",
       "0  asus_expertbook_b1_b1502cba-ej0436x_intel_core...    new    asus   \n",
       "1  alurin_go_start_intel_celeron_n4020/8gb/256gb_...    new  alurin   \n",
       "2  asus_expertbook_b1_b1502cba-ej0424x_intel_core...    new    asus   \n",
       "3  msi_katana_gf66_12uc-082xes_intel_core_i7-1270...    new     msi   \n",
       "4  hp_15s-fq5085ns_intel_core_i5-1235u/16gb/512gb...    new      hp   \n",
       "\n",
       "        model            cpu  ram  storage storage_type       gpu  screen  \\\n",
       "0  expertbook  intel_core_i5    8      512          ssd       NaN    15.6   \n",
       "1          go  intel_celeron    8      256          ssd       NaN    15.6   \n",
       "2  expertbook  intel_core_i3    8      256          ssd       NaN    15.6   \n",
       "3      katana  intel_core_i7   16     1000          ssd  rtx_3050    15.6   \n",
       "4         15s  intel_core_i5   16      512          ssd       NaN    15.6   \n",
       "\n",
       "  touch  final_price  \n",
       "0    no      1009.00  \n",
       "1    no       299.00  \n",
       "2    no       789.00  \n",
       "3    no      1199.00  \n",
       "4    no       669.01  "
      ]
     },
     "execution_count": 26,
     "metadata": {},
     "output_type": "execute_result"
    }
   ],
   "source": [
    "df.head()"
   ]
  },
  {
   "cell_type": "markdown",
   "id": "97ef0a08",
   "metadata": {},
   "source": [
    "Okay, now we have a cleaner data set that is more conducive to analysis and fiting. \n",
    "Before trying to build a model, let's explore the general distribution of the data. We can do that by plotting the histograms of the data."
   ]
  },
  {
   "cell_type": "code",
   "execution_count": 29,
   "id": "daaafdfa",
   "metadata": {},
   "outputs": [
    {
     "data": {
      "text/plain": [
       "<Axes: xlabel='final_price', ylabel='Count'>"
      ]
     },
     "execution_count": 29,
     "metadata": {},
     "output_type": "execute_result"
    },
    {
     "data": {
      "image/png": "[encoded data removed]",
      "text/plain": [
       "<Figure size 640x480 with 1 Axes>"
      ]
     },
     "metadata": {},
     "output_type": "display_data"
    }
   ],
   "source": [
    "# Target Variable is final_price\n",
    "\n",
    "sns.histplot(df.final_price, bins = 50)"
   ]
  },
  {
   "cell_type": "markdown",
   "id": "9590ea90",
   "metadata": {},
   "source": [
    "From above, we see that the model has a long tail. Therefore, we know that we cannot (or atleast it will not be that good) directly train a ML regression model to predict the price distribution as it is. To make it more viable, we flatten the tails by normalising the distribution which is done by taking the log of the price."
   ]
  },
  {
   "cell_type": "code",
   "execution_count": 32,
   "id": "5760954c",
   "metadata": {},
   "outputs": [],
   "source": [
    "# Take the log of the data\n",
    "\n",
    "log_price = np.log1p(df.final_price.values)"
   ]
  },
  {
   "cell_type": "code",
   "execution_count": 33,
   "id": "96297e08",
   "metadata": {},
   "outputs": [
    {
     "data": {
      "text/plain": [
       "array([6.91770561, 5.70378247, 6.67203295, ..., 8.13182184, 7.55013008,\n",
       "       7.43896571], shape=(2160,))"
      ]
     },
     "execution_count": 33,
     "metadata": {},
     "output_type": "execute_result"
    }
   ],
   "source": [
    "log_price"
   ]
  },
  {
   "cell_type": "code",
   "execution_count": 34,
   "id": "742824c5",
   "metadata": {},
   "outputs": [
    {
     "data": {
      "text/plain": [
       "<Axes: ylabel='Count'>"
      ]
     },
     "execution_count": 34,
     "metadata": {},
     "output_type": "execute_result"
    },
    {
     "data": {
      "image/png": "[encoded data removed]",
      "text/plain": [
       "<Figure size 640x480 with 1 Axes>"
      ]
     },
     "metadata": {},
     "output_type": "display_data"
    }
   ],
   "source": [
    "sns.histplot(log_price, bins = 50)"
   ]
  },
  {
   "cell_type": "markdown",
   "id": "d675abac",
   "metadata": {},
   "source": [
    "Now we can see that the distribution approximates a guassian distribution. THis mean much better for our ML models as a predictive model towards the final price of the laptops.\n",
    "\n",
    "Since the final price would be dependent on some linear combination of the input features, let's understand some detail of how the final price seems to be correlated with the final price.\n",
    "Initialy, let's plot the correlation of ram to the final price\n",
    " "
   ]
  },
  {
   "cell_type": "code",
   "execution_count": 42,
   "id": "c9c1a247",
   "metadata": {},
   "outputs": [
    {
     "data": {
      "image/png": "[encoded data removed]",
      "text/plain": [
       "<Figure size 640x480 with 1 Axes>"
      ]
     },
     "metadata": {},
     "output_type": "display_data"
    }
   ],
   "source": [
    "sns.scatterplot(x=df.ram, y=log_price)\n",
    "plt.xlabel('RAM (GB)')\n",
    "plt.ylabel('Log(Price)')\n",
    "plt.title('RAM vs Log(Price)')\n",
    "plt.show()\n",
    "\n"
   ]
  },
  {
   "cell_type": "markdown",
   "id": "b4dd4f0f",
   "metadata": {},
   "source": [
    "We can't tell much, just that there is a general trend of increase in Ram caused increase in the log(price) and conseqently the price, the log(prices) seem to asymptote.\n",
    "We can do this automatize this sort of analyis by plotting the correlation matrix but we won't do that here."
   ]
  },
  {
   "cell_type": "markdown",
   "id": "27152881",
   "metadata": {
    "vscode": {
     "languageId": "bat"
    }
   },
   "source": [
    "## Input features "
   ]
  },
  {
   "cell_type": "markdown",
   "id": "a529d976",
   "metadata": {},
   "source": [
    "For this exercise, we are told to use the input features of ram, storage, screen to predict the final price."
   ]
  },
  {
   "cell_type": "code",
   "execution_count": 48,
   "id": "da8b863c",
   "metadata": {},
   "outputs": [],
   "source": [
    "base_features = ['ram', 'storage', 'screen'] \n",
    "target = ['final_price']"
   ]
  },
  {
   "cell_type": "code",
   "execution_count": 49,
   "id": "b9d1d920",
   "metadata": {},
   "outputs": [
    {
     "data": {
      "text/plain": [
       "ram            0\n",
       "storage        0\n",
       "screen         4\n",
       "final_price    0\n",
       "dtype: int64"
      ]
     },
     "execution_count": 49,
     "metadata": {},
     "output_type": "execute_result"
    }
   ],
   "source": [
    "# let's check for missing values\n",
    "df[base_features + target].isnull().sum()\n",
    "\n"
   ]
  },
  {
   "cell_type": "markdown",
   "id": "3d405a52",
   "metadata": {},
   "source": [
    "We see from above that only the screen column has empty values, 4 to be exact"
   ]
  },
  {
   "cell_type": "code",
   "execution_count": 50,
   "id": "64fdb68b",
   "metadata": {},
   "outputs": [
    {
     "data": {
      "text/plain": [
       "count    2160.000000\n",
       "mean       15.413889\n",
       "std         9.867815\n",
       "min         4.000000\n",
       "25%         8.000000\n",
       "50%        16.000000\n",
       "75%        16.000000\n",
       "max       128.000000\n",
       "Name: ram, dtype: float64"
      ]
     },
     "execution_count": 50,
     "metadata": {},
     "output_type": "execute_result"
    }
   ],
   "source": [
    "# statistics for the ram\n",
    "df.ram.describe()"
   ]
  },
  {
   "cell_type": "code",
   "execution_count": 54,
   "id": "e8049536",
   "metadata": {},
   "outputs": [
    {
     "name": "stdout",
     "output_type": "stream",
     "text": [
      "The median of the ram data is 16 GB.\n"
     ]
    }
   ],
   "source": [
    "print('The median of the ram data is 16 GB.')"
   ]
  },
  {
   "cell_type": "code",
   "execution_count": 52,
   "id": "00f87b3b",
   "metadata": {},
   "outputs": [
    {
     "data": {
      "text/plain": [
       "9"
      ]
     },
     "execution_count": 52,
     "metadata": {},
     "output_type": "execute_result"
    }
   ],
   "source": [
    "df.ram.nunique() #how many unique values of ram"
   ]
  },
  {
   "cell_type": "code",
   "execution_count": 53,
   "id": "392b35ec",
   "metadata": {},
   "outputs": [
    {
     "data": {
      "text/plain": [
       "array([  8,  16,  32,  12,   4,  64, 128,   6,  40])"
      ]
     },
     "execution_count": 53,
     "metadata": {},
     "output_type": "execute_result"
    }
   ],
   "source": [
    "df.ram.unique() #what are the unique values of ram\n"
   ]
  },
  {
   "cell_type": "code",
   "execution_count": 51,
   "id": "023377dd",
   "metadata": {},
   "outputs": [
    {
     "data": {
      "text/plain": [
       "<Axes: xlabel='ram', ylabel='Count'>"
      ]
     },
     "execution_count": 51,
     "metadata": {},
     "output_type": "execute_result"
    },
    {
     "data": {
      "image/png": "[encoded data removed]",
      "text/plain": [
       "<Figure size 640x480 with 1 Axes>"
      ]
     },
     "metadata": {},
     "output_type": "display_data"
    }
   ],
   "source": [
    "sns.histplot(df.ram, bins = 50)"
   ]
  },
  {
   "cell_type": "markdown",
   "id": "8144f416",
   "metadata": {},
   "source": [
    "## Preparing and shuffling the data set"
   ]
  },
  {
   "cell_type": "code",
   "execution_count": 56,
   "id": "37b098ec",
   "metadata": {},
   "outputs": [],
   "source": [
    "# we don't need the full data set for now, let' only keep the ones we need for this analysis\n",
    "\n",
    "base_df = df[base_features + target_feature]"
   ]
  },
  {
   "cell_type": "code",
   "execution_count": 84,
   "id": "b0825aaa",
   "metadata": {},
   "outputs": [
    {
     "data": {
      "application/vnd.microsoft.datawrangler.viewer.v0+json": {
       "columns": [
        {
         "name": "index",
         "rawType": "int64",
         "type": "integer"
        },
        {
         "name": "ram",
         "rawType": "int64",
         "type": "integer"
        },
        {
         "name": "storage",
         "rawType": "int64",
         "type": "integer"
        },
        {
         "name": "screen",
         "rawType": "float64",
         "type": "float"
        },
        {
         "name": "final_price",
         "rawType": "float64",
         "type": "float"
        }
       ],
       "conversionMethod": "pd.DataFrame",
       "ref": "c95933e9-681a-4cac-914e-7891360fecd7",
       "rows": [
        [
         "0",
         "8",
         "512",
         "15.6",
         "1009.0"
        ],
        [
         "1",
         "8",
         "256",
         "15.6",
         "299.0"
        ],
        [
         "2",
         "8",
         "256",
         "15.6",
         "789.0"
        ],
        [
         "3",
         "16",
         "1000",
         "15.6",
         "1199.0"
        ],
        [
         "4",
         "16",
         "512",
         "15.6",
         "669.01"
        ]
       ],
       "shape": {
        "columns": 4,
        "rows": 5
       }
      },
      "text/html": [
       "<div>\n",
       "<style scoped>\n",
       "    .dataframe tbody tr th:only-of-type {\n",
       "        vertical-align: middle;\n",
       "    }\n",
       "\n",
       "    .dataframe tbody tr th {\n",
       "        vertical-align: top;\n",
       "    }\n",
       "\n",
       "    .dataframe thead th {\n",
       "        text-align: right;\n",
       "    }\n",
       "</style>\n",
       "<table border=\"1\" class=\"dataframe\">\n",
       "  <thead>\n",
       "    <tr style=\"text-align: right;\">\n",
       "      <th></th>\n",
       "      <th>ram</th>\n",
       "      <th>storage</th>\n",
       "      <th>screen</th>\n",
       "      <th>final_price</th>\n",
       "    </tr>\n",
       "  </thead>\n",
       "  <tbody>\n",
       "    <tr>\n",
       "      <th>0</th>\n",
       "      <td>8</td>\n",
       "      <td>512</td>\n",
       "      <td>15.6</td>\n",
       "      <td>1009.00</td>\n",
       "    </tr>\n",
       "    <tr>\n",
       "      <th>1</th>\n",
       "      <td>8</td>\n",
       "      <td>256</td>\n",
       "      <td>15.6</td>\n",
       "      <td>299.00</td>\n",
       "    </tr>\n",
       "    <tr>\n",
       "      <th>2</th>\n",
       "      <td>8</td>\n",
       "      <td>256</td>\n",
       "      <td>15.6</td>\n",
       "      <td>789.00</td>\n",
       "    </tr>\n",
       "    <tr>\n",
       "      <th>3</th>\n",
       "      <td>16</td>\n",
       "      <td>1000</td>\n",
       "      <td>15.6</td>\n",
       "      <td>1199.00</td>\n",
       "    </tr>\n",
       "    <tr>\n",
       "      <th>4</th>\n",
       "      <td>16</td>\n",
       "      <td>512</td>\n",
       "      <td>15.6</td>\n",
       "      <td>669.01</td>\n",
       "    </tr>\n",
       "  </tbody>\n",
       "</table>\n",
       "</div>"
      ],
      "text/plain": [
       "   ram  storage  screen  final_price\n",
       "0    8      512    15.6      1009.00\n",
       "1    8      256    15.6       299.00\n",
       "2    8      256    15.6       789.00\n",
       "3   16     1000    15.6      1199.00\n",
       "4   16      512    15.6       669.01"
      ]
     },
     "execution_count": 84,
     "metadata": {},
     "output_type": "execute_result"
    }
   ],
   "source": [
    "base_df.head()"
   ]
  },
  {
   "cell_type": "code",
   "execution_count": 123,
   "id": "d7d444ee",
   "metadata": {},
   "outputs": [],
   "source": [
    "## \n",
    "def shuffle_dataset(df, seed = 42):\n",
    "    np.random.seed(seed)\n",
    "    indices = np.arange(len(df))\n",
    "    np.random.shuffle(indices)\n",
    "\n",
    "    #we want a split of 60/20/20\n",
    "    ntrain = int(0.6 * len(df))\n",
    "    nval = int(0.2 * len(df))\n",
    "    ntest = len(df) - ntrain - nval\n",
    "    print(f'The split of data is {ntrain, nval, ntest} with total of {len(df)} samples in the dataset')\n",
    "\n",
    "    ## For the data matrix\n",
    "    train = df.iloc[indices[:ntrain]]\n",
    "    val = df.iloc[indices[ntrain: ntrain + nval]]\n",
    "    test = df.iloc[indices[ntrain+nval:]]\n",
    "\n",
    "    ## Reset the index here\n",
    "    train = train.reset_index(drop = True)\n",
    "    val = val.reset_index(drop = True)\n",
    "    test = val.reset_index(drop = True)\n",
    "    \n",
    "    return train, val, test\n"
   ]
  },
  {
   "cell_type": "code",
   "execution_count": 86,
   "id": "fa8807ae",
   "metadata": {},
   "outputs": [
    {
     "name": "stdout",
     "output_type": "stream",
     "text": [
      "The split of data is (1296, 432, 432) with total of 2160 samples in the dataset\n"
     ]
    }
   ],
   "source": [
    "train_df, val_df, test_df = shuffle_dataset(base_df)"
   ]
  },
  {
   "cell_type": "code",
   "execution_count": 88,
   "id": "a6d9b2be",
   "metadata": {},
   "outputs": [
    {
     "data": {
      "application/vnd.microsoft.datawrangler.viewer.v0+json": {
       "columns": [
        {
         "name": "index",
         "rawType": "int64",
         "type": "integer"
        },
        {
         "name": "ram",
         "rawType": "int64",
         "type": "integer"
        },
        {
         "name": "storage",
         "rawType": "int64",
         "type": "integer"
        },
        {
         "name": "screen",
         "rawType": "float64",
         "type": "float"
        },
        {
         "name": "final_price",
         "rawType": "float64",
         "type": "float"
        }
       ],
       "conversionMethod": "pd.DataFrame",
       "ref": "12061e90-5b85-4303-9f07-13db9f9e6eb4",
       "rows": [
        [
         "0",
         "32",
         "1000",
         "15.6",
         "1123.29"
        ],
        [
         "1",
         "4",
         "64",
         "14.1",
         "201.05"
        ],
        [
         "2",
         "32",
         "1000",
         "14.0",
         "997.74"
        ],
        [
         "3",
         "16",
         "512",
         "13.3",
         "1016.0"
        ],
        [
         "4",
         "32",
         "1000",
         "16.0",
         "2739.0"
        ]
       ],
       "shape": {
        "columns": 4,
        "rows": 5
       }
      },
      "text/html": [
       "<div>\n",
       "<style scoped>\n",
       "    .dataframe tbody tr th:only-of-type {\n",
       "        vertical-align: middle;\n",
       "    }\n",
       "\n",
       "    .dataframe tbody tr th {\n",
       "        vertical-align: top;\n",
       "    }\n",
       "\n",
       "    .dataframe thead th {\n",
       "        text-align: right;\n",
       "    }\n",
       "</style>\n",
       "<table border=\"1\" class=\"dataframe\">\n",
       "  <thead>\n",
       "    <tr style=\"text-align: right;\">\n",
       "      <th></th>\n",
       "      <th>ram</th>\n",
       "      <th>storage</th>\n",
       "      <th>screen</th>\n",
       "      <th>final_price</th>\n",
       "    </tr>\n",
       "  </thead>\n",
       "  <tbody>\n",
       "    <tr>\n",
       "      <th>0</th>\n",
       "      <td>32</td>\n",
       "      <td>1000</td>\n",
       "      <td>15.6</td>\n",
       "      <td>1123.29</td>\n",
       "    </tr>\n",
       "    <tr>\n",
       "      <th>1</th>\n",
       "      <td>4</td>\n",
       "      <td>64</td>\n",
       "      <td>14.1</td>\n",
       "      <td>201.05</td>\n",
       "    </tr>\n",
       "    <tr>\n",
       "      <th>2</th>\n",
       "      <td>32</td>\n",
       "      <td>1000</td>\n",
       "      <td>14.0</td>\n",
       "      <td>997.74</td>\n",
       "    </tr>\n",
       "    <tr>\n",
       "      <th>3</th>\n",
       "      <td>16</td>\n",
       "      <td>512</td>\n",
       "      <td>13.3</td>\n",
       "      <td>1016.00</td>\n",
       "    </tr>\n",
       "    <tr>\n",
       "      <th>4</th>\n",
       "      <td>32</td>\n",
       "      <td>1000</td>\n",
       "      <td>16.0</td>\n",
       "      <td>2739.00</td>\n",
       "    </tr>\n",
       "  </tbody>\n",
       "</table>\n",
       "</div>"
      ],
      "text/plain": [
       "   ram  storage  screen  final_price\n",
       "0   32     1000    15.6      1123.29\n",
       "1    4       64    14.1       201.05\n",
       "2   32     1000    14.0       997.74\n",
       "3   16      512    13.3      1016.00\n",
       "4   32     1000    16.0      2739.00"
      ]
     },
     "execution_count": 88,
     "metadata": {},
     "output_type": "execute_result"
    }
   ],
   "source": [
    "train_df.head()"
   ]
  },
  {
   "cell_type": "code",
   "execution_count": 89,
   "id": "470f8ee3",
   "metadata": {},
   "outputs": [],
   "source": [
    "def get_target_vector(df, feature, log = True, remove = True):\n",
    "    #returns the target values as np array\n",
    "    #removes the target from the data if remove is True\n",
    "    ytarget = df[feature]\n",
    "    if log:\n",
    "        ytarget = np.log1p(ytarget.values)\n",
    "    if remove:\n",
    "        del df[feature]\n",
    "    return ytarget"
   ]
  },
  {
   "cell_type": "code",
   "execution_count": 90,
   "id": "140da017",
   "metadata": {},
   "outputs": [
    {
     "name": "stdout",
     "output_type": "stream",
     "text": [
      "[7.86326672 6.90775528 6.17019634 7.32646561 6.00139013 6.74523635\n",
      " 7.3115924  6.72143775 6.10924758 8.24794549 7.13933514 7.54960917\n",
      " 6.78773224 7.09007684 6.38181602 7.09007684 5.53101513 6.89770494\n",
      " 7.25135208 6.2146081  6.12102243 6.63138235 7.32711672 6.34814199\n",
      " 8.36660051 6.03975459 7.19758504 7.54960917 7.54961443 6.18517929\n",
      " 7.64969262 7.86327057 6.56667243 6.23441073 7.21971524 7.74846002\n",
      " 6.63333159 7.15807032 7.54960917 7.17012724 7.10497366 7.97280734\n",
      " 6.62007321 6.29156914 6.62007321 6.49885427 7.57558978 8.2160908\n",
      " 6.82634998 7.98989937 6.91770561 6.57786136 7.31277362 7.17011954\n",
      " 6.80461452 6.38012254 7.60579547 6.7580945  7.05875815 6.70033743\n",
      " 7.60090246 6.24999455 7.48380669 6.40867705 5.81484669 7.31322705\n",
      " 6.64476582 5.79301361 6.68461173 6.27287701 6.77992191 6.25575004\n",
      " 7.69943472 6.9445307  6.62007321 7.20785987 6.25311702 7.85514925\n",
      " 6.33546197 7.60090246 5.85793315 6.08677473 6.68461173 6.75901162\n",
      " 6.45416029 7.27931884 6.50955869 6.7521886  6.86275791 6.19440539\n",
      " 7.24439893 7.04751722 5.82838664 6.11368218 7.50108765 6.90775528\n",
      " 7.047552   6.68461173 7.59085212 8.2139236  7.29743647 7.05789794\n",
      " 6.59573953 6.82527544 7.04842116 6.80239476 6.54873473 8.12563395\n",
      " 6.11124559 7.43838353 6.97541393 6.30991828 7.64969262 8.14828371\n",
      " 6.39972574 7.51207125 7.10263103 6.49963665 6.86593278 5.91622902\n",
      " 5.9824238  7.04751722 7.93379687 6.83265451 7.37149558 7.3115924\n",
      " 7.74244542 5.99146455 5.98718038 7.03697489 7.40853057 6.64075127\n",
      " 6.34563636 6.60325253 6.6792725  6.81069357 7.61788248 7.21495317\n",
      " 6.10924758 6.36659072 6.16749553 5.96614674 6.90775528 6.60247934\n",
      " 6.75066863 7.54960917 7.3065314  7.60090246 6.88559147 7.8180722\n",
      " 5.87493073 7.1706963  7.04751722 6.55108034 6.34138171 5.97380961\n",
      " 6.55108034 8.38935982 7.82550894 7.59990196 5.90033561 7.74500713\n",
      " 6.80471429 6.95654544 7.40853057 7.10414409 5.81794415 6.44844626\n",
      " 5.65599181 7.64969262 6.95748786 7.76397324 7.17011954 6.84235238\n",
      " 6.38012254 6.90775528 8.41183268 6.67203295 6.59442714 6.55108034\n",
      " 7.35883727 6.48667895 7.20785987 8.11040321 7.39046534 7.69621264\n",
      " 6.62139234 7.18772519 6.94846527 8.04193418 7.48492467 7.91206055\n",
      " 7.54433211 7.11023071 6.23947631 7.04751722 6.58877516 6.31175296\n",
      " 6.68461173 7.138867   6.79628726 5.61159408 6.00881319 7.37837122\n",
      " 6.65930674 5.59281367 8.24275635 6.69171146 7.7406644  7.3524411\n",
      " 7.98956045 5.61535191 6.63068339 6.27287701 7.24136628 7.42708464\n",
      " 7.76217061 7.84385256 7.86326672 7.36795475 7.1745635  8.38958479\n",
      " 7.99967858 7.90137365 6.87434326 7.37775891 5.72299669 7.00306546\n",
      " 6.62007321 5.70378247 8.1605211  6.33167977 6.89583451 7.75319427\n",
      " 6.31896811 6.17505613 6.20619279 7.14479385 7.66530347 6.33792247\n",
      " 8.29404964 6.33615294 6.94011598 8.2160881  6.97011017 6.31714664\n",
      " 5.99948232 6.68461173 7.19636442 5.70378247 6.80240587 6.2146081\n",
      " 6.72182321 7.77904864 5.97888576 6.39692966 8.10167775 6.51759741\n",
      " 5.91579767 6.61492665 6.35898546 8.0063709  6.65929392 6.67309567\n",
      " 6.3985783  6.38330391 6.2146081  7.37775891 7.85166118 6.4372075\n",
      " 7.03879231 5.78382518 6.80240587 6.97769171 8.03947347 7.45954049\n",
      " 5.98401184 6.97381452 6.41347535 6.55108034 6.74524811 5.7791682\n",
      " 6.60934924 7.62070509 7.52342729 7.46737107 6.2146081  5.44302359\n",
      " 7.42596557 6.60074087 6.03784705 6.97541393 6.89721998 6.6147256\n",
      " 7.2796636  6.51654804 7.31322039 6.90775528 7.46164039 8.41183268\n",
      " 6.47233084 7.15099161 7.46737107 6.2146081  7.28248623 7.82444993\n",
      " 7.46737107 6.46146818 7.17012724 6.67651655 7.17626218 7.24422752\n",
      " 7.82404601 7.24422752 7.59085212 6.80716116 6.67958662 7.28913942\n",
      " 7.45760352 6.58221903 6.67708346 6.88755257 7.17161074 7.60110244\n",
      " 7.54960917 6.87729607 6.30991828 6.79794041 7.01211529 6.58098582\n",
      " 6.723099   5.96357934 6.69758965 7.03810787 6.39025745 7.25841215\n",
      " 7.22320085 6.2385785  6.61204103 7.60090246 7.04751722 6.06378521\n",
      " 7.06988263 8.46680896 7.63640955 7.54960917 6.03308622 6.59304453\n",
      " 8.00636757 6.40301113 7.29709101 7.41456686 7.26206042 8.00636757\n",
      " 7.39633529 7.54433211 7.31322039 7.54960917 6.1347637  6.66929502\n",
      " 7.72400024 6.52119534 6.53670609 6.75272588 6.93805167 6.99942247\n",
      " 7.72180507 7.19668657 7.51207125 6.68461173 7.42118351 7.08504754\n",
      " 7.18539459 8.87507321 6.93969958 7.43896571 7.39510755 6.5792651\n",
      " 7.79462956 6.2146081  6.65672652 6.56640516 6.46480635 7.46514574\n",
      " 7.97246602 7.1326493  7.43838941 7.19308459 7.69892713 7.15355229\n",
      " 7.22883828 7.88231492 5.94017125 6.39692966 7.02464903 7.27170371\n",
      " 6.00198402 7.37775891 7.32383057 7.24422752 6.30793449 6.27287701\n",
      " 6.58034783 6.27511977 6.85555631 5.97279128 6.62007321 6.06840244\n",
      " 7.97246602 6.99198613 8.18868912 7.54433211 7.31322039 6.09580204\n",
      " 7.60090246 6.10253622 7.05455328 6.03030057 6.83518459 6.37614855\n",
      " 6.58034783 6.70148114 6.54606779 6.74523635 7.82404601 6.41286862\n",
      " 6.50729264 6.95654544 6.68461173 6.33954769 6.60529792 6.11589213]\n"
     ]
    }
   ],
   "source": [
    "y_train = get_target_vector(train_df, target_feature[0])\n",
    "y_val = get_target_vector(val_df, target_feature[0])\n",
    "y_test = get_target_vector(test_df, target_feature[0])\n",
    "\n",
    "print(y_test)"
   ]
  },
  {
   "cell_type": "markdown",
   "id": "c8f31fc8",
   "metadata": {},
   "source": [
    "We have missing values in screen that we want to take care of.\n",
    "We have two options, we can either fill it with 0 or fill it with the mean of the particular variable (screen)\n"
   ]
  },
  {
   "cell_type": "code",
   "execution_count": 91,
   "id": "dad5c50e",
   "metadata": {},
   "outputs": [],
   "source": [
    "def train_linear_model(X, y):\n",
    "    # Check if number of samples match\n",
    "    assert X.shape[0] == y.shape[0], \"Number of samples in X and y must match\"\n",
    "    \n",
    "    XTX = X.T.dot(X)\n",
    "    XTX_inv = np.linalg.inv(XTX)\n",
    "    # More efficient matrix multiplication\n",
    "    return XTX_inv @ (X.T @ y)\n"
   ]
  },
  {
   "cell_type": "code",
   "execution_count": 92,
   "id": "e2a42363",
   "metadata": {},
   "outputs": [
    {
     "name": "stdout",
     "output_type": "stream",
     "text": [
      "[[   1.    32.  1000.    15.6]\n",
      " [   1.     4.    64.    14.1]\n",
      " [   1.    32.  1000.    14. ]\n",
      " ...\n",
      " [   1.    16.   512.    15.6]\n",
      " [   1.    16.   512.    14. ]\n",
      " [   1.    16.   512.    14. ]]\n"
     ]
    }
   ],
   "source": [
    "def prepare_X_0(some_df):\n",
    "    ## Incase we mutate the original dataset\n",
    "    some_df = some_df.copy()\n",
    "    #we are filling the null values with zero\n",
    "    some_df = some_df.fillna(0)\n",
    "    X = some_df.values #np array\n",
    "\n",
    "    ones  = np.ones(X.shape[0]) \n",
    "    X = np.column_stack([ones, X])\n",
    "\n",
    "    return X\n",
    "\n",
    "\n",
    "X_train = prepare_X_0(train_df)\n",
    "y_train = y_train\n",
    "print(X_train)"
   ]
  },
  {
   "cell_type": "code",
   "execution_count": 93,
   "id": "0bc2c1d7",
   "metadata": {},
   "outputs": [
    {
     "name": "stdout",
     "output_type": "stream",
     "text": [
      "[ 6.72716371e+00  2.63058882e-02  6.60406396e-04 -3.65190853e-02]\n"
     ]
    }
   ],
   "source": [
    "# Let's find the weights vector now\n",
    "\n",
    "w1 = train_linear_model(X_train, y_train)\n",
    "print(w1)"
   ]
  },
  {
   "cell_type": "code",
   "execution_count": 77,
   "id": "2b8657bc",
   "metadata": {},
   "outputs": [],
   "source": [
    "def linear_model(X, w):\n",
    "    return X.dot(w)\n"
   ]
  },
  {
   "cell_type": "code",
   "execution_count": 127,
   "id": "769f8cd2",
   "metadata": {},
   "outputs": [
    {
     "name": "stdout",
     "output_type": "stream",
     "text": [
      "The root mean squared using the weights from 0 filling is 0.43\n"
     ]
    }
   ],
   "source": [
    "def rmse(ytrue, ypreds):\n",
    "    error = ytrue - ypreds\n",
    "    mse = (error**2).mean()\n",
    "    return np.sqrt(mse)\n",
    "\n",
    "X_val =  prepare_X_0(val_df)\n",
    "y_val = y_val\n",
    "y_val_pred = linear_model(X_val, w1)\n",
    "print(f'The root mean squared using the weights from 0 filling is {round(rmse(y_val, y_val_pred), 2)}')"
   ]
  },
  {
   "cell_type": "markdown",
   "id": "0e188fe5",
   "metadata": {},
   "source": [
    "Alternativley, we can use the mean of the missing data. Earlier we said that the missing data is only in the screen section"
   ]
  },
  {
   "cell_type": "code",
   "execution_count": 128,
   "id": "63366fe7",
   "metadata": {},
   "outputs": [
    {
     "name": "stdout",
     "output_type": "stream",
     "text": [
      "15.168112244897959\n"
     ]
    }
   ],
   "source": [
    "mean_screen = base_df.screen.mean()\n",
    "print(mean_screen)"
   ]
  },
  {
   "cell_type": "code",
   "execution_count": 129,
   "id": "9eda767b",
   "metadata": {},
   "outputs": [
    {
     "name": "stdout",
     "output_type": "stream",
     "text": [
      "[ 6.85553804e+00  2.65024928e-02  6.66423259e-04 -4.53413597e-02]\n"
     ]
    }
   ],
   "source": [
    "\n",
    "def prepare_X_1(some_df, mean = mean_screen):\n",
    "    ## Incase we mutate the original dataset\n",
    "    some_df = some_df.copy()\n",
    "    #we are filling the null values with zero\n",
    "    some_df = some_df.fillna(mean)\n",
    "    X = some_df.values #np array\n",
    "\n",
    "    ones  = np.ones(X.shape[0]) \n",
    "    X = np.column_stack([ones, X])\n",
    "\n",
    "    return X\n",
    "\n",
    "X_train = prepare_X_1(train_df, mean_screen)\n",
    "y_train = y_train\n",
    "\n",
    "w2 = train_linear_model(X_train, y_train)\n",
    "\n",
    "print(w2)"
   ]
  },
  {
   "cell_type": "code",
   "execution_count": 131,
   "id": "0ae7949d",
   "metadata": {},
   "outputs": [
    {
     "name": "stdout",
     "output_type": "stream",
     "text": [
      "The root mean squared using the weights from mean filling is 0.43\n"
     ]
    }
   ],
   "source": [
    "X_val =  prepare_X_0(val_df)\n",
    "y_val = y_val\n",
    "y_val_pred = linear_model(X_val, w2)\n",
    "print(f'The root mean squared using the weights from mean filling is {round(rmse(y_val, y_val_pred), 2)}')"
   ]
  },
  {
   "cell_type": "markdown",
   "id": "683ff222",
   "metadata": {},
   "source": [
    "Since we do evaluation quite  a lot. I will make a helper funciton for this"
   ]
  },
  {
   "cell_type": "code",
   "execution_count": 132,
   "id": "780f8528",
   "metadata": {},
   "outputs": [
    {
     "name": "stdout",
     "output_type": "stream",
     "text": [
      "0.4290504232578434\n"
     ]
    }
   ],
   "source": [
    "def evaluate(Xtest, ytest, w, metric = rmse):\n",
    "    yhats = linear_model(Xtest, w)\n",
    "    return metric(ytest, yhats)\n",
    "\n",
    "print(evaluate(X_val, y_val, w2, rmse))"
   ]
  },
  {
   "cell_type": "markdown",
   "id": "2096f360",
   "metadata": {},
   "source": [
    "The two options don't make that much difference for the RMSE>"
   ]
  },
  {
   "cell_type": "markdown",
   "id": "3d84c611",
   "metadata": {},
   "source": [
    "Okay, now let's try to add a regularizer so that we can train a regularise linear regression"
   ]
  },
  {
   "cell_type": "code",
   "execution_count": 105,
   "id": "e9d9dbe9",
   "metadata": {},
   "outputs": [],
   "source": [
    "def train_linear_model_r(X, y, r = 0.01):\n",
    "    X = X + np.ones(X.shape)* r\n",
    "    return train_linear_model(X, y)\n",
    "\n"
   ]
  },
  {
   "cell_type": "code",
   "execution_count": 110,
   "id": "fe8b3d02",
   "metadata": {},
   "outputs": [
    {
     "name": "stdout",
     "output_type": "stream",
     "text": [
      "9.01\n"
     ]
    }
   ],
   "source": [
    "w3 = train_linear_model_r(X_train, y_train)\n",
    "print(round(evaluate(X_val, y_val, w3, rmse), 2))"
   ]
  },
  {
   "cell_type": "code",
   "execution_count": 133,
   "id": "6045a4fe",
   "metadata": {},
   "outputs": [
    {
     "name": "stdout",
     "output_type": "stream",
     "text": [
      "0 0.429050423257842\n"
     ]
    }
   ],
   "source": [
    "r = [0, 0.01, 0.1, 1, 5, 10, 100]\n",
    "best_r = None\n",
    "min_rmse = float('inf')\n",
    "for ir in r:\n",
    "    wi = train_linear_model_r(X_train, y_train, r= ir)\n",
    "    rmse_val = evaluate(X_val, y_val, wi, metric = rmse)\n",
    "    if rmse_val < min_rmse:\n",
    "        best_r = ir\n",
    "        min_rmse = rmse_val\n",
    "\n",
    "print(best_r, min_rmse)"
   ]
  },
  {
   "cell_type": "markdown",
   "id": "dd64e388",
   "metadata": {},
   "source": [
    "The best r value is 0 with a minimum rmse of 8.91"
   ]
  },
  {
   "cell_type": "markdown",
   "id": "4eab1b5f",
   "metadata": {},
   "source": [
    "Let's try to understand how the seed affects our scores"
   ]
  },
  {
   "cell_type": "code",
   "execution_count": 140,
   "id": "11fae42d",
   "metadata": {},
   "outputs": [
    {
     "name": "stdout",
     "output_type": "stream",
     "text": [
      "The split of data is (1296, 432, 432) with total of 2160 samples in the dataset\n",
      "The split of data is (1296, 432, 432) with total of 2160 samples in the dataset\n",
      "The split of data is (1296, 432, 432) with total of 2160 samples in the dataset\n",
      "The split of data is (1296, 432, 432) with total of 2160 samples in the dataset\n",
      "The split of data is (1296, 432, 432) with total of 2160 samples in the dataset\n",
      "The split of data is (1296, 432, 432) with total of 2160 samples in the dataset\n",
      "The split of data is (1296, 432, 432) with total of 2160 samples in the dataset\n",
      "The split of data is (1296, 432, 432) with total of 2160 samples in the dataset\n",
      "The split of data is (1296, 432, 432) with total of 2160 samples in the dataset\n",
      "The split of data is (1296, 432, 432) with total of 2160 samples in the dataset\n",
      "0.44\n",
      "0.01\n"
     ]
    }
   ],
   "source": [
    "seed_values = [0, 1, 2, 3, 4, 5, 6, 7, 8, 9]\n",
    "seed_performance = []\n",
    "for seed in seed_values:\n",
    "    train, val, _ = shuffle_dataset(base_df, seed)\n",
    "    ytrain, yval = get_target_vector(train, 'final_price'), get_target_vector(val, 'final_price')\n",
    "    Xtrain, Xval = prepare_X_0(train), prepare_X_0(val)\n",
    "    wi = train_linear_model(Xtrain, ytrain)\n",
    "    seed_score = evaluate(Xval, yval, wi)\n",
    "    seed_performance.append(round(seed_score,3))\n",
    "\n",
    "print(round(np.mean(seed_performance), 2))\n",
    "print(round(np.std(seed_performance), 2))\n",
    "\n"
   ]
  },
  {
   "cell_type": "code",
   "execution_count": 141,
   "id": "72ac4dc2",
   "metadata": {},
   "outputs": [
    {
     "name": "stdout",
     "output_type": "stream",
     "text": [
      "The std of the rmse over the seed is 0.01, the performances are closeby\n"
     ]
    }
   ],
   "source": [
    "print(f'The std of the rmse over the seed is 0.01, the performances are closeby')"
   ]
  },
  {
   "cell_type": "code",
   "execution_count": 154,
   "id": "2606ae82",
   "metadata": {},
   "outputs": [
    {
     "name": "stdout",
     "output_type": "stream",
     "text": [
      "The split of data is (1296, 432, 432) with total of 2160 samples in the dataset\n"
     ]
    }
   ],
   "source": [
    "seed = 9\n",
    "\n",
    "train, val, test = shuffle_dataset(base_df, seed = seed)\n"
   ]
  },
  {
   "cell_type": "code",
   "execution_count": 155,
   "id": "64e8b44e",
   "metadata": {},
   "outputs": [
    {
     "data": {
      "application/vnd.microsoft.datawrangler.viewer.v0+json": {
       "columns": [
        {
         "name": "index",
         "rawType": "int64",
         "type": "integer"
        },
        {
         "name": "ram",
         "rawType": "int64",
         "type": "integer"
        },
        {
         "name": "storage",
         "rawType": "int64",
         "type": "integer"
        },
        {
         "name": "screen",
         "rawType": "float64",
         "type": "float"
        },
        {
         "name": "final_price",
         "rawType": "float64",
         "type": "float"
        }
       ],
       "conversionMethod": "pd.DataFrame",
       "ref": "c7d51a2a-ab94-4dba-8f15-adaa15357b97",
       "rows": [
        [
         "0",
         "32",
         "1000",
         "15.6",
         "1592.89"
        ],
        [
         "1",
         "8",
         "512",
         "13.3",
         "1349.0"
        ],
        [
         "2",
         "8",
         "512",
         "15.6",
         "549.0"
        ],
        [
         "3",
         "32",
         "1000",
         "17.3",
         "2999.0"
        ],
        [
         "4",
         "16",
         "1000",
         "16.0",
         "1889.0"
        ],
        [
         "5",
         "32",
         "1000",
         "17.0",
         "3129.0"
        ],
        [
         "6",
         "16",
         "512",
         "14.0",
         "2461.21"
        ],
        [
         "7",
         "8",
         "512",
         "15.6",
         "388.0"
        ],
        [
         "8",
         "16",
         "1000",
         "15.6",
         "1749.0"
        ],
        [
         "9",
         "16",
         "512",
         "15.6",
         "1029.01"
        ],
        [
         "10",
         "8",
         "256",
         "15.6",
         "494.35"
        ],
        [
         "11",
         "32",
         "1000",
         "17.3",
         "2052.74"
        ],
        [
         "12",
         "16",
         "512",
         "17.3",
         "1212.0"
        ],
        [
         "13",
         "8",
         "256",
         "15.6",
         "628.99"
        ],
        [
         "14",
         "8",
         "512",
         "15.6",
         "550.6"
        ],
        [
         "15",
         "16",
         "512",
         "15.6",
         "749.0"
        ],
        [
         "16",
         "16",
         "512",
         "14.0",
         "1074.06"
        ],
        [
         "17",
         "16",
         "1000",
         "17.3",
         "1092.48"
        ],
        [
         "18",
         "16",
         "512",
         "15.6",
         "1299.0"
        ],
        [
         "19",
         "8",
         "256",
         "15.6",
         "581.01"
        ],
        [
         "20",
         "32",
         "1000",
         "14.0",
         "1582.84"
        ],
        [
         "21",
         "16",
         "1000",
         "14.2",
         "2749.0"
        ],
        [
         "22",
         "16",
         "512",
         "17.3",
         "998.69"
        ],
        [
         "23",
         "32",
         "2000",
         "16.0",
         "2914.18"
        ],
        [
         "24",
         "8",
         "512",
         "14.0",
         "1149.0"
        ],
        [
         "25",
         "16",
         "1000",
         "17.3",
         "1334.69"
        ],
        [
         "26",
         "8",
         "512",
         "15.6",
         "423.58"
        ],
        [
         "27",
         "8",
         "512",
         "13.5",
         "1576.27"
        ],
        [
         "28",
         "8",
         "512",
         "15.6",
         "549.93"
        ],
        [
         "29",
         "32",
         "1000",
         "15.6",
         "3399.99"
        ],
        [
         "30",
         "16",
         "512",
         "15.6",
         "1189.01"
        ],
        [
         "31",
         "16",
         "512",
         "16.0",
         "2228.08"
        ],
        [
         "32",
         "32",
         "512",
         "14.2",
         "2719.0"
        ],
        [
         "33",
         "16",
         "512",
         "15.6",
         "1599.0"
        ],
        [
         "34",
         "8",
         "512",
         "15.6",
         "465.0"
        ],
        [
         "35",
         "8",
         "512",
         "15.6",
         "625.0"
        ],
        [
         "36",
         "16",
         "256",
         "15.4",
         "1118.25"
        ],
        [
         "37",
         "32",
         "512",
         "16.0",
         "2089.0"
        ],
        [
         "38",
         "16",
         "1000",
         "17.3",
         "2532.38"
        ],
        [
         "39",
         "32",
         "512",
         "17.3",
         "1478.39"
        ],
        [
         "40",
         "16",
         "512",
         "14.0",
         "955.0"
        ],
        [
         "41",
         "32",
         "1000",
         "16.0",
         "2459.01"
        ],
        [
         "42",
         "8",
         "512",
         "17.3",
         "707.69"
        ],
        [
         "43",
         "32",
         "1000",
         "16.0",
         "4842.43"
        ],
        [
         "44",
         "16",
         "1000",
         "15.6",
         "863.44"
        ],
        [
         "45",
         "32",
         "1000",
         "16.0",
         "1999.0"
        ],
        [
         "46",
         "16",
         "512",
         "14.0",
         "1078.65"
        ],
        [
         "47",
         "16",
         "1000",
         "15.6",
         "2099.0"
        ],
        [
         "48",
         "16",
         "512",
         "15.6",
         "937.54"
        ],
        [
         "49",
         "8",
         "128",
         "14.0",
         "399.0"
        ]
       ],
       "shape": {
        "columns": 4,
        "rows": 1296
       }
      },
      "text/html": [
       "<div>\n",
       "<style scoped>\n",
       "    .dataframe tbody tr th:only-of-type {\n",
       "        vertical-align: middle;\n",
       "    }\n",
       "\n",
       "    .dataframe tbody tr th {\n",
       "        vertical-align: top;\n",
       "    }\n",
       "\n",
       "    .dataframe thead th {\n",
       "        text-align: right;\n",
       "    }\n",
       "</style>\n",
       "<table border=\"1\" class=\"dataframe\">\n",
       "  <thead>\n",
       "    <tr style=\"text-align: right;\">\n",
       "      <th></th>\n",
       "      <th>ram</th>\n",
       "      <th>storage</th>\n",
       "      <th>screen</th>\n",
       "      <th>final_price</th>\n",
       "    </tr>\n",
       "  </thead>\n",
       "  <tbody>\n",
       "    <tr>\n",
       "      <th>0</th>\n",
       "      <td>32</td>\n",
       "      <td>1000</td>\n",
       "      <td>15.6</td>\n",
       "      <td>1592.89</td>\n",
       "    </tr>\n",
       "    <tr>\n",
       "      <th>1</th>\n",
       "      <td>8</td>\n",
       "      <td>512</td>\n",
       "      <td>13.3</td>\n",
       "      <td>1349.00</td>\n",
       "    </tr>\n",
       "    <tr>\n",
       "      <th>2</th>\n",
       "      <td>8</td>\n",
       "      <td>512</td>\n",
       "      <td>15.6</td>\n",
       "      <td>549.00</td>\n",
       "    </tr>\n",
       "    <tr>\n",
       "      <th>3</th>\n",
       "      <td>32</td>\n",
       "      <td>1000</td>\n",
       "      <td>17.3</td>\n",
       "      <td>2999.00</td>\n",
       "    </tr>\n",
       "    <tr>\n",
       "      <th>4</th>\n",
       "      <td>16</td>\n",
       "      <td>1000</td>\n",
       "      <td>16.0</td>\n",
       "      <td>1889.00</td>\n",
       "    </tr>\n",
       "    <tr>\n",
       "      <th>...</th>\n",
       "      <td>...</td>\n",
       "      <td>...</td>\n",
       "      <td>...</td>\n",
       "      <td>...</td>\n",
       "    </tr>\n",
       "    <tr>\n",
       "      <th>1291</th>\n",
       "      <td>16</td>\n",
       "      <td>1000</td>\n",
       "      <td>15.6</td>\n",
       "      <td>1849.00</td>\n",
       "    </tr>\n",
       "    <tr>\n",
       "      <th>1292</th>\n",
       "      <td>16</td>\n",
       "      <td>512</td>\n",
       "      <td>15.6</td>\n",
       "      <td>794.74</td>\n",
       "    </tr>\n",
       "    <tr>\n",
       "      <th>1293</th>\n",
       "      <td>8</td>\n",
       "      <td>128</td>\n",
       "      <td>15.6</td>\n",
       "      <td>429.01</td>\n",
       "    </tr>\n",
       "    <tr>\n",
       "      <th>1294</th>\n",
       "      <td>16</td>\n",
       "      <td>1000</td>\n",
       "      <td>17.3</td>\n",
       "      <td>1599.00</td>\n",
       "    </tr>\n",
       "    <tr>\n",
       "      <th>1295</th>\n",
       "      <td>32</td>\n",
       "      <td>2000</td>\n",
       "      <td>16.0</td>\n",
       "      <td>4999.01</td>\n",
       "    </tr>\n",
       "  </tbody>\n",
       "</table>\n",
       "<p>1296 rows × 4 columns</p>\n",
       "</div>"
      ],
      "text/plain": [
       "      ram  storage  screen  final_price\n",
       "0      32     1000    15.6      1592.89\n",
       "1       8      512    13.3      1349.00\n",
       "2       8      512    15.6       549.00\n",
       "3      32     1000    17.3      2999.00\n",
       "4      16     1000    16.0      1889.00\n",
       "...   ...      ...     ...          ...\n",
       "1291   16     1000    15.6      1849.00\n",
       "1292   16      512    15.6       794.74\n",
       "1293    8      128    15.6       429.01\n",
       "1294   16     1000    17.3      1599.00\n",
       "1295   32     2000    16.0      4999.01\n",
       "\n",
       "[1296 rows x 4 columns]"
      ]
     },
     "execution_count": 155,
     "metadata": {},
     "output_type": "execute_result"
    }
   ],
   "source": [
    "train"
   ]
  },
  {
   "cell_type": "code",
   "execution_count": 156,
   "id": "37a3b9b2",
   "metadata": {},
   "outputs": [],
   "source": [
    "large_train = pd.concat([train, val])"
   ]
  },
  {
   "cell_type": "code",
   "execution_count": 157,
   "id": "992e4a3c",
   "metadata": {},
   "outputs": [],
   "source": [
    "large_train = large_train.reset_index(drop = True)\n"
   ]
  },
  {
   "cell_type": "code",
   "execution_count": 158,
   "id": "548a35de",
   "metadata": {},
   "outputs": [
    {
     "data": {
      "application/vnd.microsoft.datawrangler.viewer.v0+json": {
       "columns": [
        {
         "name": "index",
         "rawType": "int64",
         "type": "integer"
        },
        {
         "name": "ram",
         "rawType": "int64",
         "type": "integer"
        },
        {
         "name": "storage",
         "rawType": "int64",
         "type": "integer"
        },
        {
         "name": "screen",
         "rawType": "float64",
         "type": "float"
        },
        {
         "name": "final_price",
         "rawType": "float64",
         "type": "float"
        }
       ],
       "conversionMethod": "pd.DataFrame",
       "ref": "7804e8be-a59e-4ab0-a959-0c6e18eee98c",
       "rows": [
        [
         "0",
         "32",
         "1000",
         "15.6",
         "1592.89"
        ],
        [
         "1",
         "8",
         "512",
         "13.3",
         "1349.0"
        ],
        [
         "2",
         "8",
         "512",
         "15.6",
         "549.0"
        ],
        [
         "3",
         "32",
         "1000",
         "17.3",
         "2999.0"
        ],
        [
         "4",
         "16",
         "1000",
         "16.0",
         "1889.0"
        ]
       ],
       "shape": {
        "columns": 4,
        "rows": 5
       }
      },
      "text/html": [
       "<div>\n",
       "<style scoped>\n",
       "    .dataframe tbody tr th:only-of-type {\n",
       "        vertical-align: middle;\n",
       "    }\n",
       "\n",
       "    .dataframe tbody tr th {\n",
       "        vertical-align: top;\n",
       "    }\n",
       "\n",
       "    .dataframe thead th {\n",
       "        text-align: right;\n",
       "    }\n",
       "</style>\n",
       "<table border=\"1\" class=\"dataframe\">\n",
       "  <thead>\n",
       "    <tr style=\"text-align: right;\">\n",
       "      <th></th>\n",
       "      <th>ram</th>\n",
       "      <th>storage</th>\n",
       "      <th>screen</th>\n",
       "      <th>final_price</th>\n",
       "    </tr>\n",
       "  </thead>\n",
       "  <tbody>\n",
       "    <tr>\n",
       "      <th>0</th>\n",
       "      <td>32</td>\n",
       "      <td>1000</td>\n",
       "      <td>15.6</td>\n",
       "      <td>1592.89</td>\n",
       "    </tr>\n",
       "    <tr>\n",
       "      <th>1</th>\n",
       "      <td>8</td>\n",
       "      <td>512</td>\n",
       "      <td>13.3</td>\n",
       "      <td>1349.00</td>\n",
       "    </tr>\n",
       "    <tr>\n",
       "      <th>2</th>\n",
       "      <td>8</td>\n",
       "      <td>512</td>\n",
       "      <td>15.6</td>\n",
       "      <td>549.00</td>\n",
       "    </tr>\n",
       "    <tr>\n",
       "      <th>3</th>\n",
       "      <td>32</td>\n",
       "      <td>1000</td>\n",
       "      <td>17.3</td>\n",
       "      <td>2999.00</td>\n",
       "    </tr>\n",
       "    <tr>\n",
       "      <th>4</th>\n",
       "      <td>16</td>\n",
       "      <td>1000</td>\n",
       "      <td>16.0</td>\n",
       "      <td>1889.00</td>\n",
       "    </tr>\n",
       "  </tbody>\n",
       "</table>\n",
       "</div>"
      ],
      "text/plain": [
       "   ram  storage  screen  final_price\n",
       "0   32     1000    15.6      1592.89\n",
       "1    8      512    13.3      1349.00\n",
       "2    8      512    15.6       549.00\n",
       "3   32     1000    17.3      2999.00\n",
       "4   16     1000    16.0      1889.00"
      ]
     },
     "execution_count": 158,
     "metadata": {},
     "output_type": "execute_result"
    }
   ],
   "source": [
    "large_train.head()\n"
   ]
  },
  {
   "cell_type": "code",
   "execution_count": 159,
   "id": "833a8046",
   "metadata": {},
   "outputs": [
    {
     "data": {
      "text/plain": [
       "array([7.37393285, 7.20785987, 6.30991828, ..., 6.74523635, 6.56939727,\n",
       "       6.65930674], shape=(1728,))"
      ]
     },
     "execution_count": 159,
     "metadata": {},
     "output_type": "execute_result"
    }
   ],
   "source": [
    "y_train = get_target_vector(large_train, 'final_price')\n",
    "y_train"
   ]
  },
  {
   "cell_type": "code",
   "execution_count": 161,
   "id": "76d03353",
   "metadata": {},
   "outputs": [
    {
     "data": {
      "text/plain": [
       "array([ 6.75069863e+00,  2.67742537e-02,  7.03116385e-04, -4.08711815e-02])"
      ]
     },
     "execution_count": 161,
     "metadata": {},
     "output_type": "execute_result"
    }
   ],
   "source": [
    "X_train = prepare_X_0(large_train)\n",
    "y_train  = y_train\n",
    "w = train_linear_model_r(X_train, y_train, r= 0.001)\n",
    "\n",
    "w"
   ]
  },
  {
   "cell_type": "code",
   "execution_count": 162,
   "id": "e6583d02",
   "metadata": {},
   "outputs": [
    {
     "name": "stdout",
     "output_type": "stream",
     "text": [
      "The RMSE we get is 0.4\n"
     ]
    }
   ],
   "source": [
    "y_test = get_target_vector(test, 'final_price')\n",
    "X_test = prepare_X_0(test)\n",
    "\n",
    "RMSE = evaluate(X_test, y_test, w)\n",
    "print(f'The RMSE we get is {round(RMSE, 2)}')"
   ]
  },
  {
   "cell_type": "code",
   "execution_count": null,
   "id": "55bace8e",
   "metadata": {},
   "outputs": [],
   "source": []
  }
 ],
 "metadata": {
  "kernelspec": {
   "display_name": "Python 3",
   "language": "python",
   "name": "python3"
  },
  "language_info": {
   "codemirror_mode": {
    "name": "ipython",
    "version": 3
   },
   "file_extension": ".py",
   "mimetype": "text/x-python",
   "name": "python",
   "nbconvert_exporter": "python",
   "pygments_lexer": "ipython3",
   "version": "3.12.1"
  }
 },
 "nbformat": 4,
 "nbformat_minor": 5
}
