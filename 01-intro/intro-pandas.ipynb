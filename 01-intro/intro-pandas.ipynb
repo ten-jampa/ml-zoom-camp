{
 "cells": [
  {
   "cell_type": "code",
   "execution_count": 1,
   "id": "c6b22a9e",
   "metadata": {},
   "outputs": [],
   "source": [
    "## Pandas\n",
    "import numpy as np\n",
    "import pandas as pd\n",
    "\n"
   ]
  },
  {
   "cell_type": "markdown",
   "id": "c6c5c6f2",
   "metadata": {},
   "source": [
    "## DataFrame"
   ]
  },
  {
   "cell_type": "code",
   "execution_count": 4,
   "id": "ec8b2248",
   "metadata": {},
   "outputs": [],
   "source": [
    "## Data Frame can be imagined as a table\n",
    "## sample data below\t\n",
    "data = [\n",
    "    ['Nissan', 'Stanza', 1991, 138, 4, 'MANUAL', 'sedan', 2000],\n",
    "    ['Hyundai', 'Sonata', 2017, None, 4, 'AUTOMATIC', 'Sedan', 27150],\n",
    "    ['Lotus', 'Elise', 2010, 218, 4, 'MANUAL', 'convertible', 54990],\n",
    "    ['GMC', 'Acadia',  2017, 194, 4, 'AUTOMATIC', '4dr SUV', 34450],\n",
    "    ['Nissan', 'Frontier', 2017, 261, 6, 'MANUAL', 'Pickup', 32340],\n",
    "]\n",
    " \n",
    "columns = [\n",
    "    'Make', 'Model', 'Year', 'Engine HP', 'Engine Cylinders',\n",
    "    'Transmission Type', 'Vehicle_Style', 'MSRP'\n",
    "]\n",
    "\n",
    "df = pd.DataFrame(data, columns=columns)\n"
   ]
  },
  {
   "cell_type": "code",
   "execution_count": 5,
   "id": "c5e6965c",
   "metadata": {},
   "outputs": [
    {
     "data": {
      "application/vnd.microsoft.datawrangler.viewer.v0+json": {
       "columns": [
        {
         "name": "index",
         "rawType": "int64",
         "type": "integer"
        },
        {
         "name": "Make",
         "rawType": "object",
         "type": "string"
        },
        {
         "name": "Model",
         "rawType": "object",
         "type": "string"
        },
        {
         "name": "Year",
         "rawType": "int64",
         "type": "integer"
        },
        {
         "name": "Engine HP",
         "rawType": "float64",
         "type": "float"
        },
        {
         "name": "Engine Cylinders",
         "rawType": "int64",
         "type": "integer"
        },
        {
         "name": "Transmission Type",
         "rawType": "object",
         "type": "string"
        },
        {
         "name": "Vehicle_Style",
         "rawType": "object",
         "type": "string"
        },
        {
         "name": "MSRP",
         "rawType": "int64",
         "type": "integer"
        }
       ],
       "conversionMethod": "pd.DataFrame",
       "ref": "9848a899-74f3-4ee8-b781-47add7d1aaed",
       "rows": [
        [
         "0",
         "Nissan",
         "Stanza",
         "1991",
         "138.0",
         "4",
         "MANUAL",
         "sedan",
         "2000"
        ],
        [
         "1",
         "Hyundai",
         "Sonata",
         "2017",
         null,
         "4",
         "AUTOMATIC",
         "Sedan",
         "27150"
        ]
       ],
       "shape": {
        "columns": 8,
        "rows": 2
       }
      },
      "text/html": [
       "<div>\n",
       "<style scoped>\n",
       "    .dataframe tbody tr th:only-of-type {\n",
       "        vertical-align: middle;\n",
       "    }\n",
       "\n",
       "    .dataframe tbody tr th {\n",
       "        vertical-align: top;\n",
       "    }\n",
       "\n",
       "    .dataframe thead th {\n",
       "        text-align: right;\n",
       "    }\n",
       "</style>\n",
       "<table border=\"1\" class=\"dataframe\">\n",
       "  <thead>\n",
       "    <tr style=\"text-align: right;\">\n",
       "      <th></th>\n",
       "      <th>Make</th>\n",
       "      <th>Model</th>\n",
       "      <th>Year</th>\n",
       "      <th>Engine HP</th>\n",
       "      <th>Engine Cylinders</th>\n",
       "      <th>Transmission Type</th>\n",
       "      <th>Vehicle_Style</th>\n",
       "      <th>MSRP</th>\n",
       "    </tr>\n",
       "  </thead>\n",
       "  <tbody>\n",
       "    <tr>\n",
       "      <th>0</th>\n",
       "      <td>Nissan</td>\n",
       "      <td>Stanza</td>\n",
       "      <td>1991</td>\n",
       "      <td>138.0</td>\n",
       "      <td>4</td>\n",
       "      <td>MANUAL</td>\n",
       "      <td>sedan</td>\n",
       "      <td>2000</td>\n",
       "    </tr>\n",
       "    <tr>\n",
       "      <th>1</th>\n",
       "      <td>Hyundai</td>\n",
       "      <td>Sonata</td>\n",
       "      <td>2017</td>\n",
       "      <td>NaN</td>\n",
       "      <td>4</td>\n",
       "      <td>AUTOMATIC</td>\n",
       "      <td>Sedan</td>\n",
       "      <td>27150</td>\n",
       "    </tr>\n",
       "  </tbody>\n",
       "</table>\n",
       "</div>"
      ],
      "text/plain": [
       "      Make   Model  Year  Engine HP  Engine Cylinders Transmission Type  \\\n",
       "0   Nissan  Stanza  1991      138.0                 4            MANUAL   \n",
       "1  Hyundai  Sonata  2017        NaN                 4         AUTOMATIC   \n",
       "\n",
       "  Vehicle_Style   MSRP  \n",
       "0         sedan   2000  \n",
       "1         Sedan  27150  "
      ]
     },
     "execution_count": 5,
     "metadata": {},
     "output_type": "execute_result"
    }
   ],
   "source": [
    "df.head(2)"
   ]
  },
  {
   "cell_type": "code",
   "execution_count": null,
   "id": "831f4459",
   "metadata": {},
   "outputs": [],
   "source": [
    "# you can convert a list of dictionaries to a panda data frame\n",
    "\n",
    "# data = [\n",
    "#     #1st row \n",
    "#     {\n",
    "#         'make': ;;;\n",
    "\n",
    "#         ...\n",
    "#     }\n",
    "# ]"
   ]
  },
  {
   "cell_type": "markdown",
   "id": "f129ce99",
   "metadata": {},
   "source": [
    "## Series"
   ]
  },
  {
   "cell_type": "code",
   "execution_count": 7,
   "id": "6a0d1e96",
   "metadata": {},
   "outputs": [
    {
     "data": {
      "text/plain": [
       "0     Nissan\n",
       "1    Hyundai\n",
       "2      Lotus\n",
       "3        GMC\n",
       "4     Nissan\n",
       "Name: Make, dtype: object"
      ]
     },
     "execution_count": 7,
     "metadata": {},
     "output_type": "execute_result"
    }
   ],
   "source": [
    "# every column of the data is a panda Data series\n",
    "\n",
    "df.Make"
   ]
  },
  {
   "cell_type": "code",
   "execution_count": 12,
   "id": "3d7198d3",
   "metadata": {},
   "outputs": [
    {
     "data": {
      "text/plain": [
       "0      Stanza\n",
       "1      Sonata\n",
       "2       Elise\n",
       "3      Acadia\n",
       "4    Frontier\n",
       "Name: Model, dtype: object"
      ]
     },
     "execution_count": 12,
     "metadata": {},
     "output_type": "execute_result"
    }
   ],
   "source": [
    "df['Model']"
   ]
  },
  {
   "cell_type": "code",
   "execution_count": 14,
   "id": "039ff452",
   "metadata": {},
   "outputs": [],
   "source": [
    "# loc and iloc\n",
    "\n",
    "# loc can be used to select row/s from the Data frame (by default the index is range(0, n-1)) but you can set it in a custom manner\n",
    "# iloc (maybe short for index location) still retains the use of index location of rows in the DF\n",
    "\n"
   ]
  },
  {
   "cell_type": "markdown",
   "id": "43e692fa",
   "metadata": {},
   "source": [
    "## Filtering\n"
   ]
  },
  {
   "cell_type": "code",
   "execution_count": 15,
   "id": "bdd345a4",
   "metadata": {},
   "outputs": [
    {
     "data": {
      "application/vnd.microsoft.datawrangler.viewer.v0+json": {
       "columns": [
        {
         "name": "index",
         "rawType": "int64",
         "type": "integer"
        },
        {
         "name": "Make",
         "rawType": "object",
         "type": "string"
        },
        {
         "name": "Model",
         "rawType": "object",
         "type": "string"
        },
        {
         "name": "Year",
         "rawType": "int64",
         "type": "integer"
        },
        {
         "name": "Engine HP",
         "rawType": "float64",
         "type": "float"
        },
        {
         "name": "Engine Cylinders",
         "rawType": "int64",
         "type": "integer"
        },
        {
         "name": "Transmission Type",
         "rawType": "object",
         "type": "string"
        },
        {
         "name": "Vehicle_Style",
         "rawType": "object",
         "type": "string"
        },
        {
         "name": "MSRP",
         "rawType": "int64",
         "type": "integer"
        }
       ],
       "conversionMethod": "pd.DataFrame",
       "ref": "e4e99db9-8d47-45c2-8219-12829896ba22",
       "rows": [
        [
         "0",
         "Nissan",
         "Stanza",
         "1991",
         "138.0",
         "4",
         "MANUAL",
         "sedan",
         "2000"
        ],
        [
         "2",
         "Lotus",
         "Elise",
         "2010",
         "218.0",
         "4",
         "MANUAL",
         "convertible",
         "54990"
        ],
        [
         "3",
         "GMC",
         "Acadia",
         "2017",
         "194.0",
         "4",
         "AUTOMATIC",
         "4dr SUV",
         "34450"
        ],
        [
         "4",
         "Nissan",
         "Frontier",
         "2017",
         "261.0",
         "6",
         "MANUAL",
         "Pickup",
         "32340"
        ]
       ],
       "shape": {
        "columns": 8,
        "rows": 4
       }
      },
      "text/html": [
       "<div>\n",
       "<style scoped>\n",
       "    .dataframe tbody tr th:only-of-type {\n",
       "        vertical-align: middle;\n",
       "    }\n",
       "\n",
       "    .dataframe tbody tr th {\n",
       "        vertical-align: top;\n",
       "    }\n",
       "\n",
       "    .dataframe thead th {\n",
       "        text-align: right;\n",
       "    }\n",
       "</style>\n",
       "<table border=\"1\" class=\"dataframe\">\n",
       "  <thead>\n",
       "    <tr style=\"text-align: right;\">\n",
       "      <th></th>\n",
       "      <th>Make</th>\n",
       "      <th>Model</th>\n",
       "      <th>Year</th>\n",
       "      <th>Engine HP</th>\n",
       "      <th>Engine Cylinders</th>\n",
       "      <th>Transmission Type</th>\n",
       "      <th>Vehicle_Style</th>\n",
       "      <th>MSRP</th>\n",
       "    </tr>\n",
       "  </thead>\n",
       "  <tbody>\n",
       "    <tr>\n",
       "      <th>0</th>\n",
       "      <td>Nissan</td>\n",
       "      <td>Stanza</td>\n",
       "      <td>1991</td>\n",
       "      <td>138.0</td>\n",
       "      <td>4</td>\n",
       "      <td>MANUAL</td>\n",
       "      <td>sedan</td>\n",
       "      <td>2000</td>\n",
       "    </tr>\n",
       "    <tr>\n",
       "      <th>2</th>\n",
       "      <td>Lotus</td>\n",
       "      <td>Elise</td>\n",
       "      <td>2010</td>\n",
       "      <td>218.0</td>\n",
       "      <td>4</td>\n",
       "      <td>MANUAL</td>\n",
       "      <td>convertible</td>\n",
       "      <td>54990</td>\n",
       "    </tr>\n",
       "    <tr>\n",
       "      <th>3</th>\n",
       "      <td>GMC</td>\n",
       "      <td>Acadia</td>\n",
       "      <td>2017</td>\n",
       "      <td>194.0</td>\n",
       "      <td>4</td>\n",
       "      <td>AUTOMATIC</td>\n",
       "      <td>4dr SUV</td>\n",
       "      <td>34450</td>\n",
       "    </tr>\n",
       "    <tr>\n",
       "      <th>4</th>\n",
       "      <td>Nissan</td>\n",
       "      <td>Frontier</td>\n",
       "      <td>2017</td>\n",
       "      <td>261.0</td>\n",
       "      <td>6</td>\n",
       "      <td>MANUAL</td>\n",
       "      <td>Pickup</td>\n",
       "      <td>32340</td>\n",
       "    </tr>\n",
       "  </tbody>\n",
       "</table>\n",
       "</div>"
      ],
      "text/plain": [
       "     Make     Model  Year  Engine HP  Engine Cylinders Transmission Type  \\\n",
       "0  Nissan    Stanza  1991      138.0                 4            MANUAL   \n",
       "2   Lotus     Elise  2010      218.0                 4            MANUAL   \n",
       "3     GMC    Acadia  2017      194.0                 4         AUTOMATIC   \n",
       "4  Nissan  Frontier  2017      261.0                 6            MANUAL   \n",
       "\n",
       "  Vehicle_Style   MSRP  \n",
       "0         sedan   2000  \n",
       "2   convertible  54990  \n",
       "3       4dr SUV  34450  \n",
       "4        Pickup  32340  "
      ]
     },
     "execution_count": 15,
     "metadata": {},
     "output_type": "execute_result"
    }
   ],
   "source": [
    "df[df['Engine HP'] > 30]"
   ]
  },
  {
   "cell_type": "markdown",
   "id": "e4fc9e1b",
   "metadata": {},
   "source": [
    "## Summarising operations\n"
   ]
  },
  {
   "cell_type": "code",
   "execution_count": 16,
   "id": "07979f1a",
   "metadata": {},
   "outputs": [
    {
     "data": {
      "application/vnd.microsoft.datawrangler.viewer.v0+json": {
       "columns": [
        {
         "name": "index",
         "rawType": "object",
         "type": "string"
        },
        {
         "name": "Year",
         "rawType": "float64",
         "type": "float"
        },
        {
         "name": "Engine HP",
         "rawType": "float64",
         "type": "float"
        },
        {
         "name": "Engine Cylinders",
         "rawType": "float64",
         "type": "float"
        },
        {
         "name": "MSRP",
         "rawType": "float64",
         "type": "float"
        }
       ],
       "conversionMethod": "pd.DataFrame",
       "ref": "72e5cad6-36c4-4b93-a6ac-36995f8e440a",
       "rows": [
        [
         "count",
         "5.0",
         "4.0",
         "5.0",
         "5.0"
        ],
        [
         "mean",
         "2010.4",
         "202.75",
         "4.4",
         "30186.0"
        ],
        [
         "std",
         "11.260550608207398",
         "51.2989603533379",
         "0.8944271909999159",
         "18985.044903818372"
        ],
        [
         "min",
         "1991.0",
         "138.0",
         "4.0",
         "2000.0"
        ],
        [
         "25%",
         "2010.0",
         "180.0",
         "4.0",
         "27150.0"
        ],
        [
         "50%",
         "2017.0",
         "206.0",
         "4.0",
         "32340.0"
        ],
        [
         "75%",
         "2017.0",
         "228.75",
         "4.0",
         "34450.0"
        ],
        [
         "max",
         "2017.0",
         "261.0",
         "6.0",
         "54990.0"
        ]
       ],
       "shape": {
        "columns": 4,
        "rows": 8
       }
      },
      "text/html": [
       "<div>\n",
       "<style scoped>\n",
       "    .dataframe tbody tr th:only-of-type {\n",
       "        vertical-align: middle;\n",
       "    }\n",
       "\n",
       "    .dataframe tbody tr th {\n",
       "        vertical-align: top;\n",
       "    }\n",
       "\n",
       "    .dataframe thead th {\n",
       "        text-align: right;\n",
       "    }\n",
       "</style>\n",
       "<table border=\"1\" class=\"dataframe\">\n",
       "  <thead>\n",
       "    <tr style=\"text-align: right;\">\n",
       "      <th></th>\n",
       "      <th>Year</th>\n",
       "      <th>Engine HP</th>\n",
       "      <th>Engine Cylinders</th>\n",
       "      <th>MSRP</th>\n",
       "    </tr>\n",
       "  </thead>\n",
       "  <tbody>\n",
       "    <tr>\n",
       "      <th>count</th>\n",
       "      <td>5.000000</td>\n",
       "      <td>4.00000</td>\n",
       "      <td>5.000000</td>\n",
       "      <td>5.000000</td>\n",
       "    </tr>\n",
       "    <tr>\n",
       "      <th>mean</th>\n",
       "      <td>2010.400000</td>\n",
       "      <td>202.75000</td>\n",
       "      <td>4.400000</td>\n",
       "      <td>30186.000000</td>\n",
       "    </tr>\n",
       "    <tr>\n",
       "      <th>std</th>\n",
       "      <td>11.260551</td>\n",
       "      <td>51.29896</td>\n",
       "      <td>0.894427</td>\n",
       "      <td>18985.044904</td>\n",
       "    </tr>\n",
       "    <tr>\n",
       "      <th>min</th>\n",
       "      <td>1991.000000</td>\n",
       "      <td>138.00000</td>\n",
       "      <td>4.000000</td>\n",
       "      <td>2000.000000</td>\n",
       "    </tr>\n",
       "    <tr>\n",
       "      <th>25%</th>\n",
       "      <td>2010.000000</td>\n",
       "      <td>180.00000</td>\n",
       "      <td>4.000000</td>\n",
       "      <td>27150.000000</td>\n",
       "    </tr>\n",
       "    <tr>\n",
       "      <th>50%</th>\n",
       "      <td>2017.000000</td>\n",
       "      <td>206.00000</td>\n",
       "      <td>4.000000</td>\n",
       "      <td>32340.000000</td>\n",
       "    </tr>\n",
       "    <tr>\n",
       "      <th>75%</th>\n",
       "      <td>2017.000000</td>\n",
       "      <td>228.75000</td>\n",
       "      <td>4.000000</td>\n",
       "      <td>34450.000000</td>\n",
       "    </tr>\n",
       "    <tr>\n",
       "      <th>max</th>\n",
       "      <td>2017.000000</td>\n",
       "      <td>261.00000</td>\n",
       "      <td>6.000000</td>\n",
       "      <td>54990.000000</td>\n",
       "    </tr>\n",
       "  </tbody>\n",
       "</table>\n",
       "</div>"
      ],
      "text/plain": [
       "              Year  Engine HP  Engine Cylinders          MSRP\n",
       "count     5.000000    4.00000          5.000000      5.000000\n",
       "mean   2010.400000  202.75000          4.400000  30186.000000\n",
       "std      11.260551   51.29896          0.894427  18985.044904\n",
       "min    1991.000000  138.00000          4.000000   2000.000000\n",
       "25%    2010.000000  180.00000          4.000000  27150.000000\n",
       "50%    2017.000000  206.00000          4.000000  32340.000000\n",
       "75%    2017.000000  228.75000          4.000000  34450.000000\n",
       "max    2017.000000  261.00000          6.000000  54990.000000"
      ]
     },
     "execution_count": 16,
     "metadata": {},
     "output_type": "execute_result"
    }
   ],
   "source": [
    "df.describe()"
   ]
  },
  {
   "cell_type": "code",
   "execution_count": 17,
   "id": "9cf8c78f",
   "metadata": {},
   "outputs": [
    {
     "data": {
      "text/plain": [
       "Make                 4\n",
       "Model                5\n",
       "Year                 3\n",
       "Engine HP            4\n",
       "Engine Cylinders     2\n",
       "Transmission Type    2\n",
       "Vehicle_Style        5\n",
       "MSRP                 5\n",
       "dtype: int64"
      ]
     },
     "execution_count": 17,
     "metadata": {},
     "output_type": "execute_result"
    }
   ],
   "source": [
    "df.nunique()"
   ]
  },
  {
   "cell_type": "code",
   "execution_count": 23,
   "id": "0c58e448",
   "metadata": {},
   "outputs": [
    {
     "data": {
      "text/plain": [
       "Make                       GMC\n",
       "Model                   Acadia\n",
       "Year                      1991\n",
       "Engine HP                138.0\n",
       "Engine Cylinders             4\n",
       "Transmission Type    AUTOMATIC\n",
       "Vehicle_Style          4dr SUV\n",
       "MSRP                      2000\n",
       "dtype: object"
      ]
     },
     "execution_count": 23,
     "metadata": {},
     "output_type": "execute_result"
    }
   ],
   "source": [
    "df.min()"
   ]
  },
  {
   "cell_type": "code",
   "execution_count": 20,
   "id": "bf6752f8",
   "metadata": {},
   "outputs": [
    {
     "data": {
      "text/plain": [
       "Make                 0\n",
       "Model                0\n",
       "Year                 0\n",
       "Engine HP            1\n",
       "Engine Cylinders     0\n",
       "Transmission Type    0\n",
       "Vehicle_Style        0\n",
       "MSRP                 0\n",
       "dtype: int64"
      ]
     },
     "execution_count": 20,
     "metadata": {},
     "output_type": "execute_result"
    }
   ],
   "source": [
    "# Missing values\n",
    "df.isnull().sum()"
   ]
  },
  {
   "cell_type": "code",
   "execution_count": 27,
   "id": "280fa812",
   "metadata": {},
   "outputs": [
    {
     "data": {
      "text/plain": [
       "Transmission Type\n",
       "AUTOMATIC    34450\n",
       "MANUAL       54990\n",
       "Name: MSRP, dtype: int64"
      ]
     },
     "execution_count": 27,
     "metadata": {},
     "output_type": "execute_result"
    }
   ],
   "source": [
    "# Grouping\n",
    "\n",
    "df.groupby('Transmission Type').MSRP.max()\n",
    "\n"
   ]
  },
  {
   "cell_type": "code",
   "execution_count": 24,
   "id": "d3d37e03",
   "metadata": {},
   "outputs": [
    {
     "data": {
      "text/plain": [
       "array([ 2000, 27150, 54990, 34450, 32340])"
      ]
     },
     "execution_count": 24,
     "metadata": {},
     "output_type": "execute_result"
    }
   ],
   "source": [
    "# getting the np arrays\n",
    "df.MSRP.values"
   ]
  },
  {
   "cell_type": "code",
   "execution_count": null,
   "id": "4d9e57ff",
   "metadata": {},
   "outputs": [],
   "source": [
    "## to saving\n",
    "\n",
    "# df.to_dict()"
   ]
  }
 ],
 "metadata": {
  "kernelspec": {
   "display_name": "Python 3",
   "language": "python",
   "name": "python3"
  },
  "language_info": {
   "codemirror_mode": {
    "name": "ipython",
    "version": 3
   },
   "file_extension": ".py",
   "mimetype": "text/x-python",
   "name": "python",
   "nbconvert_exporter": "python",
   "pygments_lexer": "ipython3",
   "version": "3.12.1"
  }
 },
 "nbformat": 4,
 "nbformat_minor": 5
}
