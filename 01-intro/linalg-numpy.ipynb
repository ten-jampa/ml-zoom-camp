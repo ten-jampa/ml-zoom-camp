{
 "cells": [
  {
   "cell_type": "code",
   "execution_count": 2,
   "id": "369cf814",
   "metadata": {},
   "outputs": [
    {
     "name": "stdout",
     "output_type": "stream",
     "text": [
      "NumPy version: 2.2.4\n"
     ]
    }
   ],
   "source": [
    "import numpy as np\n",
    "\n",
    "# Check NumPy version\n",
    "print(f'NumPy version: {np.__version__}')"
   ]
  },
  {
   "cell_type": "markdown",
   "id": "651c25ff",
   "metadata": {},
   "source": [
    "# Linear Algebra with NumPy\n",
    "\n",
    "This notebook explores fundamental linear algebra concepts using NumPy, covering:\n",
    "- Vectors and matrices\n",
    "- Basic matrix operations\n",
    "- Matrix multiplication\n",
    "- Special matrices\n",
    "- Linear algebra operations"
   ]
  },
  {
   "cell_type": "markdown",
   "id": "db728e6a",
   "metadata": {},
   "source": [
    "## Vectors\n",
    "\n",
    "Let's start by creating and manipulating vectors using NumPy arrays."
   ]
  },
  {
   "cell_type": "code",
   "execution_count": 3,
   "id": "35ced95f",
   "metadata": {},
   "outputs": [
    {
     "name": "stdout",
     "output_type": "stream",
     "text": [
      "Vector 1: [1 2 3]\n",
      "Vector 2: [4 5 6]\n",
      "\n",
      "Addition: [5 7 9]\n",
      "Dot product: 32\n",
      "Vector magnitude (v1): 3.74\n"
     ]
    }
   ],
   "source": [
    "# Create vectors\n",
    "v1 = np.array([1, 2, 3])\n",
    "v2 = np.array([4, 5, 6])\n",
    "\n",
    "print(f'Vector 1: {v1}')\n",
    "print(f'Vector 2: {v2}')\n",
    "\n",
    "# Vector operations\n",
    "print(f'\\nAddition: {v1 + v2}')\n",
    "print(f'Dot product: {np.dot(v1, v2)}')\n",
    "print(f'Vector magnitude (v1): {np.linalg.norm(v1):.2f}')"
   ]
  },
  {
   "cell_type": "code",
   "execution_count": 4,
   "id": "5b18a424",
   "metadata": {},
   "outputs": [],
   "source": [
    "# Custom vector-vector multiplication\n",
    "\n",
    "def vec_vec_mul(a, b):\n",
    "    #assert a.shape == b.shape\n",
    "    sum = 0\n",
    "    for ai, bi in zip(a,b):\n",
    "        sum += ai * bi\n",
    "    return sum\n",
    "\n",
    "# Custom matrix-vector multiplication\n",
    "\n",
    "def mul_vec_multiplication(A, b):\n",
    "    assert A.shape[1] == b.shape[0] \n",
    "    out = []\n",
    "    for ai in A: \n",
    "        #row vectors\n",
    "        out.append(vec_vec_mul(ai, b))\n",
    "    return np.array(out)\n",
    "\n"
   ]
  },
  {
   "cell_type": "code",
   "execution_count": 5,
   "id": "b9651737",
   "metadata": {},
   "outputs": [
    {
     "data": {
      "text/plain": [
       "3"
      ]
     },
     "execution_count": 5,
     "metadata": {},
     "output_type": "execute_result"
    }
   ],
   "source": [
    "v1.shape[0]"
   ]
  },
  {
   "cell_type": "code",
   "execution_count": 6,
   "id": "8eb33459",
   "metadata": {},
   "outputs": [
    {
     "name": "stdout",
     "output_type": "stream",
     "text": [
      "32\n"
     ]
    }
   ],
   "source": [
    "# test dot product\n",
    "\n",
    "print(vec_vec_mul(v1, v2))"
   ]
  },
  {
   "cell_type": "code",
   "execution_count": 7,
   "id": "e868fc68",
   "metadata": {},
   "outputs": [
    {
     "name": "stdout",
     "output_type": "stream",
     "text": [
      "[53 18 24]\n"
     ]
    }
   ],
   "source": [
    "U = np.array([\n",
    "    [2,4,5,6],\n",
    "    [1,2,1,2],\n",
    "    [3,1,2,1]\n",
    "])\n",
    "\n",
    "v = np.array([3,4,5,1])\n",
    "\n",
    "print(mul_vec_multiplication(U, v))"
   ]
  },
  {
   "cell_type": "code",
   "execution_count": 8,
   "id": "fa964eed",
   "metadata": {},
   "outputs": [],
   "source": [
    "#some helper functions\n",
    "\n",
    "def get_ith_colvec(Matrix, i):\n",
    "    return Matrix[:, i]\n",
    "\n",
    "def get_ith_rowvec(Matrix, i):\n",
    "    return Matrix[i, :]\n",
    "\n",
    "## A harder way\n",
    "def mat_mat_multiplication(A, B):\n",
    "    assert A.shape[1] == B.shape[0]\n",
    "    main_mat = []\n",
    "    for i in range(len(A)):\n",
    "        sub_array = []\n",
    "        row_vec = get_ith_rowvec(A, i)\n",
    "        for j in range(len(B)):\n",
    "            col_vec = get_ith_rowvec(B, j)\n",
    "            sub_array.append(vec_vec_mul(row_vec, col_vec))\n",
    "        main_mat.append(sub_array)\n",
    "\n",
    "    return np.array(main_mat)\n",
    "\n",
    "## more elegant\n",
    "\n",
    "\n"
   ]
  },
  {
   "cell_type": "code",
   "execution_count": 9,
   "id": "3b055bbf",
   "metadata": {},
   "outputs": [
    {
     "data": {
      "text/plain": [
       "array([[16. ,  7. , 13. ,  8. ],\n",
       "       [ 5. ,  2. ,  5. ,  4. ],\n",
       "       [ 8. ,  2.5,  4. ,  7. ]])"
      ]
     },
     "execution_count": 9,
     "metadata": {},
     "output_type": "execute_result"
    }
   ],
   "source": [
    "V = np.array([\n",
    "    [1, 1, 2],\n",
    "    [0, 0.5, 1],\n",
    "    [0, 2, 1],\n",
    "    [2,1, 0]\n",
    "])\n",
    "mat_mat_multiplication(U, V)"
   ]
  },
  {
   "cell_type": "code",
   "execution_count": 10,
   "id": "8c4aa681",
   "metadata": {},
   "outputs": [
    {
     "name": "stdout",
     "output_type": "stream",
     "text": [
      "[[1. 0. 0.]\n",
      " [0. 1. 0.]\n",
      " [0. 0. 1.]]\n"
     ]
    }
   ],
   "source": [
    "# Identity Matrix\n",
    "\n",
    "I  = np.eye(3)\n",
    "print(I)"
   ]
  },
  {
   "cell_type": "code",
   "execution_count": 11,
   "id": "790370b1",
   "metadata": {},
   "outputs": [
    {
     "name": "stdout",
     "output_type": "stream",
     "text": [
      "[[ 1.         -2.          0.        ]\n",
      " [ 0.         -0.66666667  0.66666667]\n",
      " [ 0.          1.33333333 -0.33333333]]\n"
     ]
    }
   ],
   "source": [
    "V = np.array([\n",
    "    [1, 1, 2],\n",
    "    [0, 0.5, 1], \n",
    "    [0, 2, 1],\n",
    "])\n",
    "\n",
    "inv = np.linalg.inv(V)\n",
    "\n",
    "print(inv)"
   ]
  },
  {
   "cell_type": "code",
   "execution_count": null,
   "id": "a6db34c2",
   "metadata": {},
   "outputs": [],
   "source": []
  }
 ],
 "metadata": {
  "kernelspec": {
   "display_name": "Python 3",
   "language": "python",
   "name": "python3"
  },
  "language_info": {
   "codemirror_mode": {
    "name": "ipython",
    "version": 3
   },
   "file_extension": ".py",
   "mimetype": "text/x-python",
   "name": "python",
   "nbconvert_exporter": "python",
   "pygments_lexer": "ipython3",
   "version": "3.12.1"
  }
 },
 "nbformat": 4,
 "nbformat_minor": 5
}
