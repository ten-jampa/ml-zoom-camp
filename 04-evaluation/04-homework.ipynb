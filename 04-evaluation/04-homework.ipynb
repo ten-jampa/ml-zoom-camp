{
 "cells": [
  {
   "cell_type": "markdown",
   "id": "889c117a",
   "metadata": {},
   "source": [
    "# Module 4: Homework\n",
    "\n",
    "Working with Bank_marketing dataset"
   ]
  },
  {
   "cell_type": "markdown",
   "id": "9a756e59",
   "metadata": {},
   "source": [
    "## Getting the Data "
   ]
  },
  {
   "cell_type": "code",
   "execution_count": 1,
   "metadata": {},
   "outputs": [
    {
     "name": "stdout",
     "output_type": "stream",
     "text": [
      "--2025-05-23 21:35:22--  https://archive.ics.uci.edu/static/public/222/bank+marketing.zip\n",
      "Resolving archive.ics.uci.edu (archive.ics.uci.edu)... 128.195.10.252\n",
      "Connecting to archive.ics.uci.edu (archive.ics.uci.edu)|128.195.10.252|:443... connected.\n",
      "HTTP request sent, awaiting response... 200 OK\n",
      "Length: unspecified\n",
      "Saving to: ‘bank+marketing.zip’\n",
      "\n",
      "bank+marketing.zip      [   <=>              ] 999.85K  1.97MB/s    in 0.5s    \n",
      "\n",
      "2025-05-23 21:35:23 (1.97 MB/s) - ‘bank+marketing.zip’ saved [1023843]\n",
      "\n"
     ]
    }
   ],
   "source": [
    "!wget https://archive.ics.uci.edu/static/public/222/bank+marketing.zip"
   ]
  },
  {
   "cell_type": "code",
   "execution_count": 3,
   "id": "66a6a9b8",
   "metadata": {},
   "outputs": [
    {
     "name": "stdout",
     "output_type": "stream",
     "text": [
      "Archive:  bank+marketing.zip\n",
      " extracting: bank.zip                \n",
      " extracting: bank-additional.zip     \n",
      "Archive:  bank.zip\n",
      "  inflating: bank-full.csv           \n",
      "  inflating: bank-names.txt          \n",
      "  inflating: bank.csv                \n"
     ]
    }
   ],
   "source": [
    "!unzip bank+marketing.zip\n",
    "!unzip bank.zip"
   ]
  },
  {
   "cell_type": "code",
   "execution_count": 4,
   "id": "913aa41c",
   "metadata": {},
   "outputs": [],
   "source": [
    "### Imports\n",
    "\n",
    "import numpy as np\n",
    "import pandas as pd\n",
    "import matplotlib.pyplot as plt\n",
    "import seaborn as sns\n",
    "%matplotlib inline\n"
   ]
  },
  {
   "cell_type": "code",
   "execution_count": 63,
   "id": "56af0884",
   "metadata": {},
   "outputs": [
    {
     "data": {
      "application/vnd.microsoft.datawrangler.viewer.v0+json": {
       "columns": [
        {
         "name": "index",
         "rawType": "int64",
         "type": "integer"
        },
        {
         "name": "age",
         "rawType": "int64",
         "type": "integer"
        },
        {
         "name": "job",
         "rawType": "object",
         "type": "string"
        },
        {
         "name": "marital",
         "rawType": "object",
         "type": "string"
        },
        {
         "name": "education",
         "rawType": "object",
         "type": "string"
        },
        {
         "name": "default",
         "rawType": "object",
         "type": "string"
        },
        {
         "name": "balance",
         "rawType": "int64",
         "type": "integer"
        },
        {
         "name": "housing",
         "rawType": "object",
         "type": "string"
        },
        {
         "name": "loan",
         "rawType": "object",
         "type": "string"
        },
        {
         "name": "contact",
         "rawType": "object",
         "type": "string"
        },
        {
         "name": "day",
         "rawType": "int64",
         "type": "integer"
        },
        {
         "name": "month",
         "rawType": "object",
         "type": "string"
        },
        {
         "name": "duration",
         "rawType": "int64",
         "type": "integer"
        },
        {
         "name": "campaign",
         "rawType": "int64",
         "type": "integer"
        },
        {
         "name": "pdays",
         "rawType": "int64",
         "type": "integer"
        },
        {
         "name": "previous",
         "rawType": "int64",
         "type": "integer"
        },
        {
         "name": "poutcome",
         "rawType": "object",
         "type": "string"
        },
        {
         "name": "y",
         "rawType": "object",
         "type": "string"
        }
       ],
       "ref": "65f03e91-3761-425d-a272-ec2a1fa85cf4",
       "rows": [
        [
         "0",
         "58",
         "management",
         "married",
         "tertiary",
         "no",
         "2143",
         "yes",
         "no",
         "unknown",
         "5",
         "may",
         "261",
         "1",
         "-1",
         "0",
         "unknown",
         "no"
        ],
        [
         "1",
         "44",
         "technician",
         "single",
         "secondary",
         "no",
         "29",
         "yes",
         "no",
         "unknown",
         "5",
         "may",
         "151",
         "1",
         "-1",
         "0",
         "unknown",
         "no"
        ],
        [
         "2",
         "33",
         "entrepreneur",
         "married",
         "secondary",
         "no",
         "2",
         "yes",
         "yes",
         "unknown",
         "5",
         "may",
         "76",
         "1",
         "-1",
         "0",
         "unknown",
         "no"
        ],
        [
         "3",
         "47",
         "blue-collar",
         "married",
         "unknown",
         "no",
         "1506",
         "yes",
         "no",
         "unknown",
         "5",
         "may",
         "92",
         "1",
         "-1",
         "0",
         "unknown",
         "no"
        ],
        [
         "4",
         "33",
         "unknown",
         "single",
         "unknown",
         "no",
         "1",
         "no",
         "no",
         "unknown",
         "5",
         "may",
         "198",
         "1",
         "-1",
         "0",
         "unknown",
         "no"
        ]
       ],
       "shape": {
        "columns": 17,
        "rows": 5
       }
      },
      "text/html": [
       "<div>\n",
       "<style scoped>\n",
       "    .dataframe tbody tr th:only-of-type {\n",
       "        vertical-align: middle;\n",
       "    }\n",
       "\n",
       "    .dataframe tbody tr th {\n",
       "        vertical-align: top;\n",
       "    }\n",
       "\n",
       "    .dataframe thead th {\n",
       "        text-align: right;\n",
       "    }\n",
       "</style>\n",
       "<table border=\"1\" class=\"dataframe\">\n",
       "  <thead>\n",
       "    <tr style=\"text-align: right;\">\n",
       "      <th></th>\n",
       "      <th>age</th>\n",
       "      <th>job</th>\n",
       "      <th>marital</th>\n",
       "      <th>education</th>\n",
       "      <th>default</th>\n",
       "      <th>balance</th>\n",
       "      <th>housing</th>\n",
       "      <th>loan</th>\n",
       "      <th>contact</th>\n",
       "      <th>day</th>\n",
       "      <th>month</th>\n",
       "      <th>duration</th>\n",
       "      <th>campaign</th>\n",
       "      <th>pdays</th>\n",
       "      <th>previous</th>\n",
       "      <th>poutcome</th>\n",
       "      <th>y</th>\n",
       "    </tr>\n",
       "  </thead>\n",
       "  <tbody>\n",
       "    <tr>\n",
       "      <th>0</th>\n",
       "      <td>58</td>\n",
       "      <td>management</td>\n",
       "      <td>married</td>\n",
       "      <td>tertiary</td>\n",
       "      <td>no</td>\n",
       "      <td>2143</td>\n",
       "      <td>yes</td>\n",
       "      <td>no</td>\n",
       "      <td>unknown</td>\n",
       "      <td>5</td>\n",
       "      <td>may</td>\n",
       "      <td>261</td>\n",
       "      <td>1</td>\n",
       "      <td>-1</td>\n",
       "      <td>0</td>\n",
       "      <td>unknown</td>\n",
       "      <td>no</td>\n",
       "    </tr>\n",
       "    <tr>\n",
       "      <th>1</th>\n",
       "      <td>44</td>\n",
       "      <td>technician</td>\n",
       "      <td>single</td>\n",
       "      <td>secondary</td>\n",
       "      <td>no</td>\n",
       "      <td>29</td>\n",
       "      <td>yes</td>\n",
       "      <td>no</td>\n",
       "      <td>unknown</td>\n",
       "      <td>5</td>\n",
       "      <td>may</td>\n",
       "      <td>151</td>\n",
       "      <td>1</td>\n",
       "      <td>-1</td>\n",
       "      <td>0</td>\n",
       "      <td>unknown</td>\n",
       "      <td>no</td>\n",
       "    </tr>\n",
       "    <tr>\n",
       "      <th>2</th>\n",
       "      <td>33</td>\n",
       "      <td>entrepreneur</td>\n",
       "      <td>married</td>\n",
       "      <td>secondary</td>\n",
       "      <td>no</td>\n",
       "      <td>2</td>\n",
       "      <td>yes</td>\n",
       "      <td>yes</td>\n",
       "      <td>unknown</td>\n",
       "      <td>5</td>\n",
       "      <td>may</td>\n",
       "      <td>76</td>\n",
       "      <td>1</td>\n",
       "      <td>-1</td>\n",
       "      <td>0</td>\n",
       "      <td>unknown</td>\n",
       "      <td>no</td>\n",
       "    </tr>\n",
       "    <tr>\n",
       "      <th>3</th>\n",
       "      <td>47</td>\n",
       "      <td>blue-collar</td>\n",
       "      <td>married</td>\n",
       "      <td>unknown</td>\n",
       "      <td>no</td>\n",
       "      <td>1506</td>\n",
       "      <td>yes</td>\n",
       "      <td>no</td>\n",
       "      <td>unknown</td>\n",
       "      <td>5</td>\n",
       "      <td>may</td>\n",
       "      <td>92</td>\n",
       "      <td>1</td>\n",
       "      <td>-1</td>\n",
       "      <td>0</td>\n",
       "      <td>unknown</td>\n",
       "      <td>no</td>\n",
       "    </tr>\n",
       "    <tr>\n",
       "      <th>4</th>\n",
       "      <td>33</td>\n",
       "      <td>unknown</td>\n",
       "      <td>single</td>\n",
       "      <td>unknown</td>\n",
       "      <td>no</td>\n",
       "      <td>1</td>\n",
       "      <td>no</td>\n",
       "      <td>no</td>\n",
       "      <td>unknown</td>\n",
       "      <td>5</td>\n",
       "      <td>may</td>\n",
       "      <td>198</td>\n",
       "      <td>1</td>\n",
       "      <td>-1</td>\n",
       "      <td>0</td>\n",
       "      <td>unknown</td>\n",
       "      <td>no</td>\n",
       "    </tr>\n",
       "  </tbody>\n",
       "</table>\n",
       "</div>"
      ],
      "text/plain": [
       "   age           job  marital  education default  balance housing loan  \\\n",
       "0   58    management  married   tertiary      no     2143     yes   no   \n",
       "1   44    technician   single  secondary      no       29     yes   no   \n",
       "2   33  entrepreneur  married  secondary      no        2     yes  yes   \n",
       "3   47   blue-collar  married    unknown      no     1506     yes   no   \n",
       "4   33       unknown   single    unknown      no        1      no   no   \n",
       "\n",
       "   contact  day month  duration  campaign  pdays  previous poutcome   y  \n",
       "0  unknown    5   may       261         1     -1         0  unknown  no  \n",
       "1  unknown    5   may       151         1     -1         0  unknown  no  \n",
       "2  unknown    5   may        76         1     -1         0  unknown  no  \n",
       "3  unknown    5   may        92         1     -1         0  unknown  no  \n",
       "4  unknown    5   may       198         1     -1         0  unknown  no  "
      ]
     },
     "execution_count": 63,
     "metadata": {},
     "output_type": "execute_result"
    }
   ],
   "source": [
    "df = pd.read_csv('bank-full.csv', sep = ';')\n",
    "df.head()"
   ]
  },
  {
   "cell_type": "code",
   "execution_count": 64,
   "id": "43fab8c1",
   "metadata": {},
   "outputs": [
    {
     "data": {
      "application/vnd.microsoft.datawrangler.viewer.v0+json": {
       "columns": [
        {
         "name": "index",
         "rawType": "object",
         "type": "string"
        },
        {
         "name": "0",
         "rawType": "object",
         "type": "unknown"
        },
        {
         "name": "1",
         "rawType": "object",
         "type": "unknown"
        },
        {
         "name": "2",
         "rawType": "object",
         "type": "unknown"
        },
        {
         "name": "3",
         "rawType": "object",
         "type": "unknown"
        },
        {
         "name": "4",
         "rawType": "object",
         "type": "unknown"
        }
       ],
       "ref": "d3043bbe-c56d-47d3-abc9-12ab0667e2d6",
       "rows": [
        [
         "age",
         "58",
         "44",
         "33",
         "47",
         "33"
        ],
        [
         "job",
         "management",
         "technician",
         "entrepreneur",
         "blue-collar",
         "unknown"
        ],
        [
         "marital",
         "married",
         "single",
         "married",
         "married",
         "single"
        ],
        [
         "education",
         "tertiary",
         "secondary",
         "secondary",
         "unknown",
         "unknown"
        ],
        [
         "default",
         "no",
         "no",
         "no",
         "no",
         "no"
        ],
        [
         "balance",
         "2143",
         "29",
         "2",
         "1506",
         "1"
        ],
        [
         "housing",
         "yes",
         "yes",
         "yes",
         "yes",
         "no"
        ],
        [
         "loan",
         "no",
         "no",
         "yes",
         "no",
         "no"
        ],
        [
         "contact",
         "unknown",
         "unknown",
         "unknown",
         "unknown",
         "unknown"
        ],
        [
         "day",
         "5",
         "5",
         "5",
         "5",
         "5"
        ],
        [
         "month",
         "may",
         "may",
         "may",
         "may",
         "may"
        ],
        [
         "duration",
         "261",
         "151",
         "76",
         "92",
         "198"
        ],
        [
         "campaign",
         "1",
         "1",
         "1",
         "1",
         "1"
        ],
        [
         "pdays",
         "-1",
         "-1",
         "-1",
         "-1",
         "-1"
        ],
        [
         "previous",
         "0",
         "0",
         "0",
         "0",
         "0"
        ],
        [
         "poutcome",
         "unknown",
         "unknown",
         "unknown",
         "unknown",
         "unknown"
        ],
        [
         "y",
         "no",
         "no",
         "no",
         "no",
         "no"
        ]
       ],
       "shape": {
        "columns": 5,
        "rows": 17
       }
      },
      "text/html": [
       "<div>\n",
       "<style scoped>\n",
       "    .dataframe tbody tr th:only-of-type {\n",
       "        vertical-align: middle;\n",
       "    }\n",
       "\n",
       "    .dataframe tbody tr th {\n",
       "        vertical-align: top;\n",
       "    }\n",
       "\n",
       "    .dataframe thead th {\n",
       "        text-align: right;\n",
       "    }\n",
       "</style>\n",
       "<table border=\"1\" class=\"dataframe\">\n",
       "  <thead>\n",
       "    <tr style=\"text-align: right;\">\n",
       "      <th></th>\n",
       "      <th>0</th>\n",
       "      <th>1</th>\n",
       "      <th>2</th>\n",
       "      <th>3</th>\n",
       "      <th>4</th>\n",
       "    </tr>\n",
       "  </thead>\n",
       "  <tbody>\n",
       "    <tr>\n",
       "      <th>age</th>\n",
       "      <td>58</td>\n",
       "      <td>44</td>\n",
       "      <td>33</td>\n",
       "      <td>47</td>\n",
       "      <td>33</td>\n",
       "    </tr>\n",
       "    <tr>\n",
       "      <th>job</th>\n",
       "      <td>management</td>\n",
       "      <td>technician</td>\n",
       "      <td>entrepreneur</td>\n",
       "      <td>blue-collar</td>\n",
       "      <td>unknown</td>\n",
       "    </tr>\n",
       "    <tr>\n",
       "      <th>marital</th>\n",
       "      <td>married</td>\n",
       "      <td>single</td>\n",
       "      <td>married</td>\n",
       "      <td>married</td>\n",
       "      <td>single</td>\n",
       "    </tr>\n",
       "    <tr>\n",
       "      <th>education</th>\n",
       "      <td>tertiary</td>\n",
       "      <td>secondary</td>\n",
       "      <td>secondary</td>\n",
       "      <td>unknown</td>\n",
       "      <td>unknown</td>\n",
       "    </tr>\n",
       "    <tr>\n",
       "      <th>default</th>\n",
       "      <td>no</td>\n",
       "      <td>no</td>\n",
       "      <td>no</td>\n",
       "      <td>no</td>\n",
       "      <td>no</td>\n",
       "    </tr>\n",
       "    <tr>\n",
       "      <th>balance</th>\n",
       "      <td>2143</td>\n",
       "      <td>29</td>\n",
       "      <td>2</td>\n",
       "      <td>1506</td>\n",
       "      <td>1</td>\n",
       "    </tr>\n",
       "    <tr>\n",
       "      <th>housing</th>\n",
       "      <td>yes</td>\n",
       "      <td>yes</td>\n",
       "      <td>yes</td>\n",
       "      <td>yes</td>\n",
       "      <td>no</td>\n",
       "    </tr>\n",
       "    <tr>\n",
       "      <th>loan</th>\n",
       "      <td>no</td>\n",
       "      <td>no</td>\n",
       "      <td>yes</td>\n",
       "      <td>no</td>\n",
       "      <td>no</td>\n",
       "    </tr>\n",
       "    <tr>\n",
       "      <th>contact</th>\n",
       "      <td>unknown</td>\n",
       "      <td>unknown</td>\n",
       "      <td>unknown</td>\n",
       "      <td>unknown</td>\n",
       "      <td>unknown</td>\n",
       "    </tr>\n",
       "    <tr>\n",
       "      <th>day</th>\n",
       "      <td>5</td>\n",
       "      <td>5</td>\n",
       "      <td>5</td>\n",
       "      <td>5</td>\n",
       "      <td>5</td>\n",
       "    </tr>\n",
       "    <tr>\n",
       "      <th>month</th>\n",
       "      <td>may</td>\n",
       "      <td>may</td>\n",
       "      <td>may</td>\n",
       "      <td>may</td>\n",
       "      <td>may</td>\n",
       "    </tr>\n",
       "    <tr>\n",
       "      <th>duration</th>\n",
       "      <td>261</td>\n",
       "      <td>151</td>\n",
       "      <td>76</td>\n",
       "      <td>92</td>\n",
       "      <td>198</td>\n",
       "    </tr>\n",
       "    <tr>\n",
       "      <th>campaign</th>\n",
       "      <td>1</td>\n",
       "      <td>1</td>\n",
       "      <td>1</td>\n",
       "      <td>1</td>\n",
       "      <td>1</td>\n",
       "    </tr>\n",
       "    <tr>\n",
       "      <th>pdays</th>\n",
       "      <td>-1</td>\n",
       "      <td>-1</td>\n",
       "      <td>-1</td>\n",
       "      <td>-1</td>\n",
       "      <td>-1</td>\n",
       "    </tr>\n",
       "    <tr>\n",
       "      <th>previous</th>\n",
       "      <td>0</td>\n",
       "      <td>0</td>\n",
       "      <td>0</td>\n",
       "      <td>0</td>\n",
       "      <td>0</td>\n",
       "    </tr>\n",
       "    <tr>\n",
       "      <th>poutcome</th>\n",
       "      <td>unknown</td>\n",
       "      <td>unknown</td>\n",
       "      <td>unknown</td>\n",
       "      <td>unknown</td>\n",
       "      <td>unknown</td>\n",
       "    </tr>\n",
       "    <tr>\n",
       "      <th>y</th>\n",
       "      <td>no</td>\n",
       "      <td>no</td>\n",
       "      <td>no</td>\n",
       "      <td>no</td>\n",
       "      <td>no</td>\n",
       "    </tr>\n",
       "  </tbody>\n",
       "</table>\n",
       "</div>"
      ],
      "text/plain": [
       "                    0           1             2            3        4\n",
       "age                58          44            33           47       33\n",
       "job        management  technician  entrepreneur  blue-collar  unknown\n",
       "marital       married      single       married      married   single\n",
       "education    tertiary   secondary     secondary      unknown  unknown\n",
       "default            no          no            no           no       no\n",
       "balance          2143          29             2         1506        1\n",
       "housing           yes         yes           yes          yes       no\n",
       "loan               no          no           yes           no       no\n",
       "contact       unknown     unknown       unknown      unknown  unknown\n",
       "day                 5           5             5            5        5\n",
       "month             may         may           may          may      may\n",
       "duration          261         151            76           92      198\n",
       "campaign            1           1             1            1        1\n",
       "pdays              -1          -1            -1           -1       -1\n",
       "previous            0           0             0            0        0\n",
       "poutcome      unknown     unknown       unknown      unknown  unknown\n",
       "y                  no          no            no           no       no"
      ]
     },
     "execution_count": 64,
     "metadata": {},
     "output_type": "execute_result"
    }
   ],
   "source": [
    "df.head().T"
   ]
  },
  {
   "cell_type": "markdown",
   "id": "7b3b5a67",
   "metadata": {},
   "source": [
    "## Dataset Preparation"
   ]
  },
  {
   "cell_type": "code",
   "execution_count": 65,
   "id": "02553f3f",
   "metadata": {},
   "outputs": [
    {
     "data": {
      "application/vnd.microsoft.datawrangler.viewer.v0+json": {
       "columns": [
        {
         "name": "index",
         "rawType": "int64",
         "type": "integer"
        },
        {
         "name": "age",
         "rawType": "int64",
         "type": "integer"
        },
        {
         "name": "job",
         "rawType": "object",
         "type": "string"
        },
        {
         "name": "marital",
         "rawType": "object",
         "type": "string"
        },
        {
         "name": "education",
         "rawType": "object",
         "type": "string"
        },
        {
         "name": "balance",
         "rawType": "int64",
         "type": "integer"
        },
        {
         "name": "housing",
         "rawType": "object",
         "type": "string"
        },
        {
         "name": "contact",
         "rawType": "object",
         "type": "string"
        },
        {
         "name": "day",
         "rawType": "int64",
         "type": "integer"
        },
        {
         "name": "month",
         "rawType": "object",
         "type": "string"
        },
        {
         "name": "duration",
         "rawType": "int64",
         "type": "integer"
        },
        {
         "name": "campaign",
         "rawType": "int64",
         "type": "integer"
        },
        {
         "name": "pdays",
         "rawType": "int64",
         "type": "integer"
        },
        {
         "name": "previous",
         "rawType": "int64",
         "type": "integer"
        },
        {
         "name": "poutcome",
         "rawType": "object",
         "type": "string"
        },
        {
         "name": "y",
         "rawType": "object",
         "type": "string"
        }
       ],
       "ref": "9c1a8d77-9f2c-4902-88cb-e3c3f78375cd",
       "rows": [
        [
         "0",
         "58",
         "management",
         "married",
         "tertiary",
         "2143",
         "yes",
         "unknown",
         "5",
         "may",
         "261",
         "1",
         "-1",
         "0",
         "unknown",
         "no"
        ],
        [
         "1",
         "44",
         "technician",
         "single",
         "secondary",
         "29",
         "yes",
         "unknown",
         "5",
         "may",
         "151",
         "1",
         "-1",
         "0",
         "unknown",
         "no"
        ],
        [
         "2",
         "33",
         "entrepreneur",
         "married",
         "secondary",
         "2",
         "yes",
         "unknown",
         "5",
         "may",
         "76",
         "1",
         "-1",
         "0",
         "unknown",
         "no"
        ],
        [
         "3",
         "47",
         "blue-collar",
         "married",
         "unknown",
         "1506",
         "yes",
         "unknown",
         "5",
         "may",
         "92",
         "1",
         "-1",
         "0",
         "unknown",
         "no"
        ],
        [
         "4",
         "33",
         "unknown",
         "single",
         "unknown",
         "1",
         "no",
         "unknown",
         "5",
         "may",
         "198",
         "1",
         "-1",
         "0",
         "unknown",
         "no"
        ]
       ],
       "shape": {
        "columns": 15,
        "rows": 5
       }
      },
      "text/html": [
       "<div>\n",
       "<style scoped>\n",
       "    .dataframe tbody tr th:only-of-type {\n",
       "        vertical-align: middle;\n",
       "    }\n",
       "\n",
       "    .dataframe tbody tr th {\n",
       "        vertical-align: top;\n",
       "    }\n",
       "\n",
       "    .dataframe thead th {\n",
       "        text-align: right;\n",
       "    }\n",
       "</style>\n",
       "<table border=\"1\" class=\"dataframe\">\n",
       "  <thead>\n",
       "    <tr style=\"text-align: right;\">\n",
       "      <th></th>\n",
       "      <th>age</th>\n",
       "      <th>job</th>\n",
       "      <th>marital</th>\n",
       "      <th>education</th>\n",
       "      <th>balance</th>\n",
       "      <th>housing</th>\n",
       "      <th>contact</th>\n",
       "      <th>day</th>\n",
       "      <th>month</th>\n",
       "      <th>duration</th>\n",
       "      <th>campaign</th>\n",
       "      <th>pdays</th>\n",
       "      <th>previous</th>\n",
       "      <th>poutcome</th>\n",
       "      <th>y</th>\n",
       "    </tr>\n",
       "  </thead>\n",
       "  <tbody>\n",
       "    <tr>\n",
       "      <th>0</th>\n",
       "      <td>58</td>\n",
       "      <td>management</td>\n",
       "      <td>married</td>\n",
       "      <td>tertiary</td>\n",
       "      <td>2143</td>\n",
       "      <td>yes</td>\n",
       "      <td>unknown</td>\n",
       "      <td>5</td>\n",
       "      <td>may</td>\n",
       "      <td>261</td>\n",
       "      <td>1</td>\n",
       "      <td>-1</td>\n",
       "      <td>0</td>\n",
       "      <td>unknown</td>\n",
       "      <td>no</td>\n",
       "    </tr>\n",
       "    <tr>\n",
       "      <th>1</th>\n",
       "      <td>44</td>\n",
       "      <td>technician</td>\n",
       "      <td>single</td>\n",
       "      <td>secondary</td>\n",
       "      <td>29</td>\n",
       "      <td>yes</td>\n",
       "      <td>unknown</td>\n",
       "      <td>5</td>\n",
       "      <td>may</td>\n",
       "      <td>151</td>\n",
       "      <td>1</td>\n",
       "      <td>-1</td>\n",
       "      <td>0</td>\n",
       "      <td>unknown</td>\n",
       "      <td>no</td>\n",
       "    </tr>\n",
       "    <tr>\n",
       "      <th>2</th>\n",
       "      <td>33</td>\n",
       "      <td>entrepreneur</td>\n",
       "      <td>married</td>\n",
       "      <td>secondary</td>\n",
       "      <td>2</td>\n",
       "      <td>yes</td>\n",
       "      <td>unknown</td>\n",
       "      <td>5</td>\n",
       "      <td>may</td>\n",
       "      <td>76</td>\n",
       "      <td>1</td>\n",
       "      <td>-1</td>\n",
       "      <td>0</td>\n",
       "      <td>unknown</td>\n",
       "      <td>no</td>\n",
       "    </tr>\n",
       "    <tr>\n",
       "      <th>3</th>\n",
       "      <td>47</td>\n",
       "      <td>blue-collar</td>\n",
       "      <td>married</td>\n",
       "      <td>unknown</td>\n",
       "      <td>1506</td>\n",
       "      <td>yes</td>\n",
       "      <td>unknown</td>\n",
       "      <td>5</td>\n",
       "      <td>may</td>\n",
       "      <td>92</td>\n",
       "      <td>1</td>\n",
       "      <td>-1</td>\n",
       "      <td>0</td>\n",
       "      <td>unknown</td>\n",
       "      <td>no</td>\n",
       "    </tr>\n",
       "    <tr>\n",
       "      <th>4</th>\n",
       "      <td>33</td>\n",
       "      <td>unknown</td>\n",
       "      <td>single</td>\n",
       "      <td>unknown</td>\n",
       "      <td>1</td>\n",
       "      <td>no</td>\n",
       "      <td>unknown</td>\n",
       "      <td>5</td>\n",
       "      <td>may</td>\n",
       "      <td>198</td>\n",
       "      <td>1</td>\n",
       "      <td>-1</td>\n",
       "      <td>0</td>\n",
       "      <td>unknown</td>\n",
       "      <td>no</td>\n",
       "    </tr>\n",
       "  </tbody>\n",
       "</table>\n",
       "</div>"
      ],
      "text/plain": [
       "   age           job  marital  education  balance housing  contact  day month  \\\n",
       "0   58    management  married   tertiary     2143     yes  unknown    5   may   \n",
       "1   44    technician   single  secondary       29     yes  unknown    5   may   \n",
       "2   33  entrepreneur  married  secondary        2     yes  unknown    5   may   \n",
       "3   47   blue-collar  married    unknown     1506     yes  unknown    5   may   \n",
       "4   33       unknown   single    unknown        1      no  unknown    5   may   \n",
       "\n",
       "   duration  campaign  pdays  previous poutcome   y  \n",
       "0       261         1     -1         0  unknown  no  \n",
       "1       151         1     -1         0  unknown  no  \n",
       "2        76         1     -1         0  unknown  no  \n",
       "3        92         1     -1         0  unknown  no  \n",
       "4       198         1     -1         0  unknown  no  "
      ]
     },
     "execution_count": 65,
     "metadata": {},
     "output_type": "execute_result"
    }
   ],
   "source": [
    "interested = [\n",
    "    'age',\n",
    "    'job',\n",
    "    'marital',\n",
    "    'education',\n",
    "    'balance',\n",
    "    'housing',\n",
    "    'contact',\n",
    "    'day',\n",
    "    'month',\n",
    "    'duration',\n",
    "    'campaign',\n",
    "    'pdays',\n",
    "    'previous',\n",
    "    'poutcome',\n",
    "    'y'\n",
    "]\n",
    "\n",
    "df = df[interested]\n",
    "df.head()"
   ]
  },
  {
   "cell_type": "code",
   "execution_count": 8,
   "id": "c02308cc",
   "metadata": {},
   "outputs": [
    {
     "name": "stdout",
     "output_type": "stream",
     "text": [
      "<class 'pandas.core.frame.DataFrame'>\n",
      "RangeIndex: 45211 entries, 0 to 45210\n",
      "Data columns (total 15 columns):\n",
      " #   Column     Non-Null Count  Dtype \n",
      "---  ------     --------------  ----- \n",
      " 0   age        45211 non-null  int64 \n",
      " 1   job        45211 non-null  object\n",
      " 2   marital    45211 non-null  object\n",
      " 3   education  45211 non-null  object\n",
      " 4   balance    45211 non-null  int64 \n",
      " 5   housing    45211 non-null  object\n",
      " 6   contact    45211 non-null  object\n",
      " 7   day        45211 non-null  int64 \n",
      " 8   month      45211 non-null  object\n",
      " 9   duration   45211 non-null  int64 \n",
      " 10  campaign   45211 non-null  int64 \n",
      " 11  pdays      45211 non-null  int64 \n",
      " 12  previous   45211 non-null  int64 \n",
      " 13  poutcome   45211 non-null  object\n",
      " 14  y          45211 non-null  object\n",
      "dtypes: int64(7), object(8)\n",
      "memory usage: 5.2+ MB\n"
     ]
    }
   ],
   "source": [
    "df.info()"
   ]
  },
  {
   "cell_type": "code",
   "execution_count": 9,
   "id": "41e5d476",
   "metadata": {},
   "outputs": [
    {
     "data": {
      "application/vnd.microsoft.datawrangler.viewer.v0+json": {
       "columns": [
        {
         "name": "index",
         "rawType": "object",
         "type": "string"
        },
        {
         "name": "0",
         "rawType": "int64",
         "type": "integer"
        }
       ],
       "ref": "17221343-4556-487c-98a1-376e4eb89718",
       "rows": [
        [
         "age",
         "0"
        ],
        [
         "job",
         "0"
        ],
        [
         "marital",
         "0"
        ],
        [
         "education",
         "0"
        ],
        [
         "balance",
         "0"
        ],
        [
         "housing",
         "0"
        ],
        [
         "contact",
         "0"
        ],
        [
         "day",
         "0"
        ],
        [
         "month",
         "0"
        ],
        [
         "duration",
         "0"
        ],
        [
         "campaign",
         "0"
        ],
        [
         "pdays",
         "0"
        ],
        [
         "previous",
         "0"
        ],
        [
         "poutcome",
         "0"
        ],
        [
         "y",
         "0"
        ]
       ],
       "shape": {
        "columns": 1,
        "rows": 15
       }
      },
      "text/plain": [
       "age          0\n",
       "job          0\n",
       "marital      0\n",
       "education    0\n",
       "balance      0\n",
       "housing      0\n",
       "contact      0\n",
       "day          0\n",
       "month        0\n",
       "duration     0\n",
       "campaign     0\n",
       "pdays        0\n",
       "previous     0\n",
       "poutcome     0\n",
       "y            0\n",
       "dtype: int64"
      ]
     },
     "execution_count": 9,
     "metadata": {},
     "output_type": "execute_result"
    }
   ],
   "source": [
    "df.isnull().sum()"
   ]
  },
  {
   "cell_type": "code",
   "execution_count": 59,
   "id": "75971f95",
   "metadata": {},
   "outputs": [
    {
     "name": "stdout",
     "output_type": "stream",
     "text": [
      "['age', 'balance', 'day', 'duration', 'campaign', 'pdays', 'previous']\n",
      "['poutcome', 'job', 'y', 'housing', 'contact', 'marital', 'month', 'education']\n"
     ]
    }
   ],
   "source": [
    "# Types of Features\n",
    "\n",
    "numerical = ['age', 'balance', 'day', 'duration', 'campaign', 'pdays', 'previous']\n",
    "categorical = list(set(df.columns) - set(numerical))\n",
    "print(numerical)\n",
    "print(categorical)\n"
   ]
  },
  {
   "cell_type": "code",
   "execution_count": 66,
   "id": "27961c35",
   "metadata": {},
   "outputs": [
    {
     "data": {
      "application/vnd.microsoft.datawrangler.viewer.v0+json": {
       "columns": [
        {
         "name": "index",
         "rawType": "int64",
         "type": "integer"
        },
        {
         "name": "y",
         "rawType": "object",
         "type": "string"
        }
       ],
       "ref": "d705a441-8026-4aff-9191-dd57c31525a7",
       "rows": [
        [
         "0",
         "no"
        ],
        [
         "1",
         "no"
        ],
        [
         "2",
         "no"
        ],
        [
         "3",
         "no"
        ],
        [
         "4",
         "no"
        ],
        [
         "5",
         "no"
        ],
        [
         "6",
         "no"
        ],
        [
         "7",
         "no"
        ],
        [
         "8",
         "no"
        ],
        [
         "9",
         "no"
        ],
        [
         "10",
         "no"
        ],
        [
         "11",
         "no"
        ],
        [
         "12",
         "no"
        ],
        [
         "13",
         "no"
        ],
        [
         "14",
         "no"
        ],
        [
         "15",
         "no"
        ],
        [
         "16",
         "no"
        ],
        [
         "17",
         "no"
        ],
        [
         "18",
         "no"
        ],
        [
         "19",
         "no"
        ],
        [
         "20",
         "no"
        ],
        [
         "21",
         "no"
        ],
        [
         "22",
         "no"
        ],
        [
         "23",
         "no"
        ],
        [
         "24",
         "no"
        ],
        [
         "25",
         "no"
        ],
        [
         "26",
         "no"
        ],
        [
         "27",
         "no"
        ],
        [
         "28",
         "no"
        ],
        [
         "29",
         "no"
        ],
        [
         "30",
         "no"
        ],
        [
         "31",
         "no"
        ],
        [
         "32",
         "no"
        ],
        [
         "33",
         "no"
        ],
        [
         "34",
         "no"
        ],
        [
         "35",
         "no"
        ],
        [
         "36",
         "no"
        ],
        [
         "37",
         "no"
        ],
        [
         "38",
         "no"
        ],
        [
         "39",
         "no"
        ],
        [
         "40",
         "no"
        ],
        [
         "41",
         "no"
        ],
        [
         "42",
         "no"
        ],
        [
         "43",
         "no"
        ],
        [
         "44",
         "no"
        ],
        [
         "45",
         "no"
        ],
        [
         "46",
         "no"
        ],
        [
         "47",
         "no"
        ],
        [
         "48",
         "no"
        ],
        [
         "49",
         "no"
        ]
       ],
       "shape": {
        "columns": 1,
        "rows": 45211
       }
      },
      "text/plain": [
       "0         no\n",
       "1         no\n",
       "2         no\n",
       "3         no\n",
       "4         no\n",
       "        ... \n",
       "45206    yes\n",
       "45207    yes\n",
       "45208    yes\n",
       "45209     no\n",
       "45210     no\n",
       "Name: y, Length: 45211, dtype: object"
      ]
     },
     "execution_count": 66,
     "metadata": {},
     "output_type": "execute_result"
    }
   ],
   "source": [
    "df.y"
   ]
  },
  {
   "cell_type": "code",
   "execution_count": 68,
   "id": "877d234d",
   "metadata": {},
   "outputs": [],
   "source": [
    "## Treating/encoding the target variable\n",
    "\n",
    "df.y = (df.y == 'yes').astype(int)"
   ]
  },
  {
   "cell_type": "code",
   "execution_count": 69,
   "id": "0a0ac5db",
   "metadata": {},
   "outputs": [
    {
     "data": {
      "application/vnd.microsoft.datawrangler.viewer.v0+json": {
       "columns": [
        {
         "name": "y",
         "rawType": "int64",
         "type": "integer"
        },
        {
         "name": "count",
         "rawType": "int64",
         "type": "integer"
        }
       ],
       "ref": "f66c87c4-d872-432a-a638-4679efd37b3f",
       "rows": [
        [
         "0",
         "39922"
        ],
        [
         "1",
         "5289"
        ]
       ],
       "shape": {
        "columns": 1,
        "rows": 2
       }
      },
      "text/plain": [
       "y\n",
       "0    39922\n",
       "1     5289\n",
       "Name: count, dtype: int64"
      ]
     },
     "execution_count": 69,
     "metadata": {},
     "output_type": "execute_result"
    }
   ],
   "source": [
    "df['y'].value_counts()"
   ]
  },
  {
   "cell_type": "markdown",
   "id": "d42cb001",
   "metadata": {},
   "source": [
    "## Splitting the Data set"
   ]
  },
  {
   "cell_type": "code",
   "execution_count": 12,
   "id": "1ce08128",
   "metadata": {},
   "outputs": [],
   "source": [
    "from sklearn.model_selection import train_test_split"
   ]
  },
  {
   "cell_type": "code",
   "execution_count": 70,
   "id": "387dc097",
   "metadata": {},
   "outputs": [],
   "source": [
    "full_train_df, test_df = train_test_split(df, test_size=0.2, random_state = 1)\n",
    "train_df, val_df = train_test_split(full_train_df, test_size = 0.25, random_state= 1)\n",
    "\n",
    "full_train_df, test_df = full_train_df.reset_index(drop =  True), test_df.reset_index(drop = True)\n",
    "train_df, val_df = train_df.reset_index(drop = True), test_df.reset_index(drop = True)"
   ]
  },
  {
   "cell_type": "code",
   "execution_count": 71,
   "id": "f461dd1a",
   "metadata": {},
   "outputs": [
    {
     "data": {
      "application/vnd.microsoft.datawrangler.viewer.v0+json": {
       "columns": [
        {
         "name": "index",
         "rawType": "int64",
         "type": "integer"
        },
        {
         "name": "age",
         "rawType": "int64",
         "type": "integer"
        },
        {
         "name": "job",
         "rawType": "object",
         "type": "string"
        },
        {
         "name": "marital",
         "rawType": "object",
         "type": "string"
        },
        {
         "name": "education",
         "rawType": "object",
         "type": "string"
        },
        {
         "name": "balance",
         "rawType": "int64",
         "type": "integer"
        },
        {
         "name": "housing",
         "rawType": "object",
         "type": "string"
        },
        {
         "name": "contact",
         "rawType": "object",
         "type": "string"
        },
        {
         "name": "day",
         "rawType": "int64",
         "type": "integer"
        },
        {
         "name": "month",
         "rawType": "object",
         "type": "string"
        },
        {
         "name": "duration",
         "rawType": "int64",
         "type": "integer"
        },
        {
         "name": "campaign",
         "rawType": "int64",
         "type": "integer"
        },
        {
         "name": "pdays",
         "rawType": "int64",
         "type": "integer"
        },
        {
         "name": "previous",
         "rawType": "int64",
         "type": "integer"
        },
        {
         "name": "poutcome",
         "rawType": "object",
         "type": "string"
        },
        {
         "name": "y",
         "rawType": "int64",
         "type": "integer"
        }
       ],
       "ref": "31d41b82-4c08-4ad6-9e4d-dd790581342f",
       "rows": [
        [
         "0",
         "56",
         "entrepreneur",
         "married",
         "tertiary",
         "40",
         "no",
         "cellular",
         "11",
         "jul",
         "123",
         "2",
         "-1",
         "0",
         "unknown",
         "0"
        ],
        [
         "1",
         "33",
         "technician",
         "married",
         "secondary",
         "4790",
         "yes",
         "cellular",
         "20",
         "apr",
         "137",
         "1",
         "272",
         "2",
         "failure",
         "0"
        ],
        [
         "2",
         "32",
         "technician",
         "single",
         "tertiary",
         "392",
         "yes",
         "cellular",
         "21",
         "nov",
         "148",
         "2",
         "-1",
         "0",
         "unknown",
         "0"
        ],
        [
         "3",
         "40",
         "admin.",
         "divorced",
         "secondary",
         "2129",
         "no",
         "cellular",
         "30",
         "apr",
         "452",
         "1",
         "-1",
         "0",
         "unknown",
         "1"
        ],
        [
         "4",
         "54",
         "unemployed",
         "married",
         "tertiary",
         "1180",
         "no",
         "cellular",
         "19",
         "nov",
         "394",
         "2",
         "-1",
         "0",
         "unknown",
         "0"
        ]
       ],
       "shape": {
        "columns": 15,
        "rows": 5
       }
      },
      "text/html": [
       "<div>\n",
       "<style scoped>\n",
       "    .dataframe tbody tr th:only-of-type {\n",
       "        vertical-align: middle;\n",
       "    }\n",
       "\n",
       "    .dataframe tbody tr th {\n",
       "        vertical-align: top;\n",
       "    }\n",
       "\n",
       "    .dataframe thead th {\n",
       "        text-align: right;\n",
       "    }\n",
       "</style>\n",
       "<table border=\"1\" class=\"dataframe\">\n",
       "  <thead>\n",
       "    <tr style=\"text-align: right;\">\n",
       "      <th></th>\n",
       "      <th>age</th>\n",
       "      <th>job</th>\n",
       "      <th>marital</th>\n",
       "      <th>education</th>\n",
       "      <th>balance</th>\n",
       "      <th>housing</th>\n",
       "      <th>contact</th>\n",
       "      <th>day</th>\n",
       "      <th>month</th>\n",
       "      <th>duration</th>\n",
       "      <th>campaign</th>\n",
       "      <th>pdays</th>\n",
       "      <th>previous</th>\n",
       "      <th>poutcome</th>\n",
       "      <th>y</th>\n",
       "    </tr>\n",
       "  </thead>\n",
       "  <tbody>\n",
       "    <tr>\n",
       "      <th>0</th>\n",
       "      <td>56</td>\n",
       "      <td>entrepreneur</td>\n",
       "      <td>married</td>\n",
       "      <td>tertiary</td>\n",
       "      <td>40</td>\n",
       "      <td>no</td>\n",
       "      <td>cellular</td>\n",
       "      <td>11</td>\n",
       "      <td>jul</td>\n",
       "      <td>123</td>\n",
       "      <td>2</td>\n",
       "      <td>-1</td>\n",
       "      <td>0</td>\n",
       "      <td>unknown</td>\n",
       "      <td>0</td>\n",
       "    </tr>\n",
       "    <tr>\n",
       "      <th>1</th>\n",
       "      <td>33</td>\n",
       "      <td>technician</td>\n",
       "      <td>married</td>\n",
       "      <td>secondary</td>\n",
       "      <td>4790</td>\n",
       "      <td>yes</td>\n",
       "      <td>cellular</td>\n",
       "      <td>20</td>\n",
       "      <td>apr</td>\n",
       "      <td>137</td>\n",
       "      <td>1</td>\n",
       "      <td>272</td>\n",
       "      <td>2</td>\n",
       "      <td>failure</td>\n",
       "      <td>0</td>\n",
       "    </tr>\n",
       "    <tr>\n",
       "      <th>2</th>\n",
       "      <td>32</td>\n",
       "      <td>technician</td>\n",
       "      <td>single</td>\n",
       "      <td>tertiary</td>\n",
       "      <td>392</td>\n",
       "      <td>yes</td>\n",
       "      <td>cellular</td>\n",
       "      <td>21</td>\n",
       "      <td>nov</td>\n",
       "      <td>148</td>\n",
       "      <td>2</td>\n",
       "      <td>-1</td>\n",
       "      <td>0</td>\n",
       "      <td>unknown</td>\n",
       "      <td>0</td>\n",
       "    </tr>\n",
       "    <tr>\n",
       "      <th>3</th>\n",
       "      <td>40</td>\n",
       "      <td>admin.</td>\n",
       "      <td>divorced</td>\n",
       "      <td>secondary</td>\n",
       "      <td>2129</td>\n",
       "      <td>no</td>\n",
       "      <td>cellular</td>\n",
       "      <td>30</td>\n",
       "      <td>apr</td>\n",
       "      <td>452</td>\n",
       "      <td>1</td>\n",
       "      <td>-1</td>\n",
       "      <td>0</td>\n",
       "      <td>unknown</td>\n",
       "      <td>1</td>\n",
       "    </tr>\n",
       "    <tr>\n",
       "      <th>4</th>\n",
       "      <td>54</td>\n",
       "      <td>unemployed</td>\n",
       "      <td>married</td>\n",
       "      <td>tertiary</td>\n",
       "      <td>1180</td>\n",
       "      <td>no</td>\n",
       "      <td>cellular</td>\n",
       "      <td>19</td>\n",
       "      <td>nov</td>\n",
       "      <td>394</td>\n",
       "      <td>2</td>\n",
       "      <td>-1</td>\n",
       "      <td>0</td>\n",
       "      <td>unknown</td>\n",
       "      <td>0</td>\n",
       "    </tr>\n",
       "  </tbody>\n",
       "</table>\n",
       "</div>"
      ],
      "text/plain": [
       "   age           job   marital  education  balance housing   contact  day  \\\n",
       "0   56  entrepreneur   married   tertiary       40      no  cellular   11   \n",
       "1   33    technician   married  secondary     4790     yes  cellular   20   \n",
       "2   32    technician    single   tertiary      392     yes  cellular   21   \n",
       "3   40        admin.  divorced  secondary     2129      no  cellular   30   \n",
       "4   54    unemployed   married   tertiary     1180      no  cellular   19   \n",
       "\n",
       "  month  duration  campaign  pdays  previous poutcome  y  \n",
       "0   jul       123         2     -1         0  unknown  0  \n",
       "1   apr       137         1    272         2  failure  0  \n",
       "2   nov       148         2     -1         0  unknown  0  \n",
       "3   apr       452         1     -1         0  unknown  1  \n",
       "4   nov       394         2     -1         0  unknown  0  "
      ]
     },
     "execution_count": 71,
     "metadata": {},
     "output_type": "execute_result"
    }
   ],
   "source": [
    "train_df.head()"
   ]
  },
  {
   "cell_type": "markdown",
   "id": "f67fe7af",
   "metadata": {},
   "source": [
    "## Question 1: ROC AUC feature importance"
   ]
  },
  {
   "cell_type": "code",
   "execution_count": 72,
   "id": "1af2157f",
   "metadata": {},
   "outputs": [
    {
     "name": "stdout",
     "output_type": "stream",
     "text": [
      "Feature age, AUC: 0.512185717527344\n",
      "Feature balance, AUC: 0.5888313805382317\n",
      "Feature day, AUC: 0.525957882383908\n",
      "Feature duration, AUC: 0.8147002759670778\n",
      "Feature campaign, AUC: 0.5714543015682159\n",
      "Feature pdays, AUC: 0.5901276247352144\n",
      "Feature previous, AUC: 0.5985653242764153\n"
     ]
    }
   ],
   "source": [
    "from sklearn.metrics import roc_auc_score, roc_curve\n",
    "\n",
    "scores = []\n",
    "for n in numerical:\n",
    "    prediction = train_df[n].values\n",
    "    ground_truth = train_df.y.values\n",
    "    auc = roc_auc_score(ground_truth, prediction)\n",
    "    if auc < 0.5:\n",
    "        prediction = -prediction\n",
    "        auc = roc_auc_score(ground_truth, prediction)\n",
    "    scores.append(auc)\n",
    "    print(f'Feature {n}, AUC: {auc}')\n",
    "\n"
   ]
  },
  {
   "cell_type": "code",
   "execution_count": 31,
   "id": "d689f9b1",
   "metadata": {},
   "outputs": [
    {
     "name": "stdout",
     "output_type": "stream",
     "text": [
      "The numerial variabel with the highest AUC is duration with AUC ~ 0.813\n"
     ]
    }
   ],
   "source": [
    "print('The numerial variabel with the highest AUC is duration with AUC ~ 0.813')"
   ]
  },
  {
   "cell_type": "markdown",
   "id": "7e7280bf",
   "metadata": {},
   "source": [
    "## Question 2: Training the model\n",
    "\n"
   ]
  },
  {
   "cell_type": "markdown",
   "id": "c1cee348",
   "metadata": {},
   "source": [
    "We first apply the one_hot encoding on the categorical variables and then train a logistic regression with these parameters"
   ]
  },
  {
   "cell_type": "code",
   "execution_count": 147,
   "id": "62a11935",
   "metadata": {},
   "outputs": [
    {
     "data": {
      "text/plain": [
       "array(['contact=cellular', 'contact=telephone', 'contact=unknown',\n",
       "       'education=primary', 'education=secondary', 'education=tertiary',\n",
       "       'education=unknown', 'housing=no', 'housing=yes', 'job=admin.',\n",
       "       'job=blue-collar', 'job=entrepreneur', 'job=housemaid',\n",
       "       'job=management', 'job=retired', 'job=self-employed',\n",
       "       'job=services', 'job=student', 'job=technician', 'job=unemployed',\n",
       "       'job=unknown', 'marital=divorced', 'marital=married',\n",
       "       'marital=single', 'month=apr', 'month=aug', 'month=dec',\n",
       "       'month=feb', 'month=jan', 'month=jul', 'month=jun', 'month=mar',\n",
       "       'month=may', 'month=nov', 'month=oct', 'month=sep',\n",
       "       'poutcome=failure', 'poutcome=other', 'poutcome=success',\n",
       "       'poutcome=unknown', 'y'], dtype=object)"
      ]
     },
     "execution_count": 147,
     "metadata": {},
     "output_type": "execute_result"
    }
   ],
   "source": [
    "from sklearn.feature_extraction import DictVectorizer\n",
    "\n",
    "categorical_dicts = train_df[categorical].to_dict(orient = 'records')\n",
    "dv = DictVectorizer(sparse = False)\n",
    "dv.fit(categorical_dicts)\n",
    "dv.get_feature_names_out()"
   ]
  },
  {
   "cell_type": "code",
   "execution_count": 74,
   "id": "d05b69cf",
   "metadata": {},
   "outputs": [],
   "source": [
    "X_cat_train = dv.transform(categorical_dicts)"
   ]
  },
  {
   "cell_type": "code",
   "execution_count": 75,
   "id": "6324a7aa",
   "metadata": {},
   "outputs": [
    {
     "data": {
      "text/plain": [
       "array([[1., 0., 0., ..., 0., 1., 0.],\n",
       "       [1., 0., 0., ..., 0., 0., 0.],\n",
       "       [1., 0., 0., ..., 0., 1., 0.],\n",
       "       ...,\n",
       "       [0., 0., 1., ..., 0., 1., 0.],\n",
       "       [1., 0., 0., ..., 0., 1., 0.],\n",
       "       [0., 0., 1., ..., 0., 1., 0.]], shape=(27126, 41))"
      ]
     },
     "execution_count": 75,
     "metadata": {},
     "output_type": "execute_result"
    }
   ],
   "source": [
    "X_cat_train"
   ]
  },
  {
   "cell_type": "code",
   "execution_count": 76,
   "id": "dada31fd",
   "metadata": {},
   "outputs": [
    {
     "data": {
      "text/plain": [
       "array([[  56,   40,   11, ...,    2,   -1,    0],\n",
       "       [  33, 4790,   20, ...,    1,  272,    2],\n",
       "       [  32,  392,   21, ...,    2,   -1,    0],\n",
       "       ...,\n",
       "       [  52,  289,   21, ...,   13,   -1,    0],\n",
       "       [  32,  312,   11, ...,    4,   -1,    0],\n",
       "       [  38,  580,   30, ...,    6,   -1,    0]], shape=(27126, 7))"
      ]
     },
     "execution_count": 76,
     "metadata": {},
     "output_type": "execute_result"
    }
   ],
   "source": [
    "X_num_train = train_df[numerical].values\n",
    "X_num_train"
   ]
  },
  {
   "cell_type": "code",
   "execution_count": 77,
   "id": "5edcdf48",
   "metadata": {},
   "outputs": [],
   "source": [
    "X_train = np.column_stack([X_num_train, X_cat_train])\n",
    "y_train = train_df.y.values"
   ]
  },
  {
   "cell_type": "code",
   "execution_count": 143,
   "id": "452b5704",
   "metadata": {},
   "outputs": [],
   "source": [
    "## let's write a code that streamlines this extraction\n",
    "\n",
    "def get_data_matrix(some_df, categorical, numerical):\n",
    "    some_df = some_df.copy()\n",
    "    y_inside = some_df.y.values\n",
    "    del some_df['y']\n",
    "    ##\n",
    "    categorical = list(set(categorical) - set(['y']))\n",
    "    dicts_inside = some_df[categorical].to_dict(orient = 'records')\n",
    "    dv_inside = DictVectorizer(sparse = False)\n",
    "    dv_inside.fit(dicts_inside)\n",
    "    X_cat_inside = dv_inside.transform(dicts_inside)\n",
    "\n",
    "    ## NUmerical\n",
    "    X_num_inside = some_df[numerical].values\n",
    "\n",
    "    ## Concatenate the data\n",
    "    X_inside = np.column_stack([X_num_inside, X_cat_inside])\n",
    "    return X_inside, y_inside"
   ]
  },
  {
   "cell_type": "code",
   "execution_count": 148,
   "id": "fe0a9f14",
   "metadata": {},
   "outputs": [],
   "source": [
    "X_train,y_train = get_data_matrix(train_df, categorical, numerical)"
   ]
  },
  {
   "cell_type": "code",
   "execution_count": 149,
   "id": "c016b6ce",
   "metadata": {},
   "outputs": [],
   "source": [
    "## Model\n",
    "from sklearn.linear_model import LogisticRegression\n",
    "\n",
    "model = LogisticRegression(solver='liblinear', C=1.0, max_iter=1000)"
   ]
  },
  {
   "cell_type": "code",
   "execution_count": 150,
   "id": "93711e4c",
   "metadata": {},
   "outputs": [
    {
     "data": {
      "text/plain": [
       "{'C': 1.0,\n",
       " 'class_weight': None,\n",
       " 'dual': False,\n",
       " 'fit_intercept': True,\n",
       " 'intercept_scaling': 1,\n",
       " 'l1_ratio': None,\n",
       " 'max_iter': 1000,\n",
       " 'multi_class': 'deprecated',\n",
       " 'n_jobs': None,\n",
       " 'penalty': 'l2',\n",
       " 'random_state': None,\n",
       " 'solver': 'liblinear',\n",
       " 'tol': 0.0001,\n",
       " 'verbose': 0,\n",
       " 'warm_start': False}"
      ]
     },
     "execution_count": 150,
     "metadata": {},
     "output_type": "execute_result"
    }
   ],
   "source": [
    "model.fit(X_train, y_train)\n",
    "model.get_params()"
   ]
  },
  {
   "cell_type": "code",
   "execution_count": 151,
   "id": "fd83ae02",
   "metadata": {},
   "outputs": [
    {
     "data": {
      "text/plain": [
       "((9043, 47), (9043,))"
      ]
     },
     "execution_count": 151,
     "metadata": {},
     "output_type": "execute_result"
    }
   ],
   "source": [
    "## Retriveing the data matrix of the val set\n",
    "\n",
    "X_val, y_val = get_data_matrix(val_df, categorical, numerical)\n",
    "X_val.shape, y_val.shape"
   ]
  },
  {
   "cell_type": "code",
   "execution_count": 152,
   "id": "db7873b1",
   "metadata": {},
   "outputs": [
    {
     "data": {
      "text/plain": [
       "array([0.00715495, 0.03591539, 0.47131822, ..., 0.09995643, 0.00790011,\n",
       "       0.11951771], shape=(9043,))"
      ]
     },
     "execution_count": 152,
     "metadata": {},
     "output_type": "execute_result"
    }
   ],
   "source": [
    "## Apply on the validation set\n",
    "y_pred_proba = model.predict_proba(X_val)[:, 1]\n",
    "y_pred_proba"
   ]
  },
  {
   "cell_type": "code",
   "execution_count": 154,
   "id": "be07ae05",
   "metadata": {},
   "outputs": [
    {
     "data": {
      "text/plain": [
       "np.float64(0.9057)"
      ]
     },
     "execution_count": 154,
     "metadata": {},
     "output_type": "execute_result"
    }
   ],
   "source": [
    "## Let's get the AUC\n",
    "\n",
    "auc_model_on_val = roc_auc_score(y_val, y_pred_proba)\n",
    "round(auc_model_on_val, 5) ## THe AUC is around 0.89-0.90"
   ]
  },
  {
   "cell_type": "markdown",
   "id": "d6ac2585",
   "metadata": {},
   "source": [
    "## Question 3: Precision and Recall"
   ]
  },
  {
   "cell_type": "code",
   "execution_count": 155,
   "id": "ce742d9f",
   "metadata": {},
   "outputs": [
    {
     "name": "stdout",
     "output_type": "stream",
     "text": [
      "Done!\n"
     ]
    }
   ],
   "source": [
    "thresholds = np.arange(0, 1, 0.01)\n",
    "\n",
    "# Pre-calculate ground truth positives/negatives\n",
    "actual_positive = (y_val == 1)\n",
    "actual_negative = (y_val == 0)\n",
    "n_positive = actual_positive.sum()\n",
    "n_negative = actual_negative.sum()\n",
    "\n",
    "# Initialize metric lists\n",
    "fprs = []\n",
    "recalls = []  # same as TPR\n",
    "precisions = []\n",
    "\n",
    "for threshold in thresholds:\n",
    "    predicted_positive = (y_pred_proba >= threshold)\n",
    "    predicted_negative = (y_pred_proba < threshold)\n",
    "    \n",
    "    # Calculate confusion matrix elements\n",
    "    tp = (actual_positive & predicted_positive).sum()\n",
    "    tn = (actual_negative & predicted_negative).sum()\n",
    "    fp = (actual_negative & predicted_positive).sum()\n",
    "    fn = (actual_positive & predicted_negative).sum()\n",
    "\n",
    "    # Calculate metrics\n",
    "    recall = tp / n_positive if n_positive > 0 else 0  # TPR is the same as recall\n",
    "    recalls.append(recall)\n",
    "    \n",
    "    fpr = fp / n_negative if n_negative > 0 else 0\n",
    "    fprs.append(fpr)\n",
    "    \n",
    "    # Avoid division by zero in precision calculation\n",
    "    precision = tp / (tp + fp) if (tp + fp) > 0 else 0\n",
    "    precisions.append(precision)\n",
    "\n",
    "print('Done!')"
   ]
  },
  {
   "cell_type": "code",
   "execution_count": 160,
   "id": "38856bcb",
   "metadata": {},
   "outputs": [
    {
     "data": {
      "image/png": "[encoded data removed]",
      "text/plain": [
       "<Figure size 800x600 with 1 Axes>"
      ]
     },
     "metadata": {},
     "output_type": "display_data"
    },
    {
     "name": "stdout",
     "output_type": "stream",
     "text": [
      "0.28 0.5630975143403442 0.560952380952381\n"
     ]
    }
   ],
   "source": [
    "## Plotting\n",
    "\n",
    "plt.figure(figsize=(8, 6))\n",
    "plt.plot(thresholds, recalls, label='Recall/TPR')\n",
    "plt.plot(thresholds, precisions, label='Precision')\n",
    "plt.xlabel('Threshold')\n",
    "plt.ylabel('Score')\n",
    "plt.title('Precision-Recall vs Threshold')\n",
    "plt.grid(True)\n",
    "plt.legend()\n",
    "plt.show()\n",
    "\n",
    "## where does precision and recall intersect\n",
    "\n",
    "epsilon = 0.01\n",
    "intersections = []\n",
    "for i, t in enumerate(thresholds):\n",
    "    prec = precisions[i]\n",
    "    rec = recalls[i]\n",
    "    ###\n",
    "    if abs(prec - rec) < epsilon:\n",
    "        print(t, prec, rec)\n",
    "        break"
   ]
  },
  {
   "cell_type": "code",
   "execution_count": 161,
   "id": "5d35dc89",
   "metadata": {},
   "outputs": [
    {
     "name": "stdout",
     "output_type": "stream",
     "text": [
      "the point of intersection is around ~ 0.28 \n"
     ]
    }
   ],
   "source": [
    "print('the point of intersection is around ~ 0.28 ')"
   ]
  },
  {
   "cell_type": "markdown",
   "id": "778ac184",
   "metadata": {},
   "source": [
    "## Question 4: F1 Score\n",
    "\n",
    "Precision and recall are conflicting- when one grows, the other goes down. That's why they are often combined into the F1 score that takes into account both (the harmonic mean of them both)\n",
    "\n",
    "F_1 = 2*(P*R)/(P + R)\n",
    "\n"
   ]
  },
  {
   "cell_type": "code",
   "execution_count": 162,
   "id": "2c77711a",
   "metadata": {},
   "outputs": [
    {
     "data": {
      "text/plain": [
       "array([0.208065  , 0.23021108, 0.26489227, 0.30545348, 0.34615385,\n",
       "       0.38786482, 0.42528488, 0.45482281, 0.48190332, 0.49891775,\n",
       "       0.51162791, 0.52488688, 0.53475936, 0.54503916, 0.55238095,\n",
       "       0.56070175, 0.56477438, 0.5713216 , 0.57717602, 0.58036421,\n",
       "       0.57986252, 0.58099174, 0.58023649, 0.57353579, 0.57331572,\n",
       "       0.57411554, 0.57181818, 0.57023256, 0.5620229 , 0.56050339,\n",
       "       0.55046775, 0.54581873, 0.54130765, 0.53703704, 0.53354134,\n",
       "       0.52863899, 0.52665245, 0.52324324, 0.51807229, 0.50804215,\n",
       "       0.50280584, 0.49829739, 0.49684452, 0.49449913, 0.48566413,\n",
       "       0.47697757, 0.46658711, 0.45810729, 0.44688645, 0.43815385,\n",
       "       0.43283582, 0.42641509, 0.41984733, 0.41388175, 0.40956072,\n",
       "       0.4015748 , 0.39628893, 0.39171123, 0.38409704, 0.38075881,\n",
       "       0.37619699, 0.37113402, 0.36426593, 0.35524476, 0.34788732,\n",
       "       0.33994334, 0.33142857, 0.3263839 , 0.31732169, 0.31062271,\n",
       "       0.30029586, 0.29784066, 0.29213483, 0.28959276, 0.28115502,\n",
       "       0.2718894 , 0.25700935, 0.25058731, 0.2427108 , 0.2319301 ,\n",
       "       0.21794872, 0.20806452, 0.2027575 , 0.19559902, 0.18436214,\n",
       "       0.17427386, 0.16066946, 0.14539307, 0.13675214, 0.12100259,\n",
       "       0.1048951 , 0.10202287, 0.1005291 , 0.08880995, 0.07692308,\n",
       "       0.07014388, 0.05812897, 0.04582951, 0.0260223 , 0.01876173])"
      ]
     },
     "execution_count": 162,
     "metadata": {},
     "output_type": "execute_result"
    }
   ],
   "source": [
    "f1s = []\n",
    "for prec, rec in zip(precisions, recalls):\n",
    "    f1 = 2*(prec * rec)/(prec + rec)\n",
    "    f1s.append(f1)\n",
    "\n",
    "f1s = np.array(f1s)\n",
    "f1s"
   ]
  },
  {
   "cell_type": "code",
   "execution_count": 163,
   "id": "41365655",
   "metadata": {},
   "outputs": [
    {
     "name": "stdout",
     "output_type": "stream",
     "text": [
      "0.21\n"
     ]
    }
   ],
   "source": [
    "max_at_threshold = thresholds[np.argmax(f1s)]\n",
    "\n",
    "print(max_at_threshold) ## where they interesections "
   ]
  },
  {
   "cell_type": "markdown",
   "id": "c1955e85",
   "metadata": {},
   "source": [
    "## Question 5: 5-Fold Cross Validation"
   ]
  },
  {
   "cell_type": "code",
   "execution_count": 164,
   "id": "cdc9156e",
   "metadata": {},
   "outputs": [],
   "source": [
    "from sklearn.model_selection import KFold"
   ]
  },
  {
   "cell_type": "code",
   "execution_count": 165,
   "id": "5a390778",
   "metadata": {},
   "outputs": [
    {
     "name": "stdout",
     "output_type": "stream",
     "text": [
      "\u001b[31mInit signature:\u001b[39m KFold(n_splits=\u001b[32m5\u001b[39m, *, shuffle=\u001b[38;5;28;01mFalse\u001b[39;00m, random_state=\u001b[38;5;28;01mNone\u001b[39;00m)\n",
      "\u001b[31mDocstring:\u001b[39m     \n",
      "K-Fold cross-validator.\n",
      "\n",
      "Provides train/test indices to split data in train/test sets. Split\n",
      "dataset into k consecutive folds (without shuffling by default).\n",
      "\n",
      "Each fold is then used once as a validation while the k - 1 remaining\n",
      "folds form the training set.\n",
      "\n",
      "Read more in the :ref:`User Guide <k_fold>`.\n",
      "\n",
      "For visualisation of cross-validation behaviour and\n",
      "comparison between common scikit-learn split methods\n",
      "refer to :ref:`sphx_glr_auto_examples_model_selection_plot_cv_indices.py`\n",
      "\n",
      "Parameters\n",
      "----------\n",
      "n_splits : int, default=5\n",
      "    Number of folds. Must be at least 2.\n",
      "\n",
      "    .. versionchanged:: 0.22\n",
      "        ``n_splits`` default value changed from 3 to 5.\n",
      "\n",
      "shuffle : bool, default=False\n",
      "    Whether to shuffle the data before splitting into batches.\n",
      "    Note that the samples within each split will not be shuffled.\n",
      "\n",
      "random_state : int, RandomState instance or None, default=None\n",
      "    When `shuffle` is True, `random_state` affects the ordering of the\n",
      "    indices, which controls the randomness of each fold. Otherwise, this\n",
      "    parameter has no effect.\n",
      "    Pass an int for reproducible output across multiple function calls.\n",
      "    See :term:`Glossary <random_state>`.\n",
      "\n",
      "Examples\n",
      "--------\n",
      ">>> import numpy as np\n",
      ">>> from sklearn.model_selection import KFold\n",
      ">>> X = np.array([[1, 2], [3, 4], [1, 2], [3, 4]])\n",
      ">>> y = np.array([1, 2, 3, 4])\n",
      ">>> kf = KFold(n_splits=2)\n",
      ">>> kf.get_n_splits(X)\n",
      "2\n",
      ">>> print(kf)\n",
      "KFold(n_splits=2, random_state=None, shuffle=False)\n",
      ">>> for i, (train_index, test_index) in enumerate(kf.split(X)):\n",
      "...     print(f\"Fold {i}:\")\n",
      "...     print(f\"  Train: index={train_index}\")\n",
      "...     print(f\"  Test:  index={test_index}\")\n",
      "Fold 0:\n",
      "  Train: index=[2 3]\n",
      "  Test:  index=[0 1]\n",
      "Fold 1:\n",
      "  Train: index=[0 1]\n",
      "  Test:  index=[2 3]\n",
      "\n",
      "Notes\n",
      "-----\n",
      "The first ``n_samples % n_splits`` folds have size\n",
      "``n_samples // n_splits + 1``, other folds have size\n",
      "``n_samples // n_splits``, where ``n_samples`` is the number of samples.\n",
      "\n",
      "Randomized CV splitters may return different results for each call of\n",
      "split. You can make the results identical by setting `random_state`\n",
      "to an integer.\n",
      "\n",
      "See Also\n",
      "--------\n",
      "StratifiedKFold : Takes class information into account to avoid building\n",
      "    folds with imbalanced class distributions (for binary or multiclass\n",
      "    classification tasks).\n",
      "\n",
      "GroupKFold : K-fold iterator variant with non-overlapping groups.\n",
      "\n",
      "RepeatedKFold : Repeats K-Fold n times.\n",
      "\u001b[31mFile:\u001b[39m           ~/.local/lib/python3.12/site-packages/sklearn/model_selection/_split.py\n",
      "\u001b[31mType:\u001b[39m           ABCMeta\n",
      "\u001b[31mSubclasses:\u001b[39m     "
     ]
    }
   ],
   "source": [
    "KFold?"
   ]
  },
  {
   "cell_type": "code",
   "execution_count": 115,
   "id": "b9e1144f",
   "metadata": {},
   "outputs": [],
   "source": [
    "kf = KFold(n_splits=5, shuffle = True, random_state=1,)"
   ]
  },
  {
   "cell_type": "code",
   "execution_count": 166,
   "id": "52ec1ee3",
   "metadata": {},
   "outputs": [],
   "source": [
    "X_fulltrain, y_fulltrain = get_data_matrix(full_train_df, categorical, numerical)"
   ]
  },
  {
   "cell_type": "code",
   "execution_count": 132,
   "id": "87699e62",
   "metadata": {},
   "outputs": [
    {
     "name": "stdout",
     "output_type": "stream",
     "text": [
      "Requirement already satisfied: tqdm in /usr/local/python/3.12.1/lib/python3.12/site-packages (4.67.1)\n",
      "\n",
      "\u001b[1m[\u001b[0m\u001b[34;49mnotice\u001b[0m\u001b[1;39;49m]\u001b[0m\u001b[39;49m A new release of pip is available: \u001b[0m\u001b[31;49m25.0.1\u001b[0m\u001b[39;49m -> \u001b[0m\u001b[32;49m25.1.1\u001b[0m\n",
      "\u001b[1m[\u001b[0m\u001b[34;49mnotice\u001b[0m\u001b[1;39;49m]\u001b[0m\u001b[39;49m To update, run: \u001b[0m\u001b[32;49mpython3 -m pip install --upgrade pip\u001b[0m\n"
     ]
    }
   ],
   "source": [
    "!pip install tqdm"
   ]
  },
  {
   "cell_type": "code",
   "execution_count": 133,
   "id": "4b46e9b0",
   "metadata": {},
   "outputs": [],
   "source": [
    "from tqdm.auto import tqdm"
   ]
  },
  {
   "cell_type": "code",
   "execution_count": 170,
   "id": "df36835b",
   "metadata": {},
   "outputs": [],
   "source": [
    "auc_scores = []\n",
    "\n",
    "# Iterate through folds\n",
    "for fold in range(5):\n",
    "    # Get indices for train-val split for this fold\n",
    "    train_idx, val_idx = list(kf.split(X_fulltrain))[fold]\n",
    "    \n",
    "    # Split data using the indices\n",
    "    X_train_fold = X_fulltrain[train_idx]\n",
    "    X_val_fold = X_fulltrain[val_idx]\n",
    "    y_train_fold = y_fulltrain[train_idx]\n",
    "    y_val_fold = y_fulltrain[val_idx]\n",
    "    \n",
    "    # Train model\n",
    "    model = LogisticRegression(solver='liblinear', C=1.0, max_iter=1000)\n",
    "    model.fit(X_train_fold, y_train_fold)\n",
    "    \n",
    "    # Get predictions and calculate AUC\n",
    "    y_pred_fold = model.predict_proba(X_val_fold)[:, 1]\n",
    "    auc = roc_auc_score(y_val_fold, y_pred_fold)\n",
    "    auc_scores.append(auc)"
   ]
  },
  {
   "cell_type": "code",
   "execution_count": 171,
   "id": "06000ab4",
   "metadata": {},
   "outputs": [
    {
     "data": {
      "text/plain": [
       "np.float64(0.005531159570349564)"
      ]
     },
     "execution_count": 171,
     "metadata": {},
     "output_type": "execute_result"
    }
   ],
   "source": [
    "auc_scores = np.array(auc_scores)\n",
    "auc_scores.std()"
   ]
  },
  {
   "cell_type": "markdown",
   "id": "a235dc39",
   "metadata": {},
   "source": [
    "## Questions 6: Hyperparameter tuning"
   ]
  },
  {
   "cell_type": "code",
   "execution_count": 173,
   "id": "8ebd1f8c",
   "metadata": {},
   "outputs": [
    {
     "data": {
      "application/vnd.jupyter.widget-view+json": {
       "model_id": "afd9c3a82b094f51aae2326668e7dc99",
       "version_major": 2,
       "version_minor": 0
      },
      "text/plain": [
       "  0%|          | 0/3 [00:00<?, ?it/s]"
      ]
     },
     "metadata": {},
     "output_type": "display_data"
    },
    {
     "name": "stdout",
     "output_type": "stream",
     "text": [
      "[np.float64(0.7014445869766514), np.float64(0.8609201067576363), np.float64(0.9058281899639663)]\n",
      "[np.float64(0.009444095099939862), np.float64(0.00675342418343113), np.float64(0.005531159570349564)]\n"
     ]
    }
   ],
   "source": [
    "C = [0.000001, 0.001, 1]\n",
    "kf = KFold(n_splits = 5, shuffle = True, random_state = 1)\n",
    "\n",
    "mean_auc_scores = []\n",
    "auc_stds = [] \n",
    "\n",
    "for c in tqdm(C):\n",
    "    #Create a model\n",
    "    model = LogisticRegression(solver='liblinear', C=c, max_iter=1000)\n",
    "    auc_scores = []\n",
    "    # Iterate through folds\n",
    "    for fold in range(5):\n",
    "        # Get indices for train-val split for this fold\n",
    "        train_idx, val_idx = list(kf.split(X_fulltrain))[fold]\n",
    "        \n",
    "        # Split data using the indices\n",
    "        X_train_fold = X_fulltrain[train_idx]\n",
    "        X_val_fold = X_fulltrain[val_idx]\n",
    "        y_train_fold = y_fulltrain[train_idx]\n",
    "        y_val_fold = y_fulltrain[val_idx]\n",
    "        \n",
    "        # Train model\n",
    "        model.fit(X_train_fold, y_train_fold)\n",
    "        \n",
    "        # Get predictions and calculate AUC\n",
    "        y_pred_fold = model.predict_proba(X_val_fold)[:, 1]\n",
    "        auc = roc_auc_score(y_val_fold, y_pred_fold)\n",
    "        auc_scores.append(auc)\n",
    "    auc_scores = np.array(auc_scores)\n",
    "    mean_auc_scores.append(auc_scores.mean())\n",
    "    auc_stds.append(auc_scores.std())\n",
    "\n",
    "print(mean_auc_scores)\n",
    "print(auc_stds)"
   ]
  },
  {
   "cell_type": "code",
   "execution_count": 175,
   "id": "ca189a1a",
   "metadata": {},
   "outputs": [
    {
     "name": "stdout",
     "output_type": "stream",
     "text": [
      "The best mean score for AUC is given by C = 1 with AUC ~ 0.90\n"
     ]
    }
   ],
   "source": [
    "print(f'The best mean score for AUC is given by C = 1 with AUC ~ 0.90')"
   ]
  }
 ],
 "metadata": {
  "kernelspec": {
   "display_name": "Python 3",
   "language": "python",
   "name": "python3"
  },
  "language_info": {
   "codemirror_mode": {
    "name": "ipython",
    "version": 3
   },
   "file_extension": ".py",
   "mimetype": "text/x-python",
   "name": "python",
   "nbconvert_exporter": "python",
   "pygments_lexer": "ipython3",
   "version": "3.12.1"
  }
 },
 "nbformat": 4,
 "nbformat_minor": 5
}
